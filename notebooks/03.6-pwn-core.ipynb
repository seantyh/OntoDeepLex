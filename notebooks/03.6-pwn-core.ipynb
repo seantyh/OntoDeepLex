{
 "cells": [
  {
   "cell_type": "code",
   "execution_count": 1,
   "metadata": {},
   "outputs": [],
   "source": [
    "from mesh_import import mesh"
   ]
  },
  {
   "cell_type": "code",
   "execution_count": 2,
   "metadata": {},
   "outputs": [],
   "source": [
    "wn30_core_path = mesh.get_data_dir() / \"sense_data/wn30-core-synsets.tab\""
   ]
  },
  {
   "cell_type": "code",
   "execution_count": 6,
   "metadata": {},
   "outputs": [],
   "source": [
    "wn30_cores = [x.strip() for x in wn30_core_path.open().readlines()]"
   ]
  },
  {
   "cell_type": "code",
   "execution_count": 28,
   "metadata": {},
   "outputs": [],
   "source": [
    "from nltk.corpus import wordnet as wn\n",
    "import pandas as pd"
   ]
  },
  {
   "cell_type": "code",
   "execution_count": 29,
   "metadata": {},
   "outputs": [],
   "source": [
    "syn_offset, syn_pos = wn30_cores[0].split(\"-\")\n",
    "syn = wn.synset_from_pos_and_offset(syn_pos, int(syn_offset))"
   ]
  },
  {
   "cell_type": "code",
   "execution_count": 47,
   "metadata": {},
   "outputs": [
    {
     "data": {
      "text/plain": [
       "syn_id        object\n",
       "syn_pos       object\n",
       "syn_name      object\n",
       "lemmas        object\n",
       "definition    object\n",
       "dtype: object"
      ]
     },
     "execution_count": 47,
     "metadata": {},
     "output_type": "execute_result"
    }
   ],
   "source": [
    "data = []\n",
    "for syn_id in wn30_cores:\n",
    "    syn_offset, syn_pos = syn_id.split(\"-\")\n",
    "    syn = wn.synset_from_pos_and_offset(syn_pos, int(syn_offset))\n",
    "    data.append(dict(\n",
    "        syn_id=syn_offset,\n",
    "        syn_pos=syn.pos(),\n",
    "        syn_name=syn.name(),\n",
    "        lemmas=\",\".join([x.name() for x in syn.lemmas()]),\n",
    "        definition=syn.definition()\n",
    "    ))\n",
    "core_frame = pd.DataFrame().from_records(data)\n",
    "core_frame.syn_id.astype(np.object)\n",
    "core_frame.dtypes"
   ]
  },
  {
   "cell_type": "code",
   "execution_count": 50,
   "metadata": {},
   "outputs": [
    {
     "data": {
      "text/html": [
       "<div>\n",
       "<style scoped>\n",
       "    .dataframe tbody tr th:only-of-type {\n",
       "        vertical-align: middle;\n",
       "    }\n",
       "\n",
       "    .dataframe tbody tr th {\n",
       "        vertical-align: top;\n",
       "    }\n",
       "\n",
       "    .dataframe thead th {\n",
       "        text-align: right;\n",
       "    }\n",
       "</style>\n",
       "<table border=\"1\" class=\"dataframe\">\n",
       "  <thead>\n",
       "    <tr style=\"text-align: right;\">\n",
       "      <th></th>\n",
       "      <th>syn_id</th>\n",
       "      <th>syn_pos</th>\n",
       "      <th>syn_name</th>\n",
       "      <th>lemmas</th>\n",
       "      <th>definition</th>\n",
       "    </tr>\n",
       "  </thead>\n",
       "  <tbody>\n",
       "    <tr>\n",
       "      <td>0</td>\n",
       "      <td>00001740</td>\n",
       "      <td>v</td>\n",
       "      <td>breathe.v.01</td>\n",
       "      <td>breathe,take_a_breath,respire,suspire</td>\n",
       "      <td>draw air into, and expel out of, the lungs</td>\n",
       "    </tr>\n",
       "    <tr>\n",
       "      <td>1</td>\n",
       "      <td>00002684</td>\n",
       "      <td>n</td>\n",
       "      <td>object.n.01</td>\n",
       "      <td>object,physical_object</td>\n",
       "      <td>a tangible and visible entity; an entity that ...</td>\n",
       "    </tr>\n",
       "    <tr>\n",
       "      <td>2</td>\n",
       "      <td>00003826</td>\n",
       "      <td>v</td>\n",
       "      <td>hiccup.v.01</td>\n",
       "      <td>hiccup,hiccough</td>\n",
       "      <td>breathe spasmodically, and make a sound</td>\n",
       "    </tr>\n",
       "    <tr>\n",
       "      <td>3</td>\n",
       "      <td>00004032</td>\n",
       "      <td>v</td>\n",
       "      <td>sigh.v.01</td>\n",
       "      <td>sigh,suspire</td>\n",
       "      <td>heave or utter a sigh; breathe deeply and heavily</td>\n",
       "    </tr>\n",
       "    <tr>\n",
       "      <td>4</td>\n",
       "      <td>00005205</td>\n",
       "      <td>a</td>\n",
       "      <td>absolute.a.01</td>\n",
       "      <td>absolute</td>\n",
       "      <td>perfect or complete or pure</td>\n",
       "    </tr>\n",
       "    <tr>\n",
       "      <td>...</td>\n",
       "      <td>...</td>\n",
       "      <td>...</td>\n",
       "      <td>...</td>\n",
       "      <td>...</td>\n",
       "      <td>...</td>\n",
       "    </tr>\n",
       "    <tr>\n",
       "      <td>4955</td>\n",
       "      <td>15283097</td>\n",
       "      <td>n</td>\n",
       "      <td>tempo.n.02</td>\n",
       "      <td>tempo,pace</td>\n",
       "      <td>the rate of some repeating event</td>\n",
       "    </tr>\n",
       "    <tr>\n",
       "      <td>4956</td>\n",
       "      <td>15289779</td>\n",
       "      <td>n</td>\n",
       "      <td>period.n.02</td>\n",
       "      <td>period</td>\n",
       "      <td>the interval taken to complete one cycle of a ...</td>\n",
       "    </tr>\n",
       "    <tr>\n",
       "      <td>4957</td>\n",
       "      <td>15290337</td>\n",
       "      <td>n</td>\n",
       "      <td>phase.n.01</td>\n",
       "      <td>phase,stage</td>\n",
       "      <td>any distinct time period in a sequence of events</td>\n",
       "    </tr>\n",
       "    <tr>\n",
       "      <td>4958</td>\n",
       "      <td>15291801</td>\n",
       "      <td>n</td>\n",
       "      <td>shift.n.03</td>\n",
       "      <td>shift,work_shift,duty_period</td>\n",
       "      <td>the time period during which you are at work</td>\n",
       "    </tr>\n",
       "    <tr>\n",
       "      <td>4959</td>\n",
       "      <td>15295416</td>\n",
       "      <td>n</td>\n",
       "      <td>rule.n.06</td>\n",
       "      <td>rule</td>\n",
       "      <td>the duration of a monarch's or government's power</td>\n",
       "    </tr>\n",
       "  </tbody>\n",
       "</table>\n",
       "<p>4960 rows × 5 columns</p>\n",
       "</div>"
      ],
      "text/plain": [
       "        syn_id syn_pos       syn_name                                 lemmas  \\\n",
       "0     00001740       v   breathe.v.01  breathe,take_a_breath,respire,suspire   \n",
       "1     00002684       n    object.n.01                 object,physical_object   \n",
       "2     00003826       v    hiccup.v.01                        hiccup,hiccough   \n",
       "3     00004032       v      sigh.v.01                           sigh,suspire   \n",
       "4     00005205       a  absolute.a.01                               absolute   \n",
       "...        ...     ...            ...                                    ...   \n",
       "4955  15283097       n     tempo.n.02                             tempo,pace   \n",
       "4956  15289779       n    period.n.02                                 period   \n",
       "4957  15290337       n     phase.n.01                            phase,stage   \n",
       "4958  15291801       n     shift.n.03           shift,work_shift,duty_period   \n",
       "4959  15295416       n      rule.n.06                                   rule   \n",
       "\n",
       "                                             definition  \n",
       "0            draw air into, and expel out of, the lungs  \n",
       "1     a tangible and visible entity; an entity that ...  \n",
       "2               breathe spasmodically, and make a sound  \n",
       "3     heave or utter a sigh; breathe deeply and heavily  \n",
       "4                           perfect or complete or pure  \n",
       "...                                                 ...  \n",
       "4955                   the rate of some repeating event  \n",
       "4956  the interval taken to complete one cycle of a ...  \n",
       "4957   any distinct time period in a sequence of events  \n",
       "4958       the time period during which you are at work  \n",
       "4959  the duration of a monarch's or government's power  \n",
       "\n",
       "[4960 rows x 5 columns]"
      ]
     },
     "execution_count": 50,
     "metadata": {},
     "output_type": "execute_result"
    }
   ],
   "source": [
    "core_frame"
   ]
  },
  {
   "cell_type": "code",
   "execution_count": 51,
   "metadata": {},
   "outputs": [],
   "source": [
    "import numpy as np\n",
    "core_frame.to_csv(mesh.get_data_dir() / \"sense_data/core_synset_wn30.csv\")"
   ]
  },
  {
   "cell_type": "code",
   "execution_count": null,
   "metadata": {},
   "outputs": [],
   "source": []
  }
 ],
 "metadata": {
  "kernelspec": {
   "display_name": "Python 3",
   "language": "python",
   "name": "python3"
  },
  "language_info": {
   "codemirror_mode": {
    "name": "ipython",
    "version": 3
   },
   "file_extension": ".py",
   "mimetype": "text/x-python",
   "name": "python",
   "nbconvert_exporter": "python",
   "pygments_lexer": "ipython3",
   "version": "3.8.2"
  }
 },
 "nbformat": 4,
 "nbformat_minor": 4
}
