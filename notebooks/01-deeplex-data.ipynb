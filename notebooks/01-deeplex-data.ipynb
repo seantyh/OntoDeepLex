{
 "cells": [
  {
   "cell_type": "code",
   "execution_count": 2,
   "metadata": {},
   "outputs": [],
   "source": [
    "%load_ext autoreload\n",
    "%autoreload 2"
   ]
  },
  {
   "cell_type": "code",
   "execution_count": 3,
   "metadata": {},
   "outputs": [],
   "source": [
    "import sys\n",
    "sys.path.append(\"../src\")"
   ]
  },
  {
   "cell_type": "code",
   "execution_count": 19,
   "metadata": {},
   "outputs": [
    {
     "name": "stderr",
     "output_type": "stream",
     "text": [
      "<ipython-input-19-c6566843544b>:2: TqdmExperimentalWarning: Using `tqdm.autonotebook.tqdm` in notebook mode. Use `tqdm.tqdm` instead to force console mode (e.g. in jupyter console)\n",
      "  from tqdm.autonotebook import tqdm\n"
     ]
    }
   ],
   "source": [
    "import mesh\n",
    "from tqdm.autonotebook import tqdm\n",
    "import gzip\n",
    "import json\n",
    "from CwnGraph import CwnBase"
   ]
  },
  {
   "cell_type": "code",
   "execution_count": 5,
   "metadata": {},
   "outputs": [],
   "source": [
    "cwn = CwnBase()"
   ]
  },
  {
   "cell_type": "code",
   "execution_count": null,
   "metadata": {},
   "outputs": [],
   "source": [
    "deeplex_path = mesh.get_data_dir() / \"deeplex/deeplexicon_export_181209005320.json.gz\""
   ]
  },
  {
   "cell_type": "code",
   "execution_count": 6,
   "metadata": {},
   "outputs": [],
   "source": [
    "with gzip.open(deeplex_path, \"rt\", encoding=\"UTF-8\") as fin:\n",
    "    deeplex = json.load(fin)"
   ]
  },
  {
   "cell_type": "code",
   "execution_count": 7,
   "metadata": {},
   "outputs": [],
   "source": [
    "import pandas as pd"
   ]
  },
  {
   "cell_type": "code",
   "execution_count": 8,
   "metadata": {},
   "outputs": [
    {
     "name": "stderr",
     "output_type": "stream",
     "text": [
      "c:\\python38\\lib\\site-packages\\IPython\\core\\interactiveshell.py:3062: DtypeWarning: Columns (3,4,8,9,12,13,17,18,22,23,28,29,111,112,127,128) have mixed types.Specify dtype option on import or set low_memory=False.\n",
      "  has_raised = await self.run_ast_nodes(code_ast.body, cell_name,\n"
     ]
    }
   ],
   "source": [
    "cld = pd.read_csv(mesh.get_data_dir()/\"CLD/chineselexicaldatabase2.1.txt\")"
   ]
  },
  {
   "cell_type": "code",
   "execution_count": 9,
   "metadata": {},
   "outputs": [],
   "source": [
    "from itertools import chain"
   ]
  },
  {
   "cell_type": "code",
   "execution_count": 10,
   "metadata": {},
   "outputs": [
    {
     "data": {
      "text/plain": [
       "{'lu': '矮',\n",
       " 'data': {'tag_CK': 'VH13',\n",
       "  'count_CK': '101',\n",
       "  'tag_j': 'a',\n",
       "  'count_j': '1310',\n",
       "  'total_count_CK': 101,\n",
       "  'total_count_j': 1310,\n",
       "  'modified_count': '221',\n",
       "  'modified_tag': 'a',\n",
       "  'Dyear': 2009,\n",
       "  'Byear': 1900,\n",
       "  'age': 3,\n",
       "  'LeeAmbigRating': 1.2308,\n",
       "  'LeeNamingAcc': 0.8,\n",
       "  'LeeNamingRT': 702}}"
      ]
     },
     "execution_count": 10,
     "metadata": {},
     "output_type": "execute_result"
    }
   ],
   "source": [
    "deeplex[50]"
   ]
  },
  {
   "cell_type": "code",
   "execution_count": 31,
   "metadata": {},
   "outputs": [],
   "source": [
    "def find_cwn_senses(lemma):\n",
    "    try:\n",
    "        sense_iter = (x.senses for x in cwn.find_lemma(f\"^{lemma}$\"))\n",
    "        sense_iter = chain.from_iterable(sense_iter)\n",
    "        return list(sense_iter)\n",
    "    except Exception as ex:\n",
    "        print(lemma)\n",
    "        print(ex)\n",
    "        return []"
   ]
  },
  {
   "cell_type": "code",
   "execution_count": 32,
   "metadata": {},
   "outputs": [
    {
     "data": {
      "application/vnd.jupyter.widget-view+json": {
       "model_id": "792c98961a484a79bf18f109b551afb5",
       "version_major": 2,
       "version_minor": 0
      },
      "text/plain": [
       "HBox(children=(FloatProgress(value=0.0, max=317699.0), HTML(value='')))"
      ]
     },
     "metadata": {},
     "output_type": "display_data"
    },
    {
     "name": "stdout",
     "output_type": "stream",
     "text": [
      "object of type 'float' has no len()\n",
      "{'lu': nan, 'data': {'neo_stage': nan, 'loan_word': nan, 'polarity': 'P'}}\n",
      "?\n",
      "nothing to repeat at position 1\n",
      "\n"
     ]
    }
   ],
   "source": [
    "fields = \"LeeNamingAcc,LeeNamingRT\".split(\",\")\n",
    "data = []\n",
    "\n",
    "for entry in tqdm(deeplex):\n",
    "    lu = entry['lu']\n",
    "    try:\n",
    "        if len(lu) != 1:\n",
    "            continue\n",
    "    except TypeError as ex:\n",
    "        print(ex)\n",
    "        print(entry)\n",
    "        continue\n",
    "    lu_data = entry[\"data\"]    \n",
    "    sdata = {\"lu\": lu, \n",
    "             \"freq\": lu_data.get(\"total_count_CK\", 0),\n",
    "             \"n_sense\": len(find_cwn_senses(lu))}\n",
    "    if all(x not in lu_data for x in fields):\n",
    "        continue\n",
    "    for fd in fields:\n",
    "        sdata[fd] = lu_data.get(fd, None)\n",
    "    data.append(sdata)"
   ]
  },
  {
   "cell_type": "code",
   "execution_count": 33,
   "metadata": {},
   "outputs": [],
   "source": [
    "sc_data = pd.DataFrame.from_records(data).sort_values(\"freq\", ascending=False).reset_index(drop=True)"
   ]
  },
  {
   "cell_type": "code",
   "execution_count": 70,
   "metadata": {},
   "outputs": [
    {
     "data": {
      "image/png": "[encoded data removed]",
      "text/plain": [
       "<Figure size 432x288 with 1 Axes>"
      ]
     },
     "metadata": {
      "needs_background": "light"
     },
     "output_type": "display_data"
    }
   ],
   "source": [
    "from matplotlib import pyplot as plt\n",
    "ax = sc_data.plot.scatter(\"n_sense\", \"LeeNamingAcc\")"
   ]
  },
  {
   "cell_type": "code",
   "execution_count": 75,
   "metadata": {},
   "outputs": [
    {
     "data": {
      "text/plain": [
       "[<matplotlib.lines.Line2D at 0x1f4e272ba00>]"
      ]
     },
     "execution_count": 75,
     "metadata": {},
     "output_type": "execute_result"
    },
    {
     "data": {
      "image/png": "[encoded data removed]",
      "text/plain": [
       "<Figure size 432x288 with 1 Axes>"
      ]
     },
     "metadata": {
      "needs_background": "light"
     },
     "output_type": "display_data"
    }
   ],
   "source": [
    "plt.plot(np.log(sc_data.n_sense+1), sc_data.LeeNamingAcc, '.')"
   ]
  },
  {
   "cell_type": "code",
   "execution_count": 74,
   "metadata": {},
   "outputs": [],
   "source": [
    "import numpy as np"
   ]
  },
  {
   "cell_type": "code",
   "execution_count": 79,
   "metadata": {},
   "outputs": [],
   "source": [
    "sc_data.to_csv(mesh.get_data_dir() / \"single-charac-nsense.csv\", index=False)"
   ]
  },
  {
   "cell_type": "code",
   "execution_count": 37,
   "metadata": {},
   "outputs": [],
   "source": [
    "cld = cld.set_index(\"Word\")"
   ]
  },
  {
   "cell_type": "code",
   "execution_count": 54,
   "metadata": {},
   "outputs": [
    {
     "data": {
      "text/html": [
       "<div>\n",
       "<style scoped>\n",
       "    .dataframe tbody tr th:only-of-type {\n",
       "        vertical-align: middle;\n",
       "    }\n",
       "\n",
       "    .dataframe tbody tr th {\n",
       "        vertical-align: top;\n",
       "    }\n",
       "\n",
       "    .dataframe thead th {\n",
       "        text-align: right;\n",
       "    }\n",
       "</style>\n",
       "<table border=\"1\" class=\"dataframe\">\n",
       "  <thead>\n",
       "    <tr style=\"text-align: right;\">\n",
       "      <th></th>\n",
       "      <th>C1</th>\n",
       "      <th>C2</th>\n",
       "      <th>C3</th>\n",
       "      <th>C4</th>\n",
       "      <th>Length</th>\n",
       "      <th>C1Structure</th>\n",
       "      <th>C2Structure</th>\n",
       "      <th>C3Structure</th>\n",
       "      <th>C4Structure</th>\n",
       "      <th>C1Type</th>\n",
       "      <th>...</th>\n",
       "      <th>PSPMI</th>\n",
       "      <th>TScore</th>\n",
       "      <th>PSTScore</th>\n",
       "      <th>C1ConditionalProbability</th>\n",
       "      <th>C12ConditionalProbability</th>\n",
       "      <th>C123ConditionalProbability</th>\n",
       "      <th>C1BackwardConditionalProbability</th>\n",
       "      <th>C12BackwardConditionalProbability</th>\n",
       "      <th>C123BackwardConditionalProbability</th>\n",
       "      <th>EntropyCharacterFrequencies</th>\n",
       "    </tr>\n",
       "    <tr>\n",
       "      <th>Word</th>\n",
       "      <th></th>\n",
       "      <th></th>\n",
       "      <th></th>\n",
       "      <th></th>\n",
       "      <th></th>\n",
       "      <th></th>\n",
       "      <th></th>\n",
       "      <th></th>\n",
       "      <th></th>\n",
       "      <th></th>\n",
       "      <th></th>\n",
       "      <th></th>\n",
       "      <th></th>\n",
       "      <th></th>\n",
       "      <th></th>\n",
       "      <th></th>\n",
       "      <th></th>\n",
       "      <th></th>\n",
       "      <th></th>\n",
       "      <th></th>\n",
       "      <th></th>\n",
       "    </tr>\n",
       "  </thead>\n",
       "  <tbody>\n",
       "    <tr>\n",
       "      <th>曲</th>\n",
       "      <td>曲</td>\n",
       "      <td>NaN</td>\n",
       "      <td>NaN</td>\n",
       "      <td>NaN</td>\n",
       "      <td>1</td>\n",
       "      <td>SG</td>\n",
       "      <td>NaN</td>\n",
       "      <td>NaN</td>\n",
       "      <td>NaN</td>\n",
       "      <td>Picto</td>\n",
       "      <td>...</td>\n",
       "      <td>NaN</td>\n",
       "      <td>NaN</td>\n",
       "      <td>NaN</td>\n",
       "      <td>NaN</td>\n",
       "      <td>NaN</td>\n",
       "      <td>NaN</td>\n",
       "      <td>NaN</td>\n",
       "      <td>NaN</td>\n",
       "      <td>NaN</td>\n",
       "      <td>NaN</td>\n",
       "    </tr>\n",
       "    <tr>\n",
       "      <th>案</th>\n",
       "      <td>案</td>\n",
       "      <td>NaN</td>\n",
       "      <td>NaN</td>\n",
       "      <td>NaN</td>\n",
       "      <td>1</td>\n",
       "      <td>UD</td>\n",
       "      <td>NaN</td>\n",
       "      <td>NaN</td>\n",
       "      <td>NaN</td>\n",
       "      <td>PicPho</td>\n",
       "      <td>...</td>\n",
       "      <td>NaN</td>\n",
       "      <td>NaN</td>\n",
       "      <td>NaN</td>\n",
       "      <td>NaN</td>\n",
       "      <td>NaN</td>\n",
       "      <td>NaN</td>\n",
       "      <td>NaN</td>\n",
       "      <td>NaN</td>\n",
       "      <td>NaN</td>\n",
       "      <td>NaN</td>\n",
       "    </tr>\n",
       "    <tr>\n",
       "      <th>投</th>\n",
       "      <td>投</td>\n",
       "      <td>NaN</td>\n",
       "      <td>NaN</td>\n",
       "      <td>NaN</td>\n",
       "      <td>1</td>\n",
       "      <td>LR</td>\n",
       "      <td>NaN</td>\n",
       "      <td>NaN</td>\n",
       "      <td>NaN</td>\n",
       "      <td>PicPho</td>\n",
       "      <td>...</td>\n",
       "      <td>NaN</td>\n",
       "      <td>NaN</td>\n",
       "      <td>NaN</td>\n",
       "      <td>NaN</td>\n",
       "      <td>NaN</td>\n",
       "      <td>NaN</td>\n",
       "      <td>NaN</td>\n",
       "      <td>NaN</td>\n",
       "      <td>NaN</td>\n",
       "      <td>NaN</td>\n",
       "    </tr>\n",
       "    <tr>\n",
       "      <th>稳</th>\n",
       "      <td>稳</td>\n",
       "      <td>NaN</td>\n",
       "      <td>NaN</td>\n",
       "      <td>NaN</td>\n",
       "      <td>1</td>\n",
       "      <td>LR</td>\n",
       "      <td>NaN</td>\n",
       "      <td>NaN</td>\n",
       "      <td>NaN</td>\n",
       "      <td>Other</td>\n",
       "      <td>...</td>\n",
       "      <td>NaN</td>\n",
       "      <td>NaN</td>\n",
       "      <td>NaN</td>\n",
       "      <td>NaN</td>\n",
       "      <td>NaN</td>\n",
       "      <td>NaN</td>\n",
       "      <td>NaN</td>\n",
       "      <td>NaN</td>\n",
       "      <td>NaN</td>\n",
       "      <td>NaN</td>\n",
       "    </tr>\n",
       "    <tr>\n",
       "      <th>敝</th>\n",
       "      <td>敝</td>\n",
       "      <td>NaN</td>\n",
       "      <td>NaN</td>\n",
       "      <td>NaN</td>\n",
       "      <td>1</td>\n",
       "      <td>LR</td>\n",
       "      <td>NaN</td>\n",
       "      <td>NaN</td>\n",
       "      <td>NaN</td>\n",
       "      <td>PicSyn</td>\n",
       "      <td>...</td>\n",
       "      <td>NaN</td>\n",
       "      <td>NaN</td>\n",
       "      <td>NaN</td>\n",
       "      <td>NaN</td>\n",
       "      <td>NaN</td>\n",
       "      <td>NaN</td>\n",
       "      <td>NaN</td>\n",
       "      <td>NaN</td>\n",
       "      <td>NaN</td>\n",
       "      <td>NaN</td>\n",
       "    </tr>\n",
       "    <tr>\n",
       "      <th>...</th>\n",
       "      <td>...</td>\n",
       "      <td>...</td>\n",
       "      <td>...</td>\n",
       "      <td>...</td>\n",
       "      <td>...</td>\n",
       "      <td>...</td>\n",
       "      <td>...</td>\n",
       "      <td>...</td>\n",
       "      <td>...</td>\n",
       "      <td>...</td>\n",
       "      <td>...</td>\n",
       "      <td>...</td>\n",
       "      <td>...</td>\n",
       "      <td>...</td>\n",
       "      <td>...</td>\n",
       "      <td>...</td>\n",
       "      <td>...</td>\n",
       "      <td>...</td>\n",
       "      <td>...</td>\n",
       "      <td>...</td>\n",
       "      <td>...</td>\n",
       "    </tr>\n",
       "    <tr>\n",
       "      <th>哬</th>\n",
       "      <td>哬</td>\n",
       "      <td>NaN</td>\n",
       "      <td>NaN</td>\n",
       "      <td>NaN</td>\n",
       "      <td>1</td>\n",
       "      <td>LR</td>\n",
       "      <td>NaN</td>\n",
       "      <td>NaN</td>\n",
       "      <td>NaN</td>\n",
       "      <td>PicPho</td>\n",
       "      <td>...</td>\n",
       "      <td>NaN</td>\n",
       "      <td>NaN</td>\n",
       "      <td>NaN</td>\n",
       "      <td>NaN</td>\n",
       "      <td>NaN</td>\n",
       "      <td>NaN</td>\n",
       "      <td>NaN</td>\n",
       "      <td>NaN</td>\n",
       "      <td>NaN</td>\n",
       "      <td>NaN</td>\n",
       "    </tr>\n",
       "    <tr>\n",
       "      <th>钌</th>\n",
       "      <td>钌</td>\n",
       "      <td>NaN</td>\n",
       "      <td>NaN</td>\n",
       "      <td>NaN</td>\n",
       "      <td>1</td>\n",
       "      <td>LR</td>\n",
       "      <td>NaN</td>\n",
       "      <td>NaN</td>\n",
       "      <td>NaN</td>\n",
       "      <td>PicPho</td>\n",
       "      <td>...</td>\n",
       "      <td>NaN</td>\n",
       "      <td>NaN</td>\n",
       "      <td>NaN</td>\n",
       "      <td>NaN</td>\n",
       "      <td>NaN</td>\n",
       "      <td>NaN</td>\n",
       "      <td>NaN</td>\n",
       "      <td>NaN</td>\n",
       "      <td>NaN</td>\n",
       "      <td>NaN</td>\n",
       "    </tr>\n",
       "    <tr>\n",
       "      <th>薮</th>\n",
       "      <td>薮</td>\n",
       "      <td>NaN</td>\n",
       "      <td>NaN</td>\n",
       "      <td>NaN</td>\n",
       "      <td>1</td>\n",
       "      <td>UD</td>\n",
       "      <td>NaN</td>\n",
       "      <td>NaN</td>\n",
       "      <td>NaN</td>\n",
       "      <td>PicPho</td>\n",
       "      <td>...</td>\n",
       "      <td>NaN</td>\n",
       "      <td>NaN</td>\n",
       "      <td>NaN</td>\n",
       "      <td>NaN</td>\n",
       "      <td>NaN</td>\n",
       "      <td>NaN</td>\n",
       "      <td>NaN</td>\n",
       "      <td>NaN</td>\n",
       "      <td>NaN</td>\n",
       "      <td>NaN</td>\n",
       "    </tr>\n",
       "    <tr>\n",
       "      <th>廾</th>\n",
       "      <td>廾</td>\n",
       "      <td>NaN</td>\n",
       "      <td>NaN</td>\n",
       "      <td>NaN</td>\n",
       "      <td>1</td>\n",
       "      <td>SG</td>\n",
       "      <td>NaN</td>\n",
       "      <td>NaN</td>\n",
       "      <td>NaN</td>\n",
       "      <td>Picto</td>\n",
       "      <td>...</td>\n",
       "      <td>NaN</td>\n",
       "      <td>NaN</td>\n",
       "      <td>NaN</td>\n",
       "      <td>NaN</td>\n",
       "      <td>NaN</td>\n",
       "      <td>NaN</td>\n",
       "      <td>NaN</td>\n",
       "      <td>NaN</td>\n",
       "      <td>NaN</td>\n",
       "      <td>NaN</td>\n",
       "    </tr>\n",
       "    <tr>\n",
       "      <th>糁</th>\n",
       "      <td>糁</td>\n",
       "      <td>NaN</td>\n",
       "      <td>NaN</td>\n",
       "      <td>NaN</td>\n",
       "      <td>1</td>\n",
       "      <td>LR</td>\n",
       "      <td>NaN</td>\n",
       "      <td>NaN</td>\n",
       "      <td>NaN</td>\n",
       "      <td>PicPho</td>\n",
       "      <td>...</td>\n",
       "      <td>NaN</td>\n",
       "      <td>NaN</td>\n",
       "      <td>NaN</td>\n",
       "      <td>NaN</td>\n",
       "      <td>NaN</td>\n",
       "      <td>NaN</td>\n",
       "      <td>NaN</td>\n",
       "      <td>NaN</td>\n",
       "      <td>NaN</td>\n",
       "      <td>NaN</td>\n",
       "    </tr>\n",
       "  </tbody>\n",
       "</table>\n",
       "<p>3913 rows × 268 columns</p>\n",
       "</div>"
      ],
      "text/plain": [
       "     C1   C2   C3   C4  Length C1Structure C2Structure C3Structure  \\\n",
       "Word                                                                 \n",
       "曲     曲  NaN  NaN  NaN       1          SG         NaN         NaN   \n",
       "案     案  NaN  NaN  NaN       1          UD         NaN         NaN   \n",
       "投     投  NaN  NaN  NaN       1          LR         NaN         NaN   \n",
       "稳     稳  NaN  NaN  NaN       1          LR         NaN         NaN   \n",
       "敝     敝  NaN  NaN  NaN       1          LR         NaN         NaN   \n",
       "...  ..  ...  ...  ...     ...         ...         ...         ...   \n",
       "哬     哬  NaN  NaN  NaN       1          LR         NaN         NaN   \n",
       "钌     钌  NaN  NaN  NaN       1          LR         NaN         NaN   \n",
       "薮     薮  NaN  NaN  NaN       1          UD         NaN         NaN   \n",
       "廾     廾  NaN  NaN  NaN       1          SG         NaN         NaN   \n",
       "糁     糁  NaN  NaN  NaN       1          LR         NaN         NaN   \n",
       "\n",
       "     C4Structure  C1Type  ... PSPMI TScore PSTScore C1ConditionalProbability  \\\n",
       "Word                      ...                                                  \n",
       "曲            NaN   Picto  ...   NaN    NaN      NaN                      NaN   \n",
       "案            NaN  PicPho  ...   NaN    NaN      NaN                      NaN   \n",
       "投            NaN  PicPho  ...   NaN    NaN      NaN                      NaN   \n",
       "稳            NaN   Other  ...   NaN    NaN      NaN                      NaN   \n",
       "敝            NaN  PicSyn  ...   NaN    NaN      NaN                      NaN   \n",
       "...          ...     ...  ...   ...    ...      ...                      ...   \n",
       "哬            NaN  PicPho  ...   NaN    NaN      NaN                      NaN   \n",
       "钌            NaN  PicPho  ...   NaN    NaN      NaN                      NaN   \n",
       "薮            NaN  PicPho  ...   NaN    NaN      NaN                      NaN   \n",
       "廾            NaN   Picto  ...   NaN    NaN      NaN                      NaN   \n",
       "糁            NaN  PicPho  ...   NaN    NaN      NaN                      NaN   \n",
       "\n",
       "     C12ConditionalProbability C123ConditionalProbability  \\\n",
       "Word                                                        \n",
       "曲                          NaN                        NaN   \n",
       "案                          NaN                        NaN   \n",
       "投                          NaN                        NaN   \n",
       "稳                          NaN                        NaN   \n",
       "敝                          NaN                        NaN   \n",
       "...                        ...                        ...   \n",
       "哬                          NaN                        NaN   \n",
       "钌                          NaN                        NaN   \n",
       "薮                          NaN                        NaN   \n",
       "廾                          NaN                        NaN   \n",
       "糁                          NaN                        NaN   \n",
       "\n",
       "     C1BackwardConditionalProbability C12BackwardConditionalProbability  \\\n",
       "Word                                                                      \n",
       "曲                                 NaN                               NaN   \n",
       "案                                 NaN                               NaN   \n",
       "投                                 NaN                               NaN   \n",
       "稳                                 NaN                               NaN   \n",
       "敝                                 NaN                               NaN   \n",
       "...                               ...                               ...   \n",
       "哬                                 NaN                               NaN   \n",
       "钌                                 NaN                               NaN   \n",
       "薮                                 NaN                               NaN   \n",
       "廾                                 NaN                               NaN   \n",
       "糁                                 NaN                               NaN   \n",
       "\n",
       "     C123BackwardConditionalProbability EntropyCharacterFrequencies  \n",
       "Word                                                                 \n",
       "曲                                   NaN                         NaN  \n",
       "案                                   NaN                         NaN  \n",
       "投                                   NaN                         NaN  \n",
       "稳                                   NaN                         NaN  \n",
       "敝                                   NaN                         NaN  \n",
       "...                                 ...                         ...  \n",
       "哬                                   NaN                         NaN  \n",
       "钌                                   NaN                         NaN  \n",
       "薮                                   NaN                         NaN  \n",
       "廾                                   NaN                         NaN  \n",
       "糁                                   NaN                         NaN  \n",
       "\n",
       "[3913 rows x 268 columns]"
      ]
     },
     "execution_count": 54,
     "metadata": {},
     "output_type": "execute_result"
    }
   ],
   "source": [
    "cld.loc[cld.Length==1, :]"
   ]
  },
  {
   "cell_type": "markdown",
   "metadata": {},
   "source": [
    "# Cwn Synset"
   ]
  },
  {
   "cell_type": "code",
   "execution_count": 86,
   "metadata": {},
   "outputs": [],
   "source": [
    "synsets = [(nid, node) for nid, node in cwn.V.items() if node[\"node_type\"] == \"synset\"]"
   ]
  },
  {
   "cell_type": "code",
   "execution_count": 121,
   "metadata": {},
   "outputs": [
    {
     "data": {
      "application/vnd.jupyter.widget-view+json": {
       "model_id": "9d8e6413de21475581adee0171f18e26",
       "version_major": 2,
       "version_minor": 0
      },
      "text/plain": [
       "HBox(children=(FloatProgress(value=0.0, max=19912.0), HTML(value='')))"
      ]
     },
     "metadata": {},
     "output_type": "display_data"
    },
    {
     "name": "stdout",
     "output_type": "stream",
     "text": [
      "\n"
     ]
    }
   ],
   "source": [
    "from CwnGraph import CwnSynset\n",
    "syn_data = []\n",
    "def get_lemma(sense):\n",
    "    lemmas = sense.lemmas\n",
    "    if lemmas:\n",
    "        return lemmas[0].lemma\n",
    "    else:\n",
    "        return \"\"\n",
    "    \n",
    "for syn_id, _ in tqdm(synsets):\n",
    "    syn_x = CwnSynset(syn_id, cwn)\n",
    "    if len(syn_x.senses) < 2:\n",
    "        continue\n",
    "    syn_entry = dict(\n",
    "        syn_id = syn_id,\n",
    "        syn_def = syn_x.definition, \n",
    "        syn_lemmas = \";\".join(get_lemma(x) for x in syn_x.senses)\n",
    "    )\n",
    "    syn_data.append(syn_entry)\n",
    "    "
   ]
  },
  {
   "cell_type": "code",
   "execution_count": 123,
   "metadata": {},
   "outputs": [],
   "source": [
    "syn_frame = pd.DataFrame.from_records(syn_data).set_index(\"syn_id\")"
   ]
  },
  {
   "cell_type": "code",
   "execution_count": 124,
   "metadata": {},
   "outputs": [],
   "source": [
    "syn_frame.to_csv(mesh.get_data_dir() / \"cwn-synsets-lemmas.csv\")"
   ]
  },
  {
   "cell_type": "code",
   "execution_count": null,
   "metadata": {},
   "outputs": [],
   "source": []
  }
 ],
 "metadata": {
  "kernelspec": {
   "display_name": "Python 3",
   "language": "python",
   "name": "python3"
  },
  "language_info": {
   "codemirror_mode": {
    "name": "ipython",
    "version": 3
   },
   "file_extension": ".py",
   "mimetype": "text/x-python",
   "name": "python",
   "nbconvert_exporter": "python",
   "pygments_lexer": "ipython3",
   "version": "3.8.2"
  }
 },
 "nbformat": 4,
 "nbformat_minor": 4
}
