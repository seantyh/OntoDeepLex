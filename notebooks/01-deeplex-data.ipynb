{
 "cells": [
  {
   "cell_type": "code",
   "execution_count": 1,
   "metadata": {},
   "outputs": [],
   "source": [
    "%load_ext autoreload\n",
    "%autoreload 2"
   ]
  },
  {
   "cell_type": "code",
   "execution_count": 2,
   "metadata": {},
   "outputs": [],
   "source": [
    "import sys\n",
    "sys.path.append(\"../src\")"
   ]
  },
  {
   "cell_type": "code",
   "execution_count": 3,
   "metadata": {},
   "outputs": [],
   "source": [
    "import mesh"
   ]
  },
  {
   "cell_type": "code",
   "execution_count": 9,
   "metadata": {},
   "outputs": [],
   "source": [
    "deeplex_path = mesh.get_data_dir() / \"deeplex/deeplexicon_export_181209005320.json.gz\""
   ]
  },
  {
   "cell_type": "code",
   "execution_count": 12,
   "metadata": {},
   "outputs": [],
   "source": [
    "import gzip\n",
    "import json\n",
    "with gzip.open(deeplex_path, \"rt\", encoding=\"UTF-8\") as fin:\n",
    "    deeplex = json.load(fin)"
   ]
  },
  {
   "cell_type": "code",
   "execution_count": 19,
   "metadata": {},
   "outputs": [],
   "source": [
    "from itertools import chain"
   ]
  },
  {
   "cell_type": "code",
   "execution_count": 21,
   "metadata": {},
   "outputs": [
    {
     "data": {
      "text/plain": [
       "{'Byear',\n",
       " 'CLIWC_emotion',\n",
       " 'Dyear',\n",
       " 'LeeAmbigRating',\n",
       " 'LeeArousal',\n",
       " 'LeeConcreteness',\n",
       " 'LeeNamingAcc',\n",
       " 'LeeNamingRT',\n",
       " 'LeePolarity',\n",
       " 'LeeValence',\n",
       " 'Senti_CWN_Emotion',\n",
       " 'Senti_CWN_Polarity',\n",
       " 'TseLDTAcc',\n",
       " 'TseLDTRT',\n",
       " 'TseLDTRT_SE',\n",
       " 'TseWFreq',\n",
       " 'age',\n",
       " 'count_CK',\n",
       " 'count_j',\n",
       " 'domain',\n",
       " 'loan_word',\n",
       " 'modified_count',\n",
       " 'modified_tag',\n",
       " 'neo_stage',\n",
       " 'polarity',\n",
       " 'stance',\n",
       " 'tag_CK',\n",
       " 'tag_j',\n",
       " 'total_count_CK',\n",
       " 'total_count_j',\n",
       " 'word_freq'}"
      ]
     },
     "execution_count": 21,
     "metadata": {},
     "output_type": "execute_result"
    }
   ],
   "source": [
    "set(chain.from_iterable([x[\"data\"].keys() for x in deeplex]))"
   ]
  },
  {
   "cell_type": "code",
   "execution_count": null,
   "metadata": {},
   "outputs": [],
   "source": []
  },
  {
   "cell_type": "code",
   "execution_count": null,
   "metadata": {},
   "outputs": [],
   "source": []
  }
 ],
 "metadata": {
  "kernelspec": {
   "display_name": "Python 3",
   "language": "python",
   "name": "python3"
  },
  "language_info": {
   "codemirror_mode": {
    "name": "ipython",
    "version": 3
   },
   "file_extension": ".py",
   "mimetype": "text/x-python",
   "name": "python",
   "nbconvert_exporter": "python",
   "pygments_lexer": "ipython3",
   "version": "3.8.2"
  }
 },
 "nbformat": 4,
 "nbformat_minor": 4
}
