{
 "cells": [
  {
   "cell_type": "markdown",
   "metadata": {},
   "source": [
    "# Meeting notes 050820"
   ]
  },
  {
   "cell_type": "markdown",
   "metadata": {},
   "source": [
    "## Homogenous connection in semantic graph\n",
    "  * Nodes in the graph should be composed of synsets, and suffixed with their lemma form\n",
    "    * > The thing is, how would that make any differences?\n",
    "        Since we are trying to link graph measures to behavioral data, if the connections solely come from semantic connections, it would destined to lose any information related to other channels (e.g. orthography, usage frequency etc.)\n",
    "  * Hypothesis: Synsets suffixed with their lemma form, are structrually equivalent to word sense\n",
    "$$ \n",
    "f(synset, lemma) \\equiv f(lemma, synset) \\equiv \\textrm{word senses}\n",
    "$$\n",
    "\n",
    "* Word senses are the units of computing graph measures, but words are the units of behavioral study. Chinese words are predominantly polysemous; therefore, each word is associated with a vector of graph measures. An aggregation function is necessary in determining the graph measure of a word.\n",
    "\n",
    "* The choice of aggregation function includes average, maximum, minimum, etc."
   ]
  },
  {
   "cell_type": "markdown",
   "metadata": {},
   "source": [
    "## On the behavioral side\n",
    "\n",
    "* Response time in LDT is influenced by multitude of factors. Among them, frequency effect are the most influential in the literature. In Chinese LDT, the word length, stroke count, properties in phonetics are all contributing factors. However, the role of semantic factors is harder to characterize in the experiment.\n",
    "* Unless semantic factors are the long overdue hidden variables in LDT, the relationship between semantic measures and RT would always be obscured by other factors."
   ]
  },
  {
   "cell_type": "code",
   "execution_count": null,
   "metadata": {},
   "outputs": [],
   "source": []
  }
 ],
 "metadata": {
  "kernelspec": {
   "display_name": "Python 3",
   "language": "python",
   "name": "python3"
  },
  "language_info": {
   "codemirror_mode": {
    "name": "ipython",
    "version": 3
   },
   "file_extension": ".py",
   "mimetype": "text/x-python",
   "name": "python",
   "nbconvert_exporter": "python",
   "pygments_lexer": "ipython3",
   "version": "3.7.4"
  }
 },
 "nbformat": 4,
 "nbformat_minor": 4
}
