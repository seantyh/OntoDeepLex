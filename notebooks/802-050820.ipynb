{
 "cells": [
  {
   "cell_type": "markdown",
   "metadata": {},
   "source": [
    "# Meeting notes 050820"
   ]
  },
  {
   "cell_type": "markdown",
   "metadata": {},
   "source": [
    "## Homogenous connections in semantic graph\n",
    "  * Nodes in the graph should be composed of synsets suffixed with their related lemma forms    \n",
    "  * Hypothesis: Synsets suffixed with their lemma form, are structrually equivalent to word sense\n",
    "$$ \n",
    "f(synset, lemma) \\equiv f(lemma, synset) \\equiv \\textrm{word senses}\n",
    "$$\n",
    "\n",
    "* Word senses are the units of computing graph measures, but words are the units of behavioral study. Chinese words are predominantly polysemous; therefore, each word is associated with a vector of graph measures. An aggregation function is necessary in determining the graph measure of a word.\n",
    "\n",
    "* The choice of aggregation function includes average, maximum, minimum, etc.\n",
    "\n",
    "* If the connections solely come from semantic connections, it would be destined to lose any information related to other channels (e.g. orthography, usage frequency etc.)."
   ]
  },
  {
   "cell_type": "markdown",
   "metadata": {},
   "source": [
    "## On the behavioral side\n",
    "\n",
    "* Response time in LDT is influenced by multitude of factors. Among them, frequency effect are the most influential in the literature. In Chinese LDT, the word length, stroke count, properties in phonetics are all contributing factors. However, the role of semantic factors is harder to characterize in the experiment.\n",
    "* Unless semantic factors are the long overdue hidden variables in LDT, the relationship between semantic measures and RT would always be obscured by other factors."
   ]
  },
  {
   "cell_type": "markdown",
   "metadata": {},
   "source": [
    "## On CWN ontological alignment with PWN"
   ]
  },
  {
   "cell_type": "markdown",
   "metadata": {},
   "source": [
    "## Pivot pair\n",
    "$\\textrm{synset}_i \\in \\textrm{CWN}$ and $\\textrm{synset}_j \\in \\textrm{PWN}$ are a **pivot pair**, if the two synsets  satisfy **Condition A(n)** and **Condition B(n)**."
   ]
  },
  {
   "cell_type": "markdown",
   "metadata": {},
   "source": [
    "**Condition A(n)**  \n",
    "for every semantic relation $R_y$ in semantic relations of $\\textrm{synset}_j$, $\\mathcal{R_j}$, $R_y \\in \\mathcal{R_j}$, $R_y$ must also be hold between $synset_i$ and $R_x^n(\\mathrm{synset}_j)$.\n",
    "\n",
    "**Condition B(n)**  \n",
    "for every semantic relation $R_x$ in semantic relations of $\\textrm{synset}_i$, $\\mathcal{R_i}$, $R_x \\in \\mathcal{R_i}$, $R_x$ must also be hold between $synset_j$ and $R_x^n(\\mathrm{synset}_i)$"
   ]
  },
  {
   "cell_type": "markdown",
   "metadata": {},
   "source": [
    "**Side notes**  \n",
    "* **Uni-direction alignment**. All alignments are made in synset level. Aligning $\\textrm{synset}_i$ and $\\textrm{synset}_j$ does not necessarily suggest the existence of lemma in CWN. There is no need to translate PWN lemmas into CWN.\n"
   ]
  },
  {
   "cell_type": "code",
   "execution_count": null,
   "metadata": {},
   "outputs": [],
   "source": []
  }
 ],
 "metadata": {
  "kernelspec": {
   "display_name": "Python 3",
   "language": "python",
   "name": "python3"
  },
  "language_info": {
   "codemirror_mode": {
    "name": "ipython",
    "version": 3
   },
   "file_extension": ".py",
   "mimetype": "text/x-python",
   "name": "python",
   "nbconvert_exporter": "python",
   "pygments_lexer": "ipython3",
   "version": "3.8.2"
  }
 },
 "nbformat": 4,
 "nbformat_minor": 4
}
