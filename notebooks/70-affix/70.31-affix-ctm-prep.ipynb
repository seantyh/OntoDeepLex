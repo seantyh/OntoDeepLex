{
 "cells": [
  {
   "cell_type": "code",
   "execution_count": null,
   "metadata": {},
   "outputs": [],
   "source": [
    "%load_ext autoreload\n",
    "%autoreload 2"
   ]
  },
  {
   "cell_type": "code",
   "execution_count": null,
   "metadata": {},
   "outputs": [],
   "source": [
    "import pickle\n",
    "import pandas as pd\n",
    "import numpy as np\n",
    "from mesh_import import mesh\n",
    "import mesh.affix as affix\n",
    "from mesh.affix import CkipAffixoids"
   ]
  },
  {
   "cell_type": "code",
   "execution_count": null,
   "metadata": {},
   "outputs": [],
   "source": [
    "from mesh.affix import AffixoidCtmDataset, AffixoidCtmProcessor\n"
   ]
  },
  {
   "cell_type": "code",
   "execution_count": null,
   "metadata": {},
   "outputs": [],
   "source": [
    "proc = AffixoidCtmProcessor()"
   ]
  },
  {
   "cell_type": "code",
   "execution_count": 5,
   "metadata": {},
   "outputs": [
    {
     "data": {
      "text/plain": [
       "18566"
      ]
     },
     "execution_count": 5,
     "metadata": {},
     "output_type": "execute_result"
    }
   ],
   "source": [
    "len(proc.vocab)"
   ]
  },
  {
   "cell_type": "code",
   "execution_count": 6,
   "metadata": {},
   "outputs": [],
   "source": [
    "proc.save_vocabulary()"
   ]
  },
  {
   "cell_type": "code",
   "execution_count": 8,
   "metadata": {},
   "outputs": [
    {
     "data": {
      "application/vnd.jupyter.widget-view+json": {
       "model_id": "dde9c5a2128f401da4bf05ef985bc70a",
       "version_major": 2,
       "version_minor": 0
      },
      "text/plain": [
       "HBox(children=(FloatProgress(value=0.0, max=44868.0), HTML(value='')))"
      ]
     },
     "metadata": {},
     "output_type": "display_data"
    },
    {
     "name": "stdout",
     "output_type": "stream",
     "text": [
      "\n"
     ]
    }
   ],
   "source": [
    "ctm_ds = AffixoidCtmDataset()"
   ]
  },
  {
   "cell_type": "code",
   "execution_count": 9,
   "metadata": {},
   "outputs": [
    {
     "data": {
      "text/plain": [
       "301320"
      ]
     },
     "execution_count": 9,
     "metadata": {},
     "output_type": "execute_result"
    }
   ],
   "source": [
    "len(ctm_ds)"
   ]
  },
  {
   "cell_type": "code",
   "execution_count": 11,
   "metadata": {},
   "outputs": [
    {
     "data": {
      "text/plain": [
       "{'X': tensor([0., 0., 0.,  ..., 0., 0., 0.]),\n",
       " 'X_bert': tensor([ 2.9411e-01, -5.7343e-01,  7.0287e-01,  5.6247e-01,  4.4728e-01,\n",
       "          6.6858e-01, -2.8186e-02, -1.8115e-01, -4.9480e-01,  2.4081e-01,\n",
       "          9.0828e-01,  2.0926e-01, -8.7753e-01, -2.1223e-01, -1.1924e-01,\n",
       "          1.0756e-01,  7.7363e-01,  1.5668e-01, -3.0280e-01,  1.0090e-01,\n",
       "         -3.1703e-02,  1.7063e-01,  6.6835e-02,  4.4900e-01, -7.6804e-01,\n",
       "          2.8976e-01,  1.2600e-01, -2.3840e-02,  3.7979e-01, -7.7122e-01,\n",
       "          7.4605e-01,  1.7287e-01, -9.4508e-01,  4.6727e-01, -3.6987e-02,\n",
       "          9.3192e-01, -5.6421e-01,  1.7286e-01,  6.4512e-02, -4.5079e-01,\n",
       "         -2.4702e-01, -5.8140e-01, -1.5683e-03,  3.7782e-01,  7.6067e-02,\n",
       "          1.7270e-02,  3.9782e-02,  1.6075e-01,  2.5822e-01,  5.9981e-01,\n",
       "         -3.1867e-01, -1.8331e-02, -5.1166e-01,  7.5814e-02, -5.2184e-01,\n",
       "          1.1240e-01,  5.9839e-01, -8.0103e-01,  1.1564e-01,  1.5535e-01,\n",
       "          1.7471e-02, -5.4497e-01, -2.2118e-01, -1.3294e-01, -3.5060e-01,\n",
       "         -3.0658e-01, -3.9721e-01,  2.8008e-01,  1.9960e-01, -2.3516e-02,\n",
       "          1.4610e-01, -1.0688e-01,  3.1120e-01, -3.8141e-02, -3.4096e-01,\n",
       "          6.9976e-01,  4.0482e-01,  1.9136e-01, -8.9649e-01,  1.1433e-02,\n",
       "         -8.5875e-02,  1.5241e-01,  2.1289e-01,  6.4888e-01, -4.2452e-01,\n",
       "         -3.7279e-01,  1.1035e-01, -3.0289e-01,  3.0586e-01, -2.1213e-01,\n",
       "          2.5927e-01, -1.6764e-01, -4.4038e-02,  1.9701e-02, -3.4185e-02,\n",
       "          4.5653e-01, -3.3938e-01, -1.3737e-01,  3.6154e-01,  2.6663e-01,\n",
       "         -5.7035e-02, -1.8999e-01,  5.1726e-01, -3.0157e-01,  6.8709e-01,\n",
       "         -4.0545e-03, -2.4306e-01, -1.8867e-01,  3.8458e-01,  3.8272e-01,\n",
       "          5.2862e-01,  8.6654e-01, -6.0491e-01, -2.5443e-01,  6.5155e-01,\n",
       "         -1.1768e-01, -1.2310e+00,  5.9064e-01, -1.4143e-01, -8.0105e-02,\n",
       "          5.5329e-01,  4.6338e-02,  2.9390e-01,  1.3937e-01,  5.6819e-01,\n",
       "         -8.4956e-01, -1.4461e-01,  1.6597e-01,  4.8351e-01,  1.5617e-01,\n",
       "          1.5702e-01, -3.4096e-01,  1.1919e-01, -5.1570e-02, -8.7727e-03,\n",
       "         -5.7089e-02,  1.6897e-03,  4.0118e-01,  3.2029e-01,  2.2817e-01,\n",
       "          4.9630e-01, -4.2461e-01, -3.6914e-01, -5.4921e-01, -2.7506e-01,\n",
       "         -5.9663e-02, -4.0346e-01,  5.0453e-01,  7.4525e-02, -2.8383e-01,\n",
       "          4.2542e-02,  2.3565e-01,  7.4795e-01,  3.3783e-01,  2.4225e-02,\n",
       "          3.8509e-01,  5.4809e-02, -9.2295e-02, -4.6178e-01, -2.1157e-01,\n",
       "         -1.0987e-01,  1.0387e-01, -1.1440e+00,  4.5781e-01, -4.3074e-01,\n",
       "          2.7152e-01,  2.5842e-01, -8.1040e-01, -8.6455e-02,  3.8950e-01,\n",
       "         -3.7281e-01,  1.6019e-01,  4.3066e-01, -3.6866e-01,  7.8417e-02,\n",
       "          1.6802e-02,  2.0510e-01,  2.5018e-01,  6.1354e-01,  3.9269e-02,\n",
       "         -2.2539e-01, -3.1192e-01,  1.2711e-02, -3.8343e-01,  3.6838e-01,\n",
       "          1.9910e-01,  5.3636e-01, -3.0584e-01,  1.4323e-02, -8.1235e-01,\n",
       "          4.0298e-01,  1.7442e-02, -4.1824e-01, -2.5053e-01, -5.1363e-01,\n",
       "          8.9787e-01,  1.4721e-01, -7.9656e-02,  2.2643e-01,  4.6417e-01,\n",
       "         -9.7045e-02,  3.0662e-01, -7.5193e-02, -4.7760e-01, -2.3408e-01,\n",
       "          1.0828e+00, -2.0030e-01, -4.3614e-01,  3.1557e-02, -2.4100e-01,\n",
       "         -1.1784e-01, -1.2786e-01,  6.6924e-01,  5.0458e-01, -3.0959e-01,\n",
       "          1.3301e-01,  1.3580e-02,  6.6011e-01, -1.3814e-01,  7.1326e-01,\n",
       "          6.7531e-02,  3.2444e-01,  1.6210e-01, -4.7160e-04, -1.0956e+00,\n",
       "         -2.3315e-01, -3.1744e-02,  1.6471e-01,  2.0306e-01, -9.0515e-01,\n",
       "         -2.5542e-01, -1.9505e-01, -9.5774e-01, -1.1298e-01, -4.6901e-02,\n",
       "         -7.3813e-02,  2.1217e-01, -4.9226e-01, -6.8513e-01,  1.2825e-01,\n",
       "          1.7728e-02, -8.4900e-01,  2.5882e-01,  1.2805e-01, -2.6477e-01,\n",
       "         -1.0145e-01, -1.4030e-01, -5.9050e-01, -3.2500e-01, -5.0907e-01,\n",
       "          5.0490e-01,  4.7603e-01,  6.0543e-01, -7.2259e-02, -5.7108e-01,\n",
       "          1.2540e-01,  4.1289e-01,  4.9093e-02,  4.2516e-01, -5.9344e-01,\n",
       "         -2.6190e-01,  3.7867e-02, -7.9121e-02,  1.4963e-01, -1.5678e-01,\n",
       "         -6.3827e-01,  2.4990e-01, -8.9279e-02, -4.9975e-02,  4.1435e-01,\n",
       "         -1.4346e-01,  6.6803e-02, -1.3763e-01,  3.7774e-01,  7.4846e-01,\n",
       "          7.9805e-02,  3.7796e-01,  9.2946e-02,  5.9236e-01, -4.9742e-02,\n",
       "         -2.9109e-01, -9.7890e-02,  1.2523e-01, -2.9180e-01, -3.5734e-02,\n",
       "         -1.0596e-01,  2.3244e-01, -5.1895e-01, -7.0148e-02, -3.3671e-01,\n",
       "         -4.1398e-01, -3.5861e-01,  1.8971e-02,  4.2058e-01, -1.3045e-01,\n",
       "          1.2860e-01, -8.4882e-01,  7.2392e-01, -3.1128e-01,  2.8607e-01,\n",
       "          1.7427e-02, -1.8552e-01, -8.7211e-02, -2.0080e-02, -1.0726e-01,\n",
       "         -2.7690e-02, -2.6694e-02, -5.4610e-01,  4.9946e-01,  5.0502e-01,\n",
       "         -2.2468e-02,  5.2890e-01, -2.6305e-01, -3.1709e-01, -6.4807e-01,\n",
       "         -4.5531e-01, -5.5013e-02, -1.9300e-01,  1.0348e-01,  6.3876e-01,\n",
       "         -1.4694e-01,  3.9268e-01,  8.1563e-02,  7.1763e-02, -7.5046e-03,\n",
       "          2.7358e-01, -6.0758e-01, -1.1543e-01,  1.6150e-02, -7.0011e-02,\n",
       "          4.3720e-01,  1.4513e+00,  7.0307e-03, -6.7293e-01, -2.4251e-01,\n",
       "          1.4884e-01, -3.4555e-01, -1.9299e-01,  2.9910e-02, -6.8616e-01,\n",
       "          9.3420e-02, -6.0165e-01,  6.0736e-01, -2.3223e-02, -2.7122e-01,\n",
       "         -3.5433e-02,  1.0466e-01, -1.2593e-01, -1.3407e-01, -4.7693e-01,\n",
       "          7.5849e-01, -2.0262e-01,  7.2633e-02, -4.2418e-02, -2.7017e-01,\n",
       "          3.8934e-02,  1.2069e-01, -2.1144e-02,  5.9822e-01,  3.3594e-02,\n",
       "          1.5935e-02,  2.9877e-01, -4.4774e-01, -8.2059e-02, -8.4735e-01,\n",
       "          7.4648e-02, -2.3385e-01,  3.4944e-01,  1.5148e-01,  6.9559e-01,\n",
       "         -1.2344e-01,  9.7118e-01, -1.2355e-01, -7.3089e-01, -8.3510e-02,\n",
       "          4.4757e-01,  5.2108e-02, -1.0435e+00, -2.9483e-02, -6.3243e-01,\n",
       "          8.4197e-01, -4.4471e-01, -4.3641e-01, -4.9885e-01, -3.0644e-01,\n",
       "          1.3445e-01, -5.9497e-01, -2.9408e-01,  2.2897e-01, -2.5864e-01,\n",
       "          2.1685e-01,  4.1931e-02,  5.1186e-01, -2.9913e-01, -1.3605e-01,\n",
       "         -9.4025e-02, -5.7609e-02, -3.0764e-01, -6.5511e-01,  4.3406e-01,\n",
       "          6.9917e-01, -4.1374e-01,  8.2233e-01,  7.9331e-01,  2.5173e-01,\n",
       "          2.0603e-01,  9.7401e-01,  9.8695e-02, -3.5500e-01, -3.9678e-02,\n",
       "          3.3460e-01,  5.4380e-02,  1.5482e-01, -6.1745e-01,  1.4178e-02,\n",
       "          3.5081e-01, -1.0044e-01,  3.9040e-01, -3.6238e-01,  2.5135e-01,\n",
       "          1.2837e-01, -5.3680e-01,  1.0736e-01, -1.5610e+00,  2.2343e-01,\n",
       "         -2.7029e-01,  1.1216e-01,  6.2550e-01, -6.4418e-02, -6.1081e-01,\n",
       "          2.8953e-02, -1.3528e-01, -4.5361e-01, -8.2343e-01,  2.0237e-01,\n",
       "         -3.3369e-02,  1.7955e-02,  2.0101e-01, -5.5316e-02,  2.8424e-01,\n",
       "         -1.2407e-01,  2.8257e-01,  4.0056e-01, -5.4215e-02,  3.1308e-01,\n",
       "          2.0113e-01,  1.6953e-01, -2.3167e-01, -1.9004e-01,  3.8745e-01,\n",
       "          5.9969e-01, -8.8970e-01,  1.0440e-01,  1.5553e-01,  2.3358e-02,\n",
       "         -2.0397e-01, -8.6459e-01, -2.9630e-01, -2.8295e-01, -9.4317e-02,\n",
       "         -2.6127e-01,  4.0662e-01, -1.3708e-01, -1.5836e-01,  7.3791e-02,\n",
       "         -6.3586e-01, -5.2334e-01, -2.9142e-01, -1.3970e-01,  4.0279e-01,\n",
       "         -3.7122e-01,  1.7770e-01, -8.6540e-02, -5.5886e-01, -3.8593e-01,\n",
       "          1.6808e-01,  2.7525e-01,  1.9746e-01,  1.1152e-01,  4.5869e-02,\n",
       "         -3.4971e-01,  6.2706e-01,  9.1092e-01,  4.0609e-01,  8.9236e-02,\n",
       "          2.0528e-01,  1.1871e-01, -2.8335e-01,  4.4594e-01,  1.6817e-02,\n",
       "          5.0129e-01,  2.7078e-01, -4.9266e-02, -7.9144e-01, -4.7181e-01,\n",
       "          8.3021e-01,  1.4031e-01, -5.0422e-01,  3.4530e-01,  2.8628e-02,\n",
       "         -9.7020e-01,  2.6043e-01, -4.1513e-01,  2.5294e-01,  2.7307e-01,\n",
       "         -6.6809e-01, -8.4695e-02, -2.3677e-01, -2.7770e-01, -1.5502e-02,\n",
       "         -2.8709e-01, -8.7267e-01, -1.6504e-01,  5.5949e-01,  1.4985e-02,\n",
       "          8.1802e-02, -2.1060e-01, -3.9465e-01,  5.7645e-02,  5.7573e-01,\n",
       "         -2.5099e-01,  1.6527e-01,  6.7563e-01, -2.7756e-01, -1.7934e-01,\n",
       "         -6.8216e-02, -2.4172e-01, -4.8927e-01, -3.7088e-01,  7.7431e-02,\n",
       "         -2.2246e-01, -3.6318e-02, -1.5966e-01,  4.0093e-01, -1.5926e-03,\n",
       "          2.5532e-01,  8.2694e-02, -2.1503e-01, -2.0999e-01,  7.6583e-01,\n",
       "          1.1981e-01, -1.0313e-01,  1.2627e-01,  2.8965e-02,  2.9593e-01,\n",
       "          9.0770e-01,  1.7135e-01,  2.2767e-01,  2.1031e-02, -5.7490e-01,\n",
       "         -1.2114e-01, -3.0190e-01,  1.6328e-01, -2.5294e-01,  7.9341e-02,\n",
       "          1.2946e-01, -2.9803e-01,  2.0793e-02,  1.7040e-01, -3.7935e-01,\n",
       "         -5.8942e-01,  7.7710e-01,  3.7621e-01,  2.5546e-01, -5.5989e-01,\n",
       "         -2.2032e-01, -3.5655e-01,  5.6102e-01, -5.5059e-01,  3.4305e-01,\n",
       "         -1.2117e-01,  2.0968e-01,  2.2399e-01,  2.3747e-01,  2.1709e-02,\n",
       "          2.5265e-01, -3.8400e-01, -5.9558e-01,  3.2319e-01, -2.4250e-01,\n",
       "          9.6764e-02, -8.8930e-01, -2.5133e-02, -1.4691e-01, -4.1079e-01,\n",
       "         -9.5677e-02,  2.2966e-01,  9.8228e-01, -2.6637e-01, -5.8604e-01,\n",
       "          2.2002e-01,  3.7433e-01, -1.9379e-01, -1.6357e-01,  4.1921e-01,\n",
       "          5.0332e-01,  4.1085e-01, -7.5410e-01,  2.4352e-01, -7.2445e-01,\n",
       "          2.2412e-01, -6.0078e-01,  1.3841e-01, -4.1563e-01, -9.1210e-02,\n",
       "         -1.2462e-01,  4.6617e-01,  1.4552e-01,  5.2564e-01, -3.6826e-01,\n",
       "          2.0009e-01,  6.7138e-02,  3.3799e-03,  2.7370e-01,  1.5000e-01,\n",
       "         -6.1645e-01, -5.8767e-01,  2.0148e-01,  5.9788e-02,  2.0439e-01,\n",
       "          4.7036e-01,  6.0219e-02, -1.6315e-01, -2.3227e-01, -3.6411e-01,\n",
       "          2.8826e-01,  6.8659e-01, -1.1018e-01, -4.6458e-01,  2.6006e-01,\n",
       "         -4.2020e-01, -1.2311e-02, -1.3106e-01,  5.3353e-01,  4.8426e-01,\n",
       "          6.4558e-01,  1.1330e-01, -1.3058e-01,  4.5387e-01,  2.5104e-01,\n",
       "          3.0661e-02,  3.8562e-01, -1.3147e-01, -6.2816e-02,  1.5833e-01,\n",
       "         -1.7455e-01, -2.5237e-01,  6.8201e-01,  2.0376e-02,  1.6833e-01,\n",
       "         -1.5253e-02, -3.3161e-01,  8.3715e-01,  2.1277e-03,  2.8382e-01,\n",
       "          3.0745e-01,  2.9967e-01, -1.0688e-01,  6.2538e-01,  3.1286e-01,\n",
       "          1.2596e-01,  6.1119e-01, -5.4251e-01, -4.4196e-01, -5.0520e-01,\n",
       "          3.0744e-01, -6.9871e-02,  1.9857e-01,  2.0415e-01,  3.1630e-01,\n",
       "          4.2106e-01, -5.6824e-01,  1.9967e-01, -8.3415e-01, -2.5800e-01,\n",
       "         -5.9279e-01,  1.8806e-01, -2.3243e-01,  4.8587e-01, -1.4402e-01,\n",
       "         -8.4356e-01, -2.5842e-02,  6.9355e-01,  4.7765e-01,  2.9270e-01,\n",
       "         -3.3565e-01, -1.9036e-01,  1.1968e-01, -3.8556e-01,  1.3062e-01,\n",
       "          3.4968e-01, -4.6885e-01, -1.8438e-01, -1.3495e-01,  7.2349e-01,\n",
       "          4.4919e-01,  4.4061e-01, -1.8612e-02,  5.2461e-01,  5.7365e-02,\n",
       "         -9.4290e-02, -1.1956e+00,  2.1924e-01, -2.4647e-01, -3.9500e-01,\n",
       "          2.2206e-01, -2.4222e-01, -1.4211e-03,  8.4207e-02,  3.0379e-01,\n",
       "          9.7635e-02, -2.3247e-01, -1.7903e-01, -1.6441e-01, -4.2290e-01,\n",
       "          1.0386e-01,  3.1638e-01,  1.9831e-01,  2.7627e-01,  5.4203e-01,\n",
       "          5.0028e-01, -8.7687e-02, -5.3673e-01, -4.6186e-01, -2.6306e-01,\n",
       "         -1.9449e-01,  1.1662e-01,  4.8700e-01,  2.8801e-01,  1.3867e-01,\n",
       "          2.0602e-01, -1.4437e+00, -1.1983e-01,  3.7252e-02,  5.7685e-02,\n",
       "          4.0398e-01,  5.6923e-02, -3.6226e-02, -9.5012e-02, -2.5075e-01,\n",
       "         -2.6501e-01,  2.7534e-01,  1.0481e-01, -3.2329e-01,  2.7305e-01,\n",
       "          3.1773e-01, -4.6581e-01,  2.7987e-01, -8.1428e-02, -4.8156e-01,\n",
       "         -1.1388e-01, -2.6404e-01, -6.0323e-01, -2.5611e-02,  2.6141e-01,\n",
       "          3.1201e-01, -6.8372e-01,  4.3041e-01, -2.4816e-01, -5.5709e-01,\n",
       "          1.1251e-01, -7.3553e-01,  1.6729e-01, -2.3225e-01,  9.3002e-01,\n",
       "          4.6408e-01,  1.7911e-01, -2.9026e-02])}"
      ]
     },
     "execution_count": 11,
     "metadata": {},
     "output_type": "execute_result"
    }
   ],
   "source": [
    "ctm_ds[0]"
   ]
  },
  {
   "cell_type": "code",
   "execution_count": 9,
   "metadata": {},
   "outputs": [],
   "source": [
    "a = next(iter(ex_store.values()))"
   ]
  },
  {
   "cell_type": "code",
   "execution_count": 11,
   "metadata": {},
   "outputs": [
    {
     "data": {
      "text/plain": [
       "(18566,)"
      ]
     },
     "execution_count": 11,
     "metadata": {},
     "output_type": "execute_result"
    }
   ],
   "source": [
    "a[0][0].shape"
   ]
  },
  {
   "cell_type": "code",
   "execution_count": 16,
   "metadata": {},
   "outputs": [],
   "source": [
    "aff0 = proc.affixoids[0]\n",
    "ex0 = aff0.example_words[2]"
   ]
  },
  {
   "cell_type": "code",
   "execution_count": 53,
   "metadata": {},
   "outputs": [],
   "source": [
    "outs = proc.build_affixoid_examples(aff0, ex0[1])"
   ]
  },
  {
   "cell_type": "code",
   "execution_count": 21,
   "metadata": {},
   "outputs": [],
   "source": [
    "affix_dir = mesh.get_data_dir() / \"affix/\"        \n",
    "affixoids = CkipAffixoids(affix_dir)"
   ]
  },
  {
   "cell_type": "code",
   "execution_count": 22,
   "metadata": {},
   "outputs": [
    {
     "data": {
      "text/plain": [
       "4056"
      ]
     },
     "execution_count": 22,
     "metadata": {},
     "output_type": "execute_result"
    }
   ],
   "source": [
    "len(affixoids)"
   ]
  },
  {
   "cell_type": "code",
   "execution_count": 14,
   "metadata": {},
   "outputs": [],
   "source": [
    "asbc_dir = mesh.get_data_dir() / \"asbc\"\n",
    "with (asbc_dir/\"asbc5_words.pkl\").open(\"rb\") as fin:\n",
    "    words = pickle.load(fin)"
   ]
  },
  {
   "cell_type": "code",
   "execution_count": 49,
   "metadata": {},
   "outputs": [
    {
     "name": "stdout",
     "output_type": "stream",
     "text": [
      "loading ASBC corpus streamer index\n"
     ]
    }
   ],
   "source": [
    "proc = affix.AffixoidCtmProcessor()"
   ]
  },
  {
   "cell_type": "code",
   "execution_count": 54,
   "metadata": {},
   "outputs": [
    {
     "data": {
      "text/plain": [
       "18566"
      ]
     },
     "execution_count": 54,
     "metadata": {},
     "output_type": "execute_result"
    }
   ],
   "source": [
    "len(proc.build_vocab(words, proc.affixoids))"
   ]
  },
  {
   "cell_type": "code",
   "execution_count": 55,
   "metadata": {},
   "outputs": [
    {
     "data": {
      "text/plain": [
       "14744"
      ]
     },
     "execution_count": 55,
     "metadata": {},
     "output_type": "execute_result"
    }
   ],
   "source": [
    "len([x for x, f in words.items() if f >= 50])"
   ]
  },
  {
   "cell_type": "code",
   "execution_count": 56,
   "metadata": {},
   "outputs": [
    {
     "data": {
      "text/plain": [
       "[[array([2, 0, 0, ..., 0, 0, 0], dtype=int64),\n",
       "  array([3, 0, 0, ..., 0, 0, 0], dtype=int64)]]"
      ]
     },
     "execution_count": 56,
     "metadata": {},
     "output_type": "execute_result"
    }
   ],
   "source": [
    "outs[0]"
   ]
  },
  {
   "cell_type": "code",
   "execution_count": 59,
   "metadata": {},
   "outputs": [],
   "source": [
    "sentences = list(proc.asbc.query(ex0[1]))"
   ]
  },
  {
   "cell_type": "code",
   "execution_count": 60,
   "metadata": {},
   "outputs": [
    {
     "data": {
      "text/plain": [
       "[[('這', 'Nep'), ('一生', 'Na'), ('一世', 'Na'), ('，', 'COMMACATEGORY')],\n",
       " [('一生', 'Na'), ('一世', 'Na'), ('長相左右', 'VH'), ('。', 'PERIODCATEGORY')]]"
      ]
     },
     "execution_count": 60,
     "metadata": {},
     "output_type": "execute_result"
    }
   ],
   "source": [
    "sentences"
   ]
  },
  {
   "cell_type": "code",
   "execution_count": 70,
   "metadata": {},
   "outputs": [
    {
     "data": {
      "text/plain": [
       "[[[1, 2], [1, 2]], [[3, 4], [3, 4]]]"
      ]
     },
     "execution_count": 70,
     "metadata": {},
     "output_type": "execute_result"
    }
   ],
   "source": [
    "[[[1,2], [1,2]], [[3,4], [3,4]]]"
   ]
  },
  {
   "cell_type": "code",
   "execution_count": 127,
   "metadata": {},
   "outputs": [
    {
     "name": "stdout",
     "output_type": "stream",
     "text": [
      "> e:\\langon\\ontodeeplex\\src\\mesh\\affix\\ctm_utils.py(146)build_batch_example()\n",
      "-> affix_vecs = outputs[np.arange(len(targ_token_indices)), targ_token_indices, :]\n"
     ]
    },
    {
     "name": "stdin",
     "output_type": "stream",
     "text": [
      "(Pdb)  targ_token_indices\n"
     ]
    },
    {
     "name": "stdout",
     "output_type": "stream",
     "text": [
      "[4, 3]\n"
     ]
    },
    {
     "name": "stdin",
     "output_type": "stream",
     "text": [
      "(Pdb)  input_tensors\n"
     ]
    },
    {
     "name": "stdout",
     "output_type": "stream",
     "text": [
      "{'input_ids': tensor([[  101,  7734,  2072,  5600,  2072,  2087, 10064,   102,     0,     0,\n",
      "             0],\n",
      "        [  101,  2072,  5600,  2072,  2087,  8127,  5760,  3585,  2760,  1882,\n",
      "           102]]), 'attention_mask': tensor([[1, 1, 1, 1, 1, 1, 1, 1, 0, 0, 0],\n",
      "        [1, 1, 1, 1, 1, 1, 1, 1, 1, 1, 1]])}\n"
     ]
    },
    {
     "name": "stdin",
     "output_type": "stream",
     "text": [
      "(Pdb)  self.bert.decode([2072, 2087])\n"
     ]
    },
    {
     "name": "stdout",
     "output_type": "stream",
     "text": [
      "'一 世'\n"
     ]
    },
    {
     "name": "stdin",
     "output_type": "stream",
     "text": [
      "(Pdb)  q\n"
     ]
    },
    {
     "name": "stderr",
     "output_type": "stream",
     "text": [
      "\n",
      "Traceback (most recent call last):\n",
      "  File \"E:\\LangOn\\OntoDeepLex\\src\\mesh\\affix\\ctm_utils.py\", line 111, in build_affixoid_examples\n",
      "    bows, bert_vecs = self.build_batch_example(affixoid, word, batch_iter)\n",
      "  File \"E:\\LangOn\\OntoDeepLex\\src\\mesh\\affix\\ctm_utils.py\", line 146, in build_batch_example\n",
      "    affix_vecs = outputs[np.arange(len(targ_token_indices)), targ_token_indices, :]\n",
      "  File \"E:\\LangOn\\OntoDeepLex\\src\\mesh\\affix\\ctm_utils.py\", line 146, in build_batch_example\n",
      "    affix_vecs = outputs[np.arange(len(targ_token_indices)), targ_token_indices, :]\n",
      "  File \"c:\\python38\\lib\\bdb.py\", line 88, in trace_dispatch\n",
      "    return self.dispatch_line(frame)\n",
      "  File \"c:\\python38\\lib\\bdb.py\", line 113, in dispatch_line\n",
      "    if self.quitting: raise BdbQuit\n",
      "bdb.BdbQuit\n",
      "\n"
     ]
    }
   ],
   "source": [
    "outs = proc.build_affixoid_examples(aff0, ex0[1])"
   ]
  },
  {
   "cell_type": "code",
   "execution_count": 125,
   "metadata": {},
   "outputs": [
    {
     "data": {
      "text/plain": [
       "False"
      ]
     },
     "execution_count": 125,
     "metadata": {},
     "output_type": "execute_result"
    }
   ],
   "source": [
    "isinstance(np.where(outs[0][0])[0], type(iter))"
   ]
  },
  {
   "cell_type": "code",
   "execution_count": 126,
   "metadata": {},
   "outputs": [
    {
     "data": {
      "text/plain": [
       "['這', '一生', '一_.1']"
      ]
     },
     "execution_count": 126,
     "metadata": {},
     "output_type": "execute_result"
    }
   ],
   "source": [
    "proc.vocab.decode(np.where(outs[0][0])[0].tolist())"
   ]
  },
  {
   "cell_type": "code",
   "execution_count": 99,
   "metadata": {},
   "outputs": [
    {
     "data": {
      "text/plain": [
       "[[('這', 'Nep'), ('一生', 'Na'), ('一世', 'Na'), ('，', 'COMMACATEGORY')],\n",
       " [('一生', 'Na'), ('一世', 'Na'), ('長相左右', 'VH'), ('。', 'PERIODCATEGORY')]]"
      ]
     },
     "execution_count": 99,
     "metadata": {},
     "output_type": "execute_result"
    }
   ],
   "source": [
    "list(proc.asbc.query(ex0[1]))"
   ]
  },
  {
   "cell_type": "code",
   "execution_count": 87,
   "metadata": {},
   "outputs": [],
   "source": [
    "bow = outs[0]"
   ]
  },
  {
   "cell_type": "code",
   "execution_count": 101,
   "metadata": {},
   "outputs": [],
   "source": [
    "bows, bert_vecs = proc.build_batch_example(aff0, ex0[1], list(proc.asbc.query(ex0[1]))) "
   ]
  },
  {
   "cell_type": "code",
   "execution_count": 106,
   "metadata": {},
   "outputs": [],
   "source": [
    "a = [bows, bows]; b = [bert_vecs, bert_vecs]"
   ]
  },
  {
   "cell_type": "code",
   "execution_count": 109,
   "metadata": {},
   "outputs": [],
   "source": [
    "from itertools import chain"
   ]
  },
  {
   "cell_type": "code",
   "execution_count": 5,
   "metadata": {},
   "outputs": [
    {
     "data": {
      "text/plain": [
       "tensor([0.5000, 0.0000])"
      ]
     },
     "execution_count": 5,
     "metadata": {},
     "output_type": "execute_result"
    }
   ],
   "source": [
    "import torch\n",
    "torch.tensor([1,0])*torch.tensor([0.5, 0])"
   ]
  },
  {
   "cell_type": "code",
   "execution_count": 129,
   "metadata": {},
   "outputs": [],
   "source": [
    "ex_path = mesh.get_data_dir() / \"affix/affixoid_ctm_examples.pkl\"\n",
    "import pickle\n",
    "with ex_path.open(\"rb\") as fin:\n",
    "    examples = pickle.load(fin)\n"
   ]
  },
  {
   "cell_type": "code",
   "execution_count": 132,
   "metadata": {},
   "outputs": [
    {
     "data": {
      "text/plain": [
       "(array([  251,   282,   429,  5830, 14510], dtype=int64),)"
      ]
     },
     "execution_count": 132,
     "metadata": {},
     "output_type": "execute_result"
    }
   ],
   "source": [
    "np.where(examples[0][0])"
   ]
  },
  {
   "cell_type": "code",
   "execution_count": null,
   "metadata": {},
   "outputs": [],
   "source": []
  }
 ],
 "metadata": {
  "kernelspec": {
   "display_name": "Python 3",
   "language": "python",
   "name": "python3"
  },
  "language_info": {
   "codemirror_mode": {
    "name": "ipython",
    "version": 3
   },
   "file_extension": ".py",
   "mimetype": "text/x-python",
   "name": "python",
   "nbconvert_exporter": "python",
   "pygments_lexer": "ipython3",
   "version": "3.8.2"
  }
 },
 "nbformat": 4,
 "nbformat_minor": 4
}
