{
 "cells": [
  {
   "cell_type": "code",
   "execution_count": null,
   "metadata": {},
   "outputs": [],
   "source": [
    "%load_ext autoreload\n",
    "%autoreload 2"
   ]
  },
  {
   "cell_type": "code",
   "execution_count": null,
   "metadata": {},
   "outputs": [],
   "source": [
    "import pickle\n",
    "import pandas as pd\n",
    "import numpy as np\n",
    "from mesh_import import mesh\n",
    "import mesh.affix as affix"
   ]
  },
  {
   "cell_type": "code",
   "execution_count": 6,
   "metadata": {},
   "outputs": [
    {
     "name": "stdout",
     "output_type": "stream",
     "text": [
      "loading ASBC corpus streamer index\n"
     ]
    }
   ],
   "source": [
    "proc = affix.AffixoidCtmProcessor()"
   ]
  },
  {
   "cell_type": "code",
   "execution_count": 16,
   "metadata": {},
   "outputs": [],
   "source": [
    "aff0 = proc.affixoids[0]\n",
    "ex0 = aff0.example_words[2]"
   ]
  },
  {
   "cell_type": "code",
   "execution_count": 53,
   "metadata": {},
   "outputs": [],
   "source": [
    "outs = proc.build_affixoid_examples(aff0, ex0[1])"
   ]
  },
  {
   "cell_type": "code",
   "execution_count": 56,
   "metadata": {},
   "outputs": [
    {
     "data": {
      "text/plain": [
       "[[array([2, 0, 0, ..., 0, 0, 0], dtype=int64),\n",
       "  array([3, 0, 0, ..., 0, 0, 0], dtype=int64)]]"
      ]
     },
     "execution_count": 56,
     "metadata": {},
     "output_type": "execute_result"
    }
   ],
   "source": [
    "outs[0]"
   ]
  },
  {
   "cell_type": "code",
   "execution_count": 59,
   "metadata": {},
   "outputs": [],
   "source": [
    "sentences = list(proc.asbc.query(ex0[1]))"
   ]
  },
  {
   "cell_type": "code",
   "execution_count": 60,
   "metadata": {},
   "outputs": [
    {
     "data": {
      "text/plain": [
       "[[('這', 'Nep'), ('一生', 'Na'), ('一世', 'Na'), ('，', 'COMMACATEGORY')],\n",
       " [('一生', 'Na'), ('一世', 'Na'), ('長相左右', 'VH'), ('。', 'PERIODCATEGORY')]]"
      ]
     },
     "execution_count": 60,
     "metadata": {},
     "output_type": "execute_result"
    }
   ],
   "source": [
    "sentences"
   ]
  },
  {
   "cell_type": "code",
   "execution_count": 70,
   "metadata": {},
   "outputs": [
    {
     "data": {
      "text/plain": [
       "[[[1, 2], [1, 2]], [[3, 4], [3, 4]]]"
      ]
     },
     "execution_count": 70,
     "metadata": {},
     "output_type": "execute_result"
    }
   ],
   "source": [
    "[[[1,2], [1,2]], [[3,4], [3,4]]]"
   ]
  },
  {
   "cell_type": "code",
   "execution_count": 127,
   "metadata": {},
   "outputs": [
    {
     "name": "stdout",
     "output_type": "stream",
     "text": [
      "> e:\\langon\\ontodeeplex\\src\\mesh\\affix\\ctm_utils.py(146)build_batch_example()\n",
      "-> affix_vecs = outputs[np.arange(len(targ_token_indices)), targ_token_indices, :]\n"
     ]
    },
    {
     "name": "stdin",
     "output_type": "stream",
     "text": [
      "(Pdb)  targ_token_indices\n"
     ]
    },
    {
     "name": "stdout",
     "output_type": "stream",
     "text": [
      "[4, 3]\n"
     ]
    },
    {
     "name": "stdin",
     "output_type": "stream",
     "text": [
      "(Pdb)  input_tensors\n"
     ]
    },
    {
     "name": "stdout",
     "output_type": "stream",
     "text": [
      "{'input_ids': tensor([[  101,  7734,  2072,  5600,  2072,  2087, 10064,   102,     0,     0,\n",
      "             0],\n",
      "        [  101,  2072,  5600,  2072,  2087,  8127,  5760,  3585,  2760,  1882,\n",
      "           102]]), 'attention_mask': tensor([[1, 1, 1, 1, 1, 1, 1, 1, 0, 0, 0],\n",
      "        [1, 1, 1, 1, 1, 1, 1, 1, 1, 1, 1]])}\n"
     ]
    },
    {
     "name": "stdin",
     "output_type": "stream",
     "text": [
      "(Pdb)  self.bert.decode([2072, 2087])\n"
     ]
    },
    {
     "name": "stdout",
     "output_type": "stream",
     "text": [
      "'一 世'\n"
     ]
    },
    {
     "name": "stdin",
     "output_type": "stream",
     "text": [
      "(Pdb)  q\n"
     ]
    },
    {
     "name": "stderr",
     "output_type": "stream",
     "text": [
      "\n",
      "Traceback (most recent call last):\n",
      "  File \"E:\\LangOn\\OntoDeepLex\\src\\mesh\\affix\\ctm_utils.py\", line 111, in build_affixoid_examples\n",
      "    bows, bert_vecs = self.build_batch_example(affixoid, word, batch_iter)\n",
      "  File \"E:\\LangOn\\OntoDeepLex\\src\\mesh\\affix\\ctm_utils.py\", line 146, in build_batch_example\n",
      "    affix_vecs = outputs[np.arange(len(targ_token_indices)), targ_token_indices, :]\n",
      "  File \"E:\\LangOn\\OntoDeepLex\\src\\mesh\\affix\\ctm_utils.py\", line 146, in build_batch_example\n",
      "    affix_vecs = outputs[np.arange(len(targ_token_indices)), targ_token_indices, :]\n",
      "  File \"c:\\python38\\lib\\bdb.py\", line 88, in trace_dispatch\n",
      "    return self.dispatch_line(frame)\n",
      "  File \"c:\\python38\\lib\\bdb.py\", line 113, in dispatch_line\n",
      "    if self.quitting: raise BdbQuit\n",
      "bdb.BdbQuit\n",
      "\n"
     ]
    }
   ],
   "source": [
    "outs = proc.build_affixoid_examples(aff0, ex0[1])"
   ]
  },
  {
   "cell_type": "code",
   "execution_count": 125,
   "metadata": {},
   "outputs": [
    {
     "data": {
      "text/plain": [
       "False"
      ]
     },
     "execution_count": 125,
     "metadata": {},
     "output_type": "execute_result"
    }
   ],
   "source": [
    "isinstance(np.where(outs[0][0])[0], type(iter))"
   ]
  },
  {
   "cell_type": "code",
   "execution_count": 126,
   "metadata": {},
   "outputs": [
    {
     "data": {
      "text/plain": [
       "['這', '一生', '一_.1']"
      ]
     },
     "execution_count": 126,
     "metadata": {},
     "output_type": "execute_result"
    }
   ],
   "source": [
    "proc.vocab.decode(np.where(outs[0][0])[0].tolist())"
   ]
  },
  {
   "cell_type": "code",
   "execution_count": 99,
   "metadata": {},
   "outputs": [
    {
     "data": {
      "text/plain": [
       "[[('這', 'Nep'), ('一生', 'Na'), ('一世', 'Na'), ('，', 'COMMACATEGORY')],\n",
       " [('一生', 'Na'), ('一世', 'Na'), ('長相左右', 'VH'), ('。', 'PERIODCATEGORY')]]"
      ]
     },
     "execution_count": 99,
     "metadata": {},
     "output_type": "execute_result"
    }
   ],
   "source": [
    "list(proc.asbc.query(ex0[1]))"
   ]
  },
  {
   "cell_type": "code",
   "execution_count": 87,
   "metadata": {},
   "outputs": [],
   "source": [
    "bow = outs[0]"
   ]
  },
  {
   "cell_type": "code",
   "execution_count": 101,
   "metadata": {},
   "outputs": [],
   "source": [
    "bows, bert_vecs = proc.build_batch_example(aff0, ex0[1], list(proc.asbc.query(ex0[1]))) "
   ]
  },
  {
   "cell_type": "code",
   "execution_count": 106,
   "metadata": {},
   "outputs": [],
   "source": [
    "a = [bows, bows]; b = [bert_vecs, bert_vecs]"
   ]
  },
  {
   "cell_type": "code",
   "execution_count": 109,
   "metadata": {},
   "outputs": [],
   "source": [
    "from itertools import chain"
   ]
  },
  {
   "cell_type": "code",
   "execution_count": 5,
   "metadata": {},
   "outputs": [
    {
     "data": {
      "text/plain": [
       "tensor([0.5000, 0.0000])"
      ]
     },
     "execution_count": 5,
     "metadata": {},
     "output_type": "execute_result"
    }
   ],
   "source": [
    "import torch\n",
    "torch.tensor([1,0])*torch.tensor([0.5, 0])"
   ]
  },
  {
   "cell_type": "code",
   "execution_count": 129,
   "metadata": {},
   "outputs": [],
   "source": [
    "ex_path = mesh.get_data_dir() / \"affix/affixoid_ctm_examples.pkl\"\n",
    "import pickle\n",
    "with ex_path.open(\"rb\") as fin:\n",
    "    examples = pickle.load(fin)\n"
   ]
  },
  {
   "cell_type": "code",
   "execution_count": 132,
   "metadata": {},
   "outputs": [
    {
     "data": {
      "text/plain": [
       "(array([  251,   282,   429,  5830, 14510], dtype=int64),)"
      ]
     },
     "execution_count": 132,
     "metadata": {},
     "output_type": "execute_result"
    }
   ],
   "source": [
    "np.where(examples[0][0])"
   ]
  },
  {
   "cell_type": "code",
   "execution_count": null,
   "metadata": {},
   "outputs": [],
   "source": []
  }
 ],
 "metadata": {
  "kernelspec": {
   "display_name": "Python 3",
   "language": "python",
   "name": "python3"
  },
  "language_info": {
   "codemirror_mode": {
    "name": "ipython",
    "version": 3
   },
   "file_extension": ".py",
   "mimetype": "text/x-python",
   "name": "python",
   "nbconvert_exporter": "python",
   "pygments_lexer": "ipython3",
   "version": "3.8.2"
  }
 },
 "nbformat": 4,
 "nbformat_minor": 4
}
