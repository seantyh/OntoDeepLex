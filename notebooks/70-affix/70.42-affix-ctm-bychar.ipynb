{
 "cells": [
  {
   "cell_type": "code",
   "execution_count": 1,
   "metadata": {},
   "outputs": [],
   "source": [
    "%load_ext autoreload\n",
    "%autoreload 2"
   ]
  },
  {
   "cell_type": "code",
   "execution_count": 2,
   "metadata": {},
   "outputs": [
    {
     "name": "stderr",
     "output_type": "stream",
     "text": [
      "E:\\LangOn\\OntoDeepLex\\src\\mesh\\cns.py:3: TqdmExperimentalWarning: Using `tqdm.autonotebook.tqdm` in notebook mode. Use `tqdm.tqdm` instead to force console mode (e.g. in jupyter console)\n",
      "  from tqdm.autonotebook import tqdm\n"
     ]
    }
   ],
   "source": [
    "import pickle\n",
    "import pandas as pd\n",
    "import numpy as np\n",
    "import matplotlib.pyplot as plt\n",
    "from mesh_import import mesh\n",
    "import mesh.affix as affix\n",
    "from mesh.affix import CkipAffixoids\n",
    "from mesh.affix import AffixoidAnalyzer, ByCharAnalyzer\n",
    "from mesh.affix import ctm_analysis\n",
    "import torch.nn.functional as F"
   ]
  },
  {
   "cell_type": "code",
   "execution_count": 3,
   "metadata": {},
   "outputs": [
    {
     "name": "stderr",
     "output_type": "stream",
     "text": [
      "c:\\python38\\lib\\site-packages\\torch\\serialization.py:593: SourceChangeWarning: source code of class 'torch.nn.modules.activation.Softplus' has changed. you can retrieve the original source code by accessing the object's source attribute or set `torch.nn.Module.dump_patches = True` and use the patch tool to revert the changes.\n",
      "  warnings.warn(msg, SourceChangeWarning)\n",
      "c:\\python38\\lib\\site-packages\\torch\\serialization.py:593: SourceChangeWarning: source code of class 'torch.nn.modules.linear.Linear' has changed. you can retrieve the original source code by accessing the object's source attribute or set `torch.nn.Module.dump_patches = True` and use the patch tool to revert the changes.\n",
      "  warnings.warn(msg, SourceChangeWarning)\n"
     ]
    }
   ],
   "source": [
    "ctm = ctm_analysis.get_bychar_ctm_models()"
   ]
  },
  {
   "cell_type": "code",
   "execution_count": 5,
   "metadata": {},
   "outputs": [
    {
     "data": {
      "text/plain": [
       "100"
      ]
     },
     "execution_count": 5,
     "metadata": {},
     "output_type": "execute_result"
    }
   ],
   "source": [
    "ctm.model.n_components"
   ]
  },
  {
   "cell_type": "code",
   "execution_count": 4,
   "metadata": {},
   "outputs": [],
   "source": [
    "asbc_dir = mesh.get_data_dir() / \"asbc/\"\n",
    "with (asbc_dir/\"asbc5_words.pkl\").open(\"rb\") as fin:\n",
    "    words = pickle.load(fin)"
   ]
  },
  {
   "cell_type": "code",
   "execution_count": 5,
   "metadata": {},
   "outputs": [
    {
     "data": {
      "text/plain": [
       "(array([1.000e+00, 1.000e+00, 0.000e+00, 1.000e+00, 1.400e+01, 2.030e+02,\n",
       "        5.290e+03, 9.173e+03, 3.499e+03, 1.221e+03]),\n",
       " array([3.0192556, 3.1750515, 3.3308473, 3.4866433, 3.6424391, 3.798235 ,\n",
       "        3.9540308, 4.1098266, 4.2656226, 4.421418 , 4.5772142],\n",
       "       dtype=float32),\n",
       " <a list of 10 Patch objects>)"
      ]
     },
     "execution_count": 5,
     "metadata": {},
     "output_type": "execute_result"
    },
    {
     "data": {
      "image/png": "[encoded data removed]",
      "text/plain": [
       "<Figure size 432x288 with 1 Axes>"
      ]
     },
     "metadata": {
      "needs_background": "light"
     },
     "output_type": "display_data"
    }
   ],
   "source": [
    "plt.hist(ctm.get_topic_entropy())"
   ]
  },
  {
   "cell_type": "code",
   "execution_count": 6,
   "metadata": {},
   "outputs": [
    {
     "data": {
      "text/plain": [
       "3.9913208"
      ]
     },
     "execution_count": 6,
     "metadata": {},
     "output_type": "execute_result"
    }
   ],
   "source": [
    "ctm.get_charloc_entropy(\"人_\")"
   ]
  },
  {
   "cell_type": "code",
   "execution_count": 7,
   "metadata": {},
   "outputs": [],
   "source": [
    "data_path = mesh.get_data_dir() / \"affix/bychar_proc_data.pkl\"\n",
    "if data_path.exists():\n",
    "    with data_path.open(\"rb\") as fin:\n",
    "        data = pickle.load(fin)\n",
    "charlocs = data[\"charloc\"]"
   ]
  },
  {
   "cell_type": "code",
   "execution_count": 6,
   "metadata": {},
   "outputs": [],
   "source": [
    "analyzer = ByCharAnalyzer()"
   ]
  },
  {
   "cell_type": "code",
   "execution_count": 7,
   "metadata": {},
   "outputs": [
    {
     "data": {
      "application/vnd.jupyter.widget-view+json": {
       "model_id": "d6224f127ffc4cb189851ae62ae4e4fb",
       "version_major": 2,
       "version_minor": 0
      },
      "text/plain": [
       "HBox(children=(FloatProgress(value=0.0, max=4893.0), HTML(value='')))"
      ]
     },
     "metadata": {},
     "output_type": "display_data"
    },
    {
     "name": "stdout",
     "output_type": "stream",
     "text": [
      "\n"
     ]
    },
    {
     "data": {
      "text/html": [
       "<div>\n",
       "<style scoped>\n",
       "    .dataframe tbody tr th:only-of-type {\n",
       "        vertical-align: middle;\n",
       "    }\n",
       "\n",
       "    .dataframe tbody tr th {\n",
       "        vertical-align: top;\n",
       "    }\n",
       "\n",
       "    .dataframe thead th {\n",
       "        text-align: right;\n",
       "    }\n",
       "</style>\n",
       "<table border=\"1\" class=\"dataframe\">\n",
       "  <thead>\n",
       "    <tr style=\"text-align: right;\">\n",
       "      <th></th>\n",
       "      <th>affixoid</th>\n",
       "      <th>affix_type</th>\n",
       "      <th>form</th>\n",
       "      <th>nword</th>\n",
       "      <th>isstart</th>\n",
       "      <th>isend</th>\n",
       "      <th>ex_wfreq</th>\n",
       "      <th>log_ex_wfreq</th>\n",
       "      <th>prod_morph</th>\n",
       "      <th>pos_entropy</th>\n",
       "      <th>ctm_entropy</th>\n",
       "    </tr>\n",
       "  </thead>\n",
       "  <tbody>\n",
       "    <tr>\n",
       "      <th>0</th>\n",
       "      <td>時_</td>\n",
       "      <td>start</td>\n",
       "      <td>時</td>\n",
       "      <td>166</td>\n",
       "      <td>0</td>\n",
       "      <td>166</td>\n",
       "      <td>23001</td>\n",
       "      <td>10.043336</td>\n",
       "      <td>4.254739</td>\n",
       "      <td>3.925094</td>\n",
       "      <td>4.056471</td>\n",
       "    </tr>\n",
       "    <tr>\n",
       "      <th>1</th>\n",
       "      <td>_間</td>\n",
       "      <td>end</td>\n",
       "      <td>間</td>\n",
       "      <td>152</td>\n",
       "      <td>152</td>\n",
       "      <td>0</td>\n",
       "      <td>23118</td>\n",
       "      <td>10.048410</td>\n",
       "      <td>4.314932</td>\n",
       "      <td>3.811898</td>\n",
       "      <td>4.005905</td>\n",
       "    </tr>\n",
       "    <tr>\n",
       "      <th>2</th>\n",
       "      <td>三_</td>\n",
       "      <td>start</td>\n",
       "      <td>三</td>\n",
       "      <td>1556</td>\n",
       "      <td>0</td>\n",
       "      <td>1556</td>\n",
       "      <td>12035</td>\n",
       "      <td>9.395657</td>\n",
       "      <td>6.994056</td>\n",
       "      <td>3.367432</td>\n",
       "      <td>4.081256</td>\n",
       "    </tr>\n",
       "    <tr>\n",
       "      <th>3</th>\n",
       "      <td>_月</td>\n",
       "      <td>end</td>\n",
       "      <td>月</td>\n",
       "      <td>185</td>\n",
       "      <td>185</td>\n",
       "      <td>0</td>\n",
       "      <td>13095</td>\n",
       "      <td>9.480062</td>\n",
       "      <td>4.564680</td>\n",
       "      <td>3.711330</td>\n",
       "      <td>4.192704</td>\n",
       "    </tr>\n",
       "    <tr>\n",
       "      <th>4</th>\n",
       "      <td>十_</td>\n",
       "      <td>start</td>\n",
       "      <td>十</td>\n",
       "      <td>630</td>\n",
       "      <td>0</td>\n",
       "      <td>630</td>\n",
       "      <td>16743</td>\n",
       "      <td>9.725795</td>\n",
       "      <td>6.071436</td>\n",
       "      <td>3.394608</td>\n",
       "      <td>4.115445</td>\n",
       "    </tr>\n",
       "    <tr>\n",
       "      <th>...</th>\n",
       "      <td>...</td>\n",
       "      <td>...</td>\n",
       "      <td>...</td>\n",
       "      <td>...</td>\n",
       "      <td>...</td>\n",
       "      <td>...</td>\n",
       "      <td>...</td>\n",
       "      <td>...</td>\n",
       "      <td>...</td>\n",
       "      <td>...</td>\n",
       "      <td>...</td>\n",
       "    </tr>\n",
       "    <tr>\n",
       "      <th>4888</th>\n",
       "      <td>乎乎_</td>\n",
       "      <td>start</td>\n",
       "      <td>乎乎</td>\n",
       "      <td>1</td>\n",
       "      <td>0</td>\n",
       "      <td>1</td>\n",
       "      <td>1</td>\n",
       "      <td>0.693147</td>\n",
       "      <td>0.000000</td>\n",
       "      <td>-0.000000</td>\n",
       "      <td>4.568219</td>\n",
       "    </tr>\n",
       "    <tr>\n",
       "      <th>4889</th>\n",
       "      <td>_蛻</td>\n",
       "      <td>end</td>\n",
       "      <td>蛻</td>\n",
       "      <td>2</td>\n",
       "      <td>2</td>\n",
       "      <td>0</td>\n",
       "      <td>2</td>\n",
       "      <td>1.098612</td>\n",
       "      <td>0.693147</td>\n",
       "      <td>-0.000000</td>\n",
       "      <td>4.561064</td>\n",
       "    </tr>\n",
       "    <tr>\n",
       "      <th>4890</th>\n",
       "      <td>_俯</td>\n",
       "      <td>end</td>\n",
       "      <td>俯</td>\n",
       "      <td>1</td>\n",
       "      <td>1</td>\n",
       "      <td>0</td>\n",
       "      <td>1</td>\n",
       "      <td>0.693147</td>\n",
       "      <td>0.000000</td>\n",
       "      <td>-0.000000</td>\n",
       "      <td>4.565611</td>\n",
       "    </tr>\n",
       "    <tr>\n",
       "      <th>4891</th>\n",
       "      <td>堰_</td>\n",
       "      <td>start</td>\n",
       "      <td>堰</td>\n",
       "      <td>1</td>\n",
       "      <td>0</td>\n",
       "      <td>1</td>\n",
       "      <td>1</td>\n",
       "      <td>0.693147</td>\n",
       "      <td>0.000000</td>\n",
       "      <td>-0.000000</td>\n",
       "      <td>4.566850</td>\n",
       "    </tr>\n",
       "    <tr>\n",
       "      <th>4892</th>\n",
       "      <td>_彗</td>\n",
       "      <td>end</td>\n",
       "      <td>彗</td>\n",
       "      <td>1</td>\n",
       "      <td>1</td>\n",
       "      <td>0</td>\n",
       "      <td>2</td>\n",
       "      <td>1.098612</td>\n",
       "      <td>-0.693147</td>\n",
       "      <td>-0.000000</td>\n",
       "      <td>4.570309</td>\n",
       "    </tr>\n",
       "  </tbody>\n",
       "</table>\n",
       "<p>4893 rows × 11 columns</p>\n",
       "</div>"
      ],
      "text/plain": [
       "     affixoid affix_type form  nword  isstart  isend  ex_wfreq  log_ex_wfreq  \\\n",
       "0          時_      start    時    166        0    166     23001     10.043336   \n",
       "1          _間        end    間    152      152      0     23118     10.048410   \n",
       "2          三_      start    三   1556        0   1556     12035      9.395657   \n",
       "3          _月        end    月    185      185      0     13095      9.480062   \n",
       "4          十_      start    十    630        0    630     16743      9.725795   \n",
       "...       ...        ...  ...    ...      ...    ...       ...           ...   \n",
       "4888      乎乎_      start   乎乎      1        0      1         1      0.693147   \n",
       "4889       _蛻        end    蛻      2        2      0         2      1.098612   \n",
       "4890       _俯        end    俯      1        1      0         1      0.693147   \n",
       "4891       堰_      start    堰      1        0      1         1      0.693147   \n",
       "4892       _彗        end    彗      1        1      0         2      1.098612   \n",
       "\n",
       "      prod_morph  pos_entropy  ctm_entropy  \n",
       "0       4.254739     3.925094     4.056471  \n",
       "1       4.314932     3.811898     4.005905  \n",
       "2       6.994056     3.367432     4.081256  \n",
       "3       4.564680     3.711330     4.192704  \n",
       "4       6.071436     3.394608     4.115445  \n",
       "...          ...          ...          ...  \n",
       "4888    0.000000    -0.000000     4.568219  \n",
       "4889    0.693147    -0.000000     4.561064  \n",
       "4890    0.000000    -0.000000     4.565611  \n",
       "4891    0.000000    -0.000000     4.566850  \n",
       "4892   -0.693147    -0.000000     4.570309  \n",
       "\n",
       "[4893 rows x 11 columns]"
      ]
     },
     "execution_count": 7,
     "metadata": {},
     "output_type": "execute_result"
    }
   ],
   "source": [
    "frame = analyzer.analyze()\n",
    "frame"
   ]
  },
  {
   "cell_type": "code",
   "execution_count": 12,
   "metadata": {},
   "outputs": [
    {
     "data": {
      "text/plain": [
       "4.0564713"
      ]
     },
     "execution_count": 12,
     "metadata": {},
     "output_type": "execute_result"
    }
   ],
   "source": [
    "ctm.get_charloc_entropy(\"時_\")"
   ]
  },
  {
   "cell_type": "code",
   "execution_count": 12,
   "metadata": {},
   "outputs": [],
   "source": [
    "affix_dir = mesh.get_data_dir() / \"affix\""
   ]
  },
  {
   "cell_type": "code",
   "execution_count": null,
   "metadata": {},
   "outputs": [],
   "source": []
  }
 ],
 "metadata": {
  "kernelspec": {
   "display_name": "Python 3",
   "language": "python",
   "name": "python3"
  },
  "language_info": {
   "codemirror_mode": {
    "name": "ipython",
    "version": 3
   },
   "file_extension": ".py",
   "mimetype": "text/x-python",
   "name": "python",
   "nbconvert_exporter": "python",
   "pygments_lexer": "ipython3",
   "version": "3.8.2"
  }
 },
 "nbformat": 4,
 "nbformat_minor": 4
}
