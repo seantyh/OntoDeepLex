{
 "cells": [
  {
   "cell_type": "code",
   "execution_count": 1,
   "metadata": {},
   "outputs": [],
   "source": [
    "%load_ext autoreload\n",
    "%autoreload 2"
   ]
  },
  {
   "cell_type": "code",
   "execution_count": 17,
   "metadata": {},
   "outputs": [],
   "source": [
    "import pickle\n",
    "import pandas as pd\n",
    "import numpy as np\n",
    "import matplotlib.pyplot as plt\n",
    "from mesh_import import mesh\n",
    "import mesh.affix as affix\n",
    "from mesh.affix import CkipAffixoids\n",
    "from mesh.affix import AffixoidAnalyzer\n",
    "from mesh.affix import ctm_analysis\n",
    "import torch.nn.functional as F"
   ]
  },
  {
   "cell_type": "code",
   "execution_count": 48,
   "metadata": {},
   "outputs": [],
   "source": [
    "ctm = ctm_analysis.get_bychar_ctm_models()"
   ]
  },
  {
   "cell_type": "code",
   "execution_count": 49,
   "metadata": {},
   "outputs": [],
   "source": [
    "asbc_dir = mesh.get_data_dir() / \"asbc/\"\n",
    "with (asbc_dir/\"asbc5_words.pkl\").open(\"rb\") as fin:\n",
    "    words = pickle.load(fin)"
   ]
  },
  {
   "cell_type": "code",
   "execution_count": 50,
   "metadata": {},
   "outputs": [
    {
     "data": {
      "text/plain": [
       "(array([1.000e+00, 1.000e+00, 0.000e+00, 1.000e+00, 1.400e+01, 2.030e+02,\n",
       "        5.290e+03, 9.173e+03, 3.499e+03, 1.221e+03]),\n",
       " array([3.0192556, 3.1750515, 3.3308473, 3.4866433, 3.6424391, 3.798235 ,\n",
       "        3.9540308, 4.1098266, 4.2656226, 4.421418 , 4.5772142],\n",
       "       dtype=float32),\n",
       " <a list of 10 Patch objects>)"
      ]
     },
     "execution_count": 50,
     "metadata": {},
     "output_type": "execute_result"
    },
    {
     "data": {
      "image/png": "[encoded data removed]",
      "text/plain": [
       "<Figure size 432x288 with 1 Axes>"
      ]
     },
     "metadata": {
      "needs_background": "light"
     },
     "output_type": "display_data"
    }
   ],
   "source": [
    "plt.hist(ctm.get_topic_entropy())"
   ]
  },
  {
   "cell_type": "code",
   "execution_count": 46,
   "metadata": {},
   "outputs": [
    {
     "data": {
      "text/plain": [
       "3.8708315"
      ]
     },
     "execution_count": 46,
     "metadata": {},
     "output_type": "execute_result"
    }
   ],
   "source": [
    "ctm.get_charloc_entropy(\"人_\")"
   ]
  },
  {
   "cell_type": "code",
   "execution_count": 51,
   "metadata": {},
   "outputs": [],
   "source": [
    "data_path = mesh.get_data_dir() / \"affix/bychar_proc_data.pkl\"\n",
    "if data_path.exists():\n",
    "    with data_path.open(\"rb\") as fin:\n",
    "        data = pickle.load(fin)\n",
    "charlocs = data[\"charloc\"]"
   ]
  },
  {
   "cell_type": "code",
   "execution_count": 52,
   "metadata": {},
   "outputs": [
    {
     "data": {
      "text/plain": [
       "('時_',\n",
       " [('時間', 7633),\n",
       "  ('時候', 6020),\n",
       "  ('時光', 321),\n",
       "  ('時日', 95),\n",
       "  ('時機', 372),\n",
       "  ('時段', 229),\n",
       "  ('時刻', 479),\n",
       "  ('時代', 3171),\n",
       "  ('時至今日', 38),\n",
       "  ('時數', 119),\n",
       "  ('時期', 1388),\n",
       "  ('時空', 413),\n",
       "  ('時報', 139),\n",
       "  ('時興', 28),\n",
       "  ('時髦', 127),\n",
       "  ('時時', 186),\n",
       "  ('時有', 32),\n",
       "  ('時間觀', 6),\n",
       "  ('時節', 75),\n",
       "  ('時分', 104),\n",
       "  ('時代性', 10),\n",
       "  ('時尚', 109),\n",
       "  ('時間性', 17),\n",
       "  ('時空性', 1),\n",
       "  ('時下', 98),\n",
       "  ('時而', 117),\n",
       "  ('時過境遷', 8),\n",
       "  ('時局', 45),\n",
       "  ('時世', 1),\n",
       "  ('時賢', 1),\n",
       "  ('時間感', 3),\n",
       "  ('時常', 321),\n",
       "  ('時辰', 43),\n",
       "  ('時大彬', 2),\n",
       "  ('時時刻刻', 59),\n",
       "  ('時不我予', 10),\n",
       "  ('時品', 1),\n",
       "  ('時潮', 7),\n",
       "  ('時間表', 74),\n",
       "  ('時髦話', 1),\n",
       "  ('時有所聞', 33),\n",
       "  ('時髦品', 1),\n",
       "  ('時程', 126),\n",
       "  ('時勢', 29),\n",
       "  ('時間化', 8),\n",
       "  ('時值', 17),\n",
       "  ('時事', 44),\n",
       "  ('時程表', 8),\n",
       "  ('時效性', 14),\n",
       "  ('時脈', 8),\n",
       "  ('時序', 33),\n",
       "  ('時差', 38),\n",
       "  ('時運不濟', 2),\n",
       "  ('時宜', 11),\n",
       "  ('時效', 80),\n",
       "  ('時裝', 44),\n",
       "  ('時鐘', 67),\n",
       "  ('時任', 22),\n",
       "  ('時裝界', 3),\n",
       "  ('時政', 5),\n",
       "  ('時速', 65),\n",
       "  ('時刻表', 10),\n",
       "  ('時隔', 15),\n",
       "  ('時運', 1),\n",
       "  ('時令', 14),\n",
       "  ('時準', 2),\n",
       "  ('時流', 1),\n",
       "  ('時整', 2),\n",
       "  ('時代之風', 3),\n",
       "  ('時代劇', 1),\n",
       "  ('時年', 3),\n",
       "  ('時距', 3),\n",
       "  ('時裝業', 1),\n",
       "  ('時屆', 1),\n",
       "  ('時論', 4),\n",
       "  ('時限', 22),\n",
       "  ('時遷', 11),\n",
       "  ('時研社', 1),\n",
       "  ('時薪', 10),\n",
       "  ('時報鷹', 24),\n",
       "  ('時代感', 3),\n",
       "  ('時代周刊', 2),\n",
       "  ('時光機', 2),\n",
       "  ('時移事往', 1),\n",
       "  ('時人', 8),\n",
       "  ('時有時無', 2),\n",
       "  ('時起', 1),\n",
       "  ('時點', 24),\n",
       "  ('時陣', 1),\n",
       "  ('時裝店', 5),\n",
       "  ('時麾', 2),\n",
       "  ('時針', 11),\n",
       "  ('時態', 4),\n",
       "  ('時務', 2),\n",
       "  ('時好時壞', 3),\n",
       "  ('時快時慢', 1),\n",
       "  ('時價', 4),\n",
       "  ('時起時伏', 1),\n",
       "  ('時顯時隱', 1),\n",
       "  ('時彰時貶', 1),\n",
       "  ('時空觀', 6),\n",
       "  ('時式', 1),\n",
       "  ('時不時', 2),\n",
       "  ('時鮮', 2),\n",
       "  ('時候兒', 11),\n",
       "  ('時新', 5),\n",
       "  ('時間詞', 3),\n",
       "  ('時報周刊', 18),\n",
       "  ('時報週刊', 3),\n",
       "  ('時爾', 2),\n",
       "  ('時間篇', 1),\n",
       "  ('時間域', 5),\n",
       "  ('時間點', 16),\n",
       "  ('時薪制', 2),\n",
       "  ('時區', 1),\n",
       "  ('時段性', 18),\n",
       "  ('時侯', 14),\n",
       "  ('時尚圈', 4),\n",
       "  ('時尚感', 4),\n",
       "  ('時尚化', 4),\n",
       "  ('時尚錶', 2),\n",
       "  ('時髦味', 1),\n",
       "  ('時尚性', 2),\n",
       "  ('時教', 3),\n",
       "  ('時鐘錶', 1),\n",
       "  ('時來運轉', 2),\n",
       "  ('時後', 10),\n",
       "  ('時體', 1),\n",
       "  ('時報獎', 1),\n",
       "  ('時報版', 1),\n",
       "  ('時袸', 2),\n",
       "  ('時雨', 2),\n",
       "  ('時事牌', 1),\n",
       "  ('時祥', 1),\n",
       "  ('時疫', 1),\n",
       "  ('時蘿', 2),\n",
       "  ('時空差', 1),\n",
       "  ('時尚款', 1),\n",
       "  ('時裝週', 1),\n",
       "  ('時裝周', 1),\n",
       "  ('時裝展', 4),\n",
       "  ('時尚界', 10),\n",
       "  ('時代雜誌', 3),\n",
       "  ('時髦感', 1),\n",
       "  ('時裝劇', 1),\n",
       "  ('時間軸', 1),\n",
       "  ('時部', 3),\n",
       "  ('時間差', 5),\n",
       "  ('時雅玲', 2),\n",
       "  ('時報系', 1),\n",
       "  ('時問', 1),\n",
       "  ('時間式', 1),\n",
       "  ('時機點', 1),\n",
       "  ('時差性', 3),\n",
       "  ('時弊', 2),\n",
       "  ('時尚業', 2),\n",
       "  ('時間流', 1),\n",
       "  ('時續時停', 1),\n",
       "  ('時代人', 1),\n",
       "  ('時計', 1),\n",
       "  ('時祺', 21),\n",
       "  ('時數約', 2),\n",
       "  ('時子周', 1),\n",
       "  ('時見', 1),\n",
       "  ('時評', 2),\n",
       "  ('時羞', 1)])"
      ]
     },
     "execution_count": 52,
     "metadata": {},
     "output_type": "execute_result"
    }
   ],
   "source": [
    "next(iter(charlocs.items()))"
   ]
  },
  {
   "cell_type": "code",
   "execution_count": null,
   "metadata": {},
   "outputs": [],
   "source": []
  }
 ],
 "metadata": {
  "kernelspec": {
   "display_name": "Python 3",
   "language": "python",
   "name": "python3"
  },
  "language_info": {
   "codemirror_mode": {
    "name": "ipython",
    "version": 3
   },
   "file_extension": ".py",
   "mimetype": "text/x-python",
   "name": "python",
   "nbconvert_exporter": "python",
   "pygments_lexer": "ipython3",
   "version": "3.8.2"
  }
 },
 "nbformat": 4,
 "nbformat_minor": 4
}
