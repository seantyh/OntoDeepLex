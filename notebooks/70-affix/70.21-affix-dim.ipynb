{
 "cells": [
  {
   "cell_type": "code",
   "execution_count": 1,
   "metadata": {},
   "outputs": [],
   "source": [
    "%load_ext autoreload\n",
    "%autoreload 2"
   ]
  },
  {
   "cell_type": "code",
   "execution_count": 2,
   "metadata": {},
   "outputs": [
    {
     "name": "stderr",
     "output_type": "stream",
     "text": [
      "E:\\LangOn\\OntoDeepLex\\src\\mesh\\cns.py:3: TqdmExperimentalWarning: Using `tqdm.autonotebook.tqdm` in notebook mode. Use `tqdm.tqdm` instead to force console mode (e.g. in jupyter console)\n",
      "  from tqdm.autonotebook import tqdm\n"
     ]
    }
   ],
   "source": [
    "import pickle\n",
    "import pandas as pd\n",
    "import numpy as np\n",
    "from mesh_import import mesh\n",
    "import mesh.affix as affix"
   ]
  },
  {
   "cell_type": "code",
   "execution_count": 3,
   "metadata": {},
   "outputs": [],
   "source": [
    "affix_dir = mesh.get_data_dir() / \"affix\""
   ]
  },
  {
   "cell_type": "code",
   "execution_count": 4,
   "metadata": {},
   "outputs": [],
   "source": [
    "affixoids = affix.CkipAffixoids(affix_dir)"
   ]
  },
  {
   "cell_type": "code",
   "execution_count": 5,
   "metadata": {},
   "outputs": [],
   "source": [
    "analyzer = affix.AffixoidAnalyzer(affixoids)"
   ]
  },
  {
   "cell_type": "code",
   "execution_count": 8,
   "metadata": {},
   "outputs": [
    {
     "data": {
      "application/vnd.jupyter.widget-view+json": {
       "model_id": "89cd6d5549944b2a905623e6a26fe210",
       "version_major": 2,
       "version_minor": 0
      },
      "text/plain": [
       "HBox(children=(FloatProgress(value=0.0, max=4056.0), HTML(value='')))"
      ]
     },
     "metadata": {},
     "output_type": "display_data"
    },
    {
     "name": "stdout",
     "output_type": "stream",
     "text": [
      "\n"
     ]
    }
   ],
   "source": [
    "results = analyzer.analyze()"
   ]
  },
  {
   "cell_type": "code",
   "execution_count": 20,
   "metadata": {},
   "outputs": [],
   "source": [
    "import re\n",
    "re.search(r\"pos\\b\", \"position\")"
   ]
  },
  {
   "cell_type": "code",
   "execution_count": 9,
   "metadata": {},
   "outputs": [
    {
     "data": {
      "text/plain": [
       "[0, 0, 0, 0, 0, 0, 0, 0, 0, 0]"
      ]
     },
     "execution_count": 9,
     "metadata": {},
     "output_type": "execute_result"
    }
   ],
   "source": [
    "results[:10]"
   ]
  },
  {
   "cell_type": "code",
   "execution_count": 15,
   "metadata": {},
   "outputs": [
    {
     "data": {
      "text/plain": [
       "['郎老', '族老']"
      ]
     },
     "execution_count": 15,
     "metadata": {},
     "output_type": "execute_result"
    }
   ],
   "source": [
    "affixoids.query(\"老\")[1].example"
   ]
  },
  {
   "cell_type": "code",
   "execution_count": 10,
   "metadata": {},
   "outputs": [
    {
     "ename": "KeyError",
     "evalue": "'老鼠'",
     "output_type": "error",
     "traceback": [
      "\u001b[1;31m---------------------------------------------------------------------------\u001b[0m",
      "\u001b[1;31mKeyError\u001b[0m                                  Traceback (most recent call last)",
      "\u001b[1;32m<ipython-input-10-c3eeb431edc6>\u001b[0m in \u001b[0;36m<module>\u001b[1;34m\u001b[0m\n\u001b[1;32m----> 1\u001b[1;33m \u001b[0maffixoids\u001b[0m\u001b[1;33m.\u001b[0m\u001b[0mexample_index\u001b[0m\u001b[1;33m[\u001b[0m\u001b[1;34m\"老鼠\"\u001b[0m\u001b[1;33m]\u001b[0m\u001b[1;33m\u001b[0m\u001b[1;33m\u001b[0m\u001b[0m\n\u001b[0m",
      "\u001b[1;31mKeyError\u001b[0m: '老鼠'"
     ]
    }
   ],
   "source": [
    "affixoids.example_index[\"老鼠\"]"
   ]
  },
  {
   "cell_type": "code",
   "execution_count": 52,
   "metadata": {},
   "outputs": [
    {
     "data": {
      "text/plain": [
       "[('prefix', '風力'),\n",
       " ('prefix', '風化'),\n",
       " ('prefix', '風火'),\n",
       " ('prefix', '風帆'),\n",
       " ('prefix', '風吹'),\n",
       " ('prefix', '風沙'),\n",
       " ('prefix', '風谷'),\n",
       " ('prefix', '風兒'),\n",
       " ('prefix', '風味兒'),\n",
       " ('prefix', '風阻'),\n",
       " ('prefix', '風洞'),\n",
       " ('prefix', '風習'),\n",
       " ('prefix', '風雪'),\n",
       " ('prefix', '風場'),\n",
       " ('prefix', '風筒'),\n",
       " ('prefix', '風評'),\n",
       " ('prefix', '風管'),\n",
       " ('prefix', '風嘯'),\n",
       " ('prefix', '風標'),\n",
       " ('prefix', '風箱'),\n",
       " ('prefix', '風險'),\n",
       " ('prefix', '風雨聲'),\n",
       " ('prefix', '風笛聲')]"
      ]
     },
     "execution_count": 52,
     "metadata": {},
     "output_type": "execute_result"
    }
   ],
   "source": [
    "affixoids.query(\"風\", \"prefix\")[0].example_words"
   ]
  },
  {
   "cell_type": "code",
   "execution_count": 51,
   "metadata": {},
   "outputs": [
    {
     "data": {
      "text/plain": [
       "[('VR', '敲入'),\n",
       " ('VR', '敲成'),\n",
       " ('VR', '敲死'),\n",
       " ('VR', '敲到'),\n",
       " ('VR', '敲昏'),\n",
       " ('VR', '敲進'),\n",
       " ('VR', '敲緊'),\n",
       " ('VR', '敲醒'),\n",
       " ('VR', '敲斷'),\n",
       " ('VR', '敲壞'),\n",
       " ('VR', '敲響'),\n",
       " ('VO', '敲桿'),\n",
       " ('VO', '敲敲門'),\n",
       " ('VV', '敲叩'),\n",
       " ('VV', '敲打出'),\n",
       " ('VV', '敲打進')]"
      ]
     },
     "execution_count": 51,
     "metadata": {},
     "output_type": "execute_result"
    }
   ],
   "source": [
    "affixoids.query(\"敲\", \"start-root\")[0].example_words"
   ]
  },
  {
   "cell_type": "code",
   "execution_count": 45,
   "metadata": {},
   "outputs": [
    {
     "data": {
      "text/plain": [
       "[(1, 'a'), (1, 'b')]"
      ]
     },
     "execution_count": 45,
     "metadata": {},
     "output_type": "execute_result"
    }
   ],
   "source": [
    "from itertools import cycle\n",
    "list(zip(cycle([1]), [\"a\", \"b\"]))"
   ]
  },
  {
   "cell_type": "code",
   "execution_count": null,
   "metadata": {},
   "outputs": [],
   "source": []
  }
 ],
 "metadata": {
  "kernelspec": {
   "display_name": "Python 3",
   "language": "python",
   "name": "python3"
  },
  "language_info": {
   "codemirror_mode": {
    "name": "ipython",
    "version": 3
   },
   "file_extension": ".py",
   "mimetype": "text/x-python",
   "name": "python",
   "nbconvert_exporter": "python",
   "pygments_lexer": "ipython3",
   "version": "3.8.2"
  }
 },
 "nbformat": 4,
 "nbformat_minor": 4
}
