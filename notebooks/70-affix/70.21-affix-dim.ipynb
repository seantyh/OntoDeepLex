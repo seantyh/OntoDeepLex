{
 "cells": [
  {
   "cell_type": "code",
   "execution_count": null,
   "metadata": {},
   "outputs": [],
   "source": [
    "%load_ext autoreload\n",
    "%autoreload 2"
   ]
  },
  {
   "cell_type": "code",
   "execution_count": null,
   "metadata": {},
   "outputs": [],
   "source": [
    "import pickle\n",
    "import pandas as pd\n",
    "import numpy as np\n",
    "from mesh_import import mesh\n",
    "import mesh.affix as affix"
   ]
  },
  {
   "cell_type": "code",
   "execution_count": null,
   "metadata": {},
   "outputs": [],
   "source": [
    "affix_dir = mesh.get_data_dir() / \"affix\""
   ]
  },
  {
   "cell_type": "code",
   "execution_count": null,
   "metadata": {},
   "outputs": [],
   "source": [
    "affixoids = affix.CkipAffixoids(affix_dir)"
   ]
  },
  {
   "cell_type": "code",
   "execution_count": 41,
   "metadata": {},
   "outputs": [],
   "source": [
    "affix_analyzer = affix.AffixoidAnalyzer()"
   ]
  },
  {
   "cell_type": "code",
   "execution_count": 42,
   "metadata": {},
   "outputs": [
    {
     "data": {
      "text/plain": [
       "{'position': 0,\n",
       " 'prod_morph': 1,\n",
       " 'prod_pos': [('Na', 1)],\n",
       " 'meaning': [['一', '這', '某', '個', '那', '大', '的', '二', '有', '是']]}"
      ]
     },
     "execution_count": 42,
     "metadata": {},
     "output_type": "execute_result"
    }
   ],
   "source": [
    "affix_analyzer.get_result(\"一\", \"一慣性\")"
   ]
  },
  {
   "cell_type": "code",
   "execution_count": 6,
   "metadata": {},
   "outputs": [
    {
     "name": "stdout",
     "output_type": "stream",
     "text": [
      "loading ASBC corpus streamer index\n",
      "loading asbc5 words\n",
      "loading asbc5 words with POS\n"
     ]
    }
   ],
   "source": [
    "analyzer = affix.WordAnalyzer()"
   ]
  },
  {
   "cell_type": "code",
   "execution_count": 45,
   "metadata": {},
   "outputs": [
    {
     "data": {
      "text/plain": [
       "{'position': 0, 'prod_morph': 0, 'prod_pos': [], 'meaning': []}"
      ]
     },
     "execution_count": 45,
     "metadata": {},
     "output_type": "execute_result"
    }
   ],
   "source": [
    "analyzer.analyze(\"無\", \"無哭\")"
   ]
  },
  {
   "cell_type": "code",
   "execution_count": 7,
   "metadata": {},
   "outputs": [
    {
     "data": {
      "text/plain": [
       "[<Affix(Prefix): 風>,\n",
       " <Affix(Suffix): 風>,\n",
       " <Affix(Suffix): 風>,\n",
       " <Affix(Suffix): 風>,\n",
       " <Affix(Suffix): 風>]"
      ]
     },
     "execution_count": 7,
     "metadata": {},
     "output_type": "execute_result"
    }
   ],
   "source": [
    "affixoids.query(\"風\")"
   ]
  },
  {
   "cell_type": "code",
   "execution_count": 24,
   "metadata": {},
   "outputs": [],
   "source": [
    "from itertools import cycle, chain"
   ]
  },
  {
   "cell_type": "code",
   "execution_count": 40,
   "metadata": {},
   "outputs": [
    {
     "data": {
      "text/plain": [
       "2"
      ]
     },
     "execution_count": 40,
     "metadata": {},
     "output_type": "execute_result"
    }
   ],
   "source": [
    "import torch\n",
    "torch.rand(3,3).dim()"
   ]
  },
  {
   "cell_type": "code",
   "execution_count": 35,
   "metadata": {},
   "outputs": [
    {
     "data": {
      "text/plain": [
       "['一', '一家人']"
      ]
     },
     "execution_count": 35,
     "metadata": {},
     "output_type": "execute_result"
    }
   ],
   "source": [
    "aff_iter = (zip(cycle([x]), x.example_words) for x in affixoids.affixoids)\n",
    "aff_iter = chain.from_iterable(aff_iter)\n",
    "list(next(map(lambda x: (x[0].affixoid, x[1][1]), aff_iter)))"
   ]
  },
  {
   "cell_type": "code",
   "execution_count": 9,
   "metadata": {},
   "outputs": [
    {
     "data": {
      "text/plain": [
       "{'position': 1,\n",
       " 'prod_morph': 25,\n",
       " 'prod_pos': [('Na', 25)],\n",
       " 'meaning': [['風', '團', '风', '流', '族', '樂', '氣', '吹', '聲', '劇'],\n",
       "  ['風', '團', '族', '樂', '流', '統', '帶', '氣', '音', '家'],\n",
       "  ['風', '流', '风', '氣', '團', '帶', '熱', '統', '樂', '調'],\n",
       "  ['風', '风', '樂', '團', '流', '氣', '時', '調', '旋', '帶'],\n",
       "  ['風', '俗', '樂', '族', '統', '調', '譜', '音', '聲', '流'],\n",
       "  ['風', '調', '聲', '音', '吹', '风', '樂', '奏', '氣', '時'],\n",
       "  ['風', '團', '場', '樂', '聲', '流', '隊', '時', '音', '家'],\n",
       "  ['風', '流', '樂', '风', '音', '團', '氣', '聲', '歌', '的'],\n",
       "  ['風', '风', '調', '樂', '譜', '。', '俗', '時', '奏', '有'],\n",
       "  ['風', '风', '流', '族', '團', '樂', '勢', '統', '聲', '氣'],\n",
       "  ['風', '流', '。', '熱', '帶', '旋', '潮', '樂', '牌', '勢'],\n",
       "  ['風', '團', '樂', '氣', '調', '流', '聲', '风', '音', '統'],\n",
       "  ['風', '聲', '风', '流', '調', '音', '吹', '帶', '勢', '點'],\n",
       "  ['風', '調', '风', '氣', '勢', '樂', '流', '聲', '團', '帶'],\n",
       "  ['風', '樂', '族', '歌', '統', '流', '調', '團', '帶', '风'],\n",
       "  ['風', '流', '风', '調', '聲', '樂', '團', '氣', '統', '吹'],\n",
       "  ['風', '調', '樂', '族', '團', '家', '音', '流', '帶', '譜'],\n",
       "  ['風', '氣', '聲', '，', '樂', '情', '調', '音', '時', '帶'],\n",
       "  ['風', '歌', '流', '风', '路', '詞', '聲', '情', '樂', '氣'],\n",
       "  ['風', '式', '风', '俗', '詞', '流', '調', '氣', '統', '樂'],\n",
       "  ['風', '家', '樂', '調', '團', '流', '式', '聲', '氣', '點'],\n",
       "  ['風', '調', '樂', '奏', '聲', '音', '絃', '弦', '譜', '團'],\n",
       "  ['風', '音', '樂', '規', '风', '時', '帶', '流', '過', '現'],\n",
       "  ['風', '氣', '聲', '樂', '风', '流', '歌', '吹', '，', '。'],\n",
       "  ['風', '风', '樂', '統', '調', '流', '音', '聲', '團', '族']]}"
      ]
     },
     "execution_count": 9,
     "metadata": {},
     "output_type": "execute_result"
    }
   ],
   "source": [
    "analyzer.analyze(\"風\", \"樂風\")"
   ]
  },
  {
   "cell_type": "code",
   "execution_count": 12,
   "metadata": {},
   "outputs": [
    {
     "data": {
      "text/plain": [
       "{'position': [0, 3],\n",
       " 'prod_morph': <map at 0x21b0187f520>,\n",
       " 'prod_pos': {'Na': 78},\n",
       " 'meaning': [['風', '风', '調', '家', '點', '式', '意', '歌', '線', '是'],\n",
       "  ['風', '。', '流', '調', '情', '詞', '線', '，', '樂', '統'],\n",
       "  ['風', '調', '線', '氣', '帶', '流', '點', '統', '式', '樂'],\n",
       "  ['風', '风', '氣', '。', '歌', '流', '品', '樂', '的', '統'],\n",
       "  ['風', '的', '。', '樂', '主', '歌', '調', '旋', '流', '帶'],\n",
       "  ['風', '风', '調', '歌', '式', '家', '統', '流', '族', '樂'],\n",
       "  ['風', '統', '樂', '調', '音', '流', '氣', '帶', '旋', '牌'],\n",
       "  ['風', '歌', '調', '风', '詞', '帶', '。', '旋', '主', '統'],\n",
       "  ['風', '調', '統', '氣', '詞', '語', '樂', '曲', '歌', '音'],\n",
       "  ['風', '調', '风', '詞', '有', '曲', '譜', '旋', '式', '的'],\n",
       "  ['風', '樂', '調', '歌', '式', '有', '帶', '音', '旋', '奏'],\n",
       "  ['風', '律', '調', '家', '风', '樂', '旋', '歌', '統', '快'],\n",
       "  ['風', '风', '單', '歌', '主', '。', '旋', '調', '曲', '流'],\n",
       "  ['風', '調', '旋', '變', '曲', '時', '家', '风', '樂', '奏'],\n",
       "  ['風', '流', '帶', '主', '調', '樂', '氣', '歌', '。', '式'],\n",
       "  ['風', '。', '流', '樂', '风', '旋', '帶', '氣', '調', '歌'],\n",
       "  ['風', '樂', '帶', '流', '族', '統', '。', '家', '調', '，'],\n",
       "  ['風', '調', '樂', '。', '家', '奏', '曲', '的', '歌', '譜'],\n",
       "  ['風', '樂', '調', '譜', '奏', '統', '族', '式', '家', '旋'],\n",
       "  ['風', '风', '家', '樂', '有', '旋', '統', '流', '，', '聲'],\n",
       "  ['風', '調', '歌', '詞', '曲', '奏', '有', '聲', '是', '統'],\n",
       "  ['風', '家', '調', '风', '流', '旋', '歌', '詞', '帶', '主'],\n",
       "  ['風', '风', '調', '旋', '家', '歌', '曲', '流', '統', '樂'],\n",
       "  ['風', '調', '歌', '統', '家', '流', '式', '譜', '詩', '聲'],\n",
       "  ['風', '調', '风', '式', '旋', '樂', '的', '有', '家', '流'],\n",
       "  ['風', '风', '詞', '調', '家', '語', '歌', '式', '意', '樂'],\n",
       "  ['風', '調', '旋', '曲', '流', '帶', '詞', '风', '家', '歌'],\n",
       "  ['風', '裝', '帶', '流', '潮', '，', '時', '或', '式', '樂'],\n",
       "  ['風', '族', '統', '流', '調', '樂', '家', '式', '帶', '派'],\n",
       "  ['風', '調', '譜', '家', '歌', '风', '曲', '奏', '旋', '有'],\n",
       "  ['風', '风', '歌', '詩', '流', '調', '有', '雨', '氣', '統'],\n",
       "  ['風', '調', '歌', '統', '家', '曲', '樂', '譜', '奏', '风'],\n",
       "  ['風', '。', '家', '品', '歌', '樂', '曲', '詞', '作', '詩'],\n",
       "  ['風', '歌', '风', '聲', '曲', '唱', '調', '音', '是', '的'],\n",
       "  ['風', '調', '歌', '詞', '作', '曲', '樂', '旋', '詩', '奏'],\n",
       "  ['風', '风', '旋', '家', '流', '主', '調', '歌', '是', '帶'],\n",
       "  ['風', '團', '樂', '家', '流', '譜', '統', '作', '族', '歌'],\n",
       "  ['風', '調', '风', '旋', '家', '歌', '流', '變', '，', '式'],\n",
       "  ['風', '风', '情', '調', '歌', '旋', '氣', '流', '式', '帶'],\n",
       "  ['風', '調', '豐', '曲', '統', '歌', '樂', '譜', '詞', '旋'],\n",
       "  ['風', '詞', '歌', '調', '聲', '旋', '帶', '风', '是', '曲'],\n",
       "  ['風', '統', '氣', '詞', '調', '歌', '俗', '譜', '族', '語'],\n",
       "  ['風', '风', '歌', '流', '調', '旋', '氣', '家', '主', '詩'],\n",
       "  ['風', '調', '音', '流', '聲', '樂', '統', '氣', '风', '旋'],\n",
       "  ['風', '調', '統', '樂', '。', '，', '奏', '聲', '音', '歌'],\n",
       "  ['風', '團', '风', '流', '族', '樂', '氣', '吹', '聲', '劇'],\n",
       "  ['風', '團', '族', '樂', '流', '統', '帶', '氣', '音', '家'],\n",
       "  ['風', '流', '风', '氣', '團', '帶', '熱', '統', '樂', '調'],\n",
       "  ['風', '风', '樂', '團', '流', '氣', '時', '調', '旋', '帶'],\n",
       "  ['風', '俗', '樂', '族', '統', '調', '譜', '音', '聲', '流'],\n",
       "  ['風', '調', '聲', '音', '吹', '风', '樂', '奏', '氣', '時'],\n",
       "  ['風', '團', '場', '樂', '聲', '流', '隊', '時', '音', '家'],\n",
       "  ['風', '流', '樂', '风', '音', '團', '氣', '聲', '歌', '的'],\n",
       "  ['風', '风', '調', '樂', '譜', '。', '俗', '時', '奏', '有'],\n",
       "  ['風', '风', '流', '族', '團', '樂', '勢', '統', '聲', '氣'],\n",
       "  ['風', '流', '。', '熱', '帶', '旋', '潮', '樂', '牌', '勢'],\n",
       "  ['風', '團', '樂', '氣', '調', '流', '聲', '风', '音', '統'],\n",
       "  ['風', '聲', '风', '流', '調', '音', '吹', '帶', '勢', '點'],\n",
       "  ['風', '調', '风', '氣', '勢', '樂', '流', '聲', '團', '帶'],\n",
       "  ['風', '樂', '族', '歌', '統', '流', '調', '團', '帶', '风'],\n",
       "  ['風', '流', '风', '調', '聲', '樂', '團', '氣', '統', '吹'],\n",
       "  ['風', '調', '樂', '族', '團', '家', '音', '流', '帶', '譜'],\n",
       "  ['風', '氣', '聲', '，', '樂', '情', '調', '音', '時', '帶'],\n",
       "  ['風', '歌', '流', '风', '路', '詞', '聲', '情', '樂', '氣'],\n",
       "  ['風', '式', '风', '俗', '詞', '流', '調', '氣', '統', '樂'],\n",
       "  ['風', '家', '樂', '調', '團', '流', '式', '聲', '氣', '點'],\n",
       "  ['風', '調', '樂', '奏', '聲', '音', '絃', '弦', '譜', '團'],\n",
       "  ['風', '音', '樂', '規', '风', '時', '帶', '流', '過', '現'],\n",
       "  ['風', '氣', '聲', '樂', '风', '流', '歌', '吹', '，', '。'],\n",
       "  ['風', '风', '樂', '統', '調', '流', '音', '聲', '團', '族'],\n",
       "  ['風', '選', '戰', '舉', '出', '手', '區', '擇', '變', '民'],\n",
       "  ['風', '风', '東', '出', '氣', '變', '水', '戰', '吹', '有'],\n",
       "  ['風', '擇', '變', '出', '進', '狀', '氣', '戰', '象', '選'],\n",
       "  ['風', '變', '擇', '選', '出', '戰', '時', '進', '舉', '手'],\n",
       "  ['風', '變', '手', '擇', '出', '進', '調', '選', '時', '氣'],\n",
       "  ['風', '戰', '氣', '手', '出', '风', '擇', '變', '破', '報'],\n",
       "  ['風', '氣', '聲', '风', '擇', '變', '出', '天', '東', '手'],\n",
       "  ['風', '戰', '风', '手', '氣', '出', '選', '勢', '東', '方']]}"
      ]
     },
     "execution_count": 12,
     "metadata": {},
     "output_type": "execute_result"
    }
   ],
   "source": [
    "analyzer.analyze_one(affixoids.query(\"風\")[2])"
   ]
  },
  {
   "cell_type": "code",
   "execution_count": 31,
   "metadata": {},
   "outputs": [],
   "source": [
    "affixoid = affixoids.query(\"風\")[2]\n",
    "words = [x[1] for x in affixoid.example_words]"
   ]
  },
  {
   "cell_type": "code",
   "execution_count": 35,
   "metadata": {},
   "outputs": [],
   "source": [
    "target_affixoid = affixoid.affixoid\n",
    "target_word = words[0]\n",
    "sent_iter = analyzer.asbc.query(target_word)\n",
    "sentences = [''.join(x[0] for x in sent) for sent in sent_iter]\n",
    "targ_indices = [x.index(target_word) + target_word.index(target_affixoid) for x in sentences]\n"
   ]
  },
  {
   "cell_type": "code",
   "execution_count": 21,
   "metadata": {},
   "outputs": [],
   "source": [
    "bert = mesh.deep.BertService()"
   ]
  },
  {
   "cell_type": "code",
   "execution_count": 65,
   "metadata": {},
   "outputs": [],
   "source": [
    "import torch"
   ]
  },
  {
   "cell_type": "code",
   "execution_count": 66,
   "metadata": {},
   "outputs": [],
   "source": [
    "input_data = bert.encode(sentences)\n",
    "input_tensors = {k: torch.tensor(v) for k, v in input_data.items()}"
   ]
  },
  {
   "cell_type": "code",
   "execution_count": 76,
   "metadata": {},
   "outputs": [],
   "source": [
    "targ_token_indices = [input_data.char_to_token(b, i) for b, i in enumerate(targ_indices)]"
   ]
  },
  {
   "cell_type": "code",
   "execution_count": 68,
   "metadata": {},
   "outputs": [],
   "source": [
    "outputs = bert.transform(input_tensors, k=10)"
   ]
  },
  {
   "cell_type": "code",
   "execution_count": 77,
   "metadata": {},
   "outputs": [
    {
     "data": {
      "text/plain": [
       "['風 风 調 家 點',\n",
       " '風 。 流 調 情',\n",
       " '風 調 線 氣 帶',\n",
       " '風 风 氣 。 歌',\n",
       " '風 的 。 樂 主',\n",
       " '風 风 調 歌 式',\n",
       " '風 統 樂 調 音',\n",
       " '風 歌 調 风 詞',\n",
       " '風 調 統 氣 詞',\n",
       " '風 調 风 詞 有',\n",
       " '風 樂 調 歌 式',\n",
       " '風 律 調 家 风',\n",
       " '風 风 單 歌 主',\n",
       " '風 調 旋 變 曲',\n",
       " '風 流 帶 主 調',\n",
       " '風 。 流 樂 风',\n",
       " '風 樂 帶 流 族',\n",
       " '風 調 樂 。 家',\n",
       " '風 樂 調 譜 奏',\n",
       " '風 风 家 樂 有',\n",
       " '風 調 歌 詞 曲',\n",
       " '風 家 調 风 流',\n",
       " '風 风 調 旋 家',\n",
       " '風 調 歌 統 家',\n",
       " '風 調 风 式 旋',\n",
       " '風 风 詞 調 家',\n",
       " '風 調 旋 曲 流',\n",
       " '風 裝 帶 流 潮',\n",
       " '風 族 統 流 調',\n",
       " '風 調 譜 家 歌',\n",
       " '風 风 歌 詩 流',\n",
       " '風 調 歌 統 家',\n",
       " '風 。 家 品 歌',\n",
       " '風 歌 风 聲 曲',\n",
       " '風 調 歌 詞 作',\n",
       " '風 风 旋 家 流',\n",
       " '風 團 樂 家 流',\n",
       " '風 調 风 旋 家',\n",
       " '風 风 情 調 歌',\n",
       " '風 調 豐 曲 統',\n",
       " '風 詞 歌 調 聲',\n",
       " '風 統 氣 詞 調',\n",
       " '風 风 歌 流 調',\n",
       " '風 調 音 流 聲',\n",
       " '風 調 統 樂 。']"
      ]
     },
     "execution_count": 77,
     "metadata": {},
     "output_type": "execute_result"
    }
   ],
   "source": [
    "[bert.decode(x) for x in outputs[1][np.arange(len(targ_token_indices)), targ_token_indices, :]]"
   ]
  },
  {
   "cell_type": "code",
   "execution_count": 89,
   "metadata": {},
   "outputs": [],
   "source": [
    "def batch(iterable, size=10):\n",
    "    iterator = iter(iterable)\n",
    "    for first in iterator:\n",
    "        yield chain([first], islice(iterator, size - 1))"
   ]
  },
  {
   "cell_type": "code",
   "execution_count": 91,
   "metadata": {},
   "outputs": [
    {
     "data": {
      "text/plain": [
       "[[0, 1, 2], [3, 4, 5], [6, 7, 8], [9]]"
      ]
     },
     "execution_count": 91,
     "metadata": {},
     "output_type": "execute_result"
    }
   ],
   "source": [
    "[list(x) for x in batch(range(0, 10), 3)]\n",
    "    "
   ]
  },
  {
   "cell_type": "code",
   "execution_count": 10,
   "metadata": {},
   "outputs": [
    {
     "ename": "NameError",
     "evalue": "name 'input_data' is not defined",
     "output_type": "error",
     "traceback": [
      "\u001b[1;31m---------------------------------------------------------------------------\u001b[0m",
      "\u001b[1;31mNameError\u001b[0m                                 Traceback (most recent call last)",
      "\u001b[1;32m<ipython-input-10-bf6376b94eb8>\u001b[0m in \u001b[0;36m<module>\u001b[1;34m\u001b[0m\n\u001b[1;32m----> 1\u001b[1;33m \u001b[0minput_data\u001b[0m\u001b[1;33m\u001b[0m\u001b[1;33m\u001b[0m\u001b[0m\n\u001b[0m",
      "\u001b[1;31mNameError\u001b[0m: name 'input_data' is not defined"
     ]
    }
   ],
   "source": [
    "input_data"
   ]
  },
  {
   "cell_type": "code",
   "execution_count": 20,
   "metadata": {},
   "outputs": [],
   "source": [
    "import re\n",
    "re.search(r\"pos\\b\", \"position\")"
   ]
  },
  {
   "cell_type": "code",
   "execution_count": 9,
   "metadata": {},
   "outputs": [
    {
     "data": {
      "text/plain": [
       "[0, 0, 0, 0, 0, 0, 0, 0, 0, 0]"
      ]
     },
     "execution_count": 9,
     "metadata": {},
     "output_type": "execute_result"
    }
   ],
   "source": [
    "results[:10]"
   ]
  },
  {
   "cell_type": "code",
   "execution_count": 15,
   "metadata": {},
   "outputs": [
    {
     "data": {
      "text/plain": [
       "['郎老', '族老']"
      ]
     },
     "execution_count": 15,
     "metadata": {},
     "output_type": "execute_result"
    }
   ],
   "source": [
    "affixoids.query(\"老\")[1].example"
   ]
  },
  {
   "cell_type": "code",
   "execution_count": 10,
   "metadata": {},
   "outputs": [
    {
     "ename": "KeyError",
     "evalue": "'老鼠'",
     "output_type": "error",
     "traceback": [
      "\u001b[1;31m---------------------------------------------------------------------------\u001b[0m",
      "\u001b[1;31mKeyError\u001b[0m                                  Traceback (most recent call last)",
      "\u001b[1;32m<ipython-input-10-c3eeb431edc6>\u001b[0m in \u001b[0;36m<module>\u001b[1;34m\u001b[0m\n\u001b[1;32m----> 1\u001b[1;33m \u001b[0maffixoids\u001b[0m\u001b[1;33m.\u001b[0m\u001b[0mexample_index\u001b[0m\u001b[1;33m[\u001b[0m\u001b[1;34m\"老鼠\"\u001b[0m\u001b[1;33m]\u001b[0m\u001b[1;33m\u001b[0m\u001b[1;33m\u001b[0m\u001b[0m\n\u001b[0m",
      "\u001b[1;31mKeyError\u001b[0m: '老鼠'"
     ]
    }
   ],
   "source": [
    "affixoids.example_index[\"老鼠\"]"
   ]
  },
  {
   "cell_type": "code",
   "execution_count": 52,
   "metadata": {},
   "outputs": [
    {
     "data": {
      "text/plain": [
       "[('prefix', '風力'),\n",
       " ('prefix', '風化'),\n",
       " ('prefix', '風火'),\n",
       " ('prefix', '風帆'),\n",
       " ('prefix', '風吹'),\n",
       " ('prefix', '風沙'),\n",
       " ('prefix', '風谷'),\n",
       " ('prefix', '風兒'),\n",
       " ('prefix', '風味兒'),\n",
       " ('prefix', '風阻'),\n",
       " ('prefix', '風洞'),\n",
       " ('prefix', '風習'),\n",
       " ('prefix', '風雪'),\n",
       " ('prefix', '風場'),\n",
       " ('prefix', '風筒'),\n",
       " ('prefix', '風評'),\n",
       " ('prefix', '風管'),\n",
       " ('prefix', '風嘯'),\n",
       " ('prefix', '風標'),\n",
       " ('prefix', '風箱'),\n",
       " ('prefix', '風險'),\n",
       " ('prefix', '風雨聲'),\n",
       " ('prefix', '風笛聲')]"
      ]
     },
     "execution_count": 52,
     "metadata": {},
     "output_type": "execute_result"
    }
   ],
   "source": [
    "affixoids.query(\"風\", \"prefix\")[0].example_words"
   ]
  },
  {
   "cell_type": "code",
   "execution_count": 51,
   "metadata": {},
   "outputs": [
    {
     "data": {
      "text/plain": [
       "[('VR', '敲入'),\n",
       " ('VR', '敲成'),\n",
       " ('VR', '敲死'),\n",
       " ('VR', '敲到'),\n",
       " ('VR', '敲昏'),\n",
       " ('VR', '敲進'),\n",
       " ('VR', '敲緊'),\n",
       " ('VR', '敲醒'),\n",
       " ('VR', '敲斷'),\n",
       " ('VR', '敲壞'),\n",
       " ('VR', '敲響'),\n",
       " ('VO', '敲桿'),\n",
       " ('VO', '敲敲門'),\n",
       " ('VV', '敲叩'),\n",
       " ('VV', '敲打出'),\n",
       " ('VV', '敲打進')]"
      ]
     },
     "execution_count": 51,
     "metadata": {},
     "output_type": "execute_result"
    }
   ],
   "source": [
    "affixoids.query(\"敲\", \"start-root\")[0].example_words"
   ]
  },
  {
   "cell_type": "code",
   "execution_count": 45,
   "metadata": {},
   "outputs": [
    {
     "data": {
      "text/plain": [
       "[(1, 'a'), (1, 'b')]"
      ]
     },
     "execution_count": 45,
     "metadata": {},
     "output_type": "execute_result"
    }
   ],
   "source": [
    "from itertools import cycle\n",
    "list(zip(cycle([1]), [\"a\", \"b\"]))"
   ]
  },
  {
   "cell_type": "code",
   "execution_count": null,
   "metadata": {},
   "outputs": [],
   "source": []
  }
 ],
 "metadata": {
  "kernelspec": {
   "display_name": "Python 3",
   "language": "python",
   "name": "python3"
  },
  "language_info": {
   "codemirror_mode": {
    "name": "ipython",
    "version": 3
   },
   "file_extension": ".py",
   "mimetype": "text/x-python",
   "name": "python",
   "nbconvert_exporter": "python",
   "pygments_lexer": "ipython3",
   "version": "3.8.2"
  }
 },
 "nbformat": 4,
 "nbformat_minor": 4
}
