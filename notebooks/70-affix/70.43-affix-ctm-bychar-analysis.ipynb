{
 "cells": [
  {
   "cell_type": "code",
   "execution_count": 44,
   "metadata": {},
   "outputs": [
    {
     "name": "stdout",
     "output_type": "stream",
     "text": [
      "The autoreload extension is already loaded. To reload it, use:\n",
      "  %reload_ext autoreload\n"
     ]
    }
   ],
   "source": [
    "%load_ext autoreload\n",
    "%autoreload 2"
   ]
  },
  {
   "cell_type": "code",
   "execution_count": 45,
   "metadata": {},
   "outputs": [],
   "source": [
    "import pickle\n",
    "import pandas as pd\n",
    "import numpy as np\n",
    "import matplotlib.pyplot as plt\n",
    "from mesh_import import mesh\n",
    "import mesh.affix as affix\n",
    "from mesh.affix import CkipAffixoids\n",
    "from mesh.affix import AffixoidAnalyzer, ByCharAnalyzer\n",
    "from mesh.affix import AffixoidReference\n",
    "from mesh.affix import ctm_analysis"
   ]
  },
  {
   "cell_type": "code",
   "execution_count": 46,
   "metadata": {},
   "outputs": [],
   "source": [
    "ref = AffixoidReference()"
   ]
  },
  {
   "cell_type": "code",
   "execution_count": 47,
   "metadata": {},
   "outputs": [
    {
     "data": {
      "text/plain": [
       "Counter({'可': 5,\n",
       "         '好': 2,\n",
       "         '難': 1,\n",
       "         '準': 5,\n",
       "         '類': 1,\n",
       "         '亞': 3,\n",
       "         '次': 3,\n",
       "         '超': 4,\n",
       "         '半': 4,\n",
       "         '單': 4,\n",
       "         '多': 5,\n",
       "         '部': 1,\n",
       "         '天': 1,\n",
       "         '非': 6,\n",
       "         '反': 6,\n",
       "         '自': 2,\n",
       "         '前': 2,\n",
       "         '代': 1,\n",
       "         '二': 1,\n",
       "         '以': 1,\n",
       "         '不': 3,\n",
       "         '泛': 2,\n",
       "         '偽': 3,\n",
       "         '無': 3,\n",
       "         '親': 2,\n",
       "         '分': 1,\n",
       "         '總': 2,\n",
       "         '誰': 1,\n",
       "         '高': 2,\n",
       "         '性': 1,\n",
       "         '軟': 2,\n",
       "         '核': 1,\n",
       "         '全': 2,\n",
       "         '打': 1,\n",
       "         '大': 2,\n",
       "         '累': 1,\n",
       "         '小': 1,\n",
       "         '有': 1,\n",
       "         '制': 1})"
      ]
     },
     "execution_count": 47,
     "metadata": {},
     "output_type": "execute_result"
    }
   ],
   "source": [
    "ref.get_prefix_nominations()"
   ]
  },
  {
   "cell_type": "code",
   "execution_count": 21,
   "metadata": {},
   "outputs": [],
   "source": [
    "affix_dir = mesh.get_data_dir() / \"affix\"\n",
    "charloc_frame = pd.read_csv(affix_dir/\"bychar_affixoid_table.csv\", index_col=0)"
   ]
  },
  {
   "cell_type": "markdown",
   "metadata": {},
   "source": [
    "## Charloc coverage over reference"
   ]
  },
  {
   "cell_type": "code",
   "execution_count": 48,
   "metadata": {},
   "outputs": [
    {
     "name": "stdout",
     "output_type": "stream",
     "text": [
      "There is 39 prefixes in reference, and 37 are analyzed; \n",
      "175 suffixes in reference, and 139 are analyzed.\n"
     ]
    }
   ],
   "source": [
    "prefixes_charloc = set(charloc_frame.loc[charloc_frame.affix_type==\"start\",:].affixoid.str.replace(\"_\", \"\"))\n",
    "suffixes_charloc = set(charloc_frame.loc[charloc_frame.affix_type==\"end\",:].affixoid.str.replace(\"_\", \"\"))\n",
    "print(\"There is {n_ref_prefix} prefixes in reference, and {n_in_charloc_prefix} are analyzed; \\n\"\n",
    "      \"{n_ref_suffix} suffixes in reference, and {n_in_charloc_suffix} are analyzed.\".format(\n",
    "    n_ref_prefix=len(ref.get_prefixes()),\n",
    "    n_in_charloc_prefix=sum([(x in prefixes_charloc) for x in ref.get_prefixes()]),\n",
    "    n_ref_suffix=len(ref.get_suffixes()),\n",
    "    n_in_charloc_suffix=sum([(x in suffixes_charloc) for x in ref.get_suffixes()])\n",
    "))\n"
   ]
  },
  {
   "cell_type": "markdown",
   "metadata": {},
   "source": [
    "## Merge affixoid_table with Ref"
   ]
  },
  {
   "cell_type": "code",
   "execution_count": 49,
   "metadata": {},
   "outputs": [],
   "source": [
    "charloc_frame = pd.read_csv(affix_dir/\"bychar_affixoid_table.csv\", index_col=0)\n",
    "charloc_frame[\"is_in_ref\"] = False\n",
    "ref_prefixes = ref.get_prefixes()\n",
    "ref_suffixes = ref.get_suffixes()\n",
    "for ridx, row in charloc_frame.iterrows():\n",
    "    position = row[\"affix_type\"]\n",
    "    affixoid = row[\"affixoid\"]\n",
    "    aff_char = affixoid.replace(\"_\", \"\")\n",
    "    if position == \"start\":\n",
    "        charloc_frame.loc[ridx, \"is_in_ref\"] = aff_char in ref_prefixes\n",
    "    else:\n",
    "        charloc_frame.loc[ridx, \"is_in_ref\"] = aff_char in ref_suffixes\n",
    "        "
   ]
  },
  {
   "cell_type": "code",
   "execution_count": 50,
   "metadata": {},
   "outputs": [],
   "source": [
    "charloc_frame.to_csv(affix_dir/\"bychar_affixoid_table_with_ref.csv\")"
   ]
  },
  {
   "cell_type": "code",
   "execution_count": null,
   "metadata": {},
   "outputs": [],
   "source": []
  }
 ],
 "metadata": {
  "kernelspec": {
   "display_name": "Python 3",
   "language": "python",
   "name": "python3"
  },
  "language_info": {
   "codemirror_mode": {
    "name": "ipython",
    "version": 3
   },
   "file_extension": ".py",
   "mimetype": "text/x-python",
   "name": "python",
   "nbconvert_exporter": "python",
   "pygments_lexer": "ipython3",
   "version": "3.8.2"
  }
 },
 "nbformat": 4,
 "nbformat_minor": 4
}
