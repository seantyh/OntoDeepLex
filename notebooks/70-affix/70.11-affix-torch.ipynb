{
 "cells": [
  {
   "cell_type": "code",
   "execution_count": 50,
   "metadata": {},
   "outputs": [],
   "source": [
    "%load_ext autoreload\n",
    "%autoreload 2"
   ]
  },
  {
   "cell_type": "code",
   "execution_count": 51,
   "metadata": {},
   "outputs": [],
   "source": [
    "import pickle\n",
    "import pandas as pd\n",
    "import numpy as np\n",
    "from mesh_import import mesh"
   ]
  },
  {
   "cell_type": "code",
   "execution_count": 3,
   "metadata": {},
   "outputs": [],
   "source": [
    "bert = mesh.bert.BertService()"
   ]
  },
  {
   "cell_type": "code",
   "execution_count": 4,
   "metadata": {},
   "outputs": [],
   "source": [
    "tokenizer = bert.tokenizer"
   ]
  },
  {
   "cell_type": "code",
   "execution_count": 6,
   "metadata": {},
   "outputs": [
    {
     "data": {
      "text/plain": [
       "<mesh.tensor_utils._BertService at 0x1d23f59c910>"
      ]
     },
     "execution_count": 6,
     "metadata": {},
     "output_type": "execute_result"
    }
   ],
   "source": [
    "bert.instance"
   ]
  },
  {
   "cell_type": "code",
   "execution_count": 11,
   "metadata": {},
   "outputs": [
    {
     "data": {
      "text/plain": [
       "torch.Size([2, 9, 768])"
      ]
     },
     "execution_count": 11,
     "metadata": {},
     "output_type": "execute_result"
    }
   ],
   "source": [
    "tensor[0].shape"
   ]
  },
  {
   "cell_type": "code",
   "execution_count": 12,
   "metadata": {},
   "outputs": [
    {
     "data": {
      "text/plain": [
       "{'input_ids': [[101, 4376, 6691, 5952, 4460, 2253, 4388, 2146, 102], [101, 3762, 2149, 5817, 3191, 3460, 102, 0, 0]], 'attention_mask': [[1, 1, 1, 1, 1, 1, 1, 1, 1], [1, 1, 1, 1, 1, 1, 1, 0, 0]]}"
      ]
     },
     "execution_count": 12,
     "metadata": {},
     "output_type": "execute_result"
    }
   ],
   "source": [
    "enc_data"
   ]
  },
  {
   "cell_type": "code",
   "execution_count": 1,
   "metadata": {},
   "outputs": [],
   "source": [
    "import torch"
   ]
  },
  {
   "cell_type": "code",
   "execution_count": 4,
   "metadata": {},
   "outputs": [],
   "source": [
    "from transformers import DistilBertModel, DistilBertConfig, DistilBertTokenizer\n",
    "from transformers import DistilBertForMaskedLM, DistilBertConfig"
   ]
  },
  {
   "cell_type": "code",
   "execution_count": 5,
   "metadata": {},
   "outputs": [
    {
     "data": {
      "text/plain": [
       "[101, 3976, 2080, 5817, 7761, 102]"
      ]
     },
     "execution_count": 5,
     "metadata": {},
     "output_type": "execute_result"
    }
   ],
   "source": [
    "model_name = \"distilbert-base-multilingual-cased\"\n",
    "tokenizer = DistilBertTokenizer.from_pretrained(model_name)\n",
    "tokenizer.encode(\"我不知道\")"
   ]
  },
  {
   "cell_type": "code",
   "execution_count": 6,
   "metadata": {},
   "outputs": [],
   "source": [
    "config = DistilBertConfig.from_pretrained(model_name)"
   ]
  },
  {
   "cell_type": "code",
   "execution_count": 7,
   "metadata": {},
   "outputs": [],
   "source": [
    "config.output_attentions = True"
   ]
  },
  {
   "cell_type": "code",
   "execution_count": 8,
   "metadata": {},
   "outputs": [],
   "source": [
    "mlm = DistilBertForMaskedLM.from_pretrained(model_name, config=config)"
   ]
  },
  {
   "cell_type": "code",
   "execution_count": 9,
   "metadata": {},
   "outputs": [],
   "source": [
    "ids1 = torch.tensor(tokenizer.encode(\"老師的椅子\")).unsqueeze(0)"
   ]
  },
  {
   "cell_type": "code",
   "execution_count": 10,
   "metadata": {},
   "outputs": [
    {
     "data": {
      "text/plain": [
       "tensor([[ 101, 6455, 3618, 5718, 4647, 3350,  102]])"
      ]
     },
     "execution_count": 10,
     "metadata": {},
     "output_type": "execute_result"
    }
   ],
   "source": [
    "ids1"
   ]
  },
  {
   "cell_type": "code",
   "execution_count": null,
   "metadata": {},
   "outputs": [],
   "source": [
    "from matplotlib import pyplot as plt\n",
    "from itertools import chain"
   ]
  },
  {
   "cell_type": "code",
   "execution_count": 36,
   "metadata": {},
   "outputs": [
    {
     "name": "stdout",
     "output_type": "stream",
     "text": [
      "., ) - 。\n",
      "老 教 師 小 大\n",
      "師 师 家 老 者\n",
      "的 們 ， 這 和\n",
      "椅 桌 凳 車 兒\n",
      "子 椅 車 頭 孩\n"
     ]
    }
   ],
   "source": [
    "with torch.no_grad():\n",
    "    predictions = mlm(ids1)\n",
    "    \n",
    "predictions[0].shape\n",
    "indices = torch.topk(predictions[0], 5, axis=2)[1].squeeze().numpy()\n",
    "for i in range(indices.shape[1]+1):\n",
    "    print(tokenizer.decode([x for x in indices[i]]))"
   ]
  },
  {
   "cell_type": "code",
   "execution_count": 99,
   "metadata": {},
   "outputs": [
    {
     "name": "stdout",
     "output_type": "stream",
     "text": [
      ".(6.36) ,(5.37) )(5.11) -(4.80) 。(4.58) \n",
      "漂(18.42) 亮(10.27) 光(8.59) 閃(8.17) 天(8.09) \n",
      "亮(21.37) 樂(11.47) 光(9.95) 快(9.46) 星(9.46) \n",
      "快(20.11) 歡(10.93) 的(10.66) 愛(10.55) 樂(10.12) \n",
      "樂(21.66) 亮(13.54) 乐(12.16) 愛(11.76) 快(11.62) \n",
      "的(20.16) 小(10.98) 這(10.93) 個(10.92) 是(10.71) \n",
      "小(22.39) 大(12.97) 孩(12.90) 女(11.84) 兒(11.52) \n",
      "孩(22.01) 兒(13.20) 小(11.54) 們(10.47) 子(9.75) \n",
      "。(8.41) 小(8.14) 的(7.83) 是(6.92) 孩(6.76) \n"
     ]
    }
   ],
   "source": [
    "ids2 = torch.tensor(tokenizer.encode(\"漂亮快樂的小孩\")).unsqueeze(0)\n",
    "with torch.no_grad():\n",
    "    predictions = mlm(ids2)\n",
    "predictions[0].shape\n",
    "\n",
    "prob = F.softmax(predictions[0], dim=2)\n",
    "logits = predictions[0]\n",
    "prob_k, ind_k = torch.topk(logits, 5, axis=2)\n",
    "prob_k = prob_k.squeeze().numpy()\n",
    "ind_k = ind_k.squeeze().numpy()\n",
    "for i in range(ind_k.shape[0]):\n",
    "    for idx, p in zip(ind_k[i], prob_k[i]):\n",
    "        # print(tokenizer.decode(int(idx)), p)\n",
    "        print(\"%s(%.2f)\" % (tokenizer.decode(int(idx)), p), end=' ')\n",
    "    print()"
   ]
  },
  {
   "cell_type": "code",
   "execution_count": 37,
   "metadata": {},
   "outputs": [
    {
     "data": {
      "image/png": "[encoded data removed]",
      "text/plain": [
       "<Figure size 432x720 with 12 Axes>"
      ]
     },
     "metadata": {
      "needs_background": "light"
     },
     "output_type": "display_data"
    }
   ],
   "source": [
    "fig, axes = plt.subplots(4, 3, figsize=(6, 10))\n",
    "last_att = predictions[1][-1]\n",
    "h0 = last_att[0,1,:,:]\n",
    "for ax_i, ax in enumerate(chain.from_iterable(axes)):\n",
    "    ax.imshow(last_att[0,ax_i,:,:].detach().numpy(), cmap=\"hot\")\n",
    "    ax.set_title(f\"Head{ax_i}\")    "
   ]
  },
  {
   "cell_type": "code",
   "execution_count": 63,
   "metadata": {},
   "outputs": [
    {
     "data": {
      "text/plain": [
       "'<UNK>'"
      ]
     },
     "execution_count": 63,
     "metadata": {},
     "output_type": "execute_result"
    }
   ],
   "source": [
    "tokenizer.vocab.get(\"xcv\", \"<UNK>\")"
   ]
  },
  {
   "cell_type": "code",
   "execution_count": 60,
   "metadata": {},
   "outputs": [
    {
     "data": {
      "text/plain": [
       "torch.Size([1, 7, 4815])"
      ]
     },
     "execution_count": 60,
     "metadata": {},
     "output_type": "execute_result"
    }
   ],
   "source": [
    "prob_sub.shape"
   ]
  },
  {
   "cell_type": "code",
   "execution_count": 40,
   "metadata": {},
   "outputs": [
    {
     "data": {
      "text/plain": [
       "119547"
      ]
     },
     "execution_count": 40,
     "metadata": {},
     "output_type": "execute_result"
    }
   ],
   "source": [
    "len(tokenizer.vocab)"
   ]
  },
  {
   "cell_type": "code",
   "execution_count": 52,
   "metadata": {},
   "outputs": [],
   "source": [
    "vocab = mesh.deep.VocabZhTw()"
   ]
  },
  {
   "cell_type": "code",
   "execution_count": 71,
   "metadata": {},
   "outputs": [],
   "source": [
    "tgt_idx, tw_idx = vocab.get_mapping(tokenizer.vocab)"
   ]
  },
  {
   "cell_type": "code",
   "execution_count": 54,
   "metadata": {},
   "outputs": [
    {
     "data": {
      "text/plain": [
       "4815"
      ]
     },
     "execution_count": 54,
     "metadata": {},
     "output_type": "execute_result"
    }
   ],
   "source": [
    "len(vocab_map)"
   ]
  },
  {
   "cell_type": "code",
   "execution_count": null,
   "metadata": {},
   "outputs": [],
   "source": []
  }
 ],
 "metadata": {
  "kernelspec": {
   "display_name": "Python 3",
   "language": "python",
   "name": "python3"
  },
  "language_info": {
   "codemirror_mode": {
    "name": "ipython",
    "version": 3
   },
   "file_extension": ".py",
   "mimetype": "text/x-python",
   "name": "python",
   "nbconvert_exporter": "python",
   "pygments_lexer": "ipython3",
   "version": "3.8.2"
  }
 },
 "nbformat": 4,
 "nbformat_minor": 4
}
