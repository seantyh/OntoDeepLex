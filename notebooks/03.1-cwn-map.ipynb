{
 "cells": [
  {
   "cell_type": "code",
   "execution_count": 1,
   "metadata": {},
   "outputs": [],
   "source": [
    "%load_ext autoreload\n",
    "%autoreload 2\n",
    "import sys\n",
    "sys.path.append(\"../src\")"
   ]
  },
  {
   "cell_type": "code",
   "execution_count": 3,
   "metadata": {},
   "outputs": [],
   "source": [
    "import mesh\n",
    "import pandas as pd"
   ]
  },
  {
   "cell_type": "code",
   "execution_count": 21,
   "metadata": {},
   "outputs": [],
   "source": [
    "sense_dir = mesh.get_data_dir()/\"sense_data\"\n",
    "mesh.ensure_dir(sense_dir)\n",
    "sense_map_frame = pd.read_csv(sense_dir/\"sense_map_bn_pwn.csv\", index_col=0)"
   ]
  },
  {
   "cell_type": "code",
   "execution_count": 30,
   "metadata": {},
   "outputs": [
    {
     "data": {
      "text/plain": [
       "[<CwnSense[06785101](聊): 姓。>]"
      ]
     },
     "execution_count": 30,
     "metadata": {},
     "output_type": "execute_result"
    }
   ],
   "source": [
    "from CwnGraph import CwnBase\n",
    "cwn = CwnBase()\n",
    "cwn.find_lemma(\"^聊$\")[2].senses"
   ]
  },
  {
   "cell_type": "code",
   "execution_count": 76,
   "metadata": {},
   "outputs": [],
   "source": [
    "TARGETS = \"^[說談講聊]$\"\n",
    "sub_frame = sense_map_frame.loc[sense_map_frame.word.str.match(TARGETS), :]"
   ]
  },
  {
   "cell_type": "code",
   "execution_count": 77,
   "metadata": {},
   "outputs": [],
   "source": [
    "sub_frame = sub_frame.groupby(\"pwn_synset\").first().sort_values(\"word\").reset_index()"
   ]
  },
  {
   "cell_type": "code",
   "execution_count": 78,
   "metadata": {},
   "outputs": [],
   "source": [
    "from nltk.corpus import wordnet as wn\n",
    "def get_definition(syn_id):\n",
    "    syn_pos = syn_id[-1]\n",
    "    syn_num = syn_id[:-1]\n",
    "    return wn.synset_from_pos_and_offset(syn_pos, int(syn_num)).definition()\n",
    "\n",
    "def get_examples(syn_id):\n",
    "    syn_pos = syn_id[-1]\n",
    "    syn_num = syn_id[:-1]\n",
    "    exs = wn.synset_from_pos_and_offset(syn_pos, int(syn_num)).examples()\n",
    "    return \"\\n\".join(exs)"
   ]
  },
  {
   "cell_type": "code",
   "execution_count": 82,
   "metadata": {},
   "outputs": [],
   "source": [
    "sub_frame = sub_frame.assign(\n",
    "    definition=lambda df: [get_definition(x) for x in df.pwn_synset],\n",
    "    examples=lambda df: [get_examples(x) for x in df.pwn_synset]\n",
    ")"
   ]
  },
  {
   "cell_type": "code",
   "execution_count": 105,
   "metadata": {},
   "outputs": [],
   "source": [
    "sub_frame.index.name=\"serial\"\n",
    "sub_frame.to_csv(sense_dir/\"pwn_definitions_about_talk.csv\", encoding=\"UTF-8\")"
   ]
  },
  {
   "cell_type": "markdown",
   "metadata": {},
   "source": [
    "# CWN Senses"
   ]
  },
  {
   "cell_type": "code",
   "execution_count": 86,
   "metadata": {},
   "outputs": [],
   "source": [
    "from itertools import chain\n",
    "def find_cwn_senses(lemma):\n",
    "    try:\n",
    "        sense_iter = (x.senses for x in cwn.find_lemma(f\"^{lemma}$\"))\n",
    "        sense_iter = chain.from_iterable(sense_iter)\n",
    "        return list(sense_iter)\n",
    "    except Exception as ex:\n",
    "        print(lemma)\n",
    "        print(ex)\n",
    "        return []"
   ]
  },
  {
   "cell_type": "code",
   "execution_count": 98,
   "metadata": {},
   "outputs": [],
   "source": [
    "data = []\n",
    "for w in \"說談講\":\n",
    "    senses = find_cwn_senses(w)\n",
    "    for sense_x in senses:\n",
    "        data.append(dict(\n",
    "            word = w,\n",
    "            sense_pos = sense_x.pos,\n",
    "            sense_id = sense_x.id,\n",
    "            sense_def = sense_x.definition,\n",
    "            sense_examples = \"\\n\".join(sense_x.all_examples())\n",
    "        ))"
   ]
  },
  {
   "cell_type": "code",
   "execution_count": 99,
   "metadata": {},
   "outputs": [],
   "source": [
    "cwn_frame = pd.DataFrame.from_records(data)"
   ]
  },
  {
   "cell_type": "code",
   "execution_count": 102,
   "metadata": {},
   "outputs": [],
   "source": [
    "cwn_frame.index.name = \"serial\""
   ]
  },
  {
   "cell_type": "code",
   "execution_count": 103,
   "metadata": {},
   "outputs": [
    {
     "data": {
      "text/html": [
       "<div>\n",
       "<style scoped>\n",
       "    .dataframe tbody tr th:only-of-type {\n",
       "        vertical-align: middle;\n",
       "    }\n",
       "\n",
       "    .dataframe tbody tr th {\n",
       "        vertical-align: top;\n",
       "    }\n",
       "\n",
       "    .dataframe thead th {\n",
       "        text-align: right;\n",
       "    }\n",
       "</style>\n",
       "<table border=\"1\" class=\"dataframe\">\n",
       "  <thead>\n",
       "    <tr style=\"text-align: right;\">\n",
       "      <th></th>\n",
       "      <th>word</th>\n",
       "      <th>sense_pos</th>\n",
       "      <th>sense_id</th>\n",
       "      <th>sense_def</th>\n",
       "      <th>sense_examples</th>\n",
       "    </tr>\n",
       "    <tr>\n",
       "      <th>serial</th>\n",
       "      <th></th>\n",
       "      <th></th>\n",
       "      <th></th>\n",
       "      <th></th>\n",
       "      <th></th>\n",
       "    </tr>\n",
       "  </thead>\n",
       "  <tbody>\n",
       "    <tr>\n",
       "      <th>0</th>\n",
       "      <td>說</td>\n",
       "      <td>VE</td>\n",
       "      <td>05212401</td>\n",
       "      <td>以口語媒介傳達訊息。</td>\n",
       "      <td>她&lt;說&gt;那麼你自由自在的飛吧！\\n我&lt;說&gt;：「把傘打開吧。」她才不甘心地開了傘。\\n為了我們...</td>\n",
       "    </tr>\n",
       "    <tr>\n",
       "      <th>1</th>\n",
       "      <td>說</td>\n",
       "      <td>VE</td>\n",
       "      <td>05212402</td>\n",
       "      <td>以文字媒介引述或陳述訊息。</td>\n",
       "      <td>埃及中東新聞社引述穆巴拉克的話&lt;說&gt;：我們現在不會宣布新的停火方案。\\n曾經有篇報導&lt;說&gt;，...</td>\n",
       "    </tr>\n",
       "    <tr>\n",
       "      <th>2</th>\n",
       "      <td>說</td>\n",
       "      <td>VC</td>\n",
       "      <td>05212403</td>\n",
       "      <td>使用後述語言。</td>\n",
       "      <td>您的中國話&lt;說&gt;得不錯嘛！\\n我以後要跟他們&lt;說&gt;中國話，不&lt;說&gt;英文。\\n他頗具語言天才，...</td>\n",
       "    </tr>\n",
       "    <tr>\n",
       "      <th>3</th>\n",
       "      <td>說</td>\n",
       "      <td>VE</td>\n",
       "      <td>05212404</td>\n",
       "      <td>以前述對象作為談論的觀點。</td>\n",
       "      <td>在赫塞的創作歷史上來&lt;說&gt;，這部重要的作品算是前期邁入後期中的轉型之作。\\n身為整個臺灣活動...</td>\n",
       "    </tr>\n",
       "    <tr>\n",
       "      <th>4</th>\n",
       "      <td>說</td>\n",
       "      <td>VC</td>\n",
       "      <td>05212405</td>\n",
       "      <td>指涉後述對象。</td>\n",
       "      <td>車爾庫笑道：「老蘇，你的兒子很有眼光啊！」蘇魯克道：「你&lt;說&gt;蘇普麼？」\\n第十三課，賢德的...</td>\n",
       "    </tr>\n",
       "  </tbody>\n",
       "</table>\n",
       "</div>"
      ],
      "text/plain": [
       "       word sense_pos  sense_id      sense_def  \\\n",
       "serial                                           \n",
       "0         說        VE  05212401     以口語媒介傳達訊息。   \n",
       "1         說        VE  05212402  以文字媒介引述或陳述訊息。   \n",
       "2         說        VC  05212403        使用後述語言。   \n",
       "3         說        VE  05212404  以前述對象作為談論的觀點。   \n",
       "4         說        VC  05212405        指涉後述對象。   \n",
       "\n",
       "                                           sense_examples  \n",
       "serial                                                     \n",
       "0       她<說>那麼你自由自在的飛吧！\\n我<說>：「把傘打開吧。」她才不甘心地開了傘。\\n為了我們...  \n",
       "1       埃及中東新聞社引述穆巴拉克的話<說>：我們現在不會宣布新的停火方案。\\n曾經有篇報導<說>，...  \n",
       "2       您的中國話<說>得不錯嘛！\\n我以後要跟他們<說>中國話，不<說>英文。\\n他頗具語言天才，...  \n",
       "3       在赫塞的創作歷史上來<說>，這部重要的作品算是前期邁入後期中的轉型之作。\\n身為整個臺灣活動...  \n",
       "4       車爾庫笑道：「老蘇，你的兒子很有眼光啊！」蘇魯克道：「你<說>蘇普麼？」\\n第十三課，賢德的...  "
      ]
     },
     "execution_count": 103,
     "metadata": {},
     "output_type": "execute_result"
    }
   ],
   "source": [
    "cwn_frame.head()"
   ]
  },
  {
   "cell_type": "code",
   "execution_count": 104,
   "metadata": {},
   "outputs": [],
   "source": [
    "cwn_frame.to_csv(sense_dir/\"cwn_senses_about_talk.csv\", encoding=\"UTF-8\")"
   ]
  },
  {
   "cell_type": "code",
   "execution_count": null,
   "metadata": {},
   "outputs": [],
   "source": []
  }
 ],
 "metadata": {
  "kernelspec": {
   "display_name": "Python 3",
   "language": "python",
   "name": "python3"
  },
  "language_info": {
   "codemirror_mode": {
    "name": "ipython",
    "version": 3
   },
   "file_extension": ".py",
   "mimetype": "text/x-python",
   "name": "python",
   "nbconvert_exporter": "python",
   "pygments_lexer": "ipython3",
   "version": "3.8.2"
  }
 },
 "nbformat": 4,
 "nbformat_minor": 4
}
