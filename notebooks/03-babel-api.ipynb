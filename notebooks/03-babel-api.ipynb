{
 "cells": [
  {
   "cell_type": "code",
   "execution_count": 1,
   "metadata": {},
   "outputs": [],
   "source": [
    "%load_ext autoreload\n",
    "%autoreload 2\n",
    "import sys\n",
    "sys.path.append(\"../src\")"
   ]
  },
  {
   "cell_type": "code",
   "execution_count": 2,
   "metadata": {},
   "outputs": [
    {
     "name": "stderr",
     "output_type": "stream",
     "text": [
      "<ipython-input-2-1f5aa210c2a3>:2: TqdmExperimentalWarning: Using `tqdm.autonotebook.tqdm` in notebook mode. Use `tqdm.tqdm` instead to force console mode (e.g. in jupyter console)\n",
      "  from tqdm.autonotebook import tqdm\n"
     ]
    }
   ],
   "source": [
    "import mesh\n",
    "from tqdm.autonotebook import tqdm\n",
    "from CwnGraph import CwnBase\n",
    "import json, pickle"
   ]
  },
  {
   "cell_type": "code",
   "execution_count": 3,
   "metadata": {},
   "outputs": [],
   "source": [
    "import requests"
   ]
  },
  {
   "cell_type": "code",
   "execution_count": 4,
   "metadata": {},
   "outputs": [],
   "source": [
    "with (mesh.get_data_dir()/\"babelnet_key.txt\").open(\"r\") as fin:\n",
    "    bn_key = fin.read().strip()\n",
    "bn_url = \"https://babelnet.io/v5/\""
   ]
  },
  {
   "cell_type": "code",
   "execution_count": 5,
   "metadata": {},
   "outputs": [
    {
     "data": {
      "text/plain": [
       "'baba90e0-0321-47de-a4e3-b1ae08aea79a'"
      ]
     },
     "execution_count": 5,
     "metadata": {},
     "output_type": "execute_result"
    }
   ],
   "source": [
    "bn_key"
   ]
  },
  {
   "cell_type": "code",
   "execution_count": 6,
   "metadata": {},
   "outputs": [],
   "source": [
    "bnapi = mesh.BabelNetAPI()"
   ]
  },
  {
   "cell_type": "code",
   "execution_count": 7,
   "metadata": {},
   "outputs": [
    {
     "data": {
      "text/plain": [
       "'V4_0'"
      ]
     },
     "execution_count": 7,
     "metadata": {},
     "output_type": "execute_result"
    }
   ],
   "source": [
    "bnapi.get_version()"
   ]
  },
  {
   "cell_type": "code",
   "execution_count": 25,
   "metadata": {},
   "outputs": [],
   "source": [
    "cwn = CwnBase()"
   ]
  },
  {
   "cell_type": "code",
   "execution_count": 32,
   "metadata": {},
   "outputs": [],
   "source": [
    "lemmas = []\n",
    "for nid, ndata in cwn.V.items():\n",
    "    if ndata[\"node_type\"] == \"lemma\":        \n",
    "        lemmas.append(ndata[\"lemma\"])"
   ]
  },
  {
   "cell_type": "code",
   "execution_count": 25,
   "metadata": {},
   "outputs": [],
   "source": [
    "from itertools import chain\n",
    "def find_cwn_senses(lemma):\n",
    "    try:\n",
    "        sense_iter = (x.senses for x in cwn.find_lemma(f\"^{lemma}$\"))\n",
    "        sense_iter = chain.from_iterable(sense_iter)\n",
    "        return list(sense_iter)\n",
    "    except Exception as ex:\n",
    "        print(lemma)\n",
    "        print(ex)\n",
    "        return []"
   ]
  },
  {
   "cell_type": "code",
   "execution_count": 58,
   "metadata": {},
   "outputs": [
    {
     "data": {
      "application/vnd.jupyter.widget-view+json": {
       "model_id": "cd81bfd7a4144136863a16d5f400479c",
       "version_major": 2,
       "version_minor": 0
      },
      "text/plain": [
       "HBox(children=(FloatProgress(value=0.0, max=26550.0), HTML(value='')))"
      ]
     },
     "metadata": {},
     "output_type": "display_data"
    },
    {
     "name": "stdout",
     "output_type": "stream",
     "text": [
      "\n"
     ]
    }
   ],
   "source": [
    "target_lemmas = []\n",
    "for lemma_x in tqdm(set(lemmas)):\n",
    "    if not lemma_x:\n",
    "        continue    \n",
    "    try:        \n",
    "        sense_list = find_cwn_senses(lemma_x)        \n",
    "        if len(sense_list) > 2:\n",
    "            target_lemmas.append(lemma_x)\n",
    "    except Exception as ex:\n",
    "        print(ex)        "
   ]
  },
  {
   "cell_type": "code",
   "execution_count": 63,
   "metadata": {},
   "outputs": [],
   "source": [
    "target_lemma_path = mesh.get_data_dir()/\"bn_target_lemmas.txt\"\n",
    "with target_lemma_path.open(\"w\", encoding=\"UTF-8\") as fout:\n",
    "    for lemma in target_lemmas:\n",
    "        fout.write(lemma + \"\\n\")"
   ]
  },
  {
   "cell_type": "code",
   "execution_count": null,
   "metadata": {},
   "outputs": [],
   "source": [
    "target_lemma_path = mesh.get_data_dir()/\"bn_target_lemmas.txt\"\n",
    "with target_lemma_path.open(\"r\", encoding=\"UTF-8\") as fin:\n",
    "    taget_lemmas = fin.readlines()"
   ]
  },
  {
   "cell_type": "markdown",
   "metadata": {},
   "source": [
    "## Continue to retrieve data from BabelNet"
   ]
  },
  {
   "cell_type": "code",
   "execution_count": 8,
   "metadata": {},
   "outputs": [],
   "source": [
    "target_lemma_path = mesh.get_data_dir()/\"bn_target_lemmas.txt\"\n",
    "with target_lemma_path.open(\"r\", encoding=\"UTF-8\") as fin:\n",
    "    target_lemmas = [x.strip() for x in fin.readlines()]\n",
    "    \n",
    "bn_sense_path = mesh.get_data_dir()/\"bn_sense_data.pkl\"\n",
    "if bn_sense_path.exists():\n",
    "    with bn_sense_path.open(\"rb\") as fin:\n",
    "        sense_data = pickle.load(fin)\n",
    "else:\n",
    "    sense_data = {}"
   ]
  },
  {
   "cell_type": "code",
   "execution_count": 9,
   "metadata": {},
   "outputs": [
    {
     "data": {
      "text/plain": [
       "2848"
      ]
     },
     "execution_count": 9,
     "metadata": {},
     "output_type": "execute_result"
    }
   ],
   "source": [
    "len(sense_data)"
   ]
  },
  {
   "cell_type": "code",
   "execution_count": 10,
   "metadata": {},
   "outputs": [
    {
     "data": {
      "text/plain": [
       "'先發'"
      ]
     },
     "execution_count": 10,
     "metadata": {},
     "output_type": "execute_result"
    }
   ],
   "source": [
    "target_lemmas[0]"
   ]
  },
  {
   "cell_type": "code",
   "execution_count": 11,
   "metadata": {},
   "outputs": [
    {
     "data": {
      "application/vnd.jupyter.widget-view+json": {
       "model_id": "34160fd242a8459d84598195f1713864",
       "version_major": 2,
       "version_minor": 0
      },
      "text/plain": [
       "HBox(children=(FloatProgress(value=0.0, max=3396.0), HTML(value='')))"
      ]
     },
     "metadata": {},
     "output_type": "display_data"
    },
    {
     "name": "stdout",
     "output_type": "stream",
     "text": [
      "\n"
     ]
    }
   ],
   "source": [
    "quota = 900\n",
    "for lemma_x in tqdm(target_lemmas):\n",
    "    if quota == 0:\n",
    "        break\n",
    "    if lemma_x in sense_data:\n",
    "        continue\n",
    "    data = bnapi.get_senses(lemma_x)\n",
    "    if 'message' in data:        \n",
    "        print(data[\"message\"])\n",
    "        break\n",
    "    quota -= 1\n",
    "    sense_data[lemma_x] = data    "
   ]
  },
  {
   "cell_type": "code",
   "execution_count": 12,
   "metadata": {},
   "outputs": [
    {
     "data": {
      "text/plain": [
       "3396"
      ]
     },
     "execution_count": 12,
     "metadata": {},
     "output_type": "execute_result"
    }
   ],
   "source": [
    "len(sense_data)"
   ]
  },
  {
   "cell_type": "code",
   "execution_count": 13,
   "metadata": {},
   "outputs": [],
   "source": [
    "with bn_sense_path.open(\"wb\") as fout:\n",
    "    pickle.dump(sense_data, fout)"
   ]
  },
  {
   "cell_type": "code",
   "execution_count": 14,
   "metadata": {},
   "outputs": [],
   "source": [
    "s1 = list(sense_data.items())[1]"
   ]
  },
  {
   "cell_type": "code",
   "execution_count": 15,
   "metadata": {},
   "outputs": [],
   "source": [
    "to_deleted = []\n",
    "for lemma, senses in sense_data.items():\n",
    "    if 'message' in senses:\n",
    "        to_deleted.append(lemma)"
   ]
  },
  {
   "cell_type": "code",
   "execution_count": 16,
   "metadata": {},
   "outputs": [],
   "source": [
    "for lemma in to_deleted:\n",
    "    sense_data.pop(lemma)"
   ]
  },
  {
   "cell_type": "code",
   "execution_count": 17,
   "metadata": {},
   "outputs": [
    {
     "data": {
      "text/plain": [
       "3396"
      ]
     },
     "execution_count": 17,
     "metadata": {},
     "output_type": "execute_result"
    }
   ],
   "source": [
    "len(sense_data)"
   ]
  },
  {
   "cell_type": "code",
   "execution_count": 18,
   "metadata": {},
   "outputs": [],
   "source": [
    "wn_map = {}\n",
    "for lemma, senses in sense_data.items():    \n",
    "    if not senses:\n",
    "        continue\n",
    "    \n",
    "    wn_senses = filter(lambda x: x[\"type\"] == \"WordNetSense\", senses)    \n",
    "    slist = []\n",
    "    for s in wn_senses:\n",
    "        \n",
    "        p = s[\"properties\"]\n",
    "        slist.append((p.get(\"wordNetOffset\"), \n",
    "                     p.get(\"fullLemma\"), \n",
    "                     p.get(\"senseKey\"), p.get(\"pos\"), p.get(\"synsetID\").get(\"id\"), p.get(\"bKeySense\")))\n",
    "    wn_map[lemma] = slist"
   ]
  },
  {
   "cell_type": "code",
   "execution_count": 19,
   "metadata": {},
   "outputs": [
    {
     "name": "stdout",
     "output_type": "stream",
     "text": [
      "target_lemmas (>3 in CWN): 3396\n",
      "sense_data (requested from BN so far): 3396\n",
      "with WN senses: 2567\n"
     ]
    }
   ],
   "source": [
    "print(f\"target_lemmas (>3 in CWN): {len(target_lemmas)}\\n\"\n",
    "      f\"sense_data (requested from BN so far): {len(sense_data)}\\n\"\n",
    "      f\"with WN senses: {len(wn_map)}\")"
   ]
  },
  {
   "cell_type": "code",
   "execution_count": null,
   "metadata": {},
   "outputs": [],
   "source": []
  },
  {
   "cell_type": "markdown",
   "metadata": {},
   "source": [
    "## A word sense sample"
   ]
  },
  {
   "cell_type": "code",
   "execution_count": 20,
   "metadata": {},
   "outputs": [],
   "source": [
    "from nltk.corpus import wordnet as wn"
   ]
  },
  {
   "cell_type": "code",
   "execution_count": 21,
   "metadata": {},
   "outputs": [
    {
     "data": {
      "text/plain": [
       "[('02582615v',\n",
       "  'perpetrate',\n",
       "  'perpetrate%2:41:00::',\n",
       "  'VERB',\n",
       "  'bn:00085426v',\n",
       "  False),\n",
       " ('02582615v', 'commit', 'commit%2:41:00::', 'VERB', 'bn:00085426v', False),\n",
       " ('02582615v', 'pull', 'pull%2:41:00::', 'VERB', 'bn:00085426v', False),\n",
       " ('02582921v', 'make', 'make%2:41:13::', 'VERB', 'bn:00090561v', False)]"
      ]
     },
     "execution_count": 21,
     "metadata": {},
     "output_type": "execute_result"
    }
   ],
   "source": [
    "wn_map[\"犯\"]"
   ]
  },
  {
   "cell_type": "code",
   "execution_count": 22,
   "metadata": {},
   "outputs": [
    {
     "data": {
      "text/plain": [
       "'perform an act, usually with a negative connotation'"
      ]
     },
     "execution_count": 22,
     "metadata": {},
     "output_type": "execute_result"
    }
   ],
   "source": [
    "wn.synset_from_pos_and_offset(\"v\", 2582615).definition()"
   ]
  },
  {
   "cell_type": "code",
   "execution_count": 23,
   "metadata": {},
   "outputs": [
    {
     "data": {
      "text/plain": [
       "'carry out or commit'"
      ]
     },
     "execution_count": 23,
     "metadata": {},
     "output_type": "execute_result"
    }
   ],
   "source": [
    "wn.synset_from_pos_and_offset(\"v\", 2582921).definition()"
   ]
  },
  {
   "cell_type": "code",
   "execution_count": 26,
   "metadata": {},
   "outputs": [
    {
     "name": "stdout",
     "output_type": "stream",
     "text": [
      "犯\n",
      "name 'cwn' is not defined\n"
     ]
    },
    {
     "data": {
      "text/plain": [
       "[]"
      ]
     },
     "execution_count": 26,
     "metadata": {},
     "output_type": "execute_result"
    }
   ],
   "source": [
    "find_cwn_senses(\"犯\")"
   ]
  },
  {
   "cell_type": "markdown",
   "metadata": {},
   "source": [
    "## Make a dataframe"
   ]
  },
  {
   "cell_type": "code",
   "execution_count": 27,
   "metadata": {},
   "outputs": [],
   "source": [
    "import pandas as pd"
   ]
  },
  {
   "cell_type": "code",
   "execution_count": 28,
   "metadata": {},
   "outputs": [],
   "source": [
    "data = [(lemma, *map_entry) for lemma, sense_map in wn_map.items() for map_entry in sense_map]\n",
    "    "
   ]
  },
  {
   "cell_type": "code",
   "execution_count": 29,
   "metadata": {},
   "outputs": [],
   "source": [
    "sense_map_frame = pd.DataFrame.from_records(data)"
   ]
  },
  {
   "cell_type": "code",
   "execution_count": 30,
   "metadata": {},
   "outputs": [
    {
     "data": {
      "text/html": [
       "<div>\n",
       "<style scoped>\n",
       "    .dataframe tbody tr th:only-of-type {\n",
       "        vertical-align: middle;\n",
       "    }\n",
       "\n",
       "    .dataframe tbody tr th {\n",
       "        vertical-align: top;\n",
       "    }\n",
       "\n",
       "    .dataframe thead th {\n",
       "        text-align: right;\n",
       "    }\n",
       "</style>\n",
       "<table border=\"1\" class=\"dataframe\">\n",
       "  <thead>\n",
       "    <tr style=\"text-align: right;\">\n",
       "      <th></th>\n",
       "      <th>0</th>\n",
       "      <th>1</th>\n",
       "      <th>2</th>\n",
       "      <th>3</th>\n",
       "      <th>4</th>\n",
       "      <th>5</th>\n",
       "      <th>6</th>\n",
       "    </tr>\n",
       "  </thead>\n",
       "  <tbody>\n",
       "    <tr>\n",
       "      <th>0</th>\n",
       "      <td>犯</td>\n",
       "      <td>02582615v</td>\n",
       "      <td>perpetrate</td>\n",
       "      <td>perpetrate%2:41:00::</td>\n",
       "      <td>VERB</td>\n",
       "      <td>bn:00085426v</td>\n",
       "      <td>False</td>\n",
       "    </tr>\n",
       "    <tr>\n",
       "      <th>1</th>\n",
       "      <td>犯</td>\n",
       "      <td>02582615v</td>\n",
       "      <td>commit</td>\n",
       "      <td>commit%2:41:00::</td>\n",
       "      <td>VERB</td>\n",
       "      <td>bn:00085426v</td>\n",
       "      <td>False</td>\n",
       "    </tr>\n",
       "    <tr>\n",
       "      <th>2</th>\n",
       "      <td>犯</td>\n",
       "      <td>02582615v</td>\n",
       "      <td>pull</td>\n",
       "      <td>pull%2:41:00::</td>\n",
       "      <td>VERB</td>\n",
       "      <td>bn:00085426v</td>\n",
       "      <td>False</td>\n",
       "    </tr>\n",
       "    <tr>\n",
       "      <th>3</th>\n",
       "      <td>犯</td>\n",
       "      <td>02582921v</td>\n",
       "      <td>make</td>\n",
       "      <td>make%2:41:13::</td>\n",
       "      <td>VERB</td>\n",
       "      <td>bn:00090561v</td>\n",
       "      <td>False</td>\n",
       "    </tr>\n",
       "    <tr>\n",
       "      <th>4</th>\n",
       "      <td>淺</td>\n",
       "      <td>09433134n</td>\n",
       "      <td>shoal</td>\n",
       "      <td>shoal%1:17:01::</td>\n",
       "      <td>NOUN</td>\n",
       "      <td>bn:00070877n</td>\n",
       "      <td>False</td>\n",
       "    </tr>\n",
       "    <tr>\n",
       "      <th>...</th>\n",
       "      <td>...</td>\n",
       "      <td>...</td>\n",
       "      <td>...</td>\n",
       "      <td>...</td>\n",
       "      <td>...</td>\n",
       "      <td>...</td>\n",
       "      <td>...</td>\n",
       "    </tr>\n",
       "    <tr>\n",
       "      <th>17395</th>\n",
       "      <td>勉強</td>\n",
       "      <td>02566453a</td>\n",
       "      <td>reluctant</td>\n",
       "      <td>reluctant%5:00:00:unwilling:00</td>\n",
       "      <td>ADJ</td>\n",
       "      <td>bn:00106100a</td>\n",
       "      <td>False</td>\n",
       "    </tr>\n",
       "    <tr>\n",
       "      <th>17396</th>\n",
       "      <td>勉強</td>\n",
       "      <td>02566015a</td>\n",
       "      <td>unwilling</td>\n",
       "      <td>unwilling%3:00:00::</td>\n",
       "      <td>ADJ</td>\n",
       "      <td>bn:00113391a</td>\n",
       "      <td>False</td>\n",
       "    </tr>\n",
       "    <tr>\n",
       "      <th>17397</th>\n",
       "      <td>勉強</td>\n",
       "      <td>02563466a</td>\n",
       "      <td>bare</td>\n",
       "      <td>bare%5:00:00:narrow:02</td>\n",
       "      <td>ADJ</td>\n",
       "      <td>bn:00098052a</td>\n",
       "      <td>False</td>\n",
       "    </tr>\n",
       "    <tr>\n",
       "      <th>17398</th>\n",
       "      <td>勉強</td>\n",
       "      <td>02563466a</td>\n",
       "      <td>marginal</td>\n",
       "      <td>marginal%5:00:00:narrow:02</td>\n",
       "      <td>ADJ</td>\n",
       "      <td>bn:00098052a</td>\n",
       "      <td>False</td>\n",
       "    </tr>\n",
       "    <tr>\n",
       "      <th>17399</th>\n",
       "      <td>勉強</td>\n",
       "      <td>00351763r</td>\n",
       "      <td>grudgingly</td>\n",
       "      <td>grudgingly%4:02:00::</td>\n",
       "      <td>ADV</td>\n",
       "      <td>bn:00115561r</td>\n",
       "      <td>False</td>\n",
       "    </tr>\n",
       "  </tbody>\n",
       "</table>\n",
       "<p>17400 rows × 7 columns</p>\n",
       "</div>"
      ],
      "text/plain": [
       "        0          1           2                               3     4  \\\n",
       "0       犯  02582615v  perpetrate            perpetrate%2:41:00::  VERB   \n",
       "1       犯  02582615v      commit                commit%2:41:00::  VERB   \n",
       "2       犯  02582615v        pull                  pull%2:41:00::  VERB   \n",
       "3       犯  02582921v        make                  make%2:41:13::  VERB   \n",
       "4       淺  09433134n       shoal                 shoal%1:17:01::  NOUN   \n",
       "...    ..        ...         ...                             ...   ...   \n",
       "17395  勉強  02566453a   reluctant  reluctant%5:00:00:unwilling:00   ADJ   \n",
       "17396  勉強  02566015a   unwilling             unwilling%3:00:00::   ADJ   \n",
       "17397  勉強  02563466a        bare          bare%5:00:00:narrow:02   ADJ   \n",
       "17398  勉強  02563466a    marginal      marginal%5:00:00:narrow:02   ADJ   \n",
       "17399  勉強  00351763r  grudgingly            grudgingly%4:02:00::   ADV   \n",
       "\n",
       "                  5      6  \n",
       "0      bn:00085426v  False  \n",
       "1      bn:00085426v  False  \n",
       "2      bn:00085426v  False  \n",
       "3      bn:00090561v  False  \n",
       "4      bn:00070877n  False  \n",
       "...             ...    ...  \n",
       "17395  bn:00106100a  False  \n",
       "17396  bn:00113391a  False  \n",
       "17397  bn:00098052a  False  \n",
       "17398  bn:00098052a  False  \n",
       "17399  bn:00115561r  False  \n",
       "\n",
       "[17400 rows x 7 columns]"
      ]
     },
     "execution_count": 30,
     "metadata": {},
     "output_type": "execute_result"
    }
   ],
   "source": [
    "sense_map_frame"
   ]
  },
  {
   "cell_type": "code",
   "execution_count": 31,
   "metadata": {},
   "outputs": [],
   "source": [
    "sense_dir = mesh.get_data_dir()/\"sense_data\"\n",
    "mesh.ensure_dir(sense_dir)\n",
    "sense_map_frame.to_csv(sense_dir/\"sense_map_bn_pwn.csv\")"
   ]
  },
  {
   "cell_type": "code",
   "execution_count": null,
   "metadata": {},
   "outputs": [],
   "source": []
  }
 ],
 "metadata": {
  "kernelspec": {
   "display_name": "Python 3",
   "language": "python",
   "name": "python3"
  },
  "language_info": {
   "codemirror_mode": {
    "name": "ipython",
    "version": 3
   },
   "file_extension": ".py",
   "mimetype": "text/x-python",
   "name": "python",
   "nbconvert_exporter": "python",
   "pygments_lexer": "ipython3",
   "version": "3.8.2"
  }
 },
 "nbformat": 4,
 "nbformat_minor": 4
}
