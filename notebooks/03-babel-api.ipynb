{
 "cells": [
  {
   "cell_type": "code",
   "execution_count": 1,
   "metadata": {},
   "outputs": [],
   "source": [
    "%load_ext autoreload\n",
    "%autoreload 2\n",
    "import sys\n",
    "sys.path.append(\"../src\")"
   ]
  },
  {
   "cell_type": "code",
   "execution_count": 2,
   "metadata": {},
   "outputs": [
    {
     "name": "stderr",
     "output_type": "stream",
     "text": [
      "<ipython-input-2-1f5aa210c2a3>:2: TqdmExperimentalWarning: Using `tqdm.autonotebook.tqdm` in notebook mode. Use `tqdm.tqdm` instead to force console mode (e.g. in jupyter console)\n",
      "  from tqdm.autonotebook import tqdm\n"
     ]
    }
   ],
   "source": [
    "import mesh\n",
    "from tqdm.autonotebook import tqdm\n",
    "from CwnGraph import CwnBase\n",
    "import json, pickle"
   ]
  },
  {
   "cell_type": "code",
   "execution_count": 3,
   "metadata": {},
   "outputs": [],
   "source": [
    "import requests"
   ]
  },
  {
   "cell_type": "code",
   "execution_count": 8,
   "metadata": {},
   "outputs": [],
   "source": [
    "with (mesh.get_data_dir()/\"babelnet_key.txt\").open(\"r\") as fin:\n",
    "    bn_key = fin.read().strip()\n",
    "bn_url = \"https://babelnet.io/v5/\""
   ]
  },
  {
   "cell_type": "code",
   "execution_count": 6,
   "metadata": {},
   "outputs": [
    {
     "data": {
      "text/plain": [
       "'22928647-9105-4264-88be-387fc7831fcc'"
      ]
     },
     "execution_count": 6,
     "metadata": {},
     "output_type": "execute_result"
    }
   ],
   "source": [
    "bn_key"
   ]
  },
  {
   "cell_type": "code",
   "execution_count": 13,
   "metadata": {},
   "outputs": [],
   "source": [
    "bnapi = mesh.BabelNetAPI()"
   ]
  },
  {
   "cell_type": "code",
   "execution_count": 14,
   "metadata": {},
   "outputs": [
    {
     "data": {
      "text/plain": [
       "'V4_0'"
      ]
     },
     "execution_count": 14,
     "metadata": {},
     "output_type": "execute_result"
    }
   ],
   "source": [
    "bnapi.get_version()"
   ]
  },
  {
   "cell_type": "code",
   "execution_count": 25,
   "metadata": {},
   "outputs": [],
   "source": [
    "cwn = CwnBase()"
   ]
  },
  {
   "cell_type": "code",
   "execution_count": 32,
   "metadata": {},
   "outputs": [],
   "source": [
    "lemmas = []\n",
    "for nid, ndata in cwn.V.items():\n",
    "    if ndata[\"node_type\"] == \"lemma\":        \n",
    "        lemmas.append(ndata[\"lemma\"])"
   ]
  },
  {
   "cell_type": "code",
   "execution_count": 42,
   "metadata": {},
   "outputs": [],
   "source": [
    "from itertools import chain\n",
    "def find_cwn_senses(lemma):\n",
    "    try:\n",
    "        sense_iter = (x.senses for x in cwn.find_lemma(f\"^{lemma}$\"))\n",
    "        sense_iter = chain.from_iterable(sense_iter)\n",
    "        return list(sense_iter)\n",
    "    except Exception as ex:\n",
    "        print(lemma)\n",
    "        print(ex)\n",
    "        return []"
   ]
  },
  {
   "cell_type": "code",
   "execution_count": 58,
   "metadata": {},
   "outputs": [
    {
     "data": {
      "application/vnd.jupyter.widget-view+json": {
       "model_id": "cd81bfd7a4144136863a16d5f400479c",
       "version_major": 2,
       "version_minor": 0
      },
      "text/plain": [
       "HBox(children=(FloatProgress(value=0.0, max=26550.0), HTML(value='')))"
      ]
     },
     "metadata": {},
     "output_type": "display_data"
    },
    {
     "name": "stdout",
     "output_type": "stream",
     "text": [
      "\n"
     ]
    }
   ],
   "source": [
    "target_lemmas = []\n",
    "for lemma_x in tqdm(set(lemmas)):\n",
    "    if not lemma_x:\n",
    "        continue    \n",
    "    try:        \n",
    "        sense_list = find_cwn_senses(lemma_x)        \n",
    "        if len(sense_list) > 2:\n",
    "            target_lemmas.append(lemma_x)\n",
    "    except Exception as ex:\n",
    "        print(ex)        "
   ]
  },
  {
   "cell_type": "code",
   "execution_count": 63,
   "metadata": {},
   "outputs": [],
   "source": [
    "target_lemma_path = mesh.get_data_dir()/\"bn_target_lemmas.txt\"\n",
    "with target_lemma_path.open(\"w\", encoding=\"UTF-8\") as fout:\n",
    "    for lemma in target_lemmas:\n",
    "        fout.write(lemma + \"\\n\")"
   ]
  },
  {
   "cell_type": "code",
   "execution_count": null,
   "metadata": {},
   "outputs": [],
   "source": [
    "target_lemma_path = mesh.get_data_dir()/\"bn_target_lemmas.txt\"\n",
    "with target_lemma_path.open(\"r\", encoding=\"UTF-8\") as fin:\n",
    "    taget_lemmas = fin.readlines()"
   ]
  },
  {
   "cell_type": "markdown",
   "metadata": {},
   "source": [
    "## Continue to retrieve data from BabelNet"
   ]
  },
  {
   "cell_type": "code",
   "execution_count": 64,
   "metadata": {},
   "outputs": [],
   "source": [
    "target_lemma_path = mesh.get_data_dir()/\"bn_target_lemmas.txt\"\n",
    "with target_lemma_path.open(\"r\", encoding=\"UTF-8\") as fin:\n",
    "    taget_lemmas = fin.readlines()\n",
    "    \n",
    "bn_sense_path = mesh.get_data_dir()/\"bn_sense_data.pkl\"\n",
    "if bn_sense_path.exists():\n",
    "    with bn_sense_path.open(\"r\") as fin:\n",
    "        sense_data = pickle.load(fin)\n",
    "else:\n",
    "    sense_data = {}"
   ]
  },
  {
   "cell_type": "code",
   "execution_count": null,
   "metadata": {},
   "outputs": [],
   "source": []
  },
  {
   "cell_type": "code",
   "execution_count": 76,
   "metadata": {},
   "outputs": [
    {
     "data": {
      "application/vnd.jupyter.widget-view+json": {
       "model_id": "079597bc065c45f09a4f98327680315b",
       "version_major": 2,
       "version_minor": 0
      },
      "text/plain": [
       "HBox(children=(FloatProgress(value=0.0, max=3396.0), HTML(value='')))"
      ]
     },
     "metadata": {},
     "output_type": "display_data"
    },
    {
     "name": "stdout",
     "output_type": "stream",
     "text": [
      "\n"
     ]
    }
   ],
   "source": [
    "quota = 50\n",
    "for lemma_x in tqdm(target_lemmas):\n",
    "    if quota == 0:\n",
    "        break\n",
    "    if lemma_x in sense_data:\n",
    "        continue\n",
    "    data = bnapi.get_senses(lemma_x)\n",
    "    quota -= 1\n",
    "    sense_data[lemma_x] = data    "
   ]
  },
  {
   "cell_type": "code",
   "execution_count": 77,
   "metadata": {},
   "outputs": [
    {
     "data": {
      "text/plain": [
       "950"
      ]
     },
     "execution_count": 77,
     "metadata": {},
     "output_type": "execute_result"
    }
   ],
   "source": [
    "len(sense_data)"
   ]
  },
  {
   "cell_type": "code",
   "execution_count": 78,
   "metadata": {},
   "outputs": [],
   "source": [
    "with bn_sense_path.open(\"wb\") as fout:\n",
    "    pickle.dump(sense_data, fout)"
   ]
  },
  {
   "cell_type": "code",
   "execution_count": 83,
   "metadata": {},
   "outputs": [],
   "source": [
    "s1 = list(sense_data.items())[1]"
   ]
  },
  {
   "cell_type": "code",
   "execution_count": 90,
   "metadata": {},
   "outputs": [],
   "source": [
    "wn_map = {}\n",
    "for lemma, senses in sense_data.items():    \n",
    "    if not senses:\n",
    "        continue\n",
    "    wn_senses = filter(lambda x: x[\"type\"] == \"WordNetSense\", senses)\n",
    "    slist = []\n",
    "    for s in wn_senses:\n",
    "        p = s[\"properties\"]\n",
    "        slist.append((p.get(\"wordNetOffset\"), \n",
    "                     p.get(\"fullLemma\"), \n",
    "                     p.get(\"senseKey\"), p.get(\"pos\"), p.get(\"synsetID\").get(\"id\"), p.get(\"bKeySense\")))\n",
    "    wn_map[lemma] = slist"
   ]
  },
  {
   "cell_type": "code",
   "execution_count": 94,
   "metadata": {},
   "outputs": [
    {
     "name": "stdout",
     "output_type": "stream",
     "text": [
      "target_lemmas (>3 in CWN): 3396\n",
      "sense_data (requested from BN so far): 950\n",
      "with WN senses: 711\n"
     ]
    }
   ],
   "source": [
    "print(f\"target_lemmas (>3 in CWN): {len(target_lemmas)}\\n\"\n",
    "      f\"sense_data (requested from BN so far): {len(sense_data)}\\n\"\n",
    "      f\"with WN senses: {len(wn_map)}\")"
   ]
  },
  {
   "cell_type": "markdown",
   "metadata": {},
   "source": [
    "## A word sense sample"
   ]
  },
  {
   "cell_type": "code",
   "execution_count": 96,
   "metadata": {},
   "outputs": [],
   "source": [
    "from nltk.corpus import wordnet as wn"
   ]
  },
  {
   "cell_type": "code",
   "execution_count": 97,
   "metadata": {},
   "outputs": [
    {
     "data": {
      "text/plain": [
       "[('02582615v',\n",
       "  'perpetrate',\n",
       "  'perpetrate%2:41:00::',\n",
       "  'VERB',\n",
       "  'bn:00085426v',\n",
       "  False),\n",
       " ('02582615v', 'commit', 'commit%2:41:00::', 'VERB', 'bn:00085426v', False),\n",
       " ('02582615v', 'pull', 'pull%2:41:00::', 'VERB', 'bn:00085426v', False),\n",
       " ('02582921v', 'make', 'make%2:41:13::', 'VERB', 'bn:00090561v', False)]"
      ]
     },
     "execution_count": 97,
     "metadata": {},
     "output_type": "execute_result"
    }
   ],
   "source": [
    "wn_map[\"犯\"]"
   ]
  },
  {
   "cell_type": "code",
   "execution_count": 105,
   "metadata": {},
   "outputs": [
    {
     "data": {
      "text/plain": [
       "'perform an act, usually with a negative connotation'"
      ]
     },
     "execution_count": 105,
     "metadata": {},
     "output_type": "execute_result"
    }
   ],
   "source": [
    "wn.synset_from_pos_and_offset(\"v\", 2582615).definition()"
   ]
  },
  {
   "cell_type": "code",
   "execution_count": 106,
   "metadata": {},
   "outputs": [
    {
     "data": {
      "text/plain": [
       "'carry out or commit'"
      ]
     },
     "execution_count": 106,
     "metadata": {},
     "output_type": "execute_result"
    }
   ],
   "source": [
    "wn.synset_from_pos_and_offset(\"v\", 2582921).definition()"
   ]
  },
  {
   "cell_type": "code",
   "execution_count": 107,
   "metadata": {},
   "outputs": [
    {
     "data": {
      "text/plain": [
       "[<CwnSense[06700001](犯): 越過本身應有的範圍，而侵占到後述對象的權益。>,\n",
       " <CwnSense[06700002](犯): 不遵守約定或上級規定的規則。>,\n",
       " <CwnSense[06700003](犯): 違反競賽的規則，通常由裁判所判定，並帶有一定的罰則。>,\n",
       " <CwnSense[06700004](犯): 做出不應該或不正確的事情。>,\n",
       " <CwnSense[06700005](犯): 做出違反法律、應受處罰的事情。>,\n",
       " <CwnSense[06700006](犯): 做出違反法律的事情，而應受處罰的人。>,\n",
       " <CwnSense[06700007](犯): 做出特定被禁止的行為的事情。>,\n",
       " <CwnSense[06700008](犯): 疾病病徵再次發生。>,\n",
       " <CwnSense[06700009](犯): 侵犯到後述對象的權益而遭到報復。>]"
      ]
     },
     "execution_count": 107,
     "metadata": {},
     "output_type": "execute_result"
    }
   ],
   "source": [
    "find_cwn_senses(\"犯\")"
   ]
  },
  {
   "cell_type": "code",
   "execution_count": null,
   "metadata": {},
   "outputs": [],
   "source": []
  }
 ],
 "metadata": {
  "kernelspec": {
   "display_name": "Python 3",
   "language": "python",
   "name": "python3"
  },
  "language_info": {
   "codemirror_mode": {
    "name": "ipython",
    "version": 3
   },
   "file_extension": ".py",
   "mimetype": "text/x-python",
   "name": "python",
   "nbconvert_exporter": "python",
   "pygments_lexer": "ipython3",
   "version": "3.8.2"
  }
 },
 "nbformat": 4,
 "nbformat_minor": 4
}
