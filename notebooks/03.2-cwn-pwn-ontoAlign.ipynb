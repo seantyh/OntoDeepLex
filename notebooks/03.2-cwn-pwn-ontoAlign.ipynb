{
 "cells": [
  {
   "cell_type": "markdown",
   "metadata": {},
   "source": [
    "# OntoAlignment between PWN and CWN\n",
    "\n",
    "* What is the data structure necessary to align ontologically between PWN and CWN"
   ]
  },
  {
   "cell_type": "code",
   "execution_count": 1,
   "metadata": {},
   "outputs": [],
   "source": [
    "%load_ext autoreload\n",
    "%autoreload 2\n",
    "import sys\n",
    "sys.path.append(\"../src\")"
   ]
  },
  {
   "cell_type": "code",
   "execution_count": 2,
   "metadata": {},
   "outputs": [
    {
     "name": "stderr",
     "output_type": "stream",
     "text": [
      "<ipython-input-2-ed43e78d3207>:3: TqdmExperimentalWarning: Using `tqdm.autonotebook.tqdm` in notebook mode. Use `tqdm.tqdm` instead to force console mode (e.g. in jupyter console)\n",
      "  from tqdm.autonotebook import tqdm\n"
     ]
    }
   ],
   "source": [
    "import mesh\n",
    "import pandas as pd\n",
    "from tqdm.autonotebook import tqdm"
   ]
  },
  {
   "cell_type": "code",
   "execution_count": 3,
   "metadata": {},
   "outputs": [],
   "source": [
    "sense_dir = mesh.get_data_dir()/\"sense_data\"\n",
    "mesh.ensure_dir(sense_dir)\n",
    "sense_map_frame = pd.read_csv(sense_dir/\"sense_map_bn_pwn.csv\", index_col=0)"
   ]
  },
  {
   "cell_type": "code",
   "execution_count": 4,
   "metadata": {},
   "outputs": [],
   "source": [
    "entry = sense_map_frame.iloc[8, :].to_dict()"
   ]
  },
  {
   "cell_type": "code",
   "execution_count": 5,
   "metadata": {},
   "outputs": [
    {
     "data": {
      "text/plain": [
       "{'word': '霧',\n",
       " 'pwn_synset': '11458314n',\n",
       " 'en_word': 'fog',\n",
       " 'pwn_sense_offset': 'fog%1:19:00::',\n",
       " 'pos': 'NOUN',\n",
       " 'bn_offset': 'bn:00035570n',\n",
       " 'bn_key': True}"
      ]
     },
     "execution_count": 5,
     "metadata": {},
     "output_type": "execute_result"
    }
   ],
   "source": [
    "entry"
   ]
  },
  {
   "cell_type": "code",
   "execution_count": 6,
   "metadata": {},
   "outputs": [],
   "source": [
    "from CwnGraph import CwnBase\n",
    "cwn = CwnBase()"
   ]
  },
  {
   "cell_type": "code",
   "execution_count": 7,
   "metadata": {},
   "outputs": [],
   "source": [
    "from nltk.corpus import wordnet as wn\n",
    "def get_synset(syn_id):\n",
    "    syn_pos = syn_id[-1]\n",
    "    syn_num = syn_id[:-1]\n",
    "    return wn.synset_from_pos_and_offset(syn_pos, int(syn_num))"
   ]
  },
  {
   "cell_type": "code",
   "execution_count": 8,
   "metadata": {},
   "outputs": [],
   "source": [
    "cwn_senses = cwn.find_all_senses(entry[\"word\"])"
   ]
  },
  {
   "cell_type": "code",
   "execution_count": 9,
   "metadata": {},
   "outputs": [],
   "source": [
    "syn = get_synset(entry[\"pwn_synset\"])"
   ]
  },
  {
   "cell_type": "code",
   "execution_count": 10,
   "metadata": {},
   "outputs": [
    {
     "data": {
      "text/plain": [
       "[(Synset('aerosol.n.01'), 'hypernyms', 0),\n",
       " (Synset('cloud.n.01'), 'hypernyms', 1),\n",
       " (Synset('fogbank.n.01'), 'hyponyms', 0),\n",
       " (Synset('ice_fog.n.01'), 'hyponyms', 0),\n",
       " (Synset('mist.n.01'), 'hyponyms', 0),\n",
       " (Synset('pea_soup.n.02'), 'hyponyms', 0)]"
      ]
     },
     "execution_count": 10,
     "metadata": {},
     "output_type": "execute_result"
    }
   ],
   "source": [
    "mesh.get_pwn_relations(entry[\"pwn_synset\"], depth=2)"
   ]
  },
  {
   "cell_type": "code",
   "execution_count": 22,
   "metadata": {},
   "outputs": [
    {
     "data": {
      "text/plain": [
       "'cat.n.01'"
      ]
     },
     "execution_count": 22,
     "metadata": {},
     "output_type": "execute_result"
    }
   ],
   "source": [
    "wn.synsets(\"cat\")[0].name()"
   ]
  },
  {
   "cell_type": "code",
   "execution_count": 11,
   "metadata": {},
   "outputs": [
    {
     "data": {
      "text/plain": [
       "[(Synset('feline.n.01'), 'hypernyms', 0),\n",
       " (Synset('carnivore.n.01'), 'hypernyms', 1)]"
      ]
     },
     "execution_count": 11,
     "metadata": {},
     "output_type": "execute_result"
    }
   ],
   "source": [
    "dir(wn.synsets(\"cat\")[0])\n",
    "mesh.get_pwn_relations(wn.synsets(\"cat\")[0], [\"hypernyms\"], depth=2)"
   ]
  },
  {
   "cell_type": "code",
   "execution_count": 12,
   "metadata": {},
   "outputs": [],
   "source": [
    "from mesh import cwn_onto_align as onto_align"
   ]
  },
  {
   "cell_type": "code",
   "execution_count": 13,
   "metadata": {},
   "outputs": [],
   "source": [
    "adata = onto_align.get_alignment_structure(entry[\"word\"], entry[\"pwn_synset\"], cwn)"
   ]
  },
  {
   "cell_type": "code",
   "execution_count": 27,
   "metadata": {},
   "outputs": [
    {
     "data": {
      "application/vnd.jupyter.widget-view+json": {
       "model_id": "e5fe9323f08c40ec907cad929ac4e938",
       "version_major": 2,
       "version_minor": 0
      },
      "text/plain": [
       "HBox(children=(FloatProgress(value=0.0, max=17400.0), HTML(value='')))"
      ]
     },
     "metadata": {},
     "output_type": "display_data"
    },
    {
     "name": "stdout",
     "output_type": "stream",
     "text": [
      "\n"
     ]
    }
   ],
   "source": [
    "align_data = []\n",
    "for idx, row in tqdm(sense_map_frame.iterrows(), total=sense_map_frame.shape[0]):\n",
    "    adata = onto_align.get_alignment_structure(row[\"word\"], row[\"pwn_synset\"], cwn)\n",
    "    align_data.append(adata)"
   ]
  },
  {
   "cell_type": "markdown",
   "metadata": {},
   "source": [
    "## Generate mapping json"
   ]
  },
  {
   "cell_type": "code",
   "execution_count": 31,
   "metadata": {},
   "outputs": [],
   "source": [
    "import json\n",
    "with open(mesh.get_data_dir()/\"sense_data/bn_alignment_data.json\", \"w\", encoding=\"UTF-8\") as fout:\n",
    "    json.dump([x.to_dict() for x in align_data], fout, indent=2, ensure_ascii=False)"
   ]
  },
  {
   "cell_type": "code",
   "execution_count": 34,
   "metadata": {},
   "outputs": [
    {
     "ename": "PicklingError",
     "evalue": "args[0] from __newobj__ args has the wrong class",
     "output_type": "error",
     "traceback": [
      "\u001b[1;31m---------------------------------------------------------------------------\u001b[0m",
      "\u001b[1;31mPicklingError\u001b[0m                             Traceback (most recent call last)",
      "\u001b[1;32m<ipython-input-34-89475c754631>\u001b[0m in \u001b[0;36m<module>\u001b[1;34m\u001b[0m\n\u001b[0;32m      1\u001b[0m \u001b[1;32mimport\u001b[0m \u001b[0mpickle\u001b[0m\u001b[1;33m\u001b[0m\u001b[1;33m\u001b[0m\u001b[0m\n\u001b[0;32m      2\u001b[0m \u001b[1;32mwith\u001b[0m \u001b[0mopen\u001b[0m\u001b[1;33m(\u001b[0m\u001b[0mmesh\u001b[0m\u001b[1;33m.\u001b[0m\u001b[0mget_data_dir\u001b[0m\u001b[1;33m(\u001b[0m\u001b[1;33m)\u001b[0m\u001b[1;33m/\u001b[0m\u001b[1;34m\"sense_data/bn_alignment_data.pkl\"\u001b[0m\u001b[1;33m,\u001b[0m \u001b[1;34m\"wb\"\u001b[0m\u001b[1;33m)\u001b[0m \u001b[1;32mas\u001b[0m \u001b[0mfout\u001b[0m\u001b[1;33m:\u001b[0m\u001b[1;33m\u001b[0m\u001b[1;33m\u001b[0m\u001b[0m\n\u001b[1;32m----> 3\u001b[1;33m     \u001b[0mpickle\u001b[0m\u001b[1;33m.\u001b[0m\u001b[0mdump\u001b[0m\u001b[1;33m(\u001b[0m\u001b[0malign_data\u001b[0m\u001b[1;33m,\u001b[0m \u001b[0mfout\u001b[0m\u001b[1;33m)\u001b[0m\u001b[1;33m\u001b[0m\u001b[1;33m\u001b[0m\u001b[0m\n\u001b[0m",
      "\u001b[1;31mPicklingError\u001b[0m: args[0] from __newobj__ args has the wrong class"
     ]
    }
   ],
   "source": [
    "import pickle\n",
    "with open(mesh.get_data_dir()/\"sense_data/bn_alignment_data.pkl\", \"wb\") as fout:\n",
    "    pickle.dump(align_data, fout)"
   ]
  },
  {
   "cell_type": "code",
   "execution_count": 33,
   "metadata": {},
   "outputs": [
    {
     "name": "stderr",
     "output_type": "stream",
     "text": [
      "[nltk_data] Downloading package omw to E:\\nltk_data...\n",
      "[nltk_data]   Unzipping corpora\\omw.zip.\n"
     ]
    },
    {
     "data": {
      "text/plain": [
       "True"
      ]
     },
     "execution_count": 33,
     "metadata": {},
     "output_type": "execute_result"
    }
   ],
   "source": [
    "import nltk\n",
    "nltk.download('omw')"
   ]
  },
  {
   "cell_type": "markdown",
   "metadata": {},
   "source": [
    "## CWN existing PWN alignment"
   ]
  },
  {
   "cell_type": "code",
   "execution_count": 52,
   "metadata": {},
   "outputs": [],
   "source": [
    "niter = filter(lambda x: x[1]['node_type']==(\"pwn_synset\"), cwn.V.items())"
   ]
  },
  {
   "cell_type": "code",
   "execution_count": 53,
   "metadata": {},
   "outputs": [],
   "source": [
    "synsets=list(niter)"
   ]
  },
  {
   "cell_type": "code",
   "execution_count": 54,
   "metadata": {},
   "outputs": [
    {
     "data": {
      "text/plain": [
       "('pwn_09553033N',\n",
       " {'node_type': 'pwn_synset', 'synset_sno': '01', 'synset_word1': 'expense'})"
      ]
     },
     "execution_count": 54,
     "metadata": {},
     "output_type": "execute_result"
    }
   ],
   "source": [
    "synsets[0]"
   ]
  },
  {
   "cell_type": "code",
   "execution_count": 59,
   "metadata": {},
   "outputs": [
    {
     "data": {
      "text/plain": [
       "[<CwnRelation> generic(rev): pwn_04355268N <- 07057003,\n",
       " <CwnRelation> hyponym(rev): pwn_04355268N <- 05172801,\n",
       " <CwnRelation> generic(rev): pwn_04355268N <- 0517280101,\n",
       " <CwnRelation> hyponym(rev): pwn_04355268N <- 07077208,\n",
       " <CwnRelation> generic(rev): pwn_04355268N <- 0707720801]"
      ]
     },
     "execution_count": 59,
     "metadata": {},
     "output_type": "execute_result"
    }
   ],
   "source": [
    "cwn.find_edges(synsets[1][0], is_directed=False)"
   ]
  },
  {
   "cell_type": "code",
   "execution_count": 61,
   "metadata": {},
   "outputs": [
    {
     "ename": "AssertionError",
     "evalue": "",
     "output_type": "error",
     "traceback": [
      "\u001b[1;31m---------------------------------------------------------------------------\u001b[0m",
      "\u001b[1;31mAssertionError\u001b[0m                            Traceback (most recent call last)",
      "\u001b[1;32m<ipython-input-61-d5ced0afe9f2>\u001b[0m in \u001b[0;36m<module>\u001b[1;34m\u001b[0m\n\u001b[1;32m----> 1\u001b[1;33m \u001b[0mmesh\u001b[0m\u001b[1;33m.\u001b[0m\u001b[0mget_synset\u001b[0m\u001b[1;33m(\u001b[0m\u001b[1;34m\"04355268n\"\u001b[0m\u001b[1;33m)\u001b[0m\u001b[1;33m\u001b[0m\u001b[1;33m\u001b[0m\u001b[0m\n\u001b[0m",
      "\u001b[1;32mE:\\LangOn\\OntoDeepLex\\src\\mesh\\pwn.py\u001b[0m in \u001b[0;36mget_synset\u001b[1;34m(syn_id)\u001b[0m\n\u001b[0;32m     15\u001b[0m     \u001b[0msyn_pos\u001b[0m \u001b[1;33m=\u001b[0m \u001b[0msyn_id\u001b[0m\u001b[1;33m[\u001b[0m\u001b[1;33m-\u001b[0m\u001b[1;36m1\u001b[0m\u001b[1;33m]\u001b[0m\u001b[1;33m\u001b[0m\u001b[1;33m\u001b[0m\u001b[0m\n\u001b[0;32m     16\u001b[0m     \u001b[0msyn_num\u001b[0m \u001b[1;33m=\u001b[0m \u001b[0msyn_id\u001b[0m\u001b[1;33m[\u001b[0m\u001b[1;33m:\u001b[0m\u001b[1;33m-\u001b[0m\u001b[1;36m1\u001b[0m\u001b[1;33m]\u001b[0m\u001b[1;33m\u001b[0m\u001b[1;33m\u001b[0m\u001b[0m\n\u001b[1;32m---> 17\u001b[1;33m     \u001b[1;32mreturn\u001b[0m \u001b[0mwn\u001b[0m\u001b[1;33m.\u001b[0m\u001b[0msynset_from_pos_and_offset\u001b[0m\u001b[1;33m(\u001b[0m\u001b[0msyn_pos\u001b[0m\u001b[1;33m,\u001b[0m \u001b[0mint\u001b[0m\u001b[1;33m(\u001b[0m\u001b[0msyn_num\u001b[0m\u001b[1;33m)\u001b[0m\u001b[1;33m)\u001b[0m\u001b[1;33m\u001b[0m\u001b[1;33m\u001b[0m\u001b[0m\n\u001b[0m\u001b[0;32m     18\u001b[0m \u001b[1;33m\u001b[0m\u001b[0m\n\u001b[0;32m     19\u001b[0m \u001b[1;32mdef\u001b[0m \u001b[0mget_pwn_relations\u001b[0m\u001b[1;33m(\u001b[0m\u001b[0msyn_id\u001b[0m\u001b[1;33m,\u001b[0m \u001b[0mrelations\u001b[0m\u001b[1;33m=\u001b[0m\u001b[1;32mNone\u001b[0m\u001b[1;33m,\u001b[0m \u001b[0mdepth\u001b[0m\u001b[1;33m=\u001b[0m\u001b[1;36m1\u001b[0m\u001b[1;33m)\u001b[0m\u001b[1;33m:\u001b[0m\u001b[1;33m\u001b[0m\u001b[1;33m\u001b[0m\u001b[0m\n",
      "\u001b[1;32mc:\\python38\\lib\\site-packages\\nltk\\corpus\\reader\\wordnet.py\u001b[0m in \u001b[0;36msynset_from_pos_and_offset\u001b[1;34m(self, pos, offset)\u001b[0m\n\u001b[0;32m   1373\u001b[0m         \u001b[0mdata_file_line\u001b[0m \u001b[1;33m=\u001b[0m \u001b[0mdata_file\u001b[0m\u001b[1;33m.\u001b[0m\u001b[0mreadline\u001b[0m\u001b[1;33m(\u001b[0m\u001b[1;33m)\u001b[0m\u001b[1;33m\u001b[0m\u001b[1;33m\u001b[0m\u001b[0m\n\u001b[0;32m   1374\u001b[0m         \u001b[0msynset\u001b[0m \u001b[1;33m=\u001b[0m \u001b[0mself\u001b[0m\u001b[1;33m.\u001b[0m\u001b[0m_synset_from_pos_and_line\u001b[0m\u001b[1;33m(\u001b[0m\u001b[0mpos\u001b[0m\u001b[1;33m,\u001b[0m \u001b[0mdata_file_line\u001b[0m\u001b[1;33m)\u001b[0m\u001b[1;33m\u001b[0m\u001b[1;33m\u001b[0m\u001b[0m\n\u001b[1;32m-> 1375\u001b[1;33m         \u001b[1;32massert\u001b[0m \u001b[0msynset\u001b[0m\u001b[1;33m.\u001b[0m\u001b[0m_offset\u001b[0m \u001b[1;33m==\u001b[0m \u001b[0moffset\u001b[0m\u001b[1;33m\u001b[0m\u001b[1;33m\u001b[0m\u001b[0m\n\u001b[0m\u001b[0;32m   1376\u001b[0m         \u001b[0mself\u001b[0m\u001b[1;33m.\u001b[0m\u001b[0m_synset_offset_cache\u001b[0m\u001b[1;33m[\u001b[0m\u001b[0mpos\u001b[0m\u001b[1;33m]\u001b[0m\u001b[1;33m[\u001b[0m\u001b[0moffset\u001b[0m\u001b[1;33m]\u001b[0m \u001b[1;33m=\u001b[0m \u001b[0msynset\u001b[0m\u001b[1;33m\u001b[0m\u001b[1;33m\u001b[0m\u001b[0m\n\u001b[0;32m   1377\u001b[0m         \u001b[1;32mreturn\u001b[0m \u001b[0msynset\u001b[0m\u001b[1;33m\u001b[0m\u001b[1;33m\u001b[0m\u001b[0m\n",
      "\u001b[1;31mAssertionError\u001b[0m: "
     ]
    }
   ],
   "source": [
    "mesh.get_synset(\"04355268n\")"
   ]
  },
  {
   "cell_type": "code",
   "execution_count": 69,
   "metadata": {},
   "outputs": [
    {
     "data": {
      "text/plain": [
       "[Lemma('endowment.n.01.endowment'),\n",
       " Lemma('endowment.n.01.gift'),\n",
       " Lemma('endowment.n.01.talent'),\n",
       " Lemma('endowment.n.01.natural_endowment')]"
      ]
     },
     "execution_count": 69,
     "metadata": {},
     "output_type": "execute_result"
    }
   ],
   "source": [
    "wn.synsets(\"endowment\")[0].lemmas()"
   ]
  },
  {
   "cell_type": "code",
   "execution_count": 71,
   "metadata": {},
   "outputs": [
    {
     "data": {
      "text/plain": [
       "<CwnSense[07057003](資): 天賦的能力。>"
      ]
     },
     "execution_count": 71,
     "metadata": {},
     "output_type": "execute_result"
    }
   ],
   "source": [
    "from CwnGraph import CwnSense\n",
    "CwnSense(\"07057003\", cwn)"
   ]
  },
  {
   "cell_type": "markdown",
   "metadata": {},
   "source": [
    "## Read PWN-1.6"
   ]
  },
  {
   "cell_type": "code",
   "execution_count": 131,
   "metadata": {},
   "outputs": [],
   "source": [
    "wn16_dir = mesh.get_data_dir()/\"wordnet-1.6\"\n",
    "noun_path = wn16_dir / \"dict/data.noun\"\n",
    "verb_path = wn16_dir / \"dict/data.verb\"\n",
    "adj_path = wn16_dir / \"dict/data.adj\"\n",
    "adv_path = wn16_dir / \"dict/data.adv\""
   ]
  },
  {
   "cell_type": "code",
   "execution_count": 129,
   "metadata": {},
   "outputs": [],
   "source": [
    "def parse_synset(ln_txt):\n",
    "    syn_data, gloss = ln_txt.split(\"|\")    \n",
    "    toks = syn_data.split()    \n",
    "    offset = toks[0]\n",
    "    pos = toks[2]\n",
    "    n_lemma = int(toks[3], 16)    \n",
    "    lemmas = toks[slice(4,n_lemma*2+4,2)]\n",
    "    return (offset, pos, lemmas, gloss.strip())"
   ]
  },
  {
   "cell_type": "code",
   "execution_count": 123,
   "metadata": {},
   "outputs": [
    {
     "data": {
      "text/plain": [
       "('02536246',\n",
       " 'n',\n",
       " ['curtain', 'drape', 'drapery', 'mantle', 'pall'],\n",
       " 'hanging cloth used as a blind')"
      ]
     },
     "execution_count": 123,
     "metadata": {},
     "output_type": "execute_result"
    }
   ],
   "source": [
    "parse_synset(noun_data[15226])"
   ]
  },
  {
   "cell_type": "code",
   "execution_count": 124,
   "metadata": {},
   "outputs": [],
   "source": [
    "toks = \"00001740 03 n 02 entity 0 something 0 014\".split()"
   ]
  },
  {
   "cell_type": "code",
   "execution_count": 125,
   "metadata": {},
   "outputs": [],
   "source": [
    "def load_wn16_data(data_path, map_data):\n",
    "    with data_path.open() as fin:\n",
    "        data = [x for x in fin.readlines() if not x.startswith(\" \")]\n",
    "    for ln in tqdm(data, desc=data_path.name):\n",
    "        syn_data = parse_synset(ln)\n",
    "        map_data[syn_data[0]+syn_data[1]] = syn_data    "
   ]
  },
  {
   "cell_type": "code",
   "execution_count": 132,
   "metadata": {},
   "outputs": [
    {
     "data": {
      "application/vnd.jupyter.widget-view+json": {
       "model_id": "7b95f50d440a411498b67dd3755a135d",
       "version_major": 2,
       "version_minor": 0
      },
      "text/plain": [
       "HBox(children=(FloatProgress(value=0.0, description='data.noun', max=66025.0, style=ProgressStyle(description_…"
      ]
     },
     "metadata": {},
     "output_type": "display_data"
    },
    {
     "name": "stdout",
     "output_type": "stream",
     "text": [
      "\n"
     ]
    },
    {
     "data": {
      "application/vnd.jupyter.widget-view+json": {
       "model_id": "1980f7eabae14aa8a6f40cfaefda465c",
       "version_major": 2,
       "version_minor": 0
      },
      "text/plain": [
       "HBox(children=(FloatProgress(value=0.0, description='data.verb', max=12127.0, style=ProgressStyle(description_…"
      ]
     },
     "metadata": {},
     "output_type": "display_data"
    },
    {
     "name": "stdout",
     "output_type": "stream",
     "text": [
      "\n"
     ]
    },
    {
     "data": {
      "application/vnd.jupyter.widget-view+json": {
       "model_id": "10c5a7d4c8b0405ea88093b6a19c9d82",
       "version_major": 2,
       "version_minor": 0
      },
      "text/plain": [
       "HBox(children=(FloatProgress(value=0.0, description='data.adj', max=17915.0, style=ProgressStyle(description_w…"
      ]
     },
     "metadata": {},
     "output_type": "display_data"
    },
    {
     "name": "stdout",
     "output_type": "stream",
     "text": [
      "\n"
     ]
    },
    {
     "data": {
      "application/vnd.jupyter.widget-view+json": {
       "model_id": "fca4a5d09e244a39b6e4231b28977177",
       "version_major": 2,
       "version_minor": 0
      },
      "text/plain": [
       "HBox(children=(FloatProgress(value=0.0, description='data.adv', max=3575.0, style=ProgressStyle(description_wi…"
      ]
     },
     "metadata": {},
     "output_type": "display_data"
    },
    {
     "name": "stdout",
     "output_type": "stream",
     "text": [
      "\n"
     ]
    }
   ],
   "source": [
    "map_data = {}\n",
    "load_wn16_data(noun_path, map_data)\n",
    "load_wn16_data(verb_path, map_data)\n",
    "load_wn16_data(adj_path, map_data)\n",
    "load_wn16_data(adv_path, map_data)"
   ]
  },
  {
   "cell_type": "code",
   "execution_count": 133,
   "metadata": {},
   "outputs": [
    {
     "data": {
      "text/plain": [
       "99642"
      ]
     },
     "execution_count": 133,
     "metadata": {},
     "output_type": "execute_result"
    }
   ],
   "source": [
    "len(map_data)"
   ]
  },
  {
   "cell_type": "code",
   "execution_count": 136,
   "metadata": {},
   "outputs": [],
   "source": [
    "sense_dir = mesh.get_data_dir() / \"sense_data\"\n",
    "wn16_synpath = sense_dir/\"wn16_synsets.json\"\n",
    "with wn16_synpath.open(\"w\", encoding=\"UTF-8\") as fout:\n",
    "    json.dump(map_data, fout, ensure_ascii=False, indent=2)"
   ]
  },
  {
   "cell_type": "markdown",
   "metadata": {},
   "source": [
    "## Load PWN synset data"
   ]
  },
  {
   "cell_type": "code",
   "execution_count": 3,
   "metadata": {},
   "outputs": [],
   "source": [
    "from CwnGraph import PwnSynset, CwnBase\n",
    "import json"
   ]
  },
  {
   "cell_type": "code",
   "execution_count": 4,
   "metadata": {},
   "outputs": [],
   "source": [
    "cwn = CwnBase()"
   ]
  },
  {
   "cell_type": "code",
   "execution_count": 5,
   "metadata": {},
   "outputs": [],
   "source": [
    "niter = filter(lambda x: x[1]['node_type']==(\"pwn_synset\"), cwn.V.items())"
   ]
  },
  {
   "cell_type": "code",
   "execution_count": 6,
   "metadata": {},
   "outputs": [],
   "source": [
    "pwn_synsets=list(niter)"
   ]
  },
  {
   "cell_type": "code",
   "execution_count": 7,
   "metadata": {},
   "outputs": [
    {
     "data": {
      "text/plain": [
       "5012"
      ]
     },
     "execution_count": 7,
     "metadata": {},
     "output_type": "execute_result"
    }
   ],
   "source": [
    "len(pwn_synsets)"
   ]
  },
  {
   "cell_type": "code",
   "execution_count": 8,
   "metadata": {},
   "outputs": [
    {
     "data": {
      "text/plain": [
       "[<CwnRelation> generic(rev): pwn_09553033N <- 07057002,\n",
       " <CwnRelation> generic(rev): pwn_09553033N <- 03003302,\n",
       " <CwnRelation> generic(rev): pwn_09553033N <- 06526301]"
      ]
     },
     "execution_count": 8,
     "metadata": {},
     "output_type": "execute_result"
    }
   ],
   "source": [
    "cwn.find_edges(pwn_synsets[0][0], False)"
   ]
  },
  {
   "cell_type": "code",
   "execution_count": 9,
   "metadata": {},
   "outputs": [],
   "source": [
    "syn=PwnSynset(\"pwn_09553033N\", cwn)"
   ]
  },
  {
   "cell_type": "code",
   "execution_count": 10,
   "metadata": {},
   "outputs": [
    {
     "data": {
      "text/plain": [
       "[('generic', <CwnSense[07057002](資): 用於換取等值特定對象的金錢。>, 'reversed'),\n",
       " ('generic', <CwnSense[03003302](撥款): 支付或調配的金錢。>, 'reversed'),\n",
       " ('generic', <CwnSense[06526301](費用): 用於換取等值特定對象的金錢。>, 'reversed')]"
      ]
     },
     "execution_count": 10,
     "metadata": {},
     "output_type": "execute_result"
    }
   ],
   "source": [
    "syn.relations"
   ]
  },
  {
   "cell_type": "markdown",
   "metadata": {},
   "source": [
    "### load WN16 data"
   ]
  },
  {
   "cell_type": "code",
   "execution_count": 11,
   "metadata": {},
   "outputs": [],
   "source": [
    "sense_dir = mesh.get_data_dir() / \"sense_data\"\n",
    "wn16_synpath = sense_dir/\"wn16_synsets.json\"\n",
    "with wn16_synpath.open(\"r\", encoding=\"UTF-8\") as fin:\n",
    "    wn16_data = json.load(fin)"
   ]
  },
  {
   "cell_type": "code",
   "execution_count": 12,
   "metadata": {},
   "outputs": [
    {
     "data": {
      "text/plain": [
       "['09553033',\n",
       " 'n',\n",
       " ['expense', 'disbursal', 'disbursement'],\n",
       " 'amounts paid for goods and services that may be currently tax deductible (as opposed to capital expenditures)']"
      ]
     },
     "execution_count": 12,
     "metadata": {},
     "output_type": "execute_result"
    }
   ],
   "source": [
    "wn16_data[\"09553033n\"]"
   ]
  },
  {
   "cell_type": "code",
   "execution_count": 24,
   "metadata": {},
   "outputs": [
    {
     "data": {
      "application/vnd.jupyter.widget-view+json": {
       "model_id": "9fa68dca48ef4e48935f18916cce61ee",
       "version_major": 2,
       "version_minor": 0
      },
      "text/plain": [
       "HBox(children=(FloatProgress(value=0.0, max=5012.0), HTML(value='')))"
      ]
     },
     "metadata": {},
     "output_type": "display_data"
    },
    {
     "name": "stdout",
     "output_type": "stream",
     "text": [
      "Cannot find 04360492n\n",
      "Cannot find ------\n",
      "pwn_07579443N list index out of range\n",
      "pwn_00817247V list index out of range\n",
      "pwn_00427308V list index out of range\n",
      "Cannot find \n",
      "Cannot find 001364494v\n",
      "Cannot find 00871598a\n",
      "Cannot find 01237414a\n",
      "Cannot find 06211120n\n",
      "Cannot find 0082064v\n",
      "pwn_00454769V list index out of range\n",
      "Cannot find 01914685v\n",
      "Cannot find 05113619n\n",
      "pwn_00547039V list index out of range\n",
      "Cannot find 017393308v\n",
      "Cannot find 01211326v\n",
      "Cannot find 00136112v\n",
      "Cannot find 00847824v\n",
      "Cannot find 02301996v\n",
      "Cannot find 02385846v\n",
      "Cannot find 01565884n\n",
      "Cannot find 01412424\n",
      "\n"
     ]
    }
   ],
   "source": [
    "entries = []\n",
    "for syn in tqdm(pwn_synsets):\n",
    "    syn_id, syn_data = syn\n",
    "    syn_offset = syn_id.split(\"_\")[1].lower()\n",
    "    \n",
    "    wn16_syn = None\n",
    "    if syn_offset in wn16_data:\n",
    "        wn16_syn = wn16_data[syn_offset]\n",
    "    \n",
    "    if syn_offset.replace(\"a\", \"s\") in wn16_data:\n",
    "        wn16_syn = wn16_data[syn_offset.replace(\"a\", \"s\")]\n",
    "    \n",
    "    if not wn16_syn:\n",
    "        print(\"Cannot find \" + syn_offset)\n",
    "        continue\n",
    "        \n",
    "    pwn_synset = PwnSynset(syn_id, cwn)\n",
    "    rels = pwn_synset.relations     \n",
    "    for rel_x in rels:\n",
    "        rel_type, cwn_node, _ = rel_x\n",
    "        try:\n",
    "            entries.append(dict(\n",
    "                cwn_id=cwn_node.id,\n",
    "                cwn_pos=cwn_node.pos,\n",
    "                lemmas=cwn_node.lemmas[0].lemma,\n",
    "                cwn_def=cwn_node.definition,\n",
    "                rel_type=rel_type,\n",
    "                wn16_offset=wn16_syn[0],\n",
    "                wn16_pos=wn16_syn[1],\n",
    "                wn16_lemmas=','.join(wn16_syn[2]),\n",
    "                wn16_def=wn16_syn[3]\n",
    "            ))            \n",
    "        except Exception as ex:\n",
    "            print(syn_id, end=\" \")\n",
    "            print(ex)                 "
   ]
  },
  {
   "cell_type": "code",
   "execution_count": 25,
   "metadata": {},
   "outputs": [],
   "source": [
    "import pandas as pd"
   ]
  },
  {
   "cell_type": "code",
   "execution_count": 26,
   "metadata": {},
   "outputs": [],
   "source": [
    "wn16_map = pd.DataFrame.from_records(entries)"
   ]
  },
  {
   "cell_type": "code",
   "execution_count": 27,
   "metadata": {},
   "outputs": [],
   "source": [
    "wn16_map.to_csv(sense_dir / \"wn16_cwn_map.csv\", encoding=\"UTF-8\")"
   ]
  },
  {
   "cell_type": "code",
   "execution_count": null,
   "metadata": {},
   "outputs": [],
   "source": []
  }
 ],
 "metadata": {
  "kernelspec": {
   "display_name": "Python 3",
   "language": "python",
   "name": "python3"
  },
  "language_info": {
   "codemirror_mode": {
    "name": "ipython",
    "version": 3
   },
   "file_extension": ".py",
   "mimetype": "text/x-python",
   "name": "python",
   "nbconvert_exporter": "python",
   "pygments_lexer": "ipython3",
   "version": "3.8.2"
  }
 },
 "nbformat": 4,
 "nbformat_minor": 4
}
