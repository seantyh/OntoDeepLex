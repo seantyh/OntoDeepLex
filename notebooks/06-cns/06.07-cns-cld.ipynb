{
 "cells": [
  {
   "cell_type": "code",
   "execution_count": 1,
   "metadata": {},
   "outputs": [
    {
     "name": "stderr",
     "output_type": "stream",
     "text": [
      "E:\\LangOn\\OntoDeepLex\\src\\mesh\\cns.py:3: TqdmExperimentalWarning: Using `tqdm.autonotebook.tqdm` in notebook mode. Use `tqdm.tqdm` instead to force console mode (e.g. in jupyter console)\n",
      "  from tqdm.autonotebook import tqdm\n"
     ]
    }
   ],
   "source": [
    "%load_ext autoreload\n",
    "%autoreload 2\n",
    "from mesh_import import mesh"
   ]
  },
  {
   "cell_type": "code",
   "execution_count": 3,
   "metadata": {},
   "outputs": [],
   "source": [
    "from tqdm.autonotebook import tqdm\n",
    "import numpy as np\n",
    "import pandas as pd"
   ]
  },
  {
   "cell_type": "code",
   "execution_count": 5,
   "metadata": {},
   "outputs": [],
   "source": [
    "cns_dir = mesh.get_data_dir() / \"cns\""
   ]
  },
  {
   "cell_type": "code",
   "execution_count": 4,
   "metadata": {},
   "outputs": [
    {
     "name": "stderr",
     "output_type": "stream",
     "text": [
      "c:\\python38\\lib\\site-packages\\IPython\\core\\interactiveshell.py:3062: DtypeWarning: Columns (3,4,8,9,12,13,17,18,22,23,28,29,111,112,127,128) have mixed types.Specify dtype option on import or set low_memory=False.\n",
      "  has_raised = await self.run_ast_nodes(code_ast.body, cell_name,\n"
     ]
    }
   ],
   "source": [
    "cld = pd.read_csv(mesh.get_data_dir()/\"CLD/chineselexicaldatabase2.1.txt\")"
   ]
  },
  {
   "cell_type": "code",
   "execution_count": 14,
   "metadata": {},
   "outputs": [],
   "source": [
    "meld_sch_avg = pd.read_csv(cns_dir / \"cns_meld_sch_avg.csv\", index_col=0)"
   ]
  },
  {
   "cell_type": "code",
   "execution_count": 21,
   "metadata": {},
   "outputs": [
    {
     "data": {
      "text/plain": [
       "array(['Word', 'C1', 'C2', 'C3', 'C4', 'Length', 'C1Structure',\n",
       "       'C2Structure', 'C3Structure', 'C4Structure', 'C1Type', 'C2Type',\n",
       "       'C3Type', 'C4Type', 'Pinyin', 'C1Pinyin', 'C2Pinyin', 'C3Pinyin',\n",
       "       'C4Pinyin', 'IPA', 'C1IPA', 'C2IPA', 'C3IPA', 'C4IPA',\n",
       "       'InitialPhoneme', 'FinalPhoneme', 'C1PRPinyin', 'C2PRPinyin',\n",
       "       'C3PRPinyin', 'C4PRPinyin', 'Phonemes', 'C1Phonemes', 'C2Phonemes',\n",
       "       'C3Phonemes', 'C4Phonemes', 'C1Tone', 'C2Tone', 'C3Tone', 'C4Tone',\n",
       "       'Frequency', 'C1Frequency', 'C2Frequency', 'C3Frequency',\n",
       "       'C4Frequency', 'FrequencyRaw', 'C1FrequencyRaw', 'C2FrequencyRaw',\n",
       "       'C3FrequencyRaw', 'C4FrequencyRaw', 'FrequencySUBTL',\n",
       "       'C1FrequencySUBTL', 'C2FrequencySUBTL', 'C3FrequencySUBTL',\n",
       "       'C4FrequencySUBTL', 'FrequencyRawSUBTL', 'C1FrequencyRawSUBTL',\n",
       "       'C2FrequencyRawSUBTL', 'C3FrequencyRawSUBTL',\n",
       "       'C4FrequencyRawSUBTL', 'FrequencyWeibo', 'C1FrequencyWeibo',\n",
       "       'C2FrequencyWeibo', 'C3FrequencyWeibo', 'C4FrequencyWeibo',\n",
       "       'FrequencyRawWeibo', 'C1FrequencyRawWeibo', 'C2FrequencyRawWeibo',\n",
       "       'C3FrequencyRawWeibo', 'C4FrequencyRawWeibo',\n",
       "       'PhonologicalFrequency', 'C1PhonologicalFrequency',\n",
       "       'C2PhonologicalFrequency', 'C3PhonologicalFrequency',\n",
       "       'C4PhonologicalFrequency', 'C1FamilySize', 'C2FamilySize',\n",
       "       'C3FamilySize', 'C4FamilySize', 'C1FamilyFrequency',\n",
       "       'C2FamilyFrequency', 'C3FamilyFrequency', 'C4FamilyFrequency',\n",
       "       'Strokes', 'C1Strokes', 'C2Strokes', 'C3Strokes', 'C4Strokes',\n",
       "       'C1Pixels', 'C2Pixels', 'C3Pixels', 'C4Pixels', 'C1PictureSize',\n",
       "       'C2PictureSize', 'C3PictureSize', 'C4PictureSize', 'C1OLDPixels',\n",
       "       'C2OLDPixels', 'C3OLDPixels', 'C4OLDPixels', 'PhonologicalN',\n",
       "       'C1PhonologicalN', 'C2PhonologicalN', 'C3PhonologicalN',\n",
       "       'C4PhonologicalN', 'PLD', 'C1PLD', 'C2PLD', 'C3PLD', 'C4PLD',\n",
       "       'C1SR', 'C2SR', 'C3SR', 'C4SR', 'C1SRFrequency', 'C2SRFrequency',\n",
       "       'C3SRFrequency', 'C4SRFrequency', 'C1SRFamilySize',\n",
       "       'C2SRFamilySize', 'C3SRFamilySize', 'C4SRFamilySize',\n",
       "       'C1SRStrokes', 'C2SRStrokes', 'C3SRStrokes', 'C4SRStrokes', 'C1PR',\n",
       "       'C2PR', 'C3PR', 'C4PR', 'C1PRFrequency', 'C2PRFrequency',\n",
       "       'C3PRFrequency', 'C4PRFrequency', 'C1PRFamilySize',\n",
       "       'C2PRFamilySize', 'C3PRFamilySize', 'C4PRFamilySize',\n",
       "       'C1PRStrokes', 'C2PRStrokes', 'C3PRStrokes', 'C4PRStrokes',\n",
       "       'C1PRRegularity', 'C2PRRegularity', 'C3PRRegularity',\n",
       "       'C4PRRegularity', 'C1PRFriends', 'C2PRFriends', 'C3PRFriends',\n",
       "       'C4PRFriends', 'C1PREnemiesTypes', 'C2PREnemiesTypes',\n",
       "       'C3PREnemiesTypes', 'C4PREnemiesTypes', 'C1PREnemiesTokens',\n",
       "       'C2PREnemiesTokens', 'C3PREnemiesTokens', 'C4PREnemiesTokens',\n",
       "       'C1PRFriendsFrequency', 'C2PRFriendsFrequency',\n",
       "       'C3PRFriendsFrequency', 'C4PRFriendsFrequency',\n",
       "       'C1PREnemiesFrequency', 'C2PREnemiesFrequency',\n",
       "       'C3PREnemiesFrequency', 'C4PREnemiesFrequency',\n",
       "       'C1PRBackwardEnemiesTypes', 'C2PRBackwardEnemiesTypes',\n",
       "       'C3PRBackwardEnemiesTypes', 'C4PRBackwardEnemiesTypes',\n",
       "       'C1PRBackwardEnemiesTokens', 'C2PRBackwardEnemiesTokens',\n",
       "       'C3PRBackwardEnemiesTokens', 'C4PRBackwardEnemiesTokens',\n",
       "       'C1PRBackwardEnemiesFrequency', 'C2PRBackwardEnemiesFrequency',\n",
       "       'C3PRBackwardEnemiesFrequency', 'C4PRBackwardEnemiesFrequency',\n",
       "       'MeanPhonemeFrequency', 'C1MeanPhonemeFrequency',\n",
       "       'C2MeanPhonemeFrequency', 'C3MeanPhonemeFrequency',\n",
       "       'C4MeanPhonemeFrequency', 'MinPhonemeFrequency',\n",
       "       'C1MinPhonemeFrequency', 'C2MinPhonemeFrequency',\n",
       "       'C3MinPhonemeFrequency', 'C4MinPhonemeFrequency',\n",
       "       'MaxPhonemeFrequency', 'C1MaxPhonemeFrequency',\n",
       "       'C2MaxPhonemeFrequency', 'C3MaxPhonemeFrequency',\n",
       "       'C4MaxPhonemeFrequency', 'C1InitialPhonemeFrequency',\n",
       "       'C2InitialPhonemeFrequency', 'C3InitialPhonemeFrequency',\n",
       "       'C4InitialPhonemeFrequency', 'MeanDiphoneFrequency',\n",
       "       'C1MeanDiphoneFrequency', 'C2MeanDiphoneFrequency',\n",
       "       'C3MeanDiphoneFrequency', 'C4MeanDiphoneFrequency',\n",
       "       'MinDiphoneFrequency', 'C1MinDiphoneFrequency',\n",
       "       'C2MinDiphoneFrequency', 'C3MinDiphoneFrequency',\n",
       "       'C4MinDiphoneFrequency', 'MaxDiphoneFrequency',\n",
       "       'C1MaxDiphoneFrequency', 'C2MaxDiphoneFrequency',\n",
       "       'C3MaxDiphoneFrequency', 'C4MaxDiphoneFrequency',\n",
       "       'C1InitialDiphoneFrequency', 'C2InitialDiphoneFrequency',\n",
       "       'C3InitialDiphoneFrequency', 'C4InitialDiphoneFrequency',\n",
       "       'TransitionalDiphone1Frequency', 'TransitionalDiphone2Frequency',\n",
       "       'TransitionalDiphone3Frequency', 'C1Friends', 'C2Friends',\n",
       "       'C3Friends', 'C4Friends', 'C1HomographTypes', 'C2HomographTypes',\n",
       "       'C3HomographTypes', 'C4HomographTypes', 'C1HomographTokens',\n",
       "       'C2HomographTokens', 'C3HomographTokens', 'C4HomographTokens',\n",
       "       'C1FriendsFrequency', 'C2FriendsFrequency', 'C3FriendsFrequency',\n",
       "       'C4FriendsFrequency', 'C1HomographsFrequency',\n",
       "       'C2HomographsFrequency', 'C3HomographsFrequency',\n",
       "       'C4HomographsFrequency', 'C1HomophoneTypes', 'C2HomophoneTypes',\n",
       "       'C3HomophoneTypes', 'C4HomophoneTypes', 'C1HomophoneTokens',\n",
       "       'C2HomophoneTokens', 'C3HomophoneTokens', 'C4HomophoneTokens',\n",
       "       'C1HomophonesFrequency', 'C2HomophonesFrequency',\n",
       "       'C3HomophonesFrequency', 'C4HomophonesFrequency', 'C1Entropy',\n",
       "       'C12Entropy', 'C123Entropy', 'C1BackwardEntropy',\n",
       "       'C12BackwardEntropy', 'C123BackwardEntropy', 'C1RE', 'C2RE', 'PMI',\n",
       "       'PSPMI', 'TScore', 'PSTScore', 'C1ConditionalProbability',\n",
       "       'C12ConditionalProbability', 'C123ConditionalProbability',\n",
       "       'C1BackwardConditionalProbability',\n",
       "       'C12BackwardConditionalProbability',\n",
       "       'C123BackwardConditionalProbability',\n",
       "       'EntropyCharacterFrequencies'], dtype=object)"
      ]
     },
     "execution_count": 21,
     "metadata": {},
     "output_type": "execute_result"
    }
   ],
   "source": [
    "cld.columns.values"
   ]
  },
  {
   "cell_type": "code",
   "execution_count": 22,
   "metadata": {},
   "outputs": [],
   "source": [
    "cld_sub = cld.loc[:, [\"Word\", \n",
    "        \"Frequency\", \"C1Frequency\", \"C2Frequency\", \"C3Frequency\", \"C4Frequency\", \n",
    "        'C1FamilySize', 'C2FamilySize', 'C3FamilySize', 'C4FamilySize', \n",
    "        'C1FamilyFrequency', 'C2FamilyFrequency', 'C3FamilyFrequency', 'C4FamilyFrequency',\n",
    "        'C1ConditionalProbability', 'C12ConditionalProbability', 'C123ConditionalProbability',\n",
    "        'C1BackwardConditionalProbability', 'C12BackwardConditionalProbability', 'C123BackwardConditionalProbability',\n",
    "        'C1RE', 'C2RE', 'PMI',\n",
    "        'Strokes', 'C1Strokes', 'C2Strokes', 'C3Strokes', 'C4Strokes']]"
   ]
  },
  {
   "cell_type": "code",
   "execution_count": 23,
   "metadata": {},
   "outputs": [],
   "source": [
    "merge_data = meld_sch_avg.merge(cld_sub, left_on=\"simp_word\", right_on=\"Word\")"
   ]
  },
  {
   "cell_type": "code",
   "execution_count": 24,
   "metadata": {},
   "outputs": [
    {
     "name": "stdout",
     "output_type": "stream",
     "text": [
      "(2934, 23) (2884, 51)\n"
     ]
    }
   ],
   "source": [
    "print(meld_sch_avg.shape, merge_data.shape)"
   ]
  },
  {
   "cell_type": "code",
   "execution_count": 27,
   "metadata": {},
   "outputs": [],
   "source": [
    "merge_data.to_csv(cns_dir/\"merge_cld_meld_sch_avg.csv\")"
   ]
  },
  {
   "cell_type": "code",
   "execution_count": 28,
   "metadata": {},
   "outputs": [
    {
     "data": {
      "text/plain": [
       "array(['word', 'closenessA', 'betweennessA', 'degreeA', 'transA',\n",
       "       'ncompoA', 'closenessB', 'betweennessB', 'degreeB', 'transB',\n",
       "       'ncompoB', 'closenessC', 'betweennessC', 'degreeC', 'transC',\n",
       "       'ncompoC', 'nSense', 'simp_word', 'N', 'RT', 'RTSD', 'ERR',\n",
       "       'length', 'Word', 'Frequency', 'C1Frequency', 'C2Frequency',\n",
       "       'C3Frequency', 'C4Frequency', 'C1FamilySize', 'C2FamilySize',\n",
       "       'C3FamilySize', 'C4FamilySize', 'C1FamilyFrequency',\n",
       "       'C2FamilyFrequency', 'C3FamilyFrequency', 'C4FamilyFrequency',\n",
       "       'C1ConditionalProbability', 'C12ConditionalProbability',\n",
       "       'C123ConditionalProbability', 'C1BackwardConditionalProbability',\n",
       "       'C12BackwardConditionalProbability',\n",
       "       'C123BackwardConditionalProbability', 'C1RE', 'C2RE', 'PMI',\n",
       "       'Strokes', 'C1Strokes', 'C2Strokes', 'C3Strokes', 'C4Strokes'],\n",
       "      dtype=object)"
      ]
     },
     "execution_count": 28,
     "metadata": {},
     "output_type": "execute_result"
    }
   ],
   "source": [
    "merge_data.columns.values"
   ]
  },
  {
   "cell_type": "code",
   "execution_count": null,
   "metadata": {},
   "outputs": [],
   "source": []
  }
 ],
 "metadata": {
  "kernelspec": {
   "display_name": "Python 3",
   "language": "python",
   "name": "python3"
  },
  "language_info": {
   "codemirror_mode": {
    "name": "ipython",
    "version": 3
   },
   "file_extension": ".py",
   "mimetype": "text/x-python",
   "name": "python",
   "nbconvert_exporter": "python",
   "pygments_lexer": "ipython3",
   "version": "3.8.2"
  }
 },
 "nbformat": 4,
 "nbformat_minor": 4
}
