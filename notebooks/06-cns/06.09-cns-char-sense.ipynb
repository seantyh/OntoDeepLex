{
 "cells": [
  {
   "cell_type": "code",
   "execution_count": 24,
   "metadata": {},
   "outputs": [],
   "source": [
    "from CwnGraph import CwnBase, CwnSense"
   ]
  },
  {
   "cell_type": "code",
   "execution_count": 3,
   "metadata": {},
   "outputs": [],
   "source": [
    "import igraph as ig"
   ]
  },
  {
   "cell_type": "code",
   "execution_count": 35,
   "metadata": {},
   "outputs": [
    {
     "name": "stderr",
     "output_type": "stream",
     "text": [
      "/Users/seantyh/anaconda3/lib/python3.7/site-packages/tqdm/autonotebook.py:17: TqdmExperimentalWarning: Using `tqdm.autonotebook.tqdm` in notebook mode. Use `tqdm.tqdm` instead to force console mode (e.g. in jupyter console)\n",
      "  \" (e.g. in jupyter console)\", TqdmExperimentalWarning)\n"
     ]
    }
   ],
   "source": [
    "from tqdm.autonotebook import tqdm"
   ]
  },
  {
   "cell_type": "code",
   "execution_count": 6,
   "metadata": {},
   "outputs": [],
   "source": [
    "cwn = CwnBase()"
   ]
  },
  {
   "cell_type": "code",
   "execution_count": 8,
   "metadata": {},
   "outputs": [],
   "source": [
    "all_chars = cwn.find_lemma(\"^.$\")"
   ]
  },
  {
   "cell_type": "code",
   "execution_count": 13,
   "metadata": {},
   "outputs": [],
   "source": [
    "char_nodes = set(x.lemma for x in all_chars)"
   ]
  },
  {
   "cell_type": "code",
   "execution_count": 19,
   "metadata": {},
   "outputs": [],
   "source": [
    "from itertools import chain\n",
    "sense_nodes = list(set(chain.from_iterable(x.senses for x in all_chars)))"
   ]
  },
  {
   "cell_type": "code",
   "execution_count": 55,
   "metadata": {},
   "outputs": [
    {
     "data": {
      "text/plain": [
       "('is_synset', <CwnSynset[syn_014828]: 治理杭州的地方政府。>, 'forward')"
      ]
     },
     "execution_count": 55,
     "metadata": {},
     "output_type": "execute_result"
    }
   ],
   "source": [
    "sense_nodes[0].relations[0]"
   ]
  },
  {
   "cell_type": "code",
   "execution_count": 56,
   "metadata": {},
   "outputs": [],
   "source": [
    "sense_relations = [(x.id, r[1].id, r[0]) for x in sense_nodes for r in x.relations if type(r[1]) is CwnSense and r[2]==\"forward\"]"
   ]
  },
  {
   "cell_type": "code",
   "execution_count": 57,
   "metadata": {},
   "outputs": [
    {
     "data": {
      "text/plain": [
       "30664"
      ]
     },
     "execution_count": 57,
     "metadata": {},
     "output_type": "execute_result"
    }
   ],
   "source": [
    "len(sense_relations)"
   ]
  },
  {
   "cell_type": "code",
   "execution_count": 59,
   "metadata": {},
   "outputs": [
    {
     "data": {
      "application/vnd.jupyter.widget-view+json": {
       "model_id": "f6d06f4ad2e44081909cfe481ac0377b",
       "version_major": 2,
       "version_minor": 0
      },
      "text/plain": [
       "HBox(children=(IntProgress(value=0, max=4705), HTML(value='')))"
      ]
     },
     "metadata": {},
     "output_type": "display_data"
    },
    {
     "name": "stdout",
     "output_type": "stream",
     "text": [
      "\n"
     ]
    },
    {
     "data": {
      "application/vnd.jupyter.widget-view+json": {
       "model_id": "c40d5b93ba1c400a81fd2ef903f0ae14",
       "version_major": 2,
       "version_minor": 0
      },
      "text/plain": [
       "HBox(children=(IntProgress(value=0, max=17008), HTML(value='')))"
      ]
     },
     "metadata": {},
     "output_type": "display_data"
    },
    {
     "name": "stdout",
     "output_type": "stream",
     "text": [
      "\n"
     ]
    }
   ],
   "source": [
    "G = ig.Graph(directed=False)\n",
    "for x in tqdm(char_nodes):\n",
    "    G.add_vertex(x)\n",
    "\n",
    "for s in tqdm(sense_nodes):\n",
    "    G.add_vertex(s.id)\n",
    "    try:\n",
    "        G.add_edge(s.lemmas[0].lemma, s.id)\n",
    "    except Exception as ex:\n",
    "        print(ex)\n",
    "        break\n"
   ]
  },
  {
   "cell_type": "code",
   "execution_count": 60,
   "metadata": {},
   "outputs": [
    {
     "data": {
      "application/vnd.jupyter.widget-view+json": {
       "model_id": "63b76aeafb014186ab3969abe15e6fdd",
       "version_major": 2,
       "version_minor": 0
      },
      "text/plain": [
       "HBox(children=(IntProgress(value=0, max=30664), HTML(value='')))"
      ]
     },
     "metadata": {},
     "output_type": "display_data"
    },
    {
     "name": "stdout",
     "output_type": "stream",
     "text": [
      "\n"
     ]
    }
   ],
   "source": [
    "vs = set(x[\"name\"] for x in G.vs)\n",
    "for r in tqdm(sense_relations):\n",
    "    src_id, tgt_id, rel_type = r\n",
    "    if tgt_id in vs:\n",
    "        G.add_edge(src_id, tgt_id, relation=rel_type)"
   ]
  },
  {
   "cell_type": "code",
   "execution_count": 62,
   "metadata": {},
   "outputs": [
    {
     "data": {
      "text/plain": [
       "'IGRAPH UN-- 21713 34331 -- \\n+ attr: name (v), relation (e)'"
      ]
     },
     "execution_count": 62,
     "metadata": {},
     "output_type": "execute_result"
    }
   ],
   "source": [
    "G.summary()"
   ]
  },
  {
   "cell_type": "code",
   "execution_count": 68,
   "metadata": {},
   "outputs": [
    {
     "data": {
      "text/plain": [
       "[igraph.Vertex(<igraph.Graph object at 0x7faf10a7a250>, 345, {'name': '重'}),\n",
       " igraph.Vertex(<igraph.Graph object at 0x7faf10a7a250>, 15555, {'name': '05207612'}),\n",
       " igraph.Vertex(<igraph.Graph object at 0x7faf10a7a250>, 20937, {'name': '06593813'}),\n",
       " igraph.Vertex(<igraph.Graph object at 0x7faf10a7a250>, 4290, {'name': '緊'}),\n",
       " igraph.Vertex(<igraph.Graph object at 0x7faf10a7a250>, 16214, {'name': '06593809'}),\n",
       " igraph.Vertex(<igraph.Graph object at 0x7faf10a7a250>, 20291, {'name': '06508307'}),\n",
       " igraph.Vertex(<igraph.Graph object at 0x7faf10a7a250>, 4611, {'name': '密'}),\n",
       " igraph.Vertex(<igraph.Graph object at 0x7faf10a7a250>, 6577, {'name': '06508305'}),\n",
       " igraph.Vertex(<igraph.Graph object at 0x7faf10a7a250>, 14595, {'name': '05235009'}),\n",
       " igraph.Vertex(<igraph.Graph object at 0x7faf10a7a250>, 2838, {'name': '壞'}),\n",
       " igraph.Vertex(<igraph.Graph object at 0x7faf10a7a250>, 21046, {'name': '05235008'}),\n",
       " igraph.Vertex(<igraph.Graph object at 0x7faf10a7a250>, 21185, {'name': '06709316'}),\n",
       " igraph.Vertex(<igraph.Graph object at 0x7faf10a7a250>, 808, {'name': '翻'}),\n",
       " igraph.Vertex(<igraph.Graph object at 0x7faf10a7a250>, 20365, {'name': '06709302'}),\n",
       " igraph.Vertex(<igraph.Graph object at 0x7faf10a7a250>, 20366, {'name': '07057102'}),\n",
       " igraph.Vertex(<igraph.Graph object at 0x7faf10a7a250>, 1686, {'name': '覆'})]"
      ]
     },
     "execution_count": 68,
     "metadata": {},
     "output_type": "execute_result"
    }
   ],
   "source": [
    "[G.vs[x] for x in G.get_shortest_paths(\"重\", \"覆\")[0]]"
   ]
  },
  {
   "cell_type": "code",
   "execution_count": 69,
   "metadata": {},
   "outputs": [],
   "source": [
    "from mesh_import import mesh"
   ]
  },
  {
   "cell_type": "code",
   "execution_count": 91,
   "metadata": {},
   "outputs": [],
   "source": [
    "import pandas as pd\n",
    "from opencc import OpenCC\n",
    "import numpy as np\n",
    "cc = OpenCC('s2t')"
   ]
  },
  {
   "cell_type": "code",
   "execution_count": 74,
   "metadata": {},
   "outputs": [],
   "source": [
    "m2 = pd.read_csv(mesh.get_data_dir() / \"cns/m2_cld.csv\", index_col=0)"
   ]
  },
  {
   "cell_type": "code",
   "execution_count": 79,
   "metadata": {},
   "outputs": [],
   "source": [
    "tw_words = [cc.convert(x) for x in m2[\"word\"]]"
   ]
  },
  {
   "cell_type": "code",
   "execution_count": 96,
   "metadata": {},
   "outputs": [
    {
     "data": {
      "application/vnd.jupyter.widget-view+json": {
       "model_id": "8b94fc66f58b4f4ca6cfffca66bc3dcf",
       "version_major": 2,
       "version_minor": 0
      },
      "text/plain": [
       "HBox(children=(IntProgress(value=0, max=20038), HTML(value='')))"
      ]
     },
     "metadata": {},
     "output_type": "display_data"
    },
    {
     "name": "stderr",
     "output_type": "stream",
     "text": [
      "/Users/seantyh/anaconda3/lib/python3.7/site-packages/ipykernel_launcher.py:4: RuntimeWarning: Couldn't reach some vertices at /Users/travis/build/igraph/python-igraph/vendor/source/igraph/src/structural_properties.c:768\n",
      "  after removing the cwd from sys.path.\n"
     ]
    },
    {
     "name": "stdout",
     "output_type": "stream",
     "text": [
      "\n"
     ]
    }
   ],
   "source": [
    "dists = []\n",
    "for x in tqdm(tw_words):\n",
    "    try:\n",
    "        dists.append(len(G.get_shortest_paths(x[0], x[1])[0]))\n",
    "    except:\n",
    "        dists.append(np.nan)"
   ]
  },
  {
   "cell_type": "code",
   "execution_count": 98,
   "metadata": {},
   "outputs": [],
   "source": [
    "m2[\"sensePathDist\"] = dists"
   ]
  },
  {
   "cell_type": "code",
   "execution_count": 100,
   "metadata": {},
   "outputs": [],
   "source": [
    "m2.to_csv(mesh.get_data_dir() / \"cns/m2_cld_sensePath.csv\")"
   ]
  },
  {
   "cell_type": "code",
   "execution_count": null,
   "metadata": {},
   "outputs": [],
   "source": []
  }
 ],
 "metadata": {
  "kernelspec": {
   "display_name": "Python 3",
   "language": "python",
   "name": "python3"
  },
  "language_info": {
   "codemirror_mode": {
    "name": "ipython",
    "version": 3
   },
   "file_extension": ".py",
   "mimetype": "text/x-python",
   "name": "python",
   "nbconvert_exporter": "python",
   "pygments_lexer": "ipython3",
   "version": "3.7.4"
  }
 },
 "nbformat": 4,
 "nbformat_minor": 4
}
