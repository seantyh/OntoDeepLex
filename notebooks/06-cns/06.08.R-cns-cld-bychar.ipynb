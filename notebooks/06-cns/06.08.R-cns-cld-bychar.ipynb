{
 "cells": [
  {
   "cell_type": "code",
   "execution_count": 1,
   "metadata": {},
   "outputs": [],
   "source": [
    "# install.packages(\"partykit\")\n",
    "# install.packages(\"qgam\")"
   ]
  },
  {
   "cell_type": "code",
   "execution_count": 2,
   "metadata": {},
   "outputs": [
    {
     "name": "stderr",
     "output_type": "stream",
     "text": [
      "Loading required package: readr\n",
      "\n",
      "Loading required package: ggplot2\n",
      "\n",
      "Loading required package: partykit\n",
      "\n",
      "Loading required package: grid\n",
      "\n",
      "Loading required package: libcoin\n",
      "\n",
      "Loading required package: mvtnorm\n",
      "\n",
      "Loading required package: mgcv\n",
      "\n",
      "Loading required package: nlme\n",
      "\n",
      "This is mgcv 1.8-31. For overview type 'help(\"mgcv-package\")'.\n",
      "\n",
      "Loading required package: qgam\n",
      "\n",
      "Loading required package: dplyr\n",
      "\n",
      "\n",
      "Attaching package: 'dplyr'\n",
      "\n",
      "\n",
      "The following object is masked from 'package:nlme':\n",
      "\n",
      "    collapse\n",
      "\n",
      "\n",
      "The following objects are masked from 'package:stats':\n",
      "\n",
      "    filter, lag\n",
      "\n",
      "\n",
      "The following objects are masked from 'package:base':\n",
      "\n",
      "    intersect, setdiff, setequal, union\n",
      "\n",
      "\n"
     ]
    }
   ],
   "source": [
    "require(readr)\n",
    "require(ggplot2)\n",
    "require(partykit)\n",
    "require(mgcv)\n",
    "require(qgam)\n",
    "require(dplyr)"
   ]
  },
  {
   "cell_type": "code",
   "execution_count": 3,
   "metadata": {},
   "outputs": [
    {
     "data": {
      "text/html": [
       "'E:/LangOn/OntoDeepLex/notebooks/06-cns'"
      ],
      "text/latex": [
       "'E:/LangOn/OntoDeepLex/notebooks/06-cns'"
      ],
      "text/markdown": [
       "'E:/LangOn/OntoDeepLex/notebooks/06-cns'"
      ],
      "text/plain": [
       "[1] \"E:/LangOn/OntoDeepLex/notebooks/06-cns\""
      ]
     },
     "metadata": {},
     "output_type": "display_data"
    }
   ],
   "source": [
    "getwd()"
   ]
  },
  {
   "cell_type": "code",
   "execution_count": 4,
   "metadata": {},
   "outputs": [
    {
     "name": "stderr",
     "output_type": "stream",
     "text": [
      "Warning message:\n",
      "\"Missing column names filled in: 'X1' [1]\"\n",
      "Parsed with column specification:\n",
      "cols(\n",
      "  .default = col_double(),\n",
      "  word = \u001b[31mcol_character()\u001b[39m,\n",
      "  C1 = \u001b[31mcol_character()\u001b[39m,\n",
      "  C2 = \u001b[31mcol_character()\u001b[39m\n",
      ")\n",
      "\n",
      "See spec(...) for full column specifications.\n",
      "\n"
     ]
    }
   ],
   "source": [
    "m2=read_csv(\"../../data/cns/m2_cld.csv\")\n",
    "m2$lexicality = factor(m2$lexicality, labels=c(\"Word\", \"NonWord\"))\n",
    "m2$ErrCat = factor(m2$ERR > 50, levels=c(T, F), labels=c(\"ErrHigh\", \"ErrLow\"))"
   ]
  },
  {
   "cell_type": "code",
   "execution_count": 5,
   "metadata": {},
   "outputs": [
    {
     "data": {
      "text/html": [
       "<style>\n",
       ".list-inline {list-style: none; margin:0; padding: 0}\n",
       ".list-inline>li {display: inline-block}\n",
       ".list-inline>li:not(:last-child)::after {content: \"\\00b7\"; padding: 0 .5ex}\n",
       "</style>\n",
       "<ol class=list-inline><li>20038</li><li>31</li></ol>\n"
      ],
      "text/latex": [
       "\\begin{enumerate*}\n",
       "\\item 20038\n",
       "\\item 31\n",
       "\\end{enumerate*}\n"
      ],
      "text/markdown": [
       "1. 20038\n",
       "2. 31\n",
       "\n",
       "\n"
      ],
      "text/plain": [
       "[1] 20038    31"
      ]
     },
     "metadata": {},
     "output_type": "display_data"
    }
   ],
   "source": [
    "dim(m2)"
   ]
  },
  {
   "cell_type": "code",
   "execution_count": 6,
   "metadata": {},
   "outputs": [
    {
     "data": {
      "text/html": [
       "<table>\n",
       "<caption>A tibble: 6 × 31</caption>\n",
       "<thead>\n",
       "\t<tr><th scope=col>X1</th><th scope=col>id</th><th scope=col>word</th><th scope=col>lexicality</th><th scope=col>N</th><th scope=col>RT</th><th scope=col>RTSD</th><th scope=col>zRT</th><th scope=col>zRTSD</th><th scope=col>ERR</th><th scope=col>...</th><th scope=col>C1nSense</th><th scope=col>C2Frequency</th><th scope=col>C2FamilySize</th><th scope=col>C2Friends</th><th scope=col>C2FamilyFrequency</th><th scope=col>C2RE</th><th scope=col>C2Strokes</th><th scope=col>C2Entropy</th><th scope=col>C2nSense</th><th scope=col>ErrCat</th></tr>\n",
       "\t<tr><th scope=col>&lt;dbl&gt;</th><th scope=col>&lt;dbl&gt;</th><th scope=col>&lt;chr&gt;</th><th scope=col>&lt;fct&gt;</th><th scope=col>&lt;dbl&gt;</th><th scope=col>&lt;dbl&gt;</th><th scope=col>&lt;dbl&gt;</th><th scope=col>&lt;dbl&gt;</th><th scope=col>&lt;dbl&gt;</th><th scope=col>&lt;dbl&gt;</th><th scope=col>...</th><th scope=col>&lt;dbl&gt;</th><th scope=col>&lt;dbl&gt;</th><th scope=col>&lt;dbl&gt;</th><th scope=col>&lt;dbl&gt;</th><th scope=col>&lt;dbl&gt;</th><th scope=col>&lt;dbl&gt;</th><th scope=col>&lt;dbl&gt;</th><th scope=col>&lt;dbl&gt;</th><th scope=col>&lt;dbl&gt;</th><th scope=col>&lt;fct&gt;</th></tr>\n",
       "</thead>\n",
       "<tbody>\n",
       "\t<tr><td>    0</td><td>200001</td><td>一切      </td><td>Word   </td><td>40</td><td>610.6202</td><td>104.6158</td><td>-0.744271613</td><td>0.2949250</td><td> 0.000000</td><td>...</td><td>10</td><td>555.2889</td><td>58</td><td>19</td><td>710.2446</td><td>5.972</td><td>4</td><td>2.6764</td><td>18</td><td>ErrLow</td></tr>\n",
       "\t<tr><td>10165</td><td>210166</td><td>土切      </td><td>NonWord</td><td>40</td><td>974.9763</td><td>332.4795</td><td> 0.622558680</td><td>1.2108042</td><td> 2.439024</td><td>...</td><td> 9</td><td>555.2889</td><td>58</td><td>19</td><td>710.2446</td><td>5.972</td><td>4</td><td>2.6764</td><td>18</td><td>ErrLow</td></tr>\n",
       "\t<tr><td>10777</td><td>210778</td><td>手切      </td><td>NonWord</td><td>26</td><td>908.2115</td><td>357.5556</td><td> 0.363349348</td><td>1.0373223</td><td>36.585366</td><td>...</td><td> 6</td><td>555.2889</td><td>58</td><td>19</td><td>710.2446</td><td>5.972</td><td>4</td><td>2.6764</td><td>18</td><td>ErrLow</td></tr>\n",
       "\t<tr><td>11806</td><td>211807</td><td>&lt;U+7535&gt;切</td><td>NonWord</td><td>34</td><td>919.4412</td><td>371.6196</td><td> 0.113097323</td><td>0.8828764</td><td>15.000000</td><td>...</td><td> 8</td><td>555.2889</td><td>58</td><td>19</td><td>710.2446</td><td>5.972</td><td>4</td><td>2.6764</td><td>18</td><td>ErrLow</td></tr>\n",
       "\t<tr><td>12624</td><td>212625</td><td>&lt;U+706F&gt;切</td><td>NonWord</td><td>40</td><td>831.8628</td><td>204.8595</td><td> 0.002339615</td><td>0.5828467</td><td> 2.439024</td><td>...</td><td> 6</td><td>555.2889</td><td>58</td><td>19</td><td>710.2446</td><td>5.972</td><td>4</td><td>2.6764</td><td>18</td><td>ErrLow</td></tr>\n",
       "\t<tr><td> 4515</td><td>204516</td><td>&lt;U+4EB2&gt;切</td><td><span style=white-space:pre-wrap>Word   </span></td><td>39</td><td>675.6721</td><td>159.8018</td><td>-0.519863128</td><td>0.5995777</td><td> 2.500000</td><td>...</td><td> 8</td><td>555.2889</td><td>58</td><td>19</td><td>710.2446</td><td>5.972</td><td>4</td><td>2.6764</td><td>18</td><td>ErrLow</td></tr>\n",
       "</tbody>\n",
       "</table>\n"
      ],
      "text/latex": [
       "A tibble: 6 × 31\n",
       "\\begin{tabular}{lllllllllllllllllllll}\n",
       " X1 & id & word & lexicality & N & RT & RTSD & zRT & zRTSD & ERR & ... & C1nSense & C2Frequency & C2FamilySize & C2Friends & C2FamilyFrequency & C2RE & C2Strokes & C2Entropy & C2nSense & ErrCat\\\\\n",
       " <dbl> & <dbl> & <chr> & <fct> & <dbl> & <dbl> & <dbl> & <dbl> & <dbl> & <dbl> & ... & <dbl> & <dbl> & <dbl> & <dbl> & <dbl> & <dbl> & <dbl> & <dbl> & <dbl> & <fct>\\\\\n",
       "\\hline\n",
       "\t     0 & 200001 & 一切       & Word    & 40 & 610.6202 & 104.6158 & -0.744271613 & 0.2949250 &  0.000000 & ... & 10 & 555.2889 & 58 & 19 & 710.2446 & 5.972 & 4 & 2.6764 & 18 & ErrLow\\\\\n",
       "\t 10165 & 210166 & 土切       & NonWord & 40 & 974.9763 & 332.4795 &  0.622558680 & 1.2108042 &  2.439024 & ... &  9 & 555.2889 & 58 & 19 & 710.2446 & 5.972 & 4 & 2.6764 & 18 & ErrLow\\\\\n",
       "\t 10777 & 210778 & 手切       & NonWord & 26 & 908.2115 & 357.5556 &  0.363349348 & 1.0373223 & 36.585366 & ... &  6 & 555.2889 & 58 & 19 & 710.2446 & 5.972 & 4 & 2.6764 & 18 & ErrLow\\\\\n",
       "\t 11806 & 211807 & <U+7535>切 & NonWord & 34 & 919.4412 & 371.6196 &  0.113097323 & 0.8828764 & 15.000000 & ... &  8 & 555.2889 & 58 & 19 & 710.2446 & 5.972 & 4 & 2.6764 & 18 & ErrLow\\\\\n",
       "\t 12624 & 212625 & <U+706F>切 & NonWord & 40 & 831.8628 & 204.8595 &  0.002339615 & 0.5828467 &  2.439024 & ... &  6 & 555.2889 & 58 & 19 & 710.2446 & 5.972 & 4 & 2.6764 & 18 & ErrLow\\\\\n",
       "\t  4515 & 204516 & <U+4EB2>切 & Word    & 39 & 675.6721 & 159.8018 & -0.519863128 & 0.5995777 &  2.500000 & ... &  8 & 555.2889 & 58 & 19 & 710.2446 & 5.972 & 4 & 2.6764 & 18 & ErrLow\\\\\n",
       "\\end{tabular}\n"
      ],
      "text/markdown": [
       "\n",
       "A tibble: 6 × 31\n",
       "\n",
       "| X1 &lt;dbl&gt; | id &lt;dbl&gt; | word &lt;chr&gt; | lexicality &lt;fct&gt; | N &lt;dbl&gt; | RT &lt;dbl&gt; | RTSD &lt;dbl&gt; | zRT &lt;dbl&gt; | zRTSD &lt;dbl&gt; | ERR &lt;dbl&gt; | ... ... | C1nSense &lt;dbl&gt; | C2Frequency &lt;dbl&gt; | C2FamilySize &lt;dbl&gt; | C2Friends &lt;dbl&gt; | C2FamilyFrequency &lt;dbl&gt; | C2RE &lt;dbl&gt; | C2Strokes &lt;dbl&gt; | C2Entropy &lt;dbl&gt; | C2nSense &lt;dbl&gt; | ErrCat &lt;fct&gt; |\n",
       "|---|---|---|---|---|---|---|---|---|---|---|---|---|---|---|---|---|---|---|---|---|\n",
       "|     0 | 200001 | 一切       | Word    | 40 | 610.6202 | 104.6158 | -0.744271613 | 0.2949250 |  0.000000 | ... | 10 | 555.2889 | 58 | 19 | 710.2446 | 5.972 | 4 | 2.6764 | 18 | ErrLow |\n",
       "| 10165 | 210166 | 土切       | NonWord | 40 | 974.9763 | 332.4795 |  0.622558680 | 1.2108042 |  2.439024 | ... |  9 | 555.2889 | 58 | 19 | 710.2446 | 5.972 | 4 | 2.6764 | 18 | ErrLow |\n",
       "| 10777 | 210778 | 手切       | NonWord | 26 | 908.2115 | 357.5556 |  0.363349348 | 1.0373223 | 36.585366 | ... |  6 | 555.2889 | 58 | 19 | 710.2446 | 5.972 | 4 | 2.6764 | 18 | ErrLow |\n",
       "| 11806 | 211807 | &lt;U+7535&gt;切 | NonWord | 34 | 919.4412 | 371.6196 |  0.113097323 | 0.8828764 | 15.000000 | ... |  8 | 555.2889 | 58 | 19 | 710.2446 | 5.972 | 4 | 2.6764 | 18 | ErrLow |\n",
       "| 12624 | 212625 | &lt;U+706F&gt;切 | NonWord | 40 | 831.8628 | 204.8595 |  0.002339615 | 0.5828467 |  2.439024 | ... |  6 | 555.2889 | 58 | 19 | 710.2446 | 5.972 | 4 | 2.6764 | 18 | ErrLow |\n",
       "|  4515 | 204516 | &lt;U+4EB2&gt;切 | Word    | 39 | 675.6721 | 159.8018 | -0.519863128 | 0.5995777 |  2.500000 | ... |  8 | 555.2889 | 58 | 19 | 710.2446 | 5.972 | 4 | 2.6764 | 18 | ErrLow |\n",
       "\n"
      ],
      "text/plain": [
       "  X1    id     word       lexicality N  RT       RTSD     zRT         \n",
       "1     0 200001 一切       Word       40 610.6202 104.6158 -0.744271613\n",
       "2 10165 210166 土切       NonWord    40 974.9763 332.4795  0.622558680\n",
       "3 10777 210778 手切       NonWord    26 908.2115 357.5556  0.363349348\n",
       "4 11806 211807 <U+7535>切 NonWord    34 919.4412 371.6196  0.113097323\n",
       "5 12624 212625 <U+706F>切 NonWord    40 831.8628 204.8595  0.002339615\n",
       "6  4515 204516 <U+4EB2>切 Word       39 675.6721 159.8018 -0.519863128\n",
       "  zRTSD     ERR       ... C1nSense C2Frequency C2FamilySize C2Friends\n",
       "1 0.2949250  0.000000 ... 10       555.2889    58           19       \n",
       "2 1.2108042  2.439024 ...  9       555.2889    58           19       \n",
       "3 1.0373223 36.585366 ...  6       555.2889    58           19       \n",
       "4 0.8828764 15.000000 ...  8       555.2889    58           19       \n",
       "5 0.5828467  2.439024 ...  6       555.2889    58           19       \n",
       "6 0.5995777  2.500000 ...  8       555.2889    58           19       \n",
       "  C2FamilyFrequency C2RE  C2Strokes C2Entropy C2nSense ErrCat\n",
       "1 710.2446          5.972 4         2.6764    18       ErrLow\n",
       "2 710.2446          5.972 4         2.6764    18       ErrLow\n",
       "3 710.2446          5.972 4         2.6764    18       ErrLow\n",
       "4 710.2446          5.972 4         2.6764    18       ErrLow\n",
       "5 710.2446          5.972 4         2.6764    18       ErrLow\n",
       "6 710.2446          5.972 4         2.6764    18       ErrLow"
      ]
     },
     "metadata": {},
     "output_type": "display_data"
    }
   ],
   "source": [
    "head(m2)"
   ]
  },
  {
   "cell_type": "code",
   "execution_count": 7,
   "metadata": {},
   "outputs": [
    {
     "name": "stderr",
     "output_type": "stream",
     "text": [
      "Warning message:\n",
      "\"Removed 1 rows containing non-finite values (stat_density).\"\n"
     ]
    },
    {
     "data": {
      "image/png": "[encoded data removed]",
      "text/plain": [
       "plot without title"
      ]
     },
     "metadata": {
      "image/png": {
       "height": 600,
       "width": 1200
      },
      "text/plain": {
       "height": 600,
       "width": 1200
      }
     },
     "output_type": "display_data"
    }
   ],
   "source": [
    "options(repr.plot.width=8, repr.plot.height=4, repr.plot.res=300)\n",
    "ggplot(m2, aes(x=RT, color=lexicality)) + \n",
    "    geom_rug() + \n",
    "    geom_density(lwd=1) + \n",
    "    facet_wrap(~ErrCat)"
   ]
  },
  {
   "cell_type": "code",
   "execution_count": 20,
   "metadata": {},
   "outputs": [
    {
     "data": {
      "text/html": [
       "<table>\n",
       "<caption>A tibble: 6 × 17</caption>\n",
       "<thead>\n",
       "\t<tr><th scope=col>RT</th><th scope=col>C1Frequency</th><th scope=col>C1FamilySize</th><th scope=col>C1Friends</th><th scope=col>C1FamilyFrequency</th><th scope=col>C1RE</th><th scope=col>C1Strokes</th><th scope=col>C1Entropy</th><th scope=col>C1nSense</th><th scope=col>C2Frequency</th><th scope=col>C2FamilySize</th><th scope=col>C2Friends</th><th scope=col>C2FamilyFrequency</th><th scope=col>C2RE</th><th scope=col>C2Strokes</th><th scope=col>C2Entropy</th><th scope=col>C2nSense</th></tr>\n",
       "\t<tr><th scope=col>&lt;dbl&gt;</th><th scope=col>&lt;dbl&gt;</th><th scope=col>&lt;dbl&gt;</th><th scope=col>&lt;dbl&gt;</th><th scope=col>&lt;dbl&gt;</th><th scope=col>&lt;dbl&gt;</th><th scope=col>&lt;dbl&gt;</th><th scope=col>&lt;dbl&gt;</th><th scope=col>&lt;dbl&gt;</th><th scope=col>&lt;dbl&gt;</th><th scope=col>&lt;dbl&gt;</th><th scope=col>&lt;dbl&gt;</th><th scope=col>&lt;dbl&gt;</th><th scope=col>&lt;dbl&gt;</th><th scope=col>&lt;dbl&gt;</th><th scope=col>&lt;dbl&gt;</th><th scope=col>&lt;dbl&gt;</th></tr>\n",
       "</thead>\n",
       "<tbody>\n",
       "\t<tr><td>-1.025666</td><td> 106.8840</td><td> 93</td><td> 95</td><td> 111.3788</td><td>2.2189</td><td> 3</td><td>    NA</td><td>9</td><td>555.2889</td><td>58</td><td>19</td><td>710.2446</td><td>5.972</td><td>4</td><td>2.6764</td><td>18</td></tr>\n",
       "\t<tr><td>-1.101065</td><td>1853.4568</td><td>297</td><td>299</td><td>2004.4403</td><td>4.2928</td><td> 4</td><td>    NA</td><td>6</td><td>555.2889</td><td>58</td><td>19</td><td>710.2446</td><td>5.972</td><td>4</td><td>2.6764</td><td>18</td></tr>\n",
       "\t<tr><td>-1.087617</td><td>1172.8642</td><td>229</td><td>229</td><td>1529.6961</td><td>6.5329</td><td> 5</td><td>2.8461</td><td>8</td><td>555.2889</td><td>58</td><td>19</td><td>710.2446</td><td>5.972</td><td>4</td><td>2.6764</td><td>18</td></tr>\n",
       "\t<tr><td>-1.202121</td><td> 163.0173</td><td> 80</td><td> 80</td><td> 155.6412</td><td>2.2152</td><td> 6</td><td>    NA</td><td>6</td><td>555.2889</td><td>58</td><td>19</td><td>710.2446</td><td>5.972</td><td>4</td><td>2.6764</td><td>18</td></tr>\n",
       "\t<tr><td>-1.178846</td><td> 405.0667</td><td>101</td><td>100</td><td> 353.0838</td><td>5.3482</td><td> 9</td><td>2.4879</td><td>9</td><td>555.2889</td><td>58</td><td>19</td><td>710.2446</td><td>5.972</td><td>4</td><td>2.6764</td><td>18</td></tr>\n",
       "\t<tr><td>-1.047403</td><td> 108.2568</td><td> 33</td><td> 33</td><td> 111.1045</td><td>5.1842</td><td>10</td><td>    NA</td><td>8</td><td>555.2889</td><td>58</td><td>19</td><td>710.2446</td><td>5.972</td><td>4</td><td>2.6764</td><td>18</td></tr>\n",
       "</tbody>\n",
       "</table>\n"
      ],
      "text/latex": [
       "A tibble: 6 × 17\n",
       "\\begin{tabular}{lllllllllllllllll}\n",
       " RT & C1Frequency & C1FamilySize & C1Friends & C1FamilyFrequency & C1RE & C1Strokes & C1Entropy & C1nSense & C2Frequency & C2FamilySize & C2Friends & C2FamilyFrequency & C2RE & C2Strokes & C2Entropy & C2nSense\\\\\n",
       " <dbl> & <dbl> & <dbl> & <dbl> & <dbl> & <dbl> & <dbl> & <dbl> & <dbl> & <dbl> & <dbl> & <dbl> & <dbl> & <dbl> & <dbl> & <dbl> & <dbl>\\\\\n",
       "\\hline\n",
       "\t -1.025666 &  106.8840 &  93 &  95 &  111.3788 & 2.2189 &  3 &     NA & 9 & 555.2889 & 58 & 19 & 710.2446 & 5.972 & 4 & 2.6764 & 18\\\\\n",
       "\t -1.101065 & 1853.4568 & 297 & 299 & 2004.4403 & 4.2928 &  4 &     NA & 6 & 555.2889 & 58 & 19 & 710.2446 & 5.972 & 4 & 2.6764 & 18\\\\\n",
       "\t -1.087617 & 1172.8642 & 229 & 229 & 1529.6961 & 6.5329 &  5 & 2.8461 & 8 & 555.2889 & 58 & 19 & 710.2446 & 5.972 & 4 & 2.6764 & 18\\\\\n",
       "\t -1.202121 &  163.0173 &  80 &  80 &  155.6412 & 2.2152 &  6 &     NA & 6 & 555.2889 & 58 & 19 & 710.2446 & 5.972 & 4 & 2.6764 & 18\\\\\n",
       "\t -1.178846 &  405.0667 & 101 & 100 &  353.0838 & 5.3482 &  9 & 2.4879 & 9 & 555.2889 & 58 & 19 & 710.2446 & 5.972 & 4 & 2.6764 & 18\\\\\n",
       "\t -1.047403 &  108.2568 &  33 &  33 &  111.1045 & 5.1842 & 10 &     NA & 8 & 555.2889 & 58 & 19 & 710.2446 & 5.972 & 4 & 2.6764 & 18\\\\\n",
       "\\end{tabular}\n"
      ],
      "text/markdown": [
       "\n",
       "A tibble: 6 × 17\n",
       "\n",
       "| RT &lt;dbl&gt; | C1Frequency &lt;dbl&gt; | C1FamilySize &lt;dbl&gt; | C1Friends &lt;dbl&gt; | C1FamilyFrequency &lt;dbl&gt; | C1RE &lt;dbl&gt; | C1Strokes &lt;dbl&gt; | C1Entropy &lt;dbl&gt; | C1nSense &lt;dbl&gt; | C2Frequency &lt;dbl&gt; | C2FamilySize &lt;dbl&gt; | C2Friends &lt;dbl&gt; | C2FamilyFrequency &lt;dbl&gt; | C2RE &lt;dbl&gt; | C2Strokes &lt;dbl&gt; | C2Entropy &lt;dbl&gt; | C2nSense &lt;dbl&gt; |\n",
       "|---|---|---|---|---|---|---|---|---|---|---|---|---|---|---|---|---|\n",
       "| -1.025666 |  106.8840 |  93 |  95 |  111.3788 | 2.2189 |  3 |     NA | 9 | 555.2889 | 58 | 19 | 710.2446 | 5.972 | 4 | 2.6764 | 18 |\n",
       "| -1.101065 | 1853.4568 | 297 | 299 | 2004.4403 | 4.2928 |  4 |     NA | 6 | 555.2889 | 58 | 19 | 710.2446 | 5.972 | 4 | 2.6764 | 18 |\n",
       "| -1.087617 | 1172.8642 | 229 | 229 | 1529.6961 | 6.5329 |  5 | 2.8461 | 8 | 555.2889 | 58 | 19 | 710.2446 | 5.972 | 4 | 2.6764 | 18 |\n",
       "| -1.202121 |  163.0173 |  80 |  80 |  155.6412 | 2.2152 |  6 |     NA | 6 | 555.2889 | 58 | 19 | 710.2446 | 5.972 | 4 | 2.6764 | 18 |\n",
       "| -1.178846 |  405.0667 | 101 | 100 |  353.0838 | 5.3482 |  9 | 2.4879 | 9 | 555.2889 | 58 | 19 | 710.2446 | 5.972 | 4 | 2.6764 | 18 |\n",
       "| -1.047403 |  108.2568 |  33 |  33 |  111.1045 | 5.1842 | 10 |     NA | 8 | 555.2889 | 58 | 19 | 710.2446 | 5.972 | 4 | 2.6764 | 18 |\n",
       "\n"
      ],
      "text/plain": [
       "  RT        C1Frequency C1FamilySize C1Friends C1FamilyFrequency C1RE  \n",
       "1 -1.025666  106.8840    93           95        111.3788         2.2189\n",
       "2 -1.101065 1853.4568   297          299       2004.4403         4.2928\n",
       "3 -1.087617 1172.8642   229          229       1529.6961         6.5329\n",
       "4 -1.202121  163.0173    80           80        155.6412         2.2152\n",
       "5 -1.178846  405.0667   101          100        353.0838         5.3482\n",
       "6 -1.047403  108.2568    33           33        111.1045         5.1842\n",
       "  C1Strokes C1Entropy C1nSense C2Frequency C2FamilySize C2Friends\n",
       "1  3            NA    9        555.2889    58           19       \n",
       "2  4            NA    6        555.2889    58           19       \n",
       "3  5        2.8461    8        555.2889    58           19       \n",
       "4  6            NA    6        555.2889    58           19       \n",
       "5  9        2.4879    9        555.2889    58           19       \n",
       "6 10            NA    8        555.2889    58           19       \n",
       "  C2FamilyFrequency C2RE  C2Strokes C2Entropy C2nSense\n",
       "1 710.2446          5.972 4         2.6764    18      \n",
       "2 710.2446          5.972 4         2.6764    18      \n",
       "3 710.2446          5.972 4         2.6764    18      \n",
       "4 710.2446          5.972 4         2.6764    18      \n",
       "5 710.2446          5.972 4         2.6764    18      \n",
       "6 710.2446          5.972 4         2.6764    18      "
      ]
     },
     "metadata": {},
     "output_type": "display_data"
    }
   ],
   "source": [
    "m2_nonword = m2 %>% \n",
    "          subset(lexicality==\"NonWord\") %>%\n",
    "          select(c(\"RT\", grep(\"C[12].\", colnames(m2)))) %>%\n",
    "          mutate(RT = -1000/RT) \n",
    "head(m2_nonword)"
   ]
  },
  {
   "cell_type": "code",
   "execution_count": 21,
   "metadata": {},
   "outputs": [
    {
     "data": {
      "text/html": [
       "<style>\n",
       ".list-inline {list-style: none; margin:0; padding: 0}\n",
       ".list-inline>li {display: inline-block}\n",
       ".list-inline>li:not(:last-child)::after {content: \"\\00b7\"; padding: 0 .5ex}\n",
       "</style>\n",
       "<ol class=list-inline><li>'RT'</li><li>'C1Frequency'</li><li>'C1FamilySize'</li><li>'C1Friends'</li><li>'C1FamilyFrequency'</li><li>'C1RE'</li><li>'C1Strokes'</li><li>'C1Entropy'</li><li>'C1nSense'</li><li>'C2Frequency'</li><li>'C2FamilySize'</li><li>'C2Friends'</li><li>'C2FamilyFrequency'</li><li>'C2RE'</li><li>'C2Strokes'</li><li>'C2Entropy'</li><li>'C2nSense'</li></ol>\n"
      ],
      "text/latex": [
       "\\begin{enumerate*}\n",
       "\\item 'RT'\n",
       "\\item 'C1Frequency'\n",
       "\\item 'C1FamilySize'\n",
       "\\item 'C1Friends'\n",
       "\\item 'C1FamilyFrequency'\n",
       "\\item 'C1RE'\n",
       "\\item 'C1Strokes'\n",
       "\\item 'C1Entropy'\n",
       "\\item 'C1nSense'\n",
       "\\item 'C2Frequency'\n",
       "\\item 'C2FamilySize'\n",
       "\\item 'C2Friends'\n",
       "\\item 'C2FamilyFrequency'\n",
       "\\item 'C2RE'\n",
       "\\item 'C2Strokes'\n",
       "\\item 'C2Entropy'\n",
       "\\item 'C2nSense'\n",
       "\\end{enumerate*}\n"
      ],
      "text/markdown": [
       "1. 'RT'\n",
       "2. 'C1Frequency'\n",
       "3. 'C1FamilySize'\n",
       "4. 'C1Friends'\n",
       "5. 'C1FamilyFrequency'\n",
       "6. 'C1RE'\n",
       "7. 'C1Strokes'\n",
       "8. 'C1Entropy'\n",
       "9. 'C1nSense'\n",
       "10. 'C2Frequency'\n",
       "11. 'C2FamilySize'\n",
       "12. 'C2Friends'\n",
       "13. 'C2FamilyFrequency'\n",
       "14. 'C2RE'\n",
       "15. 'C2Strokes'\n",
       "16. 'C2Entropy'\n",
       "17. 'C2nSense'\n",
       "\n",
       "\n"
      ],
      "text/plain": [
       " [1] \"RT\"                \"C1Frequency\"       \"C1FamilySize\"     \n",
       " [4] \"C1Friends\"         \"C1FamilyFrequency\" \"C1RE\"             \n",
       " [7] \"C1Strokes\"         \"C1Entropy\"         \"C1nSense\"         \n",
       "[10] \"C2Frequency\"       \"C2FamilySize\"      \"C2Friends\"        \n",
       "[13] \"C2FamilyFrequency\" \"C2RE\"              \"C2Strokes\"        \n",
       "[16] \"C2Entropy\"         \"C2nSense\"         "
      ]
     },
     "metadata": {},
     "output_type": "display_data"
    }
   ],
   "source": [
    "names(m2_nonword)"
   ]
  },
  {
   "cell_type": "code",
   "execution_count": null,
   "metadata": {},
   "outputs": [],
   "source": [
    "cforest(RT~C1Frequency+C1FamilySize, data=m2_nonword)"
   ]
  },
  {
   "cell_type": "code",
   "execution_count": null,
   "metadata": {},
   "outputs": [],
   "source": []
  }
 ],
 "metadata": {
  "kernelspec": {
   "display_name": "R",
   "language": "R",
   "name": "ir"
  },
  "language_info": {
   "codemirror_mode": "r",
   "file_extension": ".r",
   "mimetype": "text/x-r-source",
   "name": "R",
   "pygments_lexer": "r",
   "version": "4.0.0"
  }
 },
 "nbformat": 4,
 "nbformat_minor": 4
}
