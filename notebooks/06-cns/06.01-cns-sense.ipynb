{
 "cells": [
  {
   "cell_type": "code",
   "execution_count": 1,
   "metadata": {},
   "outputs": [
    {
     "name": "stderr",
     "output_type": "stream",
     "text": [
      "E:\\LangOn\\OntoDeepLex\\src\\mesh\\cns.py:3: TqdmExperimentalWarning: Using `tqdm.autonotebook.tqdm` in notebook mode. Use `tqdm.tqdm` instead to force console mode (e.g. in jupyter console)\n",
      "  from tqdm.autonotebook import tqdm\n"
     ]
    }
   ],
   "source": [
    "%load_ext autoreload\n",
    "%autoreload 2\n",
    "from mesh_import import mesh"
   ]
  },
  {
   "cell_type": "code",
   "execution_count": 2,
   "metadata": {},
   "outputs": [],
   "source": [
    "import igraph as ig\n",
    "from CwnGraph import CwnBase, CwnSense, CwnFacet, PwnSynset\n",
    "from tqdm.autonotebook import tqdm"
   ]
  },
  {
   "cell_type": "code",
   "execution_count": 3,
   "metadata": {},
   "outputs": [],
   "source": [
    "cns_dir = mesh.get_data_dir() / \"cns\""
   ]
  },
  {
   "cell_type": "code",
   "execution_count": 4,
   "metadata": {},
   "outputs": [],
   "source": [
    "cwn = CwnBase()"
   ]
  },
  {
   "cell_type": "markdown",
   "metadata": {},
   "source": [
    "## import data into igraph"
   ]
  },
  {
   "cell_type": "code",
   "execution_count": 5,
   "metadata": {},
   "outputs": [],
   "source": [
    "from matplotlib import pyplot as plt"
   ]
  },
  {
   "cell_type": "code",
   "execution_count": 6,
   "metadata": {},
   "outputs": [],
   "source": [
    "def summarize_graph(G, compo_distr):    \n",
    "    print(\"--------\")\n",
    "    print(G.summary())\n",
    "    print(\"|Max component|: %d\" % compo_distr[-1][0])\n",
    "    print(\"|Max component|/|V|: %.2f\" % (compo_distr[-1][0]/len(G.vs)))"
   ]
  },
  {
   "cell_type": "markdown",
   "metadata": {},
   "source": [
    "## Graph A"
   ]
  },
  {
   "cell_type": "code",
   "execution_count": 7,
   "metadata": {},
   "outputs": [
    {
     "data": {
      "application/vnd.jupyter.widget-view+json": {
       "model_id": "ef75770e655a4d8693451c307352b19f",
       "version_major": 2,
       "version_minor": 0
      },
      "text/plain": [
       "HBox(children=(FloatProgress(value=1.0, bar_style='info', max=1.0), HTML(value='')))"
      ]
     },
     "metadata": {},
     "output_type": "display_data"
    },
    {
     "name": "stdout",
     "output_type": "stream",
     "text": [
      "\n"
     ]
    }
   ],
   "source": [
    "rel_set_a = [\"hypernym\"]\n",
    "G_a = mesh.build_igraph(cwn, included_rel=rel_set_a)"
   ]
  },
  {
   "cell_type": "code",
   "execution_count": 8,
   "metadata": {},
   "outputs": [
    {
     "data": {
      "text/plain": [
       "'IGRAPH UN-- 28827 3122 -- \\n+ attr: name (v), rel_type (e)'"
      ]
     },
     "execution_count": 8,
     "metadata": {},
     "output_type": "execute_result"
    }
   ],
   "source": [
    "G_a.summary()"
   ]
  },
  {
   "cell_type": "code",
   "execution_count": 9,
   "metadata": {},
   "outputs": [
    {
     "data": {
      "image/png": "[encoded data removed]",
      "text/plain": [
       "<Figure size 432x288 with 1 Axes>"
      ]
     },
     "metadata": {
      "needs_background": "light"
     },
     "output_type": "display_data"
    }
   ],
   "source": [
    "# compo_sizes: Dict[CompoSize, Count]\n",
    "compo_distr_a = mesh.compo_size_distribution(G_a, title_label=\"Graph A\")"
   ]
  },
  {
   "cell_type": "code",
   "execution_count": 10,
   "metadata": {},
   "outputs": [
    {
     "name": "stdout",
     "output_type": "stream",
     "text": [
      "Graph A\n",
      "--------\n",
      "IGRAPH UN-- 28827 3122 -- \n",
      "+ attr: name (v), rel_type (e)\n",
      "|Max component|: 1931\n",
      "|Max component|/|V|: 0.07\n"
     ]
    }
   ],
   "source": [
    "print(\"Graph A\")\n",
    "summarize_graph(G_a, compo_distr_a)"
   ]
  },
  {
   "cell_type": "code",
   "execution_count": 11,
   "metadata": {},
   "outputs": [],
   "source": [
    "G_a.write(cns_dir / \"cwn_sense_graph_a.pkl\", format=\"pickle\")"
   ]
  },
  {
   "cell_type": "markdown",
   "metadata": {},
   "source": [
    "## Graph B"
   ]
  },
  {
   "cell_type": "code",
   "execution_count": 7,
   "metadata": {},
   "outputs": [
    {
     "data": {
      "application/vnd.jupyter.widget-view+json": {
       "model_id": "88f6cf5f908749e39fd3e03f8b3b996d",
       "version_major": 2,
       "version_minor": 0
      },
      "text/plain": [
       "HBox(children=(FloatProgress(value=1.0, bar_style='info', max=1.0), HTML(value='')))"
      ]
     },
     "metadata": {},
     "output_type": "display_data"
    },
    {
     "name": "stdout",
     "output_type": "stream",
     "text": [
      "\n"
     ]
    }
   ],
   "source": [
    "rel_set_b = [\"synonym\"]\n",
    "G_b = mesh.build_igraph(cwn, included_rel=rel_set_b)"
   ]
  },
  {
   "cell_type": "code",
   "execution_count": 8,
   "metadata": {},
   "outputs": [
    {
     "data": {
      "image/png": "[encoded data removed]",
      "text/plain": [
       "<Figure size 432x288 with 1 Axes>"
      ]
     },
     "metadata": {
      "needs_background": "light"
     },
     "output_type": "display_data"
    }
   ],
   "source": [
    "# compo_sizes: Dict[CompoSize, Count]\n",
    "compo_distr_b = mesh.compo_size_distribution(G_b, title_label=\"Graph B\")"
   ]
  },
  {
   "cell_type": "code",
   "execution_count": 9,
   "metadata": {},
   "outputs": [
    {
     "name": "stdout",
     "output_type": "stream",
     "text": [
      "Graph B\n",
      "--------\n",
      "IGRAPH UN-- 28827 14875 -- \n",
      "+ attr: name (v), rel_type (e)\n",
      "|Max component|: 51\n",
      "|Max component|/|V|: 0.00\n"
     ]
    }
   ],
   "source": [
    "print(\"Graph B\")\n",
    "summarize_graph(G_b, compo_distr_b)"
   ]
  },
  {
   "cell_type": "code",
   "execution_count": 10,
   "metadata": {},
   "outputs": [],
   "source": [
    "G_b.write(cns_dir / \"cwn_sense_graph_b.pkl\", format=\"pickle\")"
   ]
  },
  {
   "cell_type": "markdown",
   "metadata": {},
   "source": [
    "## Graph C"
   ]
  },
  {
   "cell_type": "code",
   "execution_count": 16,
   "metadata": {},
   "outputs": [
    {
     "data": {
      "application/vnd.jupyter.widget-view+json": {
       "model_id": "12afbf0a54c94a5fa5a29b3832ae6f5d",
       "version_major": 2,
       "version_minor": 0
      },
      "text/plain": [
       "HBox(children=(FloatProgress(value=1.0, bar_style='info', max=1.0), HTML(value='')))"
      ]
     },
     "metadata": {},
     "output_type": "display_data"
    },
    {
     "name": "stdout",
     "output_type": "stream",
     "text": [
      "\n"
     ]
    }
   ],
   "source": [
    "rel_set_c = None\n",
    "G_c = mesh.build_igraph(cwn, included_rel=rel_set_c)"
   ]
  },
  {
   "cell_type": "code",
   "execution_count": 17,
   "metadata": {},
   "outputs": [
    {
     "data": {
      "image/png": "[encoded data removed]",
      "text/plain": [
       "<Figure size 432x288 with 1 Axes>"
      ]
     },
     "metadata": {
      "needs_background": "light"
     },
     "output_type": "display_data"
    }
   ],
   "source": [
    "# compo_sizes: Dict[CompoSize, Count]\n",
    "compo_distr_c = mesh.compo_size_distribution(G_c, title_label=\"Graph C\")"
   ]
  },
  {
   "cell_type": "code",
   "execution_count": 18,
   "metadata": {},
   "outputs": [
    {
     "name": "stdout",
     "output_type": "stream",
     "text": [
      "Graph C\n",
      "--------\n",
      "IGRAPH UN-- 28827 25405 -- \n",
      "+ attr: name (v), rel_type (e)\n",
      "|Max component|: 5165\n",
      "|Max component|/|V|: 0.18\n"
     ]
    }
   ],
   "source": [
    "print(\"Graph C\")\n",
    "summarize_graph(G_c, compo_distr_c)"
   ]
  },
  {
   "cell_type": "code",
   "execution_count": 19,
   "metadata": {},
   "outputs": [],
   "source": [
    "G_c.write(cns_dir / \"cwn_sense_graph_c.pkl\", format=\"pickle\")"
   ]
  },
  {
   "cell_type": "markdown",
   "metadata": {},
   "source": [
    "## Graph X"
   ]
  },
  {
   "cell_type": "code",
   "execution_count": 58,
   "metadata": {},
   "outputs": [
    {
     "data": {
      "application/vnd.jupyter.widget-view+json": {
       "model_id": "ca578897f7b544df92f065497071d51a",
       "version_major": 2,
       "version_minor": 0
      },
      "text/plain": [
       "HBox(children=(FloatProgress(value=1.0, bar_style='info', max=1.0), HTML(value='')))"
      ]
     },
     "metadata": {},
     "output_type": "display_data"
    },
    {
     "name": "stdout",
     "output_type": "stream",
     "text": [
      "\n"
     ]
    }
   ],
   "source": [
    "rel_set_x = [\"hypernym\"]\n",
    "G_x = mesh.build_igraph(cwn, included_rel=rel_set_x, use_pwn=True, directed=True)"
   ]
  },
  {
   "cell_type": "code",
   "execution_count": 59,
   "metadata": {},
   "outputs": [],
   "source": [
    "G_x_clone = G_x.copy()"
   ]
  },
  {
   "cell_type": "code",
   "execution_count": 60,
   "metadata": {},
   "outputs": [
    {
     "data": {
      "image/png": "[encoded data removed]",
      "text/plain": [
       "<Figure size 432x288 with 1 Axes>"
      ]
     },
     "metadata": {
      "needs_background": "light"
     },
     "output_type": "display_data"
    }
   ],
   "source": [
    "# compo_sizes: Dict[CompoSize, Count]\n",
    "G_x_clone.to_undirected(combine_edges='first')\n",
    "compo_distr_x = mesh.compo_size_distribution(G_x_clone, title_label=\"Graph X\")"
   ]
  },
  {
   "cell_type": "code",
   "execution_count": 61,
   "metadata": {},
   "outputs": [
    {
     "name": "stdout",
     "output_type": "stream",
     "text": [
      "Graph X\n",
      "--------\n",
      "IGRAPH UN-- 34842 34366 -- \n",
      "+ attr: name (v), pwn (v), pwn (e), rel_type (e)\n",
      "|Max component|: 11159\n",
      "|Max component|/|V|: 0.32\n"
     ]
    }
   ],
   "source": [
    "print(\"Graph X\")\n",
    "summarize_graph(G_x_clone, compo_distr_x)"
   ]
  },
  {
   "cell_type": "code",
   "execution_count": 62,
   "metadata": {},
   "outputs": [
    {
     "name": "stdout",
     "output_type": "stream",
     "text": [
      "|PWN nodes|: 6015\n",
      "|PWN edges|: 24032\n"
     ]
    }
   ],
   "source": [
    "print(\"|PWN nodes|: %d\" % len(G_x_clone.vs.select(pwn=\"pwn\")))\n",
    "print(\"|PWN edges|: %d\" % len(G_x_clone.es.select(pwn=\"pwn\")))"
   ]
  },
  {
   "cell_type": "code",
   "execution_count": 63,
   "metadata": {},
   "outputs": [],
   "source": [
    "G_x.write(cns_dir / \"cwn_sense_graph_x.pkl\", format=\"pickle\")"
   ]
  },
  {
   "cell_type": "markdown",
   "metadata": {},
   "source": [
    "## Graph Y"
   ]
  },
  {
   "cell_type": "code",
   "execution_count": 21,
   "metadata": {},
   "outputs": [
    {
     "data": {
      "application/vnd.jupyter.widget-view+json": {
       "model_id": "839247468993436ebbe7a7a2d94ec973",
       "version_major": 2,
       "version_minor": 0
      },
      "text/plain": [
       "HBox(children=(FloatProgress(value=1.0, bar_style='info', max=1.0), HTML(value='')))"
      ]
     },
     "metadata": {},
     "output_type": "display_data"
    },
    {
     "name": "stdout",
     "output_type": "stream",
     "text": [
      "\n"
     ]
    }
   ],
   "source": [
    "rel_set_y = None\n",
    "G_y = mesh.build_igraph(cwn, included_rel=rel_set_y, use_pwn=True, directed=True)"
   ]
  },
  {
   "cell_type": "code",
   "execution_count": 22,
   "metadata": {},
   "outputs": [
    {
     "data": {
      "image/png": "[encoded data removed]",
      "text/plain": [
       "<Figure size 432x288 with 1 Axes>"
      ]
     },
     "metadata": {
      "needs_background": "light"
     },
     "output_type": "display_data"
    }
   ],
   "source": [
    "G_y_clone = G_y.copy()\n",
    "# compo_sizes: Dict[CompoSize, Count]\n",
    "G_y_clone.to_undirected(combine_edges='first')\n",
    "compo_distr_y = mesh.compo_size_distribution(G_y_clone, title_label=\"Graph Y\")"
   ]
  },
  {
   "cell_type": "code",
   "execution_count": 23,
   "metadata": {},
   "outputs": [
    {
     "name": "stdout",
     "output_type": "stream",
     "text": [
      "Graph X\n",
      "--------\n",
      "IGRAPH UN-- 34842 58807 -- \n",
      "+ attr: name (v), pwn (v), pwn (e), rel_type (e)\n",
      "|Max component|: 16154\n",
      "|Max component|/|V|: 0.46\n"
     ]
    }
   ],
   "source": [
    "print(\"Graph X\")\n",
    "summarize_graph(G_y_clone, compo_distr_y)"
   ]
  },
  {
   "cell_type": "code",
   "execution_count": 24,
   "metadata": {},
   "outputs": [
    {
     "name": "stdout",
     "output_type": "stream",
     "text": [
      "|PWN nodes|: 6015\n",
      "|PWN edges|: 24032\n"
     ]
    }
   ],
   "source": [
    "print(\"|PWN nodes|: %d\" % len(G_y_clone.vs.select(pwn=\"pwn\")))\n",
    "print(\"|PWN edges|: %d\" % len(G_y_clone.es.select(pwn=\"pwn\")))"
   ]
  },
  {
   "cell_type": "code",
   "execution_count": 25,
   "metadata": {},
   "outputs": [],
   "source": [
    "G_y.write(cns_dir / \"cwn_sense_graph_y.pkl\", format=\"pickle\")"
   ]
  },
  {
   "cell_type": "code",
   "execution_count": null,
   "metadata": {},
   "outputs": [],
   "source": []
  }
 ],
 "metadata": {
  "kernelspec": {
   "display_name": "Python 3",
   "language": "python",
   "name": "python3"
  },
  "language_info": {
   "codemirror_mode": {
    "name": "ipython",
    "version": 3
   },
   "file_extension": ".py",
   "mimetype": "text/x-python",
   "name": "python",
   "nbconvert_exporter": "python",
   "pygments_lexer": "ipython3",
   "version": "3.8.2"
  }
 },
 "nbformat": 4,
 "nbformat_minor": 4
}
