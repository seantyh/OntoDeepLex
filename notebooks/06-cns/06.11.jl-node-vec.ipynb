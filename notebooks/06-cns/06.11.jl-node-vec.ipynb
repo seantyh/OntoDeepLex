{
 "cells": [
  {
   "cell_type": "code",
   "execution_count": null,
   "metadata": {},
   "outputs": [],
   "source": [
    "using Pkg\n",
    "Pkg.add(\"HDF5\")\n",
    "using HDF5"
   ]
  },
  {
   "cell_type": "code",
   "execution_count": null,
   "metadata": {},
   "outputs": [],
   "source": [
    "nv_path = abspath(joinpath(pwd(), \"../../data/cns/node_vec_homophily.h5\"))"
   ]
  },
  {
   "cell_type": "code",
   "execution_count": null,
   "metadata": {},
   "outputs": [],
   "source": [
    "isfile(nv_path)"
   ]
  },
  {
   "cell_type": "code",
   "execution_count": null,
   "metadata": {},
   "outputs": [],
   "source": [
    "hfile = h5open(nv_path, \"r\")"
   ]
  },
  {
   "cell_type": "code",
   "execution_count": 13,
   "metadata": {},
   "outputs": [],
   "source": [
    "words = split(read(hfile[\"words\"]), \",\")\n",
    "vectors = permutedims(read(hfile[\"vectors\"]), [2, 1]);"
   ]
  },
  {
   "cell_type": "code",
   "execution_count": 19,
   "metadata": {},
   "outputs": [
    {
     "data": {
      "text/plain": [
       "100-element Array{Float64,1}:\n",
       "  1.366836428642273\n",
       "  1.36902916431427\n",
       "  1.651720404624939\n",
       " -0.5116387605667114\n",
       "  1.5142534971237183\n",
       " -0.8499777317047119\n",
       "  0.5753548741340637\n",
       "  1.6395268440246582\n",
       " -2.4443440437316895\n",
       "  2.668677806854248\n",
       " -2.412684440612793\n",
       " -1.169477939605713\n",
       " -1.2039084434509277\n",
       "  ⋮\n",
       " -1.1262222528457642\n",
       " -1.7450754642486572\n",
       " -0.9613437652587891\n",
       "  0.008424882777035236\n",
       " -4.9206767082214355\n",
       "  1.5946438312530518\n",
       " -4.97382926940918\n",
       " -0.03532867506146431\n",
       "  4.109317779541016\n",
       " -0.08271148055791855\n",
       " -1.5829344987869263\n",
       "  0.2534515857696533"
      ]
     },
     "execution_count": 19,
     "metadata": {},
     "output_type": "execute_result"
    }
   ],
   "source": [
    "vectors[findfirst(x->x==\"中\", words), :]"
   ]
  },
  {
   "cell_type": "code",
   "execution_count": null,
   "metadata": {},
   "outputs": [],
   "source": []
  }
 ],
 "metadata": {
  "kernelspec": {
   "display_name": "Julia 1.4.2",
   "language": "julia",
   "name": "julia-1.4"
  },
  "language_info": {
   "file_extension": ".jl",
   "mimetype": "application/julia",
   "name": "julia",
   "version": "1.4.2"
  }
 },
 "nbformat": 4,
 "nbformat_minor": 4
}
