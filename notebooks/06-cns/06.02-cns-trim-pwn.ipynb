{
 "cells": [
  {
   "cell_type": "code",
   "execution_count": 14,
   "metadata": {},
   "outputs": [
    {
     "name": "stdout",
     "output_type": "stream",
     "text": [
      "The autoreload extension is already loaded. To reload it, use:\n",
      "  %reload_ext autoreload\n"
     ]
    }
   ],
   "source": [
    "%load_ext autoreload\n",
    "%autoreload 2\n",
    "from mesh_import import mesh"
   ]
  },
  {
   "cell_type": "code",
   "execution_count": 36,
   "metadata": {},
   "outputs": [],
   "source": [
    "import igraph as ig\n",
    "from CwnGraph import CwnBase, CwnSense, CwnFacet\n",
    "from tqdm.autonotebook import tqdm"
   ]
  },
  {
   "cell_type": "code",
   "execution_count": 37,
   "metadata": {},
   "outputs": [],
   "source": [
    "testG = ig.Graph(directed=True)\n",
    "testG.add_vertices(10)\n",
    "testG.add_edges([[4,3],[3,2],[2,1],[1,0],[5,1],[6,3],[7,1],[8,7],[9,7],[1,5],[3,6],[7,9]])\n",
    "for idx in [0,1,2,3,4,7,8]:\n",
    "    testG.vs[idx][\"pwn\"] = \"pwn\""
   ]
  },
  {
   "cell_type": "code",
   "execution_count": 38,
   "metadata": {},
   "outputs": [
    {
     "data": {
      "text/plain": [
       "[[inf, inf], [1, inf], [2, inf]]"
      ]
     },
     "execution_count": 38,
     "metadata": {},
     "output_type": "execute_result"
    }
   ],
   "source": [
    "testG.shortest_paths([0,1,2],[5,6])"
   ]
  },
  {
   "cell_type": "code",
   "execution_count": 39,
   "metadata": {},
   "outputs": [
    {
     "data": {
      "application/vnd.jupyter.widget-view+json": {
       "model_id": "c9cb0091855447e8a09d7235585e64a8",
       "version_major": 2,
       "version_minor": 0
      },
      "text/plain": [
       "HBox(children=(FloatProgress(value=0.0, max=7.0), HTML(value='')))"
      ]
     },
     "metadata": {},
     "output_type": "display_data"
    },
    {
     "name": "stdout",
     "output_type": "stream",
     "text": [
      "\n"
     ]
    },
    {
     "data": {
      "application/vnd.jupyter.widget-view+json": {
       "model_id": "ca2eff5518e842d1a8fe3777bbc9ce2d",
       "version_major": 2,
       "version_minor": 0
      },
      "text/plain": [
       "HBox(children=(FloatProgress(value=0.0, description='adding edges', max=2.0, style=ProgressStyle(description_w…"
      ]
     },
     "metadata": {},
     "output_type": "display_data"
    },
    {
     "name": "stdout",
     "output_type": "stream",
     "text": [
      "\n"
     ]
    }
   ],
   "source": [
    "mesh.trim_pwn(testG)"
   ]
  },
  {
   "cell_type": "code",
   "execution_count": 40,
   "metadata": {},
   "outputs": [
    {
     "data": {
      "image/png": "[encoded data removed]",
      "text/plain": [
       "<Figure size 432x288 with 1 Axes>"
      ]
     },
     "metadata": {},
     "output_type": "display_data"
    }
   ],
   "source": [
    "mesh.draw_igraph(testG)"
   ]
  },
  {
   "cell_type": "markdown",
   "metadata": {},
   "source": [
    "# Graph X Trimming"
   ]
  },
  {
   "cell_type": "code",
   "execution_count": 41,
   "metadata": {},
   "outputs": [],
   "source": [
    "cns_dir = mesh.get_data_dir() / \"cns\"\n",
    "G_x = ig.read(cns_dir / \"cwn_sense_graph_x.pkl\", format=\"pickle\")"
   ]
  },
  {
   "cell_type": "code",
   "execution_count": 42,
   "metadata": {},
   "outputs": [
    {
     "data": {
      "application/vnd.jupyter.widget-view+json": {
       "model_id": "9cefddbc2a1f426e8ab1c5d32d075a8e",
       "version_major": 2,
       "version_minor": 0
      },
      "text/plain": [
       "HBox(children=(FloatProgress(value=0.0, max=6015.0), HTML(value='')))"
      ]
     },
     "metadata": {},
     "output_type": "display_data"
    },
    {
     "name": "stdout",
     "output_type": "stream",
     "text": [
      "\n"
     ]
    },
    {
     "data": {
      "application/vnd.jupyter.widget-view+json": {
       "model_id": "45bef5cf314b4b9e97372dd8ab8dae9b",
       "version_major": 2,
       "version_minor": 0
      },
      "text/plain": [
       "HBox(children=(FloatProgress(value=0.0, description='adding edges', max=64756.0, style=ProgressStyle(descripti…"
      ]
     },
     "metadata": {},
     "output_type": "display_data"
    },
    {
     "name": "stdout",
     "output_type": "stream",
     "text": [
      "\n"
     ]
    }
   ],
   "source": [
    "mesh.trim_pwn(G_x)"
   ]
  },
  {
   "cell_type": "code",
   "execution_count": 43,
   "metadata": {},
   "outputs": [],
   "source": [
    "def summarize_graph(G, compo_distr):    \n",
    "    print(\"--------\")\n",
    "    print(G.summary())\n",
    "    print(\"|Max component|: %d\" % compo_distr[-1][0])\n",
    "    print(\"|Max component|/|V|: %.2f\" % (compo_distr[-1][0]/len(G.vs)))"
   ]
  },
  {
   "cell_type": "code",
   "execution_count": 44,
   "metadata": {},
   "outputs": [
    {
     "name": "stdout",
     "output_type": "stream",
     "text": [
      "--------\n",
      "IGRAPH UN-- 28827 61249 -- \n",
      "+ attr: name (v), pwn (v), pwn (e), rel_type (e)\n",
      "|Max component|: 4690\n",
      "|Max component|/|V|: 0.16\n"
     ]
    },
    {
     "data": {
      "image/png": "[encoded data removed]",
      "text/plain": [
       "<Figure size 432x288 with 1 Axes>"
      ]
     },
     "metadata": {
      "needs_background": "light"
     },
     "output_type": "display_data"
    }
   ],
   "source": [
    "Gx_trim = G_x.copy()\n",
    "Gx_trim.to_undirected(combine_edges='first')\n",
    "compo_distr_x = mesh.compo_size_distribution(Gx_trim, title_label=\"Graph X(trimmed)\")\n",
    "summarize_graph(Gx_trim, compo_distr_x)"
   ]
  },
  {
   "cell_type": "code",
   "execution_count": 45,
   "metadata": {},
   "outputs": [],
   "source": [
    "Gx_trim.write(cns_dir / \"cwn_sense_graph_x_trim.pkl\", format=\"pickle\")"
   ]
  },
  {
   "cell_type": "markdown",
   "metadata": {},
   "source": [
    "## Graph X trimmed structure"
   ]
  },
  {
   "cell_type": "code",
   "execution_count": 35,
   "metadata": {},
   "outputs": [],
   "source": [
    "import numpy as np\n",
    "from CwnGraph import CwnBase, CwnSense\n",
    "from nltk.corpus import wordnet as wn"
   ]
  },
  {
   "cell_type": "code",
   "execution_count": 29,
   "metadata": {},
   "outputs": [
    {
     "name": "stderr",
     "output_type": "stream",
     "text": [
      "<ipython-input-29-c8b4f71366aa>:3: RuntimeWarning: closeness centrality is not well-defined for disconnected graphs at c:\\projects\\python-igraph-jst2e\\vendor\\build\\igraph\\igraph-0.9.0-pre+0afacadd-msvc\\src\\centrality.c:2856\n",
      "  cls_x = Gx_clone.closeness()\n"
     ]
    }
   ],
   "source": [
    "bet_x = Gx_clone.betweenness()\n",
    "deg_x = Gx_clone.degree()\n",
    "cls_x = Gx_clone.closeness()"
   ]
  },
  {
   "cell_type": "code",
   "execution_count": 31,
   "metadata": {},
   "outputs": [],
   "source": [
    "vcompo = mesh.vertex_compo_size(Gx_clone)"
   ]
  },
  {
   "cell_type": "code",
   "execution_count": 32,
   "metadata": {},
   "outputs": [],
   "source": [
    "import matplotlib.pyplot as plt"
   ]
  },
  {
   "cell_type": "code",
   "execution_count": 33,
   "metadata": {},
   "outputs": [],
   "source": [
    "jitter = lambda x: np.maximum(np.array(x) + np.random.randn(len(x))/5, 0)"
   ]
  },
  {
   "cell_type": "code",
   "execution_count": 43,
   "metadata": {},
   "outputs": [
    {
     "data": {
      "text/plain": [
       "Text(0.5, 0, 'size of component which vertex in')"
      ]
     },
     "execution_count": 43,
     "metadata": {},
     "output_type": "execute_result"
    },
    {
     "data": {
      "image/png": "[encoded data removed]",
      "text/plain": [
       "<Figure size 432x288 with 3 Axes>"
      ]
     },
     "metadata": {
      "needs_background": "light"
     },
     "output_type": "display_data"
    }
   ],
   "source": [
    "fig, axes = plt.subplots(3,1)\n",
    "axes[0].scatter(np.log(jitter(vcompo)+1), np.log(jitter(bet_x)+1), s=4, alpha=0.5)\n",
    "axes[0].set_ylabel('betweenness')\n",
    "axes[1].scatter(np.log(jitter(vcompo)+1), np.log(jitter(cls_x)+1), s=4, alpha=0.5)\n",
    "axes[1].set_ylabel('closeness')\n",
    "axes[2].scatter(np.log(jitter(vcompo)+1), np.log(jitter(deg_x)+1), s=4, alpha=0.5)\n",
    "axes[2].set_xlabel('')\n",
    "axes[2].set_xlabel('size of component which vertex in')\n"
   ]
  },
  {
   "cell_type": "markdown",
   "metadata": {},
   "source": [
    "## Graph Y trimming"
   ]
  },
  {
   "cell_type": "code",
   "execution_count": 25,
   "metadata": {},
   "outputs": [],
   "source": [
    "cns_dir = mesh.get_data_dir() / \"cns\"\n",
    "G_y = ig.read(cns_dir / \"cwn_sense_graph_y.pkl\", format=\"pickle\")"
   ]
  },
  {
   "cell_type": "code",
   "execution_count": null,
   "metadata": {},
   "outputs": [],
   "source": [
    "mesh.trim_pwn(G_y)"
   ]
  },
  {
   "cell_type": "code",
   "execution_count": null,
   "metadata": {},
   "outputs": [],
   "source": [
    "Gy_clone = G_y.copy()\n",
    "Gy_clone.to_undirected(combine_edges='first')\n",
    "compo_distr_y = mesh.compo_size_distribution(Gy_clone, title_label=\"Graph Y(trimmed)\")\n",
    "summarize_graph(Gy_clone, compo_distr_y)"
   ]
  },
  {
   "cell_type": "code",
   "execution_count": null,
   "metadata": {},
   "outputs": [],
   "source": [
    "Gy_clone.write(cns_dir / \"cwn_sense_graph_y_trim.pkl\", format=\"pickle\")"
   ]
  },
  {
   "cell_type": "code",
   "execution_count": 7,
   "metadata": {},
   "outputs": [
    {
     "data": {
      "text/plain": [
       "[1, 2, 3, 4, 5, 6]"
      ]
     },
     "execution_count": 7,
     "metadata": {},
     "output_type": "execute_result"
    }
   ],
   "source": [
    "a = [1,2,3]; b = [4,5,6]\n",
    "from itertools import chain\n",
    "list(chain(a,b))"
   ]
  },
  {
   "cell_type": "code",
   "execution_count": null,
   "metadata": {},
   "outputs": [],
   "source": []
  }
 ],
 "metadata": {
  "kernelspec": {
   "display_name": "Python 3",
   "language": "python",
   "name": "python3"
  },
  "language_info": {
   "codemirror_mode": {
    "name": "ipython",
    "version": 3
   },
   "file_extension": ".py",
   "mimetype": "text/x-python",
   "name": "python",
   "nbconvert_exporter": "python",
   "pygments_lexer": "ipython3",
   "version": "3.8.2"
  }
 },
 "nbformat": 4,
 "nbformat_minor": 4
}
