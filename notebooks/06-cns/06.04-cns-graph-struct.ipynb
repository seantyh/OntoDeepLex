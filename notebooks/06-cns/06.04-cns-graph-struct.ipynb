{
 "cells": [
  {
   "cell_type": "code",
   "execution_count": 1,
   "metadata": {},
   "outputs": [
    {
     "name": "stderr",
     "output_type": "stream",
     "text": [
      "E:\\LangOn\\OntoDeepLex\\src\\mesh\\cns.py:3: TqdmExperimentalWarning: Using `tqdm.autonotebook.tqdm` in notebook mode. Use `tqdm.tqdm` instead to force console mode (e.g. in jupyter console)\n",
      "  from tqdm.autonotebook import tqdm\n"
     ]
    }
   ],
   "source": [
    "%load_ext autoreload\n",
    "%autoreload 2\n",
    "from mesh_import import mesh"
   ]
  },
  {
   "cell_type": "code",
   "execution_count": 2,
   "metadata": {},
   "outputs": [],
   "source": [
    "import igraph as ig\n",
    "from CwnGraph import CwnBase, CwnSense\n",
    "from tqdm.autonotebook import tqdm\n",
    "import numpy as np\n",
    "import pandas as pd"
   ]
  },
  {
   "cell_type": "code",
   "execution_count": 3,
   "metadata": {},
   "outputs": [],
   "source": [
    "cns_dir = mesh.get_data_dir() / \"cns\"\n",
    "graph_a_path = cns_dir / \"cwn_sense_graph_a.pkl\"\n",
    "graph_b_path = cns_dir / \"cwn_sense_graph_b.pkl\"\n",
    "graph_c_path = cns_dir / \"cwn_sense_graph_c.pkl\""
   ]
  },
  {
   "cell_type": "code",
   "execution_count": 4,
   "metadata": {},
   "outputs": [],
   "source": [
    "Ga = ig.read(graph_a_path, format=\"pickle\")\n",
    "Gb = ig.read(graph_b_path, format=\"pickle\")\n",
    "Gc = ig.read(graph_c_path, format=\"pickle\")"
   ]
  },
  {
   "cell_type": "code",
   "execution_count": 23,
   "metadata": {},
   "outputs": [
    {
     "data": {
      "text/plain": [
       "<igraph.Graph at 0x24e2912b5e0>"
      ]
     },
     "execution_count": 23,
     "metadata": {},
     "output_type": "execute_result"
    }
   ],
   "source": [
    "Gc.simplify()\n",
    "Gb.simplify()"
   ]
  },
  {
   "cell_type": "code",
   "execution_count": 6,
   "metadata": {},
   "outputs": [
    {
     "name": "stdout",
     "output_type": "stream",
     "text": [
      "---- Graph A ----\n",
      "IGRAPH UN-- 28827 3122 -- \n",
      "+ attr: name (v), rel_type (e)\n",
      "---- Graph C ----\n",
      "IGRAPH UN-- 28827 25371 -- \n",
      "+ attr: name (v)\n"
     ]
    }
   ],
   "source": [
    "print(\"---- Graph A ----\")\n",
    "print(Ga.summary())\n",
    "print(\"---- Graph C ----\")\n",
    "print(Gc.summary())"
   ]
  },
  {
   "cell_type": "markdown",
   "metadata": {},
   "source": [
    "## Graph A Avg Distance"
   ]
  },
  {
   "cell_type": "code",
   "execution_count": 8,
   "metadata": {},
   "outputs": [
    {
     "data": {
      "application/vnd.jupyter.widget-view+json": {
       "model_id": "d1900e0df2d54b88a051c3be56aa4e95",
       "version_major": 2,
       "version_minor": 0
      },
      "text/plain": [
       "HBox(children=(FloatProgress(value=0.0, max=28827.0), HTML(value='')))"
      ]
     },
     "metadata": {},
     "output_type": "display_data"
    },
    {
     "name": "stdout",
     "output_type": "stream",
     "text": [
      "\n"
     ]
    }
   ],
   "source": [
    "psum = 0\n",
    "pcount = 0\n",
    "for v in tqdm(Ga.vs):\n",
    "    us = list(range(v.index))\n",
    "    plen = [x for x in Ga.shortest_paths(v, us)[0] if x != float('inf')]\n",
    "    psum += sum(plen)\n",
    "    pcount += len(plen)"
   ]
  },
  {
   "cell_type": "code",
   "execution_count": 9,
   "metadata": {},
   "outputs": [],
   "source": [
    "Ga_avg_distance = psum/pcount"
   ]
  },
  {
   "cell_type": "markdown",
   "metadata": {},
   "source": [
    "## Graph B avg_distance"
   ]
  },
  {
   "cell_type": "code",
   "execution_count": 39,
   "metadata": {},
   "outputs": [
    {
     "data": {
      "application/vnd.jupyter.widget-view+json": {
       "model_id": "1a851cf77a04475f8344485a8dee4e9a",
       "version_major": 2,
       "version_minor": 0
      },
      "text/plain": [
       "HBox(children=(FloatProgress(value=0.0, max=28827.0), HTML(value='')))"
      ]
     },
     "metadata": {},
     "output_type": "display_data"
    },
    {
     "name": "stdout",
     "output_type": "stream",
     "text": [
      "\n"
     ]
    }
   ],
   "source": [
    "psum = 0\n",
    "pcount = 0\n",
    "for v in tqdm(Ga.vs):\n",
    "    us = list(range(v.index))\n",
    "    plen = [x for x in Gb.shortest_paths(v, us)[0] if x != float('inf')]\n",
    "    psum += sum(plen)\n",
    "    pcount += len(plen)\n",
    "Gb_avg_distance = psum/pcount"
   ]
  },
  {
   "cell_type": "markdown",
   "metadata": {},
   "source": [
    "## Graph C avg_distance"
   ]
  },
  {
   "cell_type": "code",
   "execution_count": 10,
   "metadata": {},
   "outputs": [
    {
     "data": {
      "application/vnd.jupyter.widget-view+json": {
       "model_id": "c45dcb535cd34032b94a81475ae8c83e",
       "version_major": 2,
       "version_minor": 0
      },
      "text/plain": [
       "HBox(children=(FloatProgress(value=0.0, max=28827.0), HTML(value='')))"
      ]
     },
     "metadata": {},
     "output_type": "display_data"
    },
    {
     "name": "stdout",
     "output_type": "stream",
     "text": [
      "\n"
     ]
    }
   ],
   "source": [
    "psum = 0\n",
    "pcount = 0\n",
    "for v in tqdm(Gc.vs):\n",
    "    us = list(range(v.index))\n",
    "    plen = [x for x in Gc.shortest_paths(v, us)[0] if x != float('inf')]\n",
    "    psum += sum(plen)\n",
    "    pcount += len(plen)"
   ]
  },
  {
   "cell_type": "code",
   "execution_count": 11,
   "metadata": {},
   "outputs": [],
   "source": [
    "Gc_avg_distance = psum/pcount"
   ]
  },
  {
   "cell_type": "markdown",
   "metadata": {},
   "source": [
    "## Structural summarization"
   ]
  },
  {
   "cell_type": "code",
   "execution_count": 20,
   "metadata": {},
   "outputs": [],
   "source": [
    "import pandas as pd\n",
    "def summarize_graph(G, avg_distance):\n",
    "    deg = G.degree()\n",
    "    cliques = G.cliques(min=3)\n",
    "    compos = G.components()\n",
    "    res = pd.Series({\n",
    "        \"nV\": G.vcount(), \n",
    "        \"nE\": G.ecount(),\n",
    "        \"Avg Degree\": np.mean(deg),\n",
    "        \"Max Degree\": np.max(deg),\n",
    "        \"Diameter\": G.diameter(), \n",
    "        \"Avg distance\": avg_distance,\n",
    "        \"Global clustering coeff.\": G.transitivity_undirected(),\n",
    "        \"Avg local clustering coeff.\": np.nanmean(G.transitivity_local_undirected()),\n",
    "        \"Degree assortativity\": G.assortativity_degree(),\n",
    "        \"Largest clique size\": max(len(x) for x in cliques),\n",
    "        \"Isolated nodes\": sum(1 for x in compos if len(x) == 1),\n",
    "        \"Largest component\": max(len(x) for x in compos)\n",
    "    })\n",
    "    return res"
   ]
  },
  {
   "cell_type": "code",
   "execution_count": 21,
   "metadata": {},
   "outputs": [],
   "source": [
    "ga_prop = summarize_graph(Ga, Ga_avg_distance)"
   ]
  },
  {
   "cell_type": "code",
   "execution_count": 40,
   "metadata": {},
   "outputs": [],
   "source": [
    "gb_prop = summarize_graph(Gb, Gb_avg_distance)"
   ]
  },
  {
   "cell_type": "code",
   "execution_count": 30,
   "metadata": {},
   "outputs": [],
   "source": [
    "gc_prop = summarize_graph(Gc, Gc_avg_distance)"
   ]
  },
  {
   "cell_type": "code",
   "execution_count": 31,
   "metadata": {},
   "outputs": [],
   "source": [
    "wn_prop = pd.Series({\n",
    "    \"nV\": 32611, \n",
    "    \"nE\": 119463,\n",
    "    \"Avg Degree\": 7.32,\n",
    "    \"Max Degree\": 152,\n",
    "    \"Diameter\": 23, \n",
    "    \"Avg distance\": 6.89,\n",
    "    \"Global clustering coeff.\": 0.36,\n",
    "    \"Avg local clustering coeff.\": 0.62,\n",
    "    \"Degree assortativity\": 0.26,\n",
    "    \"Largest clique size\": 34,\n",
    "    \"Isolated nodes\": 35000,\n",
    "    \"Largest component\": 32611\n",
    "})"
   ]
  },
  {
   "cell_type": "markdown",
   "metadata": {},
   "source": [
    "* Veremyev, A., Semenov, A., Pasiliao, E. L., & Boginski, V. (2019). Graph-based exploration and clustering analysis of semantic spaces. Applied Network Science, 4(1), 104.\n",
    "https://appliednetsci.springeropen.com/articles/10.1007/s41109-019-0228-y"
   ]
  },
  {
   "cell_type": "code",
   "execution_count": 41,
   "metadata": {},
   "outputs": [
    {
     "data": {
      "text/html": [
       "<table border=\"1\" class=\"dataframe\">\n",
       "  <thead>\n",
       "    <tr style=\"text-align: right;\">\n",
       "      <th></th>\n",
       "      <th>Graph_A</th>\n",
       "      <th>Graph_B</th>\n",
       "      <th>Graph_C</th>\n",
       "      <th>WordNet(Veremyev,2019)</th>\n",
       "    </tr>\n",
       "  </thead>\n",
       "  <tbody>\n",
       "    <tr>\n",
       "      <th>nV</th>\n",
       "      <td>28827.000000</td>\n",
       "      <td>28827.000000</td>\n",
       "      <td>28827.000000</td>\n",
       "      <td>32611.00</td>\n",
       "    </tr>\n",
       "    <tr>\n",
       "      <th>nE</th>\n",
       "      <td>3122.000000</td>\n",
       "      <td>14838.000000</td>\n",
       "      <td>25371.000000</td>\n",
       "      <td>119463.00</td>\n",
       "    </tr>\n",
       "    <tr>\n",
       "      <th>Avg Degree</th>\n",
       "      <td>0.216602</td>\n",
       "      <td>1.029452</td>\n",
       "      <td>1.760225</td>\n",
       "      <td>7.32</td>\n",
       "    </tr>\n",
       "    <tr>\n",
       "      <th>Max Degree</th>\n",
       "      <td>214.000000</td>\n",
       "      <td>37.000000</td>\n",
       "      <td>214.000000</td>\n",
       "      <td>152.00</td>\n",
       "    </tr>\n",
       "    <tr>\n",
       "      <th>Diameter</th>\n",
       "      <td>22.000000</td>\n",
       "      <td>11.000000</td>\n",
       "      <td>25.000000</td>\n",
       "      <td>23.00</td>\n",
       "    </tr>\n",
       "    <tr>\n",
       "      <th>Avg distance</th>\n",
       "      <td>9.656632</td>\n",
       "      <td>1.624989</td>\n",
       "      <td>8.762392</td>\n",
       "      <td>6.89</td>\n",
       "    </tr>\n",
       "    <tr>\n",
       "      <th>Global clustering coeff.</th>\n",
       "      <td>0.002857</td>\n",
       "      <td>0.904604</td>\n",
       "      <td>0.480762</td>\n",
       "      <td>0.36</td>\n",
       "    </tr>\n",
       "    <tr>\n",
       "      <th>Avg local clustering coeff.</th>\n",
       "      <td>0.050679</td>\n",
       "      <td>0.866859</td>\n",
       "      <td>0.754835</td>\n",
       "      <td>0.62</td>\n",
       "    </tr>\n",
       "    <tr>\n",
       "      <th>Degree assortativity</th>\n",
       "      <td>-0.201782</td>\n",
       "      <td>0.872689</td>\n",
       "      <td>0.029660</td>\n",
       "      <td>0.26</td>\n",
       "    </tr>\n",
       "    <tr>\n",
       "      <th>Largest clique size</th>\n",
       "      <td>4.000000</td>\n",
       "      <td>20.000000</td>\n",
       "      <td>21.000000</td>\n",
       "      <td>34.00</td>\n",
       "    </tr>\n",
       "    <tr>\n",
       "      <th>Isolated nodes</th>\n",
       "      <td>25703.000000</td>\n",
       "      <td>16950.000000</td>\n",
       "      <td>12921.000000</td>\n",
       "      <td>35000.00</td>\n",
       "    </tr>\n",
       "    <tr>\n",
       "      <th>Largest component</th>\n",
       "      <td>1931.000000</td>\n",
       "      <td>51.000000</td>\n",
       "      <td>5165.000000</td>\n",
       "      <td>32611.00</td>\n",
       "    </tr>\n",
       "  </tbody>\n",
       "</table>"
      ],
      "text/plain": [
       "<IPython.core.display.HTML object>"
      ]
     },
     "execution_count": 41,
     "metadata": {},
     "output_type": "execute_result"
    }
   ],
   "source": [
    "from IPython.display import HTML\n",
    "HTML(pd.DataFrame({\"Graph_A\": ga_prop, \"Graph_B\": gb_prop, \"Graph_C\": gc_prop, \"WordNet(Veremyev,2019)\": wn_prop}).to_html())"
   ]
  },
  {
   "cell_type": "markdown",
   "metadata": {},
   "source": [
    "## Graph  centralities"
   ]
  },
  {
   "cell_type": "code",
   "execution_count": 33,
   "metadata": {},
   "outputs": [],
   "source": [
    "def compute_local_measures(G, suffix):\n",
    "    nV = G.vcount()    \n",
    "    frame = pd.DataFrame(dict(        \n",
    "        closeness = G.closeness(normalized=True),\n",
    "        betweenness = np.array(G.betweenness())/((nV-1)*(nV-2)/2),\n",
    "        degree = G.degree(),\n",
    "        trans = G.transitivity_local_undirected(),\n",
    "        ncompo = [len(G.subcomponent(v)) for v in G.vs]\n",
    "    ))\n",
    "    frame.index = G.vs[\"name\"]\n",
    "    frame.columns = [x+suffix for x in frame.columns]\n",
    "    return frame"
   ]
  },
  {
   "cell_type": "code",
   "execution_count": 34,
   "metadata": {},
   "outputs": [
    {
     "name": "stderr",
     "output_type": "stream",
     "text": [
      "<ipython-input-33-4fa0fca7278c>:4: RuntimeWarning: closeness centrality is not well-defined for disconnected graphs at c:\\projects\\python-igraph-jst2e\\vendor\\build\\igraph\\igraph-0.9.0-pre+0afacadd-msvc\\src\\centrality.c:2856\n",
      "  closeness = G.closeness(normalized=True),\n"
     ]
    }
   ],
   "source": [
    "Ga_measures = compute_local_measures(Ga, \"A\")\n",
    "Gb_measures = compute_local_measures(Gb, \"B\")\n",
    "Gc_measures = compute_local_measures(Gc, \"C\")"
   ]
  },
  {
   "cell_type": "code",
   "execution_count": 35,
   "metadata": {},
   "outputs": [
    {
     "data": {
      "text/html": [
       "<div>\n",
       "<style scoped>\n",
       "    .dataframe tbody tr th:only-of-type {\n",
       "        vertical-align: middle;\n",
       "    }\n",
       "\n",
       "    .dataframe tbody tr th {\n",
       "        vertical-align: top;\n",
       "    }\n",
       "\n",
       "    .dataframe thead th {\n",
       "        text-align: right;\n",
       "    }\n",
       "</style>\n",
       "<table border=\"1\" class=\"dataframe\">\n",
       "  <thead>\n",
       "    <tr style=\"text-align: right;\">\n",
       "      <th></th>\n",
       "      <th>closenessA</th>\n",
       "      <th>betweennessA</th>\n",
       "      <th>degreeA</th>\n",
       "      <th>transA</th>\n",
       "      <th>ncompoA</th>\n",
       "    </tr>\n",
       "  </thead>\n",
       "  <tbody>\n",
       "    <tr>\n",
       "      <th>03000101</th>\n",
       "      <td>0.000035</td>\n",
       "      <td>0.0</td>\n",
       "      <td>0</td>\n",
       "      <td>NaN</td>\n",
       "      <td>1</td>\n",
       "    </tr>\n",
       "    <tr>\n",
       "      <th>03000102</th>\n",
       "      <td>0.000035</td>\n",
       "      <td>0.0</td>\n",
       "      <td>0</td>\n",
       "      <td>NaN</td>\n",
       "      <td>1</td>\n",
       "    </tr>\n",
       "    <tr>\n",
       "      <th>03000201</th>\n",
       "      <td>0.000035</td>\n",
       "      <td>0.0</td>\n",
       "      <td>0</td>\n",
       "      <td>NaN</td>\n",
       "      <td>1</td>\n",
       "    </tr>\n",
       "    <tr>\n",
       "      <th>03000202</th>\n",
       "      <td>0.000035</td>\n",
       "      <td>0.0</td>\n",
       "      <td>0</td>\n",
       "      <td>NaN</td>\n",
       "      <td>1</td>\n",
       "    </tr>\n",
       "    <tr>\n",
       "      <th>03000203</th>\n",
       "      <td>0.000035</td>\n",
       "      <td>0.0</td>\n",
       "      <td>0</td>\n",
       "      <td>NaN</td>\n",
       "      <td>1</td>\n",
       "    </tr>\n",
       "    <tr>\n",
       "      <th>...</th>\n",
       "      <td>...</td>\n",
       "      <td>...</td>\n",
       "      <td>...</td>\n",
       "      <td>...</td>\n",
       "      <td>...</td>\n",
       "    </tr>\n",
       "    <tr>\n",
       "      <th>14609902</th>\n",
       "      <td>0.000035</td>\n",
       "      <td>0.0</td>\n",
       "      <td>0</td>\n",
       "      <td>NaN</td>\n",
       "      <td>1</td>\n",
       "    </tr>\n",
       "    <tr>\n",
       "      <th>14610001</th>\n",
       "      <td>0.000035</td>\n",
       "      <td>0.0</td>\n",
       "      <td>0</td>\n",
       "      <td>NaN</td>\n",
       "      <td>1</td>\n",
       "    </tr>\n",
       "    <tr>\n",
       "      <th>14610101</th>\n",
       "      <td>0.000035</td>\n",
       "      <td>0.0</td>\n",
       "      <td>0</td>\n",
       "      <td>NaN</td>\n",
       "      <td>1</td>\n",
       "    </tr>\n",
       "    <tr>\n",
       "      <th>14610201</th>\n",
       "      <td>0.000035</td>\n",
       "      <td>0.0</td>\n",
       "      <td>0</td>\n",
       "      <td>NaN</td>\n",
       "      <td>1</td>\n",
       "    </tr>\n",
       "    <tr>\n",
       "      <th>14610301</th>\n",
       "      <td>0.000035</td>\n",
       "      <td>0.0</td>\n",
       "      <td>0</td>\n",
       "      <td>NaN</td>\n",
       "      <td>1</td>\n",
       "    </tr>\n",
       "  </tbody>\n",
       "</table>\n",
       "<p>28827 rows × 5 columns</p>\n",
       "</div>"
      ],
      "text/plain": [
       "          closenessA  betweennessA  degreeA  transA  ncompoA\n",
       "03000101    0.000035           0.0        0     NaN        1\n",
       "03000102    0.000035           0.0        0     NaN        1\n",
       "03000201    0.000035           0.0        0     NaN        1\n",
       "03000202    0.000035           0.0        0     NaN        1\n",
       "03000203    0.000035           0.0        0     NaN        1\n",
       "...              ...           ...      ...     ...      ...\n",
       "14609902    0.000035           0.0        0     NaN        1\n",
       "14610001    0.000035           0.0        0     NaN        1\n",
       "14610101    0.000035           0.0        0     NaN        1\n",
       "14610201    0.000035           0.0        0     NaN        1\n",
       "14610301    0.000035           0.0        0     NaN        1\n",
       "\n",
       "[28827 rows x 5 columns]"
      ]
     },
     "execution_count": 35,
     "metadata": {},
     "output_type": "execute_result"
    }
   ],
   "source": [
    "Ga_measures"
   ]
  },
  {
   "cell_type": "code",
   "execution_count": 36,
   "metadata": {},
   "outputs": [
    {
     "data": {
      "text/html": [
       "<div>\n",
       "<style scoped>\n",
       "    .dataframe tbody tr th:only-of-type {\n",
       "        vertical-align: middle;\n",
       "    }\n",
       "\n",
       "    .dataframe tbody tr th {\n",
       "        vertical-align: top;\n",
       "    }\n",
       "\n",
       "    .dataframe thead th {\n",
       "        text-align: right;\n",
       "    }\n",
       "</style>\n",
       "<table border=\"1\" class=\"dataframe\">\n",
       "  <thead>\n",
       "    <tr style=\"text-align: right;\">\n",
       "      <th></th>\n",
       "      <th>closenessB</th>\n",
       "      <th>betweennessB</th>\n",
       "      <th>degreeB</th>\n",
       "      <th>transB</th>\n",
       "      <th>ncompoB</th>\n",
       "    </tr>\n",
       "  </thead>\n",
       "  <tbody>\n",
       "    <tr>\n",
       "      <th>03000101</th>\n",
       "      <td>0.000035</td>\n",
       "      <td>0.0</td>\n",
       "      <td>0</td>\n",
       "      <td>NaN</td>\n",
       "      <td>1</td>\n",
       "    </tr>\n",
       "    <tr>\n",
       "      <th>03000102</th>\n",
       "      <td>0.000035</td>\n",
       "      <td>0.0</td>\n",
       "      <td>0</td>\n",
       "      <td>NaN</td>\n",
       "      <td>1</td>\n",
       "    </tr>\n",
       "    <tr>\n",
       "      <th>03000201</th>\n",
       "      <td>0.000035</td>\n",
       "      <td>0.0</td>\n",
       "      <td>0</td>\n",
       "      <td>NaN</td>\n",
       "      <td>1</td>\n",
       "    </tr>\n",
       "    <tr>\n",
       "      <th>03000202</th>\n",
       "      <td>0.000035</td>\n",
       "      <td>0.0</td>\n",
       "      <td>0</td>\n",
       "      <td>NaN</td>\n",
       "      <td>1</td>\n",
       "    </tr>\n",
       "    <tr>\n",
       "      <th>03000203</th>\n",
       "      <td>0.000035</td>\n",
       "      <td>0.0</td>\n",
       "      <td>0</td>\n",
       "      <td>NaN</td>\n",
       "      <td>1</td>\n",
       "    </tr>\n",
       "    <tr>\n",
       "      <th>...</th>\n",
       "      <td>...</td>\n",
       "      <td>...</td>\n",
       "      <td>...</td>\n",
       "      <td>...</td>\n",
       "      <td>...</td>\n",
       "    </tr>\n",
       "    <tr>\n",
       "      <th>14609902</th>\n",
       "      <td>0.000035</td>\n",
       "      <td>0.0</td>\n",
       "      <td>0</td>\n",
       "      <td>NaN</td>\n",
       "      <td>1</td>\n",
       "    </tr>\n",
       "    <tr>\n",
       "      <th>14610001</th>\n",
       "      <td>0.000035</td>\n",
       "      <td>0.0</td>\n",
       "      <td>1</td>\n",
       "      <td>NaN</td>\n",
       "      <td>2</td>\n",
       "    </tr>\n",
       "    <tr>\n",
       "      <th>14610101</th>\n",
       "      <td>0.000035</td>\n",
       "      <td>0.0</td>\n",
       "      <td>0</td>\n",
       "      <td>NaN</td>\n",
       "      <td>1</td>\n",
       "    </tr>\n",
       "    <tr>\n",
       "      <th>14610201</th>\n",
       "      <td>0.000035</td>\n",
       "      <td>0.0</td>\n",
       "      <td>0</td>\n",
       "      <td>NaN</td>\n",
       "      <td>1</td>\n",
       "    </tr>\n",
       "    <tr>\n",
       "      <th>14610301</th>\n",
       "      <td>0.000035</td>\n",
       "      <td>0.0</td>\n",
       "      <td>0</td>\n",
       "      <td>NaN</td>\n",
       "      <td>1</td>\n",
       "    </tr>\n",
       "  </tbody>\n",
       "</table>\n",
       "<p>28827 rows × 5 columns</p>\n",
       "</div>"
      ],
      "text/plain": [
       "          closenessB  betweennessB  degreeB  transB  ncompoB\n",
       "03000101    0.000035           0.0        0     NaN        1\n",
       "03000102    0.000035           0.0        0     NaN        1\n",
       "03000201    0.000035           0.0        0     NaN        1\n",
       "03000202    0.000035           0.0        0     NaN        1\n",
       "03000203    0.000035           0.0        0     NaN        1\n",
       "...              ...           ...      ...     ...      ...\n",
       "14609902    0.000035           0.0        0     NaN        1\n",
       "14610001    0.000035           0.0        1     NaN        2\n",
       "14610101    0.000035           0.0        0     NaN        1\n",
       "14610201    0.000035           0.0        0     NaN        1\n",
       "14610301    0.000035           0.0        0     NaN        1\n",
       "\n",
       "[28827 rows x 5 columns]"
      ]
     },
     "execution_count": 36,
     "metadata": {},
     "output_type": "execute_result"
    }
   ],
   "source": [
    "Gb_measures"
   ]
  },
  {
   "cell_type": "code",
   "execution_count": 37,
   "metadata": {},
   "outputs": [
    {
     "data": {
      "text/html": [
       "<div>\n",
       "<style scoped>\n",
       "    .dataframe tbody tr th:only-of-type {\n",
       "        vertical-align: middle;\n",
       "    }\n",
       "\n",
       "    .dataframe tbody tr th {\n",
       "        vertical-align: top;\n",
       "    }\n",
       "\n",
       "    .dataframe thead th {\n",
       "        text-align: right;\n",
       "    }\n",
       "</style>\n",
       "<table border=\"1\" class=\"dataframe\">\n",
       "  <thead>\n",
       "    <tr style=\"text-align: right;\">\n",
       "      <th></th>\n",
       "      <th>closenessC</th>\n",
       "      <th>betweennessC</th>\n",
       "      <th>degreeC</th>\n",
       "      <th>transC</th>\n",
       "      <th>ncompoC</th>\n",
       "    </tr>\n",
       "  </thead>\n",
       "  <tbody>\n",
       "    <tr>\n",
       "      <th>03000101</th>\n",
       "      <td>0.000035</td>\n",
       "      <td>0.000000e+00</td>\n",
       "      <td>1</td>\n",
       "      <td>NaN</td>\n",
       "      <td>21</td>\n",
       "    </tr>\n",
       "    <tr>\n",
       "      <th>03000102</th>\n",
       "      <td>0.000035</td>\n",
       "      <td>0.000000e+00</td>\n",
       "      <td>0</td>\n",
       "      <td>NaN</td>\n",
       "      <td>1</td>\n",
       "    </tr>\n",
       "    <tr>\n",
       "      <th>03000201</th>\n",
       "      <td>0.000035</td>\n",
       "      <td>0.000000e+00</td>\n",
       "      <td>0</td>\n",
       "      <td>NaN</td>\n",
       "      <td>1</td>\n",
       "    </tr>\n",
       "    <tr>\n",
       "      <th>03000202</th>\n",
       "      <td>0.000035</td>\n",
       "      <td>0.000000e+00</td>\n",
       "      <td>0</td>\n",
       "      <td>NaN</td>\n",
       "      <td>1</td>\n",
       "    </tr>\n",
       "    <tr>\n",
       "      <th>03000203</th>\n",
       "      <td>0.000035</td>\n",
       "      <td>0.000000e+00</td>\n",
       "      <td>0</td>\n",
       "      <td>NaN</td>\n",
       "      <td>1</td>\n",
       "    </tr>\n",
       "    <tr>\n",
       "      <th>...</th>\n",
       "      <td>...</td>\n",
       "      <td>...</td>\n",
       "      <td>...</td>\n",
       "      <td>...</td>\n",
       "      <td>...</td>\n",
       "    </tr>\n",
       "    <tr>\n",
       "      <th>14609902</th>\n",
       "      <td>0.000035</td>\n",
       "      <td>0.000000e+00</td>\n",
       "      <td>0</td>\n",
       "      <td>NaN</td>\n",
       "      <td>1</td>\n",
       "    </tr>\n",
       "    <tr>\n",
       "      <th>14610001</th>\n",
       "      <td>0.000035</td>\n",
       "      <td>2.407001e-09</td>\n",
       "      <td>2</td>\n",
       "      <td>0.0</td>\n",
       "      <td>3</td>\n",
       "    </tr>\n",
       "    <tr>\n",
       "      <th>14610101</th>\n",
       "      <td>0.000035</td>\n",
       "      <td>0.000000e+00</td>\n",
       "      <td>1</td>\n",
       "      <td>NaN</td>\n",
       "      <td>3</td>\n",
       "    </tr>\n",
       "    <tr>\n",
       "      <th>14610201</th>\n",
       "      <td>0.000035</td>\n",
       "      <td>0.000000e+00</td>\n",
       "      <td>1</td>\n",
       "      <td>NaN</td>\n",
       "      <td>3</td>\n",
       "    </tr>\n",
       "    <tr>\n",
       "      <th>14610301</th>\n",
       "      <td>0.000035</td>\n",
       "      <td>0.000000e+00</td>\n",
       "      <td>0</td>\n",
       "      <td>NaN</td>\n",
       "      <td>1</td>\n",
       "    </tr>\n",
       "  </tbody>\n",
       "</table>\n",
       "<p>28827 rows × 5 columns</p>\n",
       "</div>"
      ],
      "text/plain": [
       "          closenessC  betweennessC  degreeC  transC  ncompoC\n",
       "03000101    0.000035  0.000000e+00        1     NaN       21\n",
       "03000102    0.000035  0.000000e+00        0     NaN        1\n",
       "03000201    0.000035  0.000000e+00        0     NaN        1\n",
       "03000202    0.000035  0.000000e+00        0     NaN        1\n",
       "03000203    0.000035  0.000000e+00        0     NaN        1\n",
       "...              ...           ...      ...     ...      ...\n",
       "14609902    0.000035  0.000000e+00        0     NaN        1\n",
       "14610001    0.000035  2.407001e-09        2     0.0        3\n",
       "14610101    0.000035  0.000000e+00        1     NaN        3\n",
       "14610201    0.000035  0.000000e+00        1     NaN        3\n",
       "14610301    0.000035  0.000000e+00        0     NaN        1\n",
       "\n",
       "[28827 rows x 5 columns]"
      ]
     },
     "execution_count": 37,
     "metadata": {},
     "output_type": "execute_result"
    }
   ],
   "source": [
    "Gc_measures"
   ]
  },
  {
   "cell_type": "code",
   "execution_count": 38,
   "metadata": {},
   "outputs": [],
   "source": [
    "Ga_measures.to_csv(cns_dir / \"Ga_measures.csv\", index=True)\n",
    "Gb_measures.to_csv(cns_dir / \"Gb_measures.csv\", index=True)\n",
    "Gc_measures.to_csv(cns_dir / \"Gc_measures.csv\", index=True)"
   ]
  },
  {
   "cell_type": "code",
   "execution_count": null,
   "metadata": {},
   "outputs": [],
   "source": []
  }
 ],
 "metadata": {
  "kernelspec": {
   "display_name": "Python 3",
   "language": "python",
   "name": "python3"
  },
  "language_info": {
   "codemirror_mode": {
    "name": "ipython",
    "version": 3
   },
   "file_extension": ".py",
   "mimetype": "text/x-python",
   "name": "python",
   "nbconvert_exporter": "python",
   "pygments_lexer": "ipython3",
   "version": "3.8.2"
  }
 },
 "nbformat": 4,
 "nbformat_minor": 4
}
