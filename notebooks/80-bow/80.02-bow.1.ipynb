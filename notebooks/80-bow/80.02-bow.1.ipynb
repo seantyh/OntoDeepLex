{
 "cells": [
  {
   "cell_type": "code",
   "execution_count": null,
   "metadata": {},
   "outputs": [],
   "source": [
    "%load_ext autoreload\n",
    "%autoreload 2"
   ]
  },
  {
   "cell_type": "code",
   "execution_count": 2,
   "metadata": {},
   "outputs": [
    {
     "name": "stderr",
     "output_type": "stream",
     "text": [
      "/Users/seantyh/anaconda3/lib/python3.7/site-packages/tqdm/autonotebook.py:17: TqdmExperimentalWarning: Using `tqdm.autonotebook.tqdm` in notebook mode. Use `tqdm.tqdm` instead to force console mode (e.g. in jupyter console)\n",
      "  \" (e.g. in jupyter console)\", TqdmExperimentalWarning)\n"
     ]
    }
   ],
   "source": [
    "from mesh_import import mesh\n",
    "import re\n",
    "import json\n",
    "import pickle\n",
    "from mesh.bow import BowItem"
   ]
  },
  {
   "cell_type": "code",
   "execution_count": 3,
   "metadata": {},
   "outputs": [],
   "source": [
    "wn = mesh.bow.get_wordnet16()"
   ]
  },
  {
   "cell_type": "code",
   "execution_count": 4,
   "metadata": {},
   "outputs": [],
   "source": [
    "with (mesh.get_data_dir()/\"bow/bow.json\").open(\"r\") as fin:\n",
    "    bow = [BowItem(**item) for item in json.load(fin)]"
   ]
  },
  {
   "cell_type": "code",
   "execution_count": 5,
   "metadata": {},
   "outputs": [],
   "source": [
    "import pickle\n",
    "with (mesh.get_data_dir()/\"asbc/asbc5_words.pkl\").open(\"rb\") as fin:\n",
    "    wfreq = pickle.load(fin)"
   ]
  },
  {
   "cell_type": "code",
   "execution_count": 6,
   "metadata": {},
   "outputs": [
    {
     "data": {
      "text/plain": [
       "[['無情地', '苛刻地', '不近人情地'],\n",
       " ['臨盆的', '生產的', '分娩的'],\n",
       " ['打噴嚏'],\n",
       " ['垂死的', '臨終的', '將結束的'],\n",
       " ['原因', '由來']]"
      ]
     },
     "execution_count": 6,
     "metadata": {},
     "output_type": "execute_result"
    }
   ],
   "source": [
    "[x.translation for x in bow[:5]]"
   ]
  },
  {
   "cell_type": "code",
   "execution_count": 7,
   "metadata": {},
   "outputs": [],
   "source": [
    "def try_stemming(synset, pos, word):\n",
    "    repl = re.sub(\"^[將]\", \"\", word)\n",
    "    repl = re.sub(\"[地的]$\", \"\", repl)\n",
    "    if repl != word:\n",
    "        stem = repl\n",
    "        if stem and stem in wfreq:\n",
    "            return (True, synset, pos, stem)\n",
    "    return (False, synset, pos, word)\n",
    "            "
   ]
  },
  {
   "cell_type": "code",
   "execution_count": 8,
   "metadata": {},
   "outputs": [
    {
     "data": {
      "text/plain": [
       "(False, 'synset', 'a', '的')"
      ]
     },
     "execution_count": 8,
     "metadata": {},
     "output_type": "execute_result"
    }
   ],
   "source": [
    "try_stemming(\"synset\", \"a\", \"的\")"
   ]
  },
  {
   "cell_type": "code",
   "execution_count": 9,
   "metadata": {},
   "outputs": [],
   "source": [
    "from itertools import chain, islice, starmap, cycle"
   ]
  },
  {
   "cell_type": "code",
   "execution_count": 10,
   "metadata": {},
   "outputs": [],
   "source": [
    "bow_iter = ((x.synset, x.pos, x.translation) for x in bow)\n",
    "bow_iter = (zip(cycle([synset]), cycle([pos]), trans) for synset, pos, trans in bow_iter)\n",
    "bow_iter = chain.from_iterable(bow_iter)\n",
    "stem_tuples = starmap(try_stemming, bow_iter)\n",
    "result = starmap(lambda is_stemmed, synset, pos, word: dict(\n",
    "                word=word, \n",
    "                synset=synset, \n",
    "                pos=pos,\n",
    "                stemmed=is_stemmed, \n",
    "                is_word=is_stemmed or word in wfreq), stem_tuples)"
   ]
  },
  {
   "cell_type": "code",
   "execution_count": 11,
   "metadata": {},
   "outputs": [
    {
     "data": {
      "application/vnd.jupyter.widget-view+json": {
       "model_id": "01dd14f240034d5884368a074582799a",
       "version_major": 2,
       "version_minor": 0
      },
      "text/plain": [
       "HBox(children=(IntProgress(value=1, bar_style='info', max=1), HTML(value='')))"
      ]
     },
     "metadata": {},
     "output_type": "display_data"
    },
    {
     "name": "stdout",
     "output_type": "stream",
     "text": [
      "\n"
     ]
    }
   ],
   "source": [
    "from tqdm.autonotebook import tqdm\n",
    "bow_data_list = list(tqdm(result))"
   ]
  },
  {
   "cell_type": "code",
   "execution_count": 12,
   "metadata": {},
   "outputs": [],
   "source": [
    "import pandas as pd\n",
    "bow_data = pd.DataFrame.from_records(bow_data_list)"
   ]
  },
  {
   "cell_type": "code",
   "execution_count": 13,
   "metadata": {},
   "outputs": [
    {
     "data": {
      "text/plain": [
       "(149780, 5)"
      ]
     },
     "execution_count": 13,
     "metadata": {},
     "output_type": "execute_result"
    }
   ],
   "source": [
    "bow_data.shape"
   ]
  },
  {
   "cell_type": "code",
   "execution_count": 14,
   "metadata": {},
   "outputs": [
    {
     "data": {
      "text/plain": [
       "(67367, 5)"
      ]
     },
     "execution_count": 14,
     "metadata": {},
     "output_type": "execute_result"
    }
   ],
   "source": [
    "bow_words = bow_data.loc[bow_data.is_word, :]\n",
    "bow_words.shape"
   ]
  },
  {
   "cell_type": "code",
   "execution_count": 15,
   "metadata": {},
   "outputs": [
    {
     "data": {
      "text/plain": [
       "26905"
      ]
     },
     "execution_count": 15,
     "metadata": {},
     "output_type": "execute_result"
    }
   ],
   "source": [
    "bow_words_set = set(bow_words.word.tolist())\n",
    "len(bow_words_set)"
   ]
  },
  {
   "cell_type": "code",
   "execution_count": 23,
   "metadata": {},
   "outputs": [],
   "source": [
    "from CwnGraph import CwnBase\n",
    "cwn = CwnBase()"
   ]
  },
  {
   "cell_type": "code",
   "execution_count": 37,
   "metadata": {},
   "outputs": [
    {
     "data": {
      "application/vnd.jupyter.widget-view+json": {
       "model_id": "df839b2f75834391806e8118a7fd9f25",
       "version_major": 2,
       "version_minor": 0
      },
      "text/plain": [
       "HBox(children=(IntProgress(value=0, max=26550), HTML(value='')))"
      ]
     },
     "metadata": {},
     "output_type": "display_data"
    },
    {
     "name": "stdout",
     "output_type": "stream",
     "text": [
      "\n"
     ]
    }
   ],
   "source": [
    "cwn_lemmas = set(ndata[\"lemma\"] for ndata in cwn.V.values() if ndata[\"node_type\"]==\"lemma\")\n",
    "cwn_lemma_with_sense = [lemma for lemma in tqdm(cwn_lemmas) if len(cwn.find_all_senses(lemma)) > 0]"
   ]
  },
  {
   "cell_type": "code",
   "execution_count": 39,
   "metadata": {},
   "outputs": [
    {
     "data": {
      "text/plain": [
       "9025"
      ]
     },
     "execution_count": 39,
     "metadata": {},
     "output_type": "execute_result"
    }
   ],
   "source": [
    "len(cwn_lemma_with_sense)"
   ]
  },
  {
   "cell_type": "code",
   "execution_count": 17,
   "metadata": {},
   "outputs": [],
   "source": [
    "bow_words.to_csv(mesh.get_data_dir() / \"bow/bow_words.csv\")"
   ]
  },
  {
   "cell_type": "code",
   "execution_count": 18,
   "metadata": {},
   "outputs": [],
   "source": [
    "bow_data.to_csv(mesh.get_data_dir() / \"bow/bow_data.csv\")"
   ]
  },
  {
   "cell_type": "code",
   "execution_count": 19,
   "metadata": {},
   "outputs": [],
   "source": [
    "conversion_rate = bow_words.shape[0] / bow_data.shape[0]"
   ]
  },
  {
   "cell_type": "code",
   "execution_count": 20,
   "metadata": {},
   "outputs": [],
   "source": [
    "type_coverage = sum(1 for w in wfreq.keys() if w in bow_words_set) / len(wfreq)\n",
    "token_coverage = sum(f for w, f in wfreq.items() if w in bow_words_set) / sum(wfreq.values())"
   ]
  },
  {
   "cell_type": "code",
   "execution_count": 41,
   "metadata": {},
   "outputs": [],
   "source": [
    "cwn_lemma_overlap = set(cwn_lemma_with_sense).intersection(bow_words_set)"
   ]
  },
  {
   "cell_type": "code",
   "execution_count": 45,
   "metadata": {},
   "outputs": [],
   "source": [
    "cwn_overlap_rate = len(cwn_lemma_overlap) / len(bow_words_set)"
   ]
  },
  {
   "cell_type": "code",
   "execution_count": 47,
   "metadata": {},
   "outputs": [
    {
     "name": "stdout",
     "output_type": "stream",
     "text": [
      "conversion rate: 0.44977300040058754\n",
      "type coverage: 0.12378765850157351\n",
      "token coverage: 0.6810064445688077\n",
      "cwn overlap rate: 0.17714179520535217\n"
     ]
    }
   ],
   "source": [
    "print(f\"conversion rate: {conversion_rate}\")\n",
    "print(f\"type coverage: {type_coverage}\")\n",
    "print(f\"token coverage: {token_coverage}\")\n",
    "print(f\"cwn overlap rate: {cwn_overlap_rate}\")"
   ]
  },
  {
   "cell_type": "code",
   "execution_count": 48,
   "metadata": {},
   "outputs": [
    {
     "data": {
      "text/plain": [
       "1472"
      ]
     },
     "execution_count": 48,
     "metadata": {},
     "output_type": "execute_result"
    }
   ],
   "source": [
    "sum([1 for x in bow_words_set if len(x)==1])"
   ]
  },
  {
   "cell_type": "code",
   "execution_count": 49,
   "metadata": {},
   "outputs": [
    {
     "data": {
      "text/plain": [
       "3324"
      ]
     },
     "execution_count": 49,
     "metadata": {},
     "output_type": "execute_result"
    }
   ],
   "source": [
    "\n",
    "sum([1 for x in bow_words.word.tolist() if len(x)==1])"
   ]
  },
  {
   "cell_type": "code",
   "execution_count": null,
   "metadata": {},
   "outputs": [],
   "source": []
  }
 ],
 "metadata": {
  "kernelspec": {
   "display_name": "Python 3",
   "language": "python",
   "name": "python3"
  },
  "language_info": {
   "codemirror_mode": {
    "name": "ipython",
    "version": 3
   },
   "file_extension": ".py",
   "mimetype": "text/x-python",
   "name": "python",
   "nbconvert_exporter": "python",
   "pygments_lexer": "ipython3",
   "version": "3.8.2"
  }
 },
 "nbformat": 4,
 "nbformat_minor": 4
}
