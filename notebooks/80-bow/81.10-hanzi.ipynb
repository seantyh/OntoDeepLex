{
 "cells": [
  {
   "cell_type": "code",
   "execution_count": 1,
   "metadata": {},
   "outputs": [
    {
     "name": "stderr",
     "output_type": "stream",
     "text": [
      "E:\\LangOn\\OntoDeepLex\\src\\mesh\\cns.py:3: TqdmExperimentalWarning: Using `tqdm.autonotebook.tqdm` in notebook mode. Use `tqdm.tqdm` instead to force console mode (e.g. in jupyter console)\n",
      "  from tqdm.autonotebook import tqdm\n"
     ]
    }
   ],
   "source": [
    "from mesh_import import mesh"
   ]
  },
  {
   "cell_type": "code",
   "execution_count": 41,
   "metadata": {},
   "outputs": [],
   "source": [
    "hanzi_path = mesh.get_data_dir() / \"bow/hanziOntology-v3.1.txt\""
   ]
  },
  {
   "cell_type": "code",
   "execution_count": 55,
   "metadata": {},
   "outputs": [],
   "source": [
    "with hanzi_path.open(\"r\", encoding=\"UTF-8\") as fin:\n",
    "    txt_data = fin.readlines()"
   ]
  },
  {
   "cell_type": "code",
   "execution_count": 65,
   "metadata": {},
   "outputs": [],
   "source": [
    "from dataclasses import dataclass\n",
    "@dataclass\n",
    "class HanziOntoItem:    \n",
    "    item_id: str\n",
    "    label: str\n",
    "    content: str\n",
    "    is_leaf: bool"
   ]
  },
  {
   "cell_type": "code",
   "execution_count": 67,
   "metadata": {},
   "outputs": [],
   "source": [
    "id_pat = re.compile(\"^\\d+[A-Z]?\")\n",
    "data = []\n",
    "for ln in txt_data:\n",
    "    if not ln.strip(): continue\n",
    "    parts = re.split(\"[:$]\", ln.strip())\n",
    "    assert len(parts) == 2\n",
    "    try:\n",
    "        item_id = id_pat.findall(parts[0])[0]\n",
    "    except IndexError:\n",
    "        print(\"IndexError\")\n",
    "        break\n",
    "    data.append(HanziOntoItem(item_id, parts[0].replace(item_id, \"\").strip(), parts[1].strip(), \":\" in ln))"
   ]
  },
  {
   "cell_type": "code",
   "execution_count": 68,
   "metadata": {},
   "outputs": [],
   "source": [
    "import json\n",
    "hanzi_path = mesh.get_data_dir() / \"bow/hanziOntology-3.1.json\"\n",
    "with hanzi_path.open(\"w\", encoding=\"UTF-8\") as fout:\n",
    "    json.dump([x.__dict__ for x in data], fout, indent=2, ensure_ascii=False)"
   ]
  },
  {
   "cell_type": "code",
   "execution_count": null,
   "metadata": {},
   "outputs": [],
   "source": []
  }
 ],
 "metadata": {
  "kernelspec": {
   "display_name": "Python 3",
   "language": "python",
   "name": "python3"
  },
  "language_info": {
   "codemirror_mode": {
    "name": "ipython",
    "version": 3
   },
   "file_extension": ".py",
   "mimetype": "text/x-python",
   "name": "python",
   "nbconvert_exporter": "python",
   "pygments_lexer": "ipython3",
   "version": "3.8.2"
  }
 },
 "nbformat": 4,
 "nbformat_minor": 4
}
