{
 "cells": [
  {
   "cell_type": "code",
   "execution_count": 1,
   "metadata": {},
   "outputs": [],
   "source": [
    "%load_ext autoreload\n",
    "%autoreload 2\n",
    "%matplotlib inline"
   ]
  },
  {
   "cell_type": "code",
   "execution_count": 52,
   "metadata": {},
   "outputs": [],
   "source": [
    "from mesh_import import mesh\n",
    "from tqdm.autonotebook import tqdm\n",
    "import pandas as pd\n",
    "import re\n",
    "import json\n",
    "import numpy as np"
   ]
  },
  {
   "cell_type": "code",
   "execution_count": 6,
   "metadata": {},
   "outputs": [],
   "source": [
    "from nltk.corpus import WordNetCorpusReader\n",
    "import nltk\n",
    "wn_dir = str(mesh.get_data_dir() / \"bow/wn16_dict\")\n",
    "wn = WordNetCorpusReader(wn_dir, nltk.data.find(wn_dir))"
   ]
  },
  {
   "cell_type": "code",
   "execution_count": 7,
   "metadata": {},
   "outputs": [],
   "source": [
    "import pickle\n",
    "with open(mesh.get_data_dir()/\"bow/bow_monosyl_sense_vector.pkl\", \"rb\") as fin:\n",
    "    char_sense_vector = pickle.load(fin)"
   ]
  },
  {
   "cell_type": "code",
   "execution_count": 8,
   "metadata": {},
   "outputs": [],
   "source": [
    "m2_cld = pd.read_csv(mesh.get_data_dir()/ \"cns/m2_cld.csv\", index_col=0)"
   ]
  },
  {
   "cell_type": "code",
   "execution_count": 9,
   "metadata": {},
   "outputs": [
    {
     "data": {
      "text/plain": [
       "Index(['id', 'word', 'lexicality', 'N', 'RT', 'RTSD', 'zRT', 'zRTSD', 'ERR',\n",
       "       'length', 'wfreq', 'C1', 'C2', 'C1Frequency', 'C1FamilySize',\n",
       "       'C1Friends', 'C1FamilyFrequency', 'C1RE', 'C1Strokes', 'C1Entropy',\n",
       "       'C1nSense', 'C2Frequency', 'C2FamilySize', 'C2Friends',\n",
       "       'C2FamilyFrequency', 'C2RE', 'C2Strokes', 'C2Entropy', 'C2nSense'],\n",
       "      dtype='object')"
      ]
     },
     "execution_count": 9,
     "metadata": {},
     "output_type": "execute_result"
    }
   ],
   "source": [
    "m2_cld.columns"
   ]
  },
  {
   "cell_type": "code",
   "execution_count": 10,
   "metadata": {},
   "outputs": [],
   "source": [
    "from opencc import OpenCC\n",
    "cc = OpenCC('s2t')\n",
    "word_tw = [cc.convert(x) for x in m2_cld.word]"
   ]
  },
  {
   "cell_type": "code",
   "execution_count": 140,
   "metadata": {},
   "outputs": [],
   "source": [
    "from itertools import product, starmap\n",
    "def find_min_max(iterable_1, iterable_2, fn):\n",
    "    scores = starmap(fn, product(iterable_1, iterable_2))\n",
    "    scores = [x for x in scores if not np.isnan(x)]\n",
    "    if scores:\n",
    "        min_score = min(scores)\n",
    "        max_score = max(scores)\n",
    "        return min_score, max_score\n",
    "    else:\n",
    "        return np.nan, np.nan\n",
    "\n",
    "def path_similarity(syn_name_1, syn_name_2):\n",
    "    wn._synset_offset_cache.clear()\n",
    "    syn1 = wn.synset(syn_name_1)\n",
    "    syn2 = wn.synset(syn_name_2)\n",
    "    if syn1.pos() == syn2.pos() and \\\n",
    "        (syn1.pos() == 'v' or syn1.pos() == 'n'):\n",
    "        sim = syn1.path_similarity(syn2, simulate_root=True)\n",
    "        if not sim:\n",
    "            return np.nan\n",
    "        return sim\n",
    "    else:\n",
    "        return np.nan\n",
    "    \n",
    "\n",
    "def vec_distance(vec1, vec2):\n",
    "    return np.sqrt(np.sum((np.array(vec1)-np.array(vec2))**2))"
   ]
  },
  {
   "cell_type": "code",
   "execution_count": 141,
   "metadata": {},
   "outputs": [],
   "source": [
    "def compute_path_measures(word):\n",
    "    assert len(word) == 2\n",
    "    c1, c2 = list(word)\n",
    "    c1_data = char_sense_vector.get(c1, None)\n",
    "    c2_data = char_sense_vector.get(c2, None)\n",
    "    if not (c1_data and c2_data):\n",
    "        return None\n",
    "    c1_syns = c1_data[\"synset\"]\n",
    "    c2_syns = c2_data[\"synset\"]\n",
    "    c1_vecs = c1_data[\"vector\"]\n",
    "    c2_vecs = c2_data[\"vector\"]\n",
    "    path_sims = find_min_max(c1_syns, c2_syns, path_similarity)\n",
    "    vec_dists = find_min_max(c1_vecs, c2_vecs, vec_distance)\n",
    "    return {\"word\": word, \n",
    "            \"vec_dist_min\": vec_dists[0], \"vec_dist_max\": vec_dists[1], \n",
    "            \"path_sim_min\": path_sims[0], \"path_sim_max\": path_sims[1]}"
   ]
  },
  {
   "cell_type": "code",
   "execution_count": 142,
   "metadata": {},
   "outputs": [
    {
     "data": {
      "text/plain": [
       "{'word': '錯疤',\n",
       " 'vec_dist_min': 2.6457513110645907,\n",
       " 'vec_dist_max': 3.872983346207417,\n",
       " 'path_sim_min': 0.07692307692307693,\n",
       " 'path_sim_max': 0.07692307692307693}"
      ]
     },
     "execution_count": 142,
     "metadata": {},
     "output_type": "execute_result"
    }
   ],
   "source": [
    "compute_path_measures(\"錯疤\")"
   ]
  },
  {
   "cell_type": "code",
   "execution_count": 143,
   "metadata": {},
   "outputs": [
    {
     "data": {
      "text/plain": [
       "1"
      ]
     },
     "execution_count": 143,
     "metadata": {},
     "output_type": "execute_result"
    }
   ],
   "source": [
    "min([1])"
   ]
  },
  {
   "cell_type": "code",
   "execution_count": 144,
   "metadata": {},
   "outputs": [],
   "source": [
    "wn._synset_offset_cache.clear()"
   ]
  },
  {
   "cell_type": "code",
   "execution_count": 145,
   "metadata": {},
   "outputs": [
    {
     "data": {
      "application/vnd.jupyter.widget-view+json": {
       "model_id": "597dabd3c1564c43aab87aa5fea45c58",
       "version_major": 2,
       "version_minor": 0
      },
      "text/plain": [
       "HBox(children=(IntProgress(value=0, max=20038), HTML(value='')))"
      ]
     },
     "metadata": {},
     "output_type": "display_data"
    },
    {
     "name": "stdout",
     "output_type": "stream",
     "text": [
      "\n"
     ]
    }
   ],
   "source": [
    "wn_measures = [compute_path_measures(x) for x in tqdm(word_tw)]"
   ]
  },
  {
   "cell_type": "code",
   "execution_count": 146,
   "metadata": {},
   "outputs": [
    {
     "data": {
      "text/plain": [
       "6056"
      ]
     },
     "execution_count": 146,
     "metadata": {},
     "output_type": "execute_result"
    }
   ],
   "source": [
    "len([1 for x in wn_measures if x])"
   ]
  },
  {
   "cell_type": "code",
   "execution_count": 147,
   "metadata": {},
   "outputs": [],
   "source": [
    "wn_measure_df = pd.DataFrame.from_records([x for x in wn_measures if x])"
   ]
  },
  {
   "cell_type": "code",
   "execution_count": 148,
   "metadata": {},
   "outputs": [],
   "source": [
    "m2_cld[\"word_tw\"] = word_tw\n",
    "m2_cld_wn = m2_cld.merge(wn_measure_df, left_on=\"word_tw\", right_on=\"word\")"
   ]
  },
  {
   "cell_type": "code",
   "execution_count": 149,
   "metadata": {},
   "outputs": [
    {
     "data": {
      "text/html": [
       "<div>\n",
       "<style scoped>\n",
       "    .dataframe tbody tr th:only-of-type {\n",
       "        vertical-align: middle;\n",
       "    }\n",
       "\n",
       "    .dataframe tbody tr th {\n",
       "        vertical-align: top;\n",
       "    }\n",
       "\n",
       "    .dataframe thead th {\n",
       "        text-align: right;\n",
       "    }\n",
       "</style>\n",
       "<table border=\"1\" class=\"dataframe\">\n",
       "  <thead>\n",
       "    <tr style=\"text-align: right;\">\n",
       "      <th></th>\n",
       "      <th>id</th>\n",
       "      <th>word_x</th>\n",
       "      <th>lexicality</th>\n",
       "      <th>N</th>\n",
       "      <th>RT</th>\n",
       "      <th>RTSD</th>\n",
       "      <th>zRT</th>\n",
       "      <th>zRTSD</th>\n",
       "      <th>ERR</th>\n",
       "      <th>length</th>\n",
       "      <th>...</th>\n",
       "      <th>C2RE</th>\n",
       "      <th>C2Strokes</th>\n",
       "      <th>C2Entropy</th>\n",
       "      <th>C2nSense</th>\n",
       "      <th>word_tw</th>\n",
       "      <th>word_y</th>\n",
       "      <th>vec_dist_min</th>\n",
       "      <th>vec_dist_max</th>\n",
       "      <th>path_sim_min</th>\n",
       "      <th>path_sim_max</th>\n",
       "    </tr>\n",
       "  </thead>\n",
       "  <tbody>\n",
       "    <tr>\n",
       "      <td>0</td>\n",
       "      <td>200001</td>\n",
       "      <td>一切</td>\n",
       "      <td>1</td>\n",
       "      <td>40</td>\n",
       "      <td>610.620250</td>\n",
       "      <td>104.615792</td>\n",
       "      <td>-0.744272</td>\n",
       "      <td>0.294925</td>\n",
       "      <td>0.000000</td>\n",
       "      <td>2</td>\n",
       "      <td>...</td>\n",
       "      <td>5.9720</td>\n",
       "      <td>4.0</td>\n",
       "      <td>2.6764</td>\n",
       "      <td>18</td>\n",
       "      <td>一切</td>\n",
       "      <td>一切</td>\n",
       "      <td>2.236068</td>\n",
       "      <td>3.464102</td>\n",
       "      <td>NaN</td>\n",
       "      <td>NaN</td>\n",
       "    </tr>\n",
       "    <tr>\n",
       "      <td>1</td>\n",
       "      <td>210166</td>\n",
       "      <td>土切</td>\n",
       "      <td>2</td>\n",
       "      <td>40</td>\n",
       "      <td>974.976250</td>\n",
       "      <td>332.479450</td>\n",
       "      <td>0.622559</td>\n",
       "      <td>1.210804</td>\n",
       "      <td>2.439024</td>\n",
       "      <td>2</td>\n",
       "      <td>...</td>\n",
       "      <td>5.9720</td>\n",
       "      <td>4.0</td>\n",
       "      <td>2.6764</td>\n",
       "      <td>18</td>\n",
       "      <td>土切</td>\n",
       "      <td>土切</td>\n",
       "      <td>2.236068</td>\n",
       "      <td>3.316625</td>\n",
       "      <td>0.111111</td>\n",
       "      <td>0.111111</td>\n",
       "    </tr>\n",
       "    <tr>\n",
       "      <td>2</td>\n",
       "      <td>210778</td>\n",
       "      <td>手切</td>\n",
       "      <td>2</td>\n",
       "      <td>26</td>\n",
       "      <td>908.211538</td>\n",
       "      <td>357.555559</td>\n",
       "      <td>0.363349</td>\n",
       "      <td>1.037322</td>\n",
       "      <td>36.585366</td>\n",
       "      <td>2</td>\n",
       "      <td>...</td>\n",
       "      <td>5.9720</td>\n",
       "      <td>4.0</td>\n",
       "      <td>2.6764</td>\n",
       "      <td>18</td>\n",
       "      <td>手切</td>\n",
       "      <td>手切</td>\n",
       "      <td>2.236068</td>\n",
       "      <td>3.872983</td>\n",
       "      <td>NaN</td>\n",
       "      <td>NaN</td>\n",
       "    </tr>\n",
       "    <tr>\n",
       "      <td>3</td>\n",
       "      <td>211807</td>\n",
       "      <td>电切</td>\n",
       "      <td>2</td>\n",
       "      <td>34</td>\n",
       "      <td>919.441176</td>\n",
       "      <td>371.619622</td>\n",
       "      <td>0.113097</td>\n",
       "      <td>0.882876</td>\n",
       "      <td>15.000000</td>\n",
       "      <td>2</td>\n",
       "      <td>...</td>\n",
       "      <td>5.9720</td>\n",
       "      <td>4.0</td>\n",
       "      <td>2.6764</td>\n",
       "      <td>18</td>\n",
       "      <td>電切</td>\n",
       "      <td>電切</td>\n",
       "      <td>2.236068</td>\n",
       "      <td>3.000000</td>\n",
       "      <td>NaN</td>\n",
       "      <td>NaN</td>\n",
       "    </tr>\n",
       "    <tr>\n",
       "      <td>4</td>\n",
       "      <td>212625</td>\n",
       "      <td>灯切</td>\n",
       "      <td>2</td>\n",
       "      <td>40</td>\n",
       "      <td>831.862750</td>\n",
       "      <td>204.859515</td>\n",
       "      <td>0.002340</td>\n",
       "      <td>0.582847</td>\n",
       "      <td>2.439024</td>\n",
       "      <td>2</td>\n",
       "      <td>...</td>\n",
       "      <td>5.9720</td>\n",
       "      <td>4.0</td>\n",
       "      <td>2.6764</td>\n",
       "      <td>18</td>\n",
       "      <td>燈切</td>\n",
       "      <td>燈切</td>\n",
       "      <td>3.316625</td>\n",
       "      <td>3.464102</td>\n",
       "      <td>NaN</td>\n",
       "      <td>NaN</td>\n",
       "    </tr>\n",
       "    <tr>\n",
       "      <td>...</td>\n",
       "      <td>...</td>\n",
       "      <td>...</td>\n",
       "      <td>...</td>\n",
       "      <td>...</td>\n",
       "      <td>...</td>\n",
       "      <td>...</td>\n",
       "      <td>...</td>\n",
       "      <td>...</td>\n",
       "      <td>...</td>\n",
       "      <td>...</td>\n",
       "      <td>...</td>\n",
       "      <td>...</td>\n",
       "      <td>...</td>\n",
       "      <td>...</td>\n",
       "      <td>...</td>\n",
       "      <td>...</td>\n",
       "      <td>...</td>\n",
       "      <td>...</td>\n",
       "      <td>...</td>\n",
       "      <td>...</td>\n",
       "      <td>...</td>\n",
       "    </tr>\n",
       "    <tr>\n",
       "      <td>6053</td>\n",
       "      <td>219788</td>\n",
       "      <td>错疤</td>\n",
       "      <td>2</td>\n",
       "      <td>39</td>\n",
       "      <td>1018.995897</td>\n",
       "      <td>463.112043</td>\n",
       "      <td>0.408685</td>\n",
       "      <td>1.212337</td>\n",
       "      <td>2.500000</td>\n",
       "      <td>2</td>\n",
       "      <td>...</td>\n",
       "      <td>1.2264</td>\n",
       "      <td>9.0</td>\n",
       "      <td>NaN</td>\n",
       "      <td>3</td>\n",
       "      <td>錯疤</td>\n",
       "      <td>錯疤</td>\n",
       "      <td>2.645751</td>\n",
       "      <td>3.872983</td>\n",
       "      <td>0.076923</td>\n",
       "      <td>0.076923</td>\n",
       "    </tr>\n",
       "    <tr>\n",
       "      <td>6054</td>\n",
       "      <td>220044</td>\n",
       "      <td>鹰斜</td>\n",
       "      <td>2</td>\n",
       "      <td>40</td>\n",
       "      <td>853.194250</td>\n",
       "      <td>351.891181</td>\n",
       "      <td>-0.006309</td>\n",
       "      <td>0.798374</td>\n",
       "      <td>4.761905</td>\n",
       "      <td>2</td>\n",
       "      <td>...</td>\n",
       "      <td>1.0123</td>\n",
       "      <td>11.0</td>\n",
       "      <td>3.0328</td>\n",
       "      <td>4</td>\n",
       "      <td>鷹斜</td>\n",
       "      <td>鷹斜</td>\n",
       "      <td>3.000000</td>\n",
       "      <td>3.605551</td>\n",
       "      <td>NaN</td>\n",
       "      <td>NaN</td>\n",
       "    </tr>\n",
       "    <tr>\n",
       "      <td>6055</td>\n",
       "      <td>209467</td>\n",
       "      <td>调剂</td>\n",
       "      <td>1</td>\n",
       "      <td>41</td>\n",
       "      <td>765.834390</td>\n",
       "      <td>329.601164</td>\n",
       "      <td>-0.206131</td>\n",
       "      <td>1.132149</td>\n",
       "      <td>0.000000</td>\n",
       "      <td>2</td>\n",
       "      <td>...</td>\n",
       "      <td>1.0650</td>\n",
       "      <td>8.0</td>\n",
       "      <td>NaN</td>\n",
       "      <td>4</td>\n",
       "      <td>調劑</td>\n",
       "      <td>調劑</td>\n",
       "      <td>3.316625</td>\n",
       "      <td>3.605551</td>\n",
       "      <td>NaN</td>\n",
       "      <td>NaN</td>\n",
       "    </tr>\n",
       "    <tr>\n",
       "      <td>6056</td>\n",
       "      <td>219793</td>\n",
       "      <td>锤瘤</td>\n",
       "      <td>2</td>\n",
       "      <td>41</td>\n",
       "      <td>1003.872195</td>\n",
       "      <td>332.280792</td>\n",
       "      <td>0.393018</td>\n",
       "      <td>0.840217</td>\n",
       "      <td>2.380952</td>\n",
       "      <td>2</td>\n",
       "      <td>...</td>\n",
       "      <td>0.7428</td>\n",
       "      <td>15.0</td>\n",
       "      <td>0.0000</td>\n",
       "      <td>0</td>\n",
       "      <td>錘瘤</td>\n",
       "      <td>錘瘤</td>\n",
       "      <td>2.449490</td>\n",
       "      <td>3.872983</td>\n",
       "      <td>0.083333</td>\n",
       "      <td>0.142857</td>\n",
       "    </tr>\n",
       "    <tr>\n",
       "      <td>6057</td>\n",
       "      <td>209237</td>\n",
       "      <td>脸颊</td>\n",
       "      <td>1</td>\n",
       "      <td>40</td>\n",
       "      <td>663.643250</td>\n",
       "      <td>150.147435</td>\n",
       "      <td>-0.581720</td>\n",
       "      <td>0.419037</td>\n",
       "      <td>0.000000</td>\n",
       "      <td>2</td>\n",
       "      <td>...</td>\n",
       "      <td>NaN</td>\n",
       "      <td>12.0</td>\n",
       "      <td>NaN</td>\n",
       "      <td>0</td>\n",
       "      <td>臉頰</td>\n",
       "      <td>臉頰</td>\n",
       "      <td>1.414214</td>\n",
       "      <td>4.000000</td>\n",
       "      <td>0.076923</td>\n",
       "      <td>0.083333</td>\n",
       "    </tr>\n",
       "  </tbody>\n",
       "</table>\n",
       "<p>6058 rows × 35 columns</p>\n",
       "</div>"
      ],
      "text/plain": [
       "          id word_x  lexicality   N           RT        RTSD       zRT  \\\n",
       "0     200001     一切           1  40   610.620250  104.615792 -0.744272   \n",
       "1     210166     土切           2  40   974.976250  332.479450  0.622559   \n",
       "2     210778     手切           2  26   908.211538  357.555559  0.363349   \n",
       "3     211807     电切           2  34   919.441176  371.619622  0.113097   \n",
       "4     212625     灯切           2  40   831.862750  204.859515  0.002340   \n",
       "...      ...    ...         ...  ..          ...         ...       ...   \n",
       "6053  219788     错疤           2  39  1018.995897  463.112043  0.408685   \n",
       "6054  220044     鹰斜           2  40   853.194250  351.891181 -0.006309   \n",
       "6055  209467     调剂           1  41   765.834390  329.601164 -0.206131   \n",
       "6056  219793     锤瘤           2  41  1003.872195  332.280792  0.393018   \n",
       "6057  209237     脸颊           1  40   663.643250  150.147435 -0.581720   \n",
       "\n",
       "         zRTSD        ERR  length  ...    C2RE C2Strokes C2Entropy  C2nSense  \\\n",
       "0     0.294925   0.000000       2  ...  5.9720       4.0    2.6764        18   \n",
       "1     1.210804   2.439024       2  ...  5.9720       4.0    2.6764        18   \n",
       "2     1.037322  36.585366       2  ...  5.9720       4.0    2.6764        18   \n",
       "3     0.882876  15.000000       2  ...  5.9720       4.0    2.6764        18   \n",
       "4     0.582847   2.439024       2  ...  5.9720       4.0    2.6764        18   \n",
       "...        ...        ...     ...  ...     ...       ...       ...       ...   \n",
       "6053  1.212337   2.500000       2  ...  1.2264       9.0       NaN         3   \n",
       "6054  0.798374   4.761905       2  ...  1.0123      11.0    3.0328         4   \n",
       "6055  1.132149   0.000000       2  ...  1.0650       8.0       NaN         4   \n",
       "6056  0.840217   2.380952       2  ...  0.7428      15.0    0.0000         0   \n",
       "6057  0.419037   0.000000       2  ...     NaN      12.0       NaN         0   \n",
       "\n",
       "      word_tw  word_y  vec_dist_min  vec_dist_max  path_sim_min  path_sim_max  \n",
       "0          一切      一切      2.236068      3.464102           NaN           NaN  \n",
       "1          土切      土切      2.236068      3.316625      0.111111      0.111111  \n",
       "2          手切      手切      2.236068      3.872983           NaN           NaN  \n",
       "3          電切      電切      2.236068      3.000000           NaN           NaN  \n",
       "4          燈切      燈切      3.316625      3.464102           NaN           NaN  \n",
       "...       ...     ...           ...           ...           ...           ...  \n",
       "6053       錯疤      錯疤      2.645751      3.872983      0.076923      0.076923  \n",
       "6054       鷹斜      鷹斜      3.000000      3.605551           NaN           NaN  \n",
       "6055       調劑      調劑      3.316625      3.605551           NaN           NaN  \n",
       "6056       錘瘤      錘瘤      2.449490      3.872983      0.083333      0.142857  \n",
       "6057       臉頰      臉頰      1.414214      4.000000      0.076923      0.083333  \n",
       "\n",
       "[6058 rows x 35 columns]"
      ]
     },
     "execution_count": 149,
     "metadata": {},
     "output_type": "execute_result"
    }
   ],
   "source": [
    "m2_cld_wn"
   ]
  },
  {
   "cell_type": "code",
   "execution_count": 150,
   "metadata": {},
   "outputs": [],
   "source": [
    "m2_cld_wn.to_csv(mesh.get_data_dir()/\"bow/m2_cld_wn.csv\")"
   ]
  },
  {
   "cell_type": "code",
   "execution_count": null,
   "metadata": {},
   "outputs": [],
   "source": []
  }
 ],
 "metadata": {
  "kernelspec": {
   "display_name": "Python 3",
   "language": "python",
   "name": "python3"
  },
  "language_info": {
   "codemirror_mode": {
    "name": "ipython",
    "version": 3
   },
   "file_extension": ".py",
   "mimetype": "text/x-python",
   "name": "python",
   "nbconvert_exporter": "python",
   "pygments_lexer": "ipython3",
   "version": "3.7.4"
  }
 },
 "nbformat": 4,
 "nbformat_minor": 4
}
