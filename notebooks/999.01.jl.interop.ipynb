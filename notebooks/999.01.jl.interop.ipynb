{
 "cells": [
  {
   "cell_type": "code",
   "execution_count": 1,
   "metadata": {},
   "outputs": [],
   "source": [
    "using PyCall"
   ]
  },
  {
   "cell_type": "code",
   "execution_count": 8,
   "metadata": {},
   "outputs": [],
   "source": [
    "py\"\"\"\n",
    "import sys\n",
    "sys.path.append(\"./\")\n",
    "\"\"\""
   ]
  },
  {
   "cell_type": "code",
   "execution_count": 12,
   "metadata": {},
   "outputs": [
    {
     "name": "stdout",
     "output_type": "stream",
     "text": [
      "['C:\\\\Python38\\\\python38.zip', 'c:\\\\Python38\\\\DLLs', 'c:\\\\Python38\\\\lib', 'C:\\\\Users\\\\seantyh\\\\AppData\\\\Local\\\\Programs\\\\Julia\\\\Julia-1.4.2\\\\bin', 'C:\\\\Users\\\\seantyh\\\\AppData\\\\Roaming\\\\Python\\\\Python38\\\\site-packages', 'c:\\\\Python38', 'c:\\\\Python38\\\\lib\\\\site-packages', 'e:\\\\langon\\\\cwngraph', 'c:\\\\Python38\\\\lib\\\\site-packages\\\\win32', 'c:\\\\Python38\\\\lib\\\\site-packages\\\\win32\\\\lib', 'c:\\\\Python38\\\\lib\\\\site-packages\\\\Pythonwin', './']\n"
     ]
    }
   ],
   "source": [
    "py\"\"\"\n",
    "print(sys.path)\n",
    "from mesh_import import mesh\n",
    "\"\"\""
   ]
  },
  {
   "cell_type": "code",
   "execution_count": 15,
   "metadata": {},
   "outputs": [
    {
     "name": "stdout",
     "output_type": "stream",
     "text": [
      "E:\\LangOn\\OntoDeepLex\\data\n"
     ]
    }
   ],
   "source": [
    "py\"\"\"\n",
    "print(mesh.get_data_dir())\n",
    "\"\"\""
   ]
  },
  {
   "cell_type": "code",
   "execution_count": null,
   "metadata": {},
   "outputs": [],
   "source": []
  },
  {
   "cell_type": "code",
   "execution_count": null,
   "metadata": {},
   "outputs": [],
   "source": []
  }
 ],
 "metadata": {
  "kernelspec": {
   "display_name": "Julia 1.4.2",
   "language": "julia",
   "name": "julia-1.4"
  },
  "language_info": {
   "file_extension": ".jl",
   "mimetype": "application/julia",
   "name": "julia",
   "version": "1.4.2"
  }
 },
 "nbformat": 4,
 "nbformat_minor": 4
}
