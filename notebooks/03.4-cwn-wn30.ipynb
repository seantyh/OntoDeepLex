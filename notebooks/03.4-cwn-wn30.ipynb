{
 "cells": [
  {
   "cell_type": "code",
   "execution_count": 1,
   "metadata": {},
   "outputs": [],
   "source": [
    "%load_ext autoreload\n",
    "%autoreload 2\n",
    "import sys\n",
    "sys.path.append(\"../src\")"
   ]
  },
  {
   "cell_type": "code",
   "execution_count": 2,
   "metadata": {},
   "outputs": [
    {
     "name": "stderr",
     "output_type": "stream",
     "text": [
      "<ipython-input-2-0f67ae6cd0a8>:4: TqdmExperimentalWarning: Using `tqdm.autonotebook.tqdm` in notebook mode. Use `tqdm.tqdm` instead to force console mode (e.g. in jupyter console)\n",
      "  from tqdm.autonotebook import tqdm\n"
     ]
    }
   ],
   "source": [
    "import mesh\n",
    "import pandas as pd\n",
    "import numpy as np\n",
    "from tqdm.autonotebook import tqdm"
   ]
  },
  {
   "cell_type": "code",
   "execution_count": 3,
   "metadata": {},
   "outputs": [],
   "source": [
    "from nltk.corpus import wordnet as wn"
   ]
  },
  {
   "cell_type": "code",
   "execution_count": 4,
   "metadata": {},
   "outputs": [],
   "source": [
    "sense_dir = mesh.get_data_dir() / \"sense_data\"\n",
    "wn30_map = pd.read_csv(sense_dir / \"cwn_wn16_wn30_map.checked.csv\", encoding=\"UTF-8\", index_col=0,\n",
    "                      dtype={\"cwn_id\": np.object, \"wn16_offset\": np.object})"
   ]
  },
  {
   "cell_type": "code",
   "execution_count": 5,
   "metadata": {},
   "outputs": [],
   "source": [
    "wn30_map[\"wn16_key\"] = wn30_map.wn16_offset + wn30_map.wn16_pos\n",
    "wn30_map = wn30_map.set_index(\"wn16_key\")"
   ]
  },
  {
   "cell_type": "markdown",
   "metadata": {},
   "source": [
    "## Update CWN PwnSynset"
   ]
  },
  {
   "cell_type": "code",
   "execution_count": 6,
   "metadata": {},
   "outputs": [],
   "source": [
    "from CwnGraph import CwnBase"
   ]
  },
  {
   "cell_type": "code",
   "execution_count": 7,
   "metadata": {},
   "outputs": [],
   "source": [
    "cwn = CwnBase()"
   ]
  },
  {
   "cell_type": "code",
   "execution_count": 8,
   "metadata": {},
   "outputs": [],
   "source": [
    "niter = filter(lambda x: x[1]['node_type']==(\"pwn_synset\"), cwn.V.items())"
   ]
  },
  {
   "cell_type": "code",
   "execution_count": 9,
   "metadata": {},
   "outputs": [],
   "source": []
  },
  {
   "cell_type": "code",
   "execution_count": 10,
   "metadata": {},
   "outputs": [
    {
     "data": {
      "text/plain": [
       "{'node_type': 'pwn_synset', 'synset_sno': '01', 'synset_word1': 'expense'}"
      ]
     },
     "execution_count": 10,
     "metadata": {},
     "output_type": "execute_result"
    }
   ],
   "source": [
    "cwn.V[pwn_syn[0]]"
   ]
  },
  {
   "cell_type": "code",
   "execution_count": 11,
   "metadata": {},
   "outputs": [],
   "source": [
    "def find_wn30_map(pwn_id):\n",
    "    wn16_key = pwn_id.split(\"_\")[1].lower()\n",
    "    buf = [wn16_key, wn16_key.replace(\"a\", \"s\")]\n",
    "    while buf:\n",
    "        key = buf.pop(0)        \n",
    "        if key in wn30_map.index:\n",
    "            return wn30_map.loc[key].to_dict()\n",
    "    return None    "
   ]
  },
  {
   "cell_type": "code",
   "execution_count": 15,
   "metadata": {},
   "outputs": [
    {
     "data": {
      "application/vnd.jupyter.widget-view+json": {
       "model_id": "9d16f7304922486ba0b26fb2bf8a7391",
       "version_major": 2,
       "version_minor": 0
      },
      "text/plain": [
       "HBox(children=(FloatProgress(value=1.0, bar_style='info', max=1.0), HTML(value='')))"
      ]
     },
     "metadata": {},
     "output_type": "display_data"
    },
    {
     "name": "stdout",
     "output_type": "stream",
     "text": [
      "\n",
      "4145\n"
     ]
    }
   ],
   "source": [
    "mapped_count = 0\n",
    "niter = filter(lambda x: x[1]['node_type']==(\"pwn_synset\"), cwn.V.items())\n",
    "for pwn_id, ndata in tqdm(niter):\n",
    "    wn30_data = find_wn30_map(pwn_id)\n",
    "    if not wn30_data:\n",
    "        continue\n",
    "    mapped_count += 1\n",
    "    ndata.update(dict(\n",
    "        wn30_name=wn30_data[\"wn30_syn_name\"],\n",
    "        wn30_lemmas=wn30_data[\"wn30_lemmas\"],\n",
    "        wn30_def=wn30_data[\"wn30_def\"]        \n",
    "    ))    \n",
    "    \n",
    "print(mapped_count)"
   ]
  },
  {
   "cell_type": "code",
   "execution_count": 16,
   "metadata": {},
   "outputs": [
    {
     "data": {
      "text/plain": [
       "{'node_type': 'pwn_synset',\n",
       " 'synset_sno': '01',\n",
       " 'synset_word1': 'expense',\n",
       " 'wn30_name': 'expense.n.01',\n",
       " 'wn30_lemmas': 'expense,disbursal,disbursement',\n",
       " 'wn30_def': 'amounts paid for goods and services that may be currently tax deductible (as opposed to capital expenditures)'}"
      ]
     },
     "execution_count": 16,
     "metadata": {},
     "output_type": "execute_result"
    }
   ],
   "source": [
    "cwn.V[pwn_syn[0]]"
   ]
  },
  {
   "cell_type": "markdown",
   "metadata": {},
   "source": [
    "## Write CwnGraph data structure"
   ]
  },
  {
   "cell_type": "code",
   "execution_count": 17,
   "metadata": {},
   "outputs": [],
   "source": [
    "import pickle\n",
    "cwn_data_path = sense_dir/\"cwn_graph_0.2.pkl\"\n",
    "with cwn_data_path.open(\"wb\") as fout:\n",
    "    cwn.meta = {\"version\": \"0.2\", \"description\": \"add WN30 map to pwn_synset node (build 001)\"}\n",
    "    pickle.dump((cwn.V, cwn.E, cwn.meta), fout)"
   ]
  },
  {
   "cell_type": "code",
   "execution_count": 18,
   "metadata": {},
   "outputs": [
    {
     "name": "stdout",
     "output_type": "stream",
     "text": [
      "CWN data installed\n"
     ]
    }
   ],
   "source": [
    "## Install new data as CWN default \n",
    "CwnBase.install_cwn(cwn_data_path)"
   ]
  },
  {
   "cell_type": "code",
   "execution_count": 19,
   "metadata": {},
   "outputs": [],
   "source": [
    "cwn = CwnBase()"
   ]
  },
  {
   "cell_type": "code",
   "execution_count": 20,
   "metadata": {},
   "outputs": [
    {
     "data": {
      "text/plain": [
       "{'node_type': 'pwn_synset',\n",
       " 'synset_sno': '01',\n",
       " 'synset_word1': 'expense',\n",
       " 'wn30_name': 'expense.n.01',\n",
       " 'wn30_lemmas': 'expense,disbursal,disbursement',\n",
       " 'wn30_def': 'amounts paid for goods and services that may be currently tax deductible (as opposed to capital expenditures)'}"
      ]
     },
     "execution_count": 20,
     "metadata": {},
     "output_type": "execute_result"
    }
   ],
   "source": [
    "cwn.V[pwn_syn[0]]"
   ]
  },
  {
   "cell_type": "code",
   "execution_count": 21,
   "metadata": {},
   "outputs": [
    {
     "data": {
      "text/plain": [
       "[<CwnRelation> generic(rev): pwn_09553033N <- 07057002,\n",
       " <CwnRelation> generic(rev): pwn_09553033N <- 03003302,\n",
       " <CwnRelation> generic(rev): pwn_09553033N <- 06526301]"
      ]
     },
     "execution_count": 21,
     "metadata": {},
     "output_type": "execute_result"
    }
   ],
   "source": [
    "cwn.find_edges(pwn_syn[0])"
   ]
  },
  {
   "cell_type": "code",
   "execution_count": null,
   "metadata": {},
   "outputs": [],
   "source": []
  }
 ],
 "metadata": {
  "kernelspec": {
   "display_name": "Python 3",
   "language": "python",
   "name": "python3"
  },
  "language_info": {
   "codemirror_mode": {
    "name": "ipython",
    "version": 3
   },
   "file_extension": ".py",
   "mimetype": "text/x-python",
   "name": "python",
   "nbconvert_exporter": "python",
   "pygments_lexer": "ipython3",
   "version": "3.8.2"
  }
 },
 "nbformat": 4,
 "nbformat_minor": 4
}
