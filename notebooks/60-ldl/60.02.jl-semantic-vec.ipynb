{
 "cells": [
  {
   "cell_type": "code",
   "execution_count": null,
   "metadata": {},
   "outputs": [],
   "source": [
    "using HDF5"
   ]
  },
  {
   "cell_type": "markdown",
   "metadata": {},
   "source": [
    "## FastText embedding"
   ]
  },
  {
   "cell_type": "code",
   "execution_count": 8,
   "metadata": {},
   "outputs": [
    {
     "data": {
      "text/plain": [
       "true"
      ]
     },
     "execution_count": 8,
     "metadata": {},
     "output_type": "execute_result"
    }
   ],
   "source": [
    "fasttext_vec = \"../../data/ldl/semantic_vectors_fasttext_20k.h5\"\n",
    "isfile(fasttext_vec)"
   ]
  },
  {
   "cell_type": "code",
   "execution_count": 9,
   "metadata": {},
   "outputs": [
    {
     "data": {
      "text/plain": [
       "(19469,)"
      ]
     },
     "execution_count": 9,
     "metadata": {},
     "output_type": "execute_result"
    }
   ],
   "source": [
    "ft_h = h5open(fasttext_vec, \"r\")\n",
    "lexicon = split(read(ft_h, \"lexicon\"), \",\");\n",
    "size(lexicon)"
   ]
  },
  {
   "cell_type": "code",
   "execution_count": 10,
   "metadata": {},
   "outputs": [
    {
     "data": {
      "text/plain": [
       "300"
      ]
     },
     "execution_count": 10,
     "metadata": {},
     "output_type": "execute_result"
    }
   ],
   "source": [
    "fasttext_vectors = ft_h[\"fasttext\"]\n",
    "fasttext_dim = read(attrs(fasttext_vectors), \"dims\")"
   ]
  },
  {
   "cell_type": "code",
   "execution_count": 11,
   "metadata": {},
   "outputs": [
    {
     "data": {
      "text/plain": [
       "10-element Array{SubString{String},1}:\n",
       " \"出口\"\n",
       " \"平穩\"\n",
       " \"性向\"\n",
       " \"無比\"\n",
       " \"稅法\"\n",
       " \"爬\"\n",
       " \"本地\"\n",
       " \"警力\"\n",
       " \"希臘\"\n",
       " \"將領\""
      ]
     },
     "execution_count": 11,
     "metadata": {},
     "output_type": "execute_result"
    }
   ],
   "source": [
    "lexicon[1:10]"
   ]
  },
  {
   "cell_type": "code",
   "execution_count": 13,
   "metadata": {},
   "outputs": [
    {
     "data": {
      "text/plain": [
       "300-element Array{Float64,1}:\n",
       " -0.157\n",
       "  0.2024\n",
       "  0.4576\n",
       "  0.2891\n",
       "  0.2559\n",
       "  0.0394\n",
       " -0.0775\n",
       "  0.0206\n",
       " -0.1481\n",
       "  0.128\n",
       "  0.0531\n",
       " -0.1545\n",
       "  0.0141\n",
       "  ⋮\n",
       "  0.0866\n",
       "  0.1886\n",
       "  0.1422\n",
       "  0.1232\n",
       " -0.0948\n",
       "  0.3109\n",
       "  0.0301\n",
       " -0.0725\n",
       "  0.0099\n",
       "  0.0495\n",
       " -0.0755\n",
       "  0.0812"
      ]
     },
     "execution_count": 13,
     "metadata": {},
     "output_type": "execute_result"
    }
   ],
   "source": [
    "ft_vec1 = read(fasttext_vectors, String(lexicon[1]));\n",
    "ft_vec1"
   ]
  },
  {
   "cell_type": "code",
   "execution_count": 14,
   "metadata": {},
   "outputs": [],
   "source": [
    "close(ft_h)"
   ]
  },
  {
   "cell_type": "markdown",
   "metadata": {},
   "source": [
    "## BERT all-layers vectors"
   ]
  },
  {
   "cell_type": "code",
   "execution_count": 15,
   "metadata": {},
   "outputs": [
    {
     "data": {
      "text/plain": [
       "true"
      ]
     },
     "execution_count": 15,
     "metadata": {},
     "output_type": "execute_result"
    }
   ],
   "source": [
    "bert_vec = \"../../data/ldl/semantic_vectors_bert_20k.h5\"\n",
    "isfile(fasttext_vec)"
   ]
  },
  {
   "cell_type": "code",
   "execution_count": 16,
   "metadata": {},
   "outputs": [],
   "source": [
    "bert_h = h5open(bert_vec, \"r\")\n",
    "lexicon = split(read(bert_h, \"lexicon\"), \",\");"
   ]
  },
  {
   "cell_type": "code",
   "execution_count": 17,
   "metadata": {},
   "outputs": [
    {
     "data": {
      "text/plain": [
       "(19469,)"
      ]
     },
     "execution_count": 17,
     "metadata": {},
     "output_type": "execute_result"
    }
   ],
   "source": [
    "size(lexicon)"
   ]
  },
  {
   "cell_type": "code",
   "execution_count": 18,
   "metadata": {},
   "outputs": [
    {
     "data": {
      "text/plain": [
       "9984"
      ]
     },
     "execution_count": 18,
     "metadata": {},
     "output_type": "execute_result"
    }
   ],
   "source": [
    "bert_vectors = bert_h[\"bert\"]\n",
    "bert_dim = read(attrs(bert_vectors), \"dims\")"
   ]
  },
  {
   "cell_type": "code",
   "execution_count": 19,
   "metadata": {},
   "outputs": [
    {
     "data": {
      "text/plain": [
       "9984-element Array{Float32,1}:\n",
       " -0.1770054\n",
       " -0.6195456\n",
       "  0.7725407\n",
       " -0.9154794\n",
       "  0.23228875\n",
       "  0.4589122\n",
       "  0.19180769\n",
       "  0.8396047\n",
       " -0.43258864\n",
       " -0.7929923\n",
       "  0.47366703\n",
       "  0.12345025\n",
       "  0.09000661\n",
       "  ⋮\n",
       "  0.33410168\n",
       " -0.09486811\n",
       " -0.28306848\n",
       " -0.03139179\n",
       "  0.24520855\n",
       " -0.50510156\n",
       "  1.3165636\n",
       " -0.28385282\n",
       "  0.66129744\n",
       "  1.0119665\n",
       "  0.22818488\n",
       " -0.2926084"
      ]
     },
     "execution_count": 19,
     "metadata": {},
     "output_type": "execute_result"
    }
   ],
   "source": [
    "bert_vec1 = read(bert_vectors, String(lexicon[1]));\n",
    "bert_vec1"
   ]
  },
  {
   "cell_type": "code",
   "execution_count": null,
   "metadata": {},
   "outputs": [],
   "source": []
  }
 ],
 "metadata": {
  "kernelspec": {
   "display_name": "Julia 1.5.0",
   "language": "julia",
   "name": "julia-1.5"
  },
  "language_info": {
   "file_extension": ".jl",
   "mimetype": "application/julia",
   "name": "julia",
   "version": "1.5.0"
  }
 },
 "nbformat": 4,
 "nbformat_minor": 4
}
