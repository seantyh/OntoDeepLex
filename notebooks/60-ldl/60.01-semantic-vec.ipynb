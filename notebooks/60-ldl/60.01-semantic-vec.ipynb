{
 "cells": [
  {
   "cell_type": "code",
   "execution_count": 1,
   "metadata": {},
   "outputs": [],
   "source": [
    "%load_ext autoreload\n",
    "%autoreload 2"
   ]
  },
  {
   "cell_type": "code",
   "execution_count": 2,
   "metadata": {},
   "outputs": [
    {
     "name": "stderr",
     "output_type": "stream",
     "text": [
      "E:\\LangOn\\OntoDeepLex\\src\\mesh\\cns.py:3: TqdmExperimentalWarning: Using `tqdm.autonotebook.tqdm` in notebook mode. Use `tqdm.tqdm` instead to force console mode (e.g. in jupyter console)\n",
      "  from tqdm.autonotebook import tqdm\n"
     ]
    }
   ],
   "source": [
    "from mesh_import import mesh\n",
    "from tqdm.autonotebook import tqdm"
   ]
  },
  {
   "cell_type": "markdown",
   "metadata": {},
   "source": [
    "## Load Lexicon"
   ]
  },
  {
   "cell_type": "code",
   "execution_count": 3,
   "metadata": {},
   "outputs": [],
   "source": [
    "import pickle\n",
    "from itertools import chain\n",
    "with open(mesh.get_data_dir() / \"asbc/asbc5_words.pkl\", \"rb\") as fin:\n",
    "    aswfreq = pickle.load(fin)\n",
    "# with open(mesh.get_data_dir() / \"asbc/asbc5_characters.pkl\", \"rb\") as fin:\n",
    "#     ascfreq = pickle.load(fin)\n",
    "# lexicon = list(chain(aswfreq.keys(), ascfreq.keys()))    \n",
    "lexicon = set((x for x in aswfreq.keys() if \"/\" not in x))"
   ]
  },
  {
   "cell_type": "code",
   "execution_count": 4,
   "metadata": {},
   "outputs": [
    {
     "data": {
      "text/plain": [
       "217286"
      ]
     },
     "execution_count": 4,
     "metadata": {},
     "output_type": "execute_result"
    }
   ],
   "source": [
    "len(lexicon)"
   ]
  },
  {
   "cell_type": "markdown",
   "metadata": {},
   "source": [
    "## Load FastText"
   ]
  },
  {
   "cell_type": "code",
   "execution_count": null,
   "metadata": {},
   "outputs": [],
   "source": [
    "import gzip\n",
    "fname = \"h:/cc.zh.300.vec.gz\"\n",
    "fin = gzip.open(fname, 'rt', encoding='utf-8', newline='\\n', errors='ignore')\n",
    "n, d = map(int, fin.readline().split())\n",
    "data = {}\n",
    "lexicon_ft = set()\n",
    "for line in tqdm(fin, total=n):\n",
    "    tokens = line.rstrip().split(' ')\n",
    "    if tokens[0] in lexicon:\n",
    "        data[tokens[0]] = list(map(float, tokens[1:]))    \n",
    "        lexicon_ft.add(tokens[0])\n",
    "fin.close()"
   ]
  },
  {
   "cell_type": "markdown",
   "metadata": {},
   "source": [
    "## Write FastText into HDF5"
   ]
  },
  {
   "cell_type": "code",
   "execution_count": 8,
   "metadata": {},
   "outputs": [
    {
     "data": {
      "text/plain": [
       "124795"
      ]
     },
     "execution_count": 8,
     "metadata": {},
     "output_type": "execute_result"
    }
   ],
   "source": [
    "len(lexicon_ft)"
   ]
  },
  {
   "cell_type": "code",
   "execution_count": 6,
   "metadata": {},
   "outputs": [],
   "source": [
    "import h5py\n",
    "import numpy as np"
   ]
  },
  {
   "cell_type": "code",
   "execution_count": 7,
   "metadata": {},
   "outputs": [
    {
     "data": {
      "application/vnd.jupyter.widget-view+json": {
       "model_id": "05d072c5a37e40f68a2e96be3d75382e",
       "version_major": 2,
       "version_minor": 0
      },
      "text/plain": [
       "HBox(children=(FloatProgress(value=0.0, max=124795.0), HTML(value='')))"
      ]
     },
     "metadata": {},
     "output_type": "display_data"
    },
    {
     "name": "stdout",
     "output_type": "stream",
     "text": [
      "\n"
     ]
    }
   ],
   "source": [
    "outh5_path = mesh.get_data_dir()/\"ldl/semantic_vectors_fasttext.h5\"\n",
    "with h5py.File(outh5_path, \"w\") as outh:\n",
    "    outh[\"lexicon\"] = \",\".join(lexicon_ft)\n",
    "    vectors = outh.create_group(\"fasttext\")\n",
    "    vectors.attrs[\"lang\"] = \"zh\"\n",
    "    vectors.attrs[\"dims\"] = d\n",
    "    for word in tqdm(lexicon_ft):            \n",
    "        vectors[word] = data[word]"
   ]
  },
  {
   "cell_type": "markdown",
   "metadata": {},
   "source": [
    "## Prepare XLM-R contextualize embedding"
   ]
  },
  {
   "cell_type": "code",
   "execution_count": 12,
   "metadata": {},
   "outputs": [],
   "source": [
    "import torch\n",
    "from transformers import BertModel, BertTokenizer\n",
    "tokenizer = BertTokenizer.from_pretrained(\"bert-base-multilingual-cased\")\n",
    "model = BertModel.from_pretrained(\"bert-base-multilingual-cased\")"
   ]
  },
  {
   "cell_type": "markdown",
   "metadata": {},
   "source": [
    "### test-round"
   ]
  },
  {
   "cell_type": "code",
   "execution_count": 13,
   "metadata": {},
   "outputs": [],
   "source": [
    "inputs = tokenizer(\"馬肉\", return_tensors=\"pt\")"
   ]
  },
  {
   "cell_type": "code",
   "execution_count": 14,
   "metadata": {},
   "outputs": [
    {
     "data": {
      "text/plain": [
       "tensor([[ 101, 8510, 6501,  102]])"
      ]
     },
     "execution_count": 14,
     "metadata": {},
     "output_type": "execute_result"
    }
   ],
   "source": [
    "inputs[\"input_ids\"]"
   ]
  },
  {
   "cell_type": "code",
   "execution_count": 15,
   "metadata": {},
   "outputs": [
    {
     "data": {
      "text/plain": [
       "['[ C L S ]', '馬', '肉', '[ S E P ]']"
      ]
     },
     "execution_count": 15,
     "metadata": {},
     "output_type": "execute_result"
    }
   ],
   "source": [
    "[tokenizer.decode(x) for x in inputs[\"input_ids\"][0].numpy().tolist()]"
   ]
  },
  {
   "cell_type": "code",
   "execution_count": 16,
   "metadata": {},
   "outputs": [],
   "source": [
    "import torch\n",
    "with torch.no_grad():\n",
    "    last, pooled, hiddens = model(inputs[\"input_ids\"], output_hidden_states=True)"
   ]
  },
  {
   "cell_type": "code",
   "execution_count": 17,
   "metadata": {},
   "outputs": [
    {
     "data": {
      "text/plain": [
       "torch.Size([1, 4, 768])"
      ]
     },
     "execution_count": 17,
     "metadata": {},
     "output_type": "execute_result"
    }
   ],
   "source": [
    "hiddens[0].shape"
   ]
  },
  {
   "cell_type": "code",
   "execution_count": 18,
   "metadata": {},
   "outputs": [
    {
     "data": {
      "text/plain": [
       "torch.Size([1, 768])"
      ]
     },
     "execution_count": 18,
     "metadata": {},
     "output_type": "execute_result"
    }
   ],
   "source": [
    "hiddens[0][:,1:-1,:].mean(dim=1).shape"
   ]
  },
  {
   "cell_type": "code",
   "execution_count": 19,
   "metadata": {},
   "outputs": [],
   "source": [
    "mat = torch.stack([x[:,1:-1,:].mean(dim=1).squeeze() for x in hiddens]).numpy()"
   ]
  },
  {
   "cell_type": "code",
   "execution_count": 20,
   "metadata": {},
   "outputs": [
    {
     "data": {
      "text/plain": [
       "(13, 768)"
      ]
     },
     "execution_count": 20,
     "metadata": {},
     "output_type": "execute_result"
    }
   ],
   "source": [
    "mat.shape"
   ]
  },
  {
   "cell_type": "code",
   "execution_count": 21,
   "metadata": {},
   "outputs": [
    {
     "data": {
      "text/plain": [
       "<matplotlib.axes._subplots.AxesSubplot at 0x21e4a08ff70>"
      ]
     },
     "execution_count": 21,
     "metadata": {},
     "output_type": "execute_result"
    },
    {
     "data": {
      "image/png": "[encoded data removed]",
      "text/plain": [
       "<Figure size 432x288 with 2 Axes>"
      ]
     },
     "metadata": {
      "needs_background": "light"
     },
     "output_type": "display_data"
    }
   ],
   "source": [
    "import numpy as np\n",
    "from matplotlib import pyplot as plt\n",
    "import seaborn as sns\n",
    "sns.heatmap(np.corrcoef(mat))"
   ]
  },
  {
   "cell_type": "code",
   "execution_count": 22,
   "metadata": {},
   "outputs": [
    {
     "data": {
      "text/plain": [
       "torch.Size([9984])"
      ]
     },
     "execution_count": 22,
     "metadata": {},
     "output_type": "execute_result"
    }
   ],
   "source": [
    "targets = list(x[:,1:-1,:] for x in hiddens)\n",
    "torch.cat(targets, dim=2).mean(dim=1).squeeze().shape"
   ]
  },
  {
   "cell_type": "markdown",
   "metadata": {},
   "source": [
    "### build concatenated all-layer BERT vectors"
   ]
  },
  {
   "cell_type": "code",
   "execution_count": 42,
   "metadata": {},
   "outputs": [],
   "source": [
    "from itertools import islice\n",
    "def batch(iterable, n=1):\n",
    "    l = len(iterable)\n",
    "    for ndx in range(0, l, n):\n",
    "        yield list(islice(iterable, ndx, min(ndx + n, l)))"
   ]
  },
  {
   "cell_type": "code",
   "execution_count": 43,
   "metadata": {},
   "outputs": [
    {
     "data": {
      "text/plain": [
       "[[0, 1, 2], [3, 4, 5], [6, 7, 8], [9]]"
      ]
     },
     "execution_count": 43,
     "metadata": {},
     "output_type": "execute_result"
    }
   ],
   "source": [
    "list(batch(range(10), 3))"
   ]
  },
  {
   "cell_type": "code",
   "execution_count": null,
   "metadata": {},
   "outputs": [],
   "source": [
    "import h5py\n",
    "outh5_path = mesh.get_data_dir()/\"ldl/semantic_vectors_bert.h5\"\n",
    "with h5py.File(outh5_path, \"a\") as outh:\n",
    "    \n",
    "    if \"bert\" in outh:\n",
    "        del outh[\"bert\"]\n",
    "    \n",
    "    vectors = outh.create_group(\"bert\")\n",
    "    vectors.attrs[\"model\"] = \"bert-base-multilingual-cased\"\n",
    "    vectors.attrs[\"dims\"] = 768 * 13\n",
    "\n",
    "    with torch.no_grad():\n",
    "        for words in tqdm(batch(lexicon_ft, 16), total=len(lexicon_ft)/16):\n",
    "            inputs = tokenizer(words, return_tensors=\"pt\", padding=True)\n",
    "            last, pooled, hiddens = model(**inputs, output_hidden_states=True)\n",
    "            targets = [x[:,1:-1,:] for x in hiddens]\n",
    "            concat_vector = torch.cat(targets, dim=2).mean(dim=1)\n",
    "            for idx, word in enumerate(words):\n",
    "                vectors[word] = concat_vector[idx].squeeze()            \n"
   ]
  },
  {
   "cell_type": "markdown",
   "metadata": {},
   "source": [
    "## Play around SentencePiece"
   ]
  },
  {
   "cell_type": "code",
   "execution_count": 18,
   "metadata": {},
   "outputs": [],
   "source": [
    "import re\n",
    "pat = re.compile(\"^[\\u4e00-\\u9fff]+$\")\n",
    "segs = sorted((x for x in tokenizer.get_vocab() if pat.match(x)), key=lambda x: len(x), reverse=False)"
   ]
  },
  {
   "cell_type": "code",
   "execution_count": 20,
   "metadata": {},
   "outputs": [
    {
     "data": {
      "text/plain": [
       "['日常生活中',\n",
       " '消費者金融',\n",
       " '为客户提供',\n",
       " '新闻发布会',\n",
       " '中央社記者',\n",
       " '各种各样的',\n",
       " '前所未有的',\n",
       " '首席执行官',\n",
       " '大家都知道',\n",
       " '犯罪嫌疑人',\n",
       " '不可或缺的',\n",
       " '个工作日内',\n",
       " '中央政治局',\n",
       " '进一步加强',\n",
       " '智慧型手機',\n",
       " '高质量发展',\n",
       " '完善的售后',\n",
       " '产品和服务',\n",
       " '關鍵字搜尋',\n",
       " '拉斯维加斯',\n",
       " '微信公众号',\n",
       " '习近平主席',\n",
       " '一年一度的',\n",
       " '是怎么回事',\n",
       " '意想不到的',\n",
       " '律师事务所',\n",
       " '发展中国家',\n",
       " '股份有限公司',\n",
       " '科技有限公司',\n",
       " '习近平总书记',\n",
       " '经济社会发展',\n",
       " '值得一提的是',\n",
       " '澳门威尼斯人',\n",
       " '个国家和地区',\n",
       " '值得注意的是',\n",
       " '有限责任公司',\n",
       " '是非常重要的',\n",
       " '人民代表大会',\n",
       " '在一定程度上',\n",
       " '個人情報保護',\n",
       " '在这种情况下',\n",
       " '全面深化改革',\n",
       " '政府工作报告',\n",
       " '中华人民共和国',\n",
       " '的重要组成部分',\n",
       " '中国特色社会主义',\n",
       " '歲以下以及中國大',\n",
       " '全面建成小康社会',\n",
       " '了您的學業和身心健康請不要沉迷於',\n",
       " '习近平新时代中国特色社会主义思想']"
      ]
     },
     "execution_count": 20,
     "metadata": {},
     "output_type": "execute_result"
    }
   ],
   "source": [
    "segs[-50:]"
   ]
  },
  {
   "cell_type": "code",
   "execution_count": null,
   "metadata": {},
   "outputs": [],
   "source": []
  }
 ],
 "metadata": {
  "kernelspec": {
   "display_name": "Python 3",
   "language": "python",
   "name": "python3"
  },
  "language_info": {
   "codemirror_mode": {
    "name": "ipython",
    "version": 3
   },
   "file_extension": ".py",
   "mimetype": "text/x-python",
   "name": "python",
   "nbconvert_exporter": "python",
   "pygments_lexer": "ipython3",
   "version": "3.8.2"
  }
 },
 "nbformat": 4,
 "nbformat_minor": 4
}
