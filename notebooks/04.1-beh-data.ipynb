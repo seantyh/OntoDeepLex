{
 "cells": [
  {
   "cell_type": "code",
   "execution_count": 2,
   "metadata": {},
   "outputs": [],
   "source": [
    "%load_ext autoreload\n",
    "%autoreload 2\n",
    "import sys\n",
    "sys.path.append(\"../src\")"
   ]
  },
  {
   "cell_type": "code",
   "execution_count": 3,
   "metadata": {},
   "outputs": [
    {
     "name": "stderr",
     "output_type": "stream",
     "text": [
      "<ipython-input-3-e51c26afff8a>:2: TqdmExperimentalWarning: Using `tqdm.autonotebook.tqdm` in notebook mode. Use `tqdm.tqdm` instead to force console mode (e.g. in jupyter console)\n",
      "  from tqdm.autonotebook import tqdm\n"
     ]
    }
   ],
   "source": [
    "import mesh\n",
    "from tqdm.autonotebook import tqdm"
   ]
  },
  {
   "cell_type": "code",
   "execution_count": 30,
   "metadata": {},
   "outputs": [],
   "source": [
    "import pandas as pd\n",
    "from CwnGraph import CwnBase, CwnLemma"
   ]
  },
  {
   "cell_type": "code",
   "execution_count": 38,
   "metadata": {},
   "outputs": [],
   "source": [
    "meld_sch=pd.read_excel(mesh.get_data_dir()/\"ldt-data/Tsang-2018-MELD-SCH.xlsx\")"
   ]
  },
  {
   "cell_type": "code",
   "execution_count": 40,
   "metadata": {},
   "outputs": [],
   "source": [
    "clpw = pd.read_excel(mesh.get_data_dir()/\"ldt-data/Tse-2017-Chinese-lexicon-project.xlsx\", sheet_name=0)"
   ]
  },
  {
   "cell_type": "code",
   "execution_count": 8,
   "metadata": {},
   "outputs": [],
   "source": [
    "cwn = CwnBase()"
   ]
  },
  {
   "cell_type": "code",
   "execution_count": 36,
   "metadata": {},
   "outputs": [],
   "source": [
    "# get lemmas with at least one sense\n",
    "lemma_iter = filter(lambda x: x[1]['node_type']=='lemma', cwn.V.items())\n",
    "lemma_iter = filter(lambda x: CwnLemma(x[0], cwn).senses, lemma_iter)\n",
    "lemma_iter = map(lambda x: x[1].get(\"lemma\"), lemma_iter)\n",
    "\n",
    "cwn_lemmas = list(lemma_iter)"
   ]
  },
  {
   "cell_type": "markdown",
   "metadata": {},
   "source": [
    "## MELD_SCH & CWN coverage"
   ]
  },
  {
   "cell_type": "code",
   "execution_count": 14,
   "metadata": {},
   "outputs": [],
   "source": [
    "cn_words = meld_sch.loc[meld_sch.lexicality==1,].word.tolist()"
   ]
  },
  {
   "cell_type": "code",
   "execution_count": 15,
   "metadata": {},
   "outputs": [],
   "source": [
    "from opencc import OpenCC\n",
    "cc = OpenCC('s2t')"
   ]
  },
  {
   "cell_type": "code",
   "execution_count": 18,
   "metadata": {},
   "outputs": [],
   "source": [
    "tw_words = [cc.convert(x) for x in cn_words]"
   ]
  },
  {
   "cell_type": "code",
   "execution_count": 48,
   "metadata": {},
   "outputs": [
    {
     "name": "stdout",
     "output_type": "stream",
     "text": [
      "MELD_SCH Words: 12578\n",
      "Intersect with CWN: 2931\n"
     ]
    }
   ],
   "source": [
    "int_words = set(cwn_lemmas) & set(tw_words)\n",
    "print(\n",
    "    f\"MELD_SCH Words: {len(cn_words)}\\n\"\n",
    "    f\"Intersect with CWN: {len(int_words)}\")"
   ]
  },
  {
   "cell_type": "markdown",
   "metadata": {},
   "source": [
    "## CLP & CWN Coverage"
   ]
  },
  {
   "cell_type": "code",
   "execution_count": 43,
   "metadata": {},
   "outputs": [],
   "source": [
    "clp_words = clpw.Word_Trad.tolist()"
   ]
  },
  {
   "cell_type": "code",
   "execution_count": 46,
   "metadata": {},
   "outputs": [
    {
     "name": "stdout",
     "output_type": "stream",
     "text": [
      "CLP Words: 25281\n",
      "Intersect with CWN: 4128\n"
     ]
    }
   ],
   "source": [
    "int_words = set(cwn_lemmas) & set(clp_words)\n",
    "print(\n",
    "    f\"CLP Words: {len(clp_words)}\\n\"\n",
    "    f\"Intersect with CWN: {len(int_words)}\")"
   ]
  },
  {
   "cell_type": "code",
   "execution_count": null,
   "metadata": {},
   "outputs": [],
   "source": []
  }
 ],
 "metadata": {
  "kernelspec": {
   "display_name": "Python 3",
   "language": "python",
   "name": "python3"
  },
  "language_info": {
   "codemirror_mode": {
    "name": "ipython",
    "version": 3
   },
   "file_extension": ".py",
   "mimetype": "text/x-python",
   "name": "python",
   "nbconvert_exporter": "python",
   "pygments_lexer": "ipython3",
   "version": "3.8.2"
  }
 },
 "nbformat": 4,
 "nbformat_minor": 4
}
