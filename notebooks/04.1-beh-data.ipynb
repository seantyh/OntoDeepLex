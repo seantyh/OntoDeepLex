{
 "cells": [
  {
   "cell_type": "code",
   "execution_count": 1,
   "metadata": {},
   "outputs": [],
   "source": [
    "%load_ext autoreload\n",
    "%autoreload 2\n",
    "import sys\n",
    "sys.path.append(\"../src\")"
   ]
  },
  {
   "cell_type": "code",
   "execution_count": 4,
   "metadata": {},
   "outputs": [
    {
     "name": "stderr",
     "output_type": "stream",
     "text": [
      "/Users/seantyh/anaconda3/lib/python3.7/site-packages/tqdm/autonotebook.py:17: TqdmExperimentalWarning: Using `tqdm.autonotebook.tqdm` in notebook mode. Use `tqdm.tqdm` instead to force console mode (e.g. in jupyter console)\n",
      "  \" (e.g. in jupyter console)\", TqdmExperimentalWarning)\n"
     ]
    }
   ],
   "source": [
    "import mesh\n",
    "from tqdm.autonotebook import tqdm"
   ]
  },
  {
   "cell_type": "code",
   "execution_count": 5,
   "metadata": {},
   "outputs": [],
   "source": [
    "import pandas as pd\n",
    "from CwnGraph import CwnBase, CwnLemma"
   ]
  },
  {
   "cell_type": "code",
   "execution_count": 6,
   "metadata": {},
   "outputs": [],
   "source": [
    "meld_sch=pd.read_excel(mesh.get_data_dir()/\"ldt-data/Tsang-2018-MELD-SCH.xlsx\")"
   ]
  },
  {
   "cell_type": "code",
   "execution_count": 7,
   "metadata": {},
   "outputs": [],
   "source": [
    "clpw = pd.read_excel(mesh.get_data_dir()/\"ldt-data/Tse-2017-Chinese-lexicon-project.xlsx\", sheet_name=0)"
   ]
  },
  {
   "cell_type": "code",
   "execution_count": 8,
   "metadata": {},
   "outputs": [],
   "source": [
    "cwn = CwnBase()"
   ]
  },
  {
   "cell_type": "code",
   "execution_count": 9,
   "metadata": {},
   "outputs": [],
   "source": [
    "# get lemmas with at least one sense\n",
    "lemma_iter = filter(lambda x: x[1]['node_type']=='lemma', cwn.V.items())\n",
    "lemma_iter = filter(lambda x: CwnLemma(x[0], cwn).senses, lemma_iter)\n",
    "lemma_iter = map(lambda x: x[1].get(\"lemma\"), lemma_iter)\n",
    "\n",
    "cwn_lemmas = list(lemma_iter)"
   ]
  },
  {
   "cell_type": "markdown",
   "metadata": {},
   "source": [
    "## CLD Dataset"
   ]
  },
  {
   "cell_type": "code",
   "execution_count": 17,
   "metadata": {},
   "outputs": [
    {
     "name": "stderr",
     "output_type": "stream",
     "text": [
      "/Users/seantyh/anaconda3/lib/python3.7/site-packages/IPython/core/interactiveshell.py:3058: DtypeWarning: Columns (3,4,8,9,12,13,17,18,22,23,28,29,111,112,127,128) have mixed types. Specify dtype option on import or set low_memory=False.\n",
      "  interactivity=interactivity, compiler=compiler, result=result)\n"
     ]
    }
   ],
   "source": [
    "cld = pd.read_csv(mesh.get_data_dir()/\"CLD/chineselexicaldatabase2.1.txt\")"
   ]
  },
  {
   "cell_type": "code",
   "execution_count": 48,
   "metadata": {},
   "outputs": [],
   "source": [
    "from opencc import OpenCC\n",
    "s2t = OpenCC('s2t')\n",
    "cld=cld.assign(trad_word=lambda df: [s2t.convert(x) for x in df.Word])"
   ]
  },
  {
   "cell_type": "code",
   "execution_count": 49,
   "metadata": {},
   "outputs": [],
   "source": [
    "sub_cld = cld[[\"trad_word\", \"FrequencyRaw\"]]"
   ]
  },
  {
   "cell_type": "code",
   "execution_count": 34,
   "metadata": {},
   "outputs": [],
   "source": []
  },
  {
   "cell_type": "markdown",
   "metadata": {},
   "source": [
    "## Graph measures"
   ]
  },
  {
   "cell_type": "code",
   "execution_count": 29,
   "metadata": {},
   "outputs": [],
   "source": [
    "cns = pd.read_csv(mesh.get_data_dir()/\"cns/cwn_centralities.csv\", index_col=0)"
   ]
  },
  {
   "cell_type": "code",
   "execution_count": 30,
   "metadata": {},
   "outputs": [
    {
     "data": {
      "text/html": [
       "<div>\n",
       "<style scoped>\n",
       "    .dataframe tbody tr th:only-of-type {\n",
       "        vertical-align: middle;\n",
       "    }\n",
       "\n",
       "    .dataframe tbody tr th {\n",
       "        vertical-align: top;\n",
       "    }\n",
       "\n",
       "    .dataframe thead th {\n",
       "        text-align: right;\n",
       "    }\n",
       "</style>\n",
       "<table border=\"1\" class=\"dataframe\">\n",
       "  <thead>\n",
       "    <tr style=\"text-align: right;\">\n",
       "      <th></th>\n",
       "      <th>word</th>\n",
       "      <th>nsenses</th>\n",
       "      <th>degree</th>\n",
       "      <th>closeness</th>\n",
       "      <th>betweenness</th>\n",
       "      <th>eigen</th>\n",
       "      <th>ncompo</th>\n",
       "    </tr>\n",
       "  </thead>\n",
       "  <tbody>\n",
       "    <tr>\n",
       "      <td>0</td>\n",
       "      <td>60</td>\n",
       "      <td>0</td>\n",
       "      <td>1</td>\n",
       "      <td>0.000012</td>\n",
       "      <td>0.0</td>\n",
       "      <td>0.000000e+00</td>\n",
       "      <td>21</td>\n",
       "    </tr>\n",
       "    <tr>\n",
       "      <td>1</td>\n",
       "      <td>68</td>\n",
       "      <td>0</td>\n",
       "      <td>1</td>\n",
       "      <td>0.000012</td>\n",
       "      <td>0.0</td>\n",
       "      <td>0.000000e+00</td>\n",
       "      <td>21</td>\n",
       "    </tr>\n",
       "    <tr>\n",
       "      <td>2</td>\n",
       "      <td>9.20%</td>\n",
       "      <td>1</td>\n",
       "      <td>1</td>\n",
       "      <td>0.000012</td>\n",
       "      <td>0.0</td>\n",
       "      <td>0.000000e+00</td>\n",
       "      <td>21</td>\n",
       "    </tr>\n",
       "    <tr>\n",
       "      <td>3</td>\n",
       "      <td>BJ</td>\n",
       "      <td>0</td>\n",
       "      <td>1</td>\n",
       "      <td>0.000012</td>\n",
       "      <td>0.0</td>\n",
       "      <td>0.000000e+00</td>\n",
       "      <td>10</td>\n",
       "    </tr>\n",
       "    <tr>\n",
       "      <td>4</td>\n",
       "      <td>GG</td>\n",
       "      <td>1</td>\n",
       "      <td>1</td>\n",
       "      <td>0.000021</td>\n",
       "      <td>0.0</td>\n",
       "      <td>2.368389e-10</td>\n",
       "      <td>35392</td>\n",
       "    </tr>\n",
       "  </tbody>\n",
       "</table>\n",
       "</div>"
      ],
      "text/plain": [
       "    word  nsenses  degree  closeness  betweenness         eigen  ncompo\n",
       "0     60        0       1   0.000012          0.0  0.000000e+00      21\n",
       "1     68        0       1   0.000012          0.0  0.000000e+00      21\n",
       "2  9.20%        1       1   0.000012          0.0  0.000000e+00      21\n",
       "3     BJ        0       1   0.000012          0.0  0.000000e+00      10\n",
       "4     GG        1       1   0.000021          0.0  2.368389e-10   35392"
      ]
     },
     "execution_count": 30,
     "metadata": {},
     "output_type": "execute_result"
    }
   ],
   "source": [
    "cns.head()"
   ]
  },
  {
   "cell_type": "markdown",
   "metadata": {},
   "source": [
    "## MELD_SCH & CWN coverage"
   ]
  },
  {
   "cell_type": "code",
   "execution_count": 67,
   "metadata": {},
   "outputs": [],
   "source": [
    "cn_words = meld_sch.loc[meld_sch.lexicality==1,].word.tolist()"
   ]
  },
  {
   "cell_type": "code",
   "execution_count": 68,
   "metadata": {},
   "outputs": [],
   "source": [
    "from opencc import OpenCC\n",
    "cc = OpenCC('s2t')"
   ]
  },
  {
   "cell_type": "code",
   "execution_count": 69,
   "metadata": {},
   "outputs": [],
   "source": [
    "tw_words = [cc.convert(x) for x in cn_words]"
   ]
  },
  {
   "cell_type": "code",
   "execution_count": 81,
   "metadata": {},
   "outputs": [
    {
     "name": "stdout",
     "output_type": "stream",
     "text": [
      "MELD_SCH Words: 12578\n",
      "Intersect with CWN: 2931\n"
     ]
    }
   ],
   "source": [
    "int_words = set(cwn_lemmas) & set(tw_words)\n",
    "print(\n",
    "    f\"MELD_SCH Words: {len(cn_words)}\\n\"\n",
    "    f\"Intersect with CWN: {len(int_words)}\")"
   ]
  },
  {
   "cell_type": "code",
   "execution_count": 82,
   "metadata": {},
   "outputs": [],
   "source": [
    "meld_sch = meld_sch.assign(trad_word=lambda df: [s2t.convert(x) for x in df.word])"
   ]
  },
  {
   "cell_type": "code",
   "execution_count": 83,
   "metadata": {},
   "outputs": [],
   "source": [
    "meld_sch_words = pd.DataFrame(data={\"word\":list(int_words)})"
   ]
  },
  {
   "cell_type": "code",
   "execution_count": 84,
   "metadata": {},
   "outputs": [
    {
     "data": {
      "text/html": [
       "<div>\n",
       "<style scoped>\n",
       "    .dataframe tbody tr th:only-of-type {\n",
       "        vertical-align: middle;\n",
       "    }\n",
       "\n",
       "    .dataframe tbody tr th {\n",
       "        vertical-align: top;\n",
       "    }\n",
       "\n",
       "    .dataframe thead th {\n",
       "        text-align: right;\n",
       "    }\n",
       "</style>\n",
       "<table border=\"1\" class=\"dataframe\">\n",
       "  <thead>\n",
       "    <tr style=\"text-align: right;\">\n",
       "      <th></th>\n",
       "      <th>id</th>\n",
       "      <th>word</th>\n",
       "      <th>lexicality</th>\n",
       "      <th>N</th>\n",
       "      <th>RT</th>\n",
       "      <th>RTSD</th>\n",
       "      <th>zRT</th>\n",
       "      <th>zRTSD</th>\n",
       "      <th>ERR</th>\n",
       "      <th>length</th>\n",
       "      <th>...</th>\n",
       "      <th>C3pr2</th>\n",
       "      <th>C3pr3</th>\n",
       "      <th>C3pr4</th>\n",
       "      <th>C3pr5</th>\n",
       "      <th>C4pr1</th>\n",
       "      <th>C4pr2</th>\n",
       "      <th>C4pr3</th>\n",
       "      <th>C4pr4</th>\n",
       "      <th>C4pr5</th>\n",
       "      <th>trad_word</th>\n",
       "    </tr>\n",
       "  </thead>\n",
       "  <tbody>\n",
       "    <tr>\n",
       "      <td>0</td>\n",
       "      <td>100001</td>\n",
       "      <td>乜</td>\n",
       "      <td>1</td>\n",
       "      <td>24</td>\n",
       "      <td>1180.965833</td>\n",
       "      <td>350.387139</td>\n",
       "      <td>0.875071</td>\n",
       "      <td>0.914858</td>\n",
       "      <td>40.000000</td>\n",
       "      <td>1</td>\n",
       "      <td>...</td>\n",
       "      <td>NaN</td>\n",
       "      <td>NaN</td>\n",
       "      <td>NaN</td>\n",
       "      <td>NaN</td>\n",
       "      <td>NaN</td>\n",
       "      <td>NaN</td>\n",
       "      <td>NaN</td>\n",
       "      <td>NaN</td>\n",
       "      <td>NaN</td>\n",
       "      <td>乜</td>\n",
       "    </tr>\n",
       "    <tr>\n",
       "      <td>1</td>\n",
       "      <td>100002</td>\n",
       "      <td>凡</td>\n",
       "      <td>1</td>\n",
       "      <td>40</td>\n",
       "      <td>778.381250</td>\n",
       "      <td>319.598542</td>\n",
       "      <td>-0.135300</td>\n",
       "      <td>1.137753</td>\n",
       "      <td>4.761905</td>\n",
       "      <td>1</td>\n",
       "      <td>...</td>\n",
       "      <td>NaN</td>\n",
       "      <td>NaN</td>\n",
       "      <td>NaN</td>\n",
       "      <td>NaN</td>\n",
       "      <td>NaN</td>\n",
       "      <td>NaN</td>\n",
       "      <td>NaN</td>\n",
       "      <td>NaN</td>\n",
       "      <td>NaN</td>\n",
       "      <td>凡</td>\n",
       "    </tr>\n",
       "    <tr>\n",
       "      <td>2</td>\n",
       "      <td>100003</td>\n",
       "      <td>口</td>\n",
       "      <td>1</td>\n",
       "      <td>41</td>\n",
       "      <td>682.423659</td>\n",
       "      <td>223.998070</td>\n",
       "      <td>-0.593711</td>\n",
       "      <td>0.682099</td>\n",
       "      <td>2.380952</td>\n",
       "      <td>1</td>\n",
       "      <td>...</td>\n",
       "      <td>NaN</td>\n",
       "      <td>NaN</td>\n",
       "      <td>NaN</td>\n",
       "      <td>NaN</td>\n",
       "      <td>NaN</td>\n",
       "      <td>NaN</td>\n",
       "      <td>NaN</td>\n",
       "      <td>NaN</td>\n",
       "      <td>NaN</td>\n",
       "      <td>口</td>\n",
       "    </tr>\n",
       "    <tr>\n",
       "      <td>3</td>\n",
       "      <td>100004</td>\n",
       "      <td>土</td>\n",
       "      <td>1</td>\n",
       "      <td>40</td>\n",
       "      <td>704.935000</td>\n",
       "      <td>129.813901</td>\n",
       "      <td>-0.439805</td>\n",
       "      <td>0.509694</td>\n",
       "      <td>0.000000</td>\n",
       "      <td>1</td>\n",
       "      <td>...</td>\n",
       "      <td>NaN</td>\n",
       "      <td>NaN</td>\n",
       "      <td>NaN</td>\n",
       "      <td>NaN</td>\n",
       "      <td>NaN</td>\n",
       "      <td>NaN</td>\n",
       "      <td>NaN</td>\n",
       "      <td>NaN</td>\n",
       "      <td>NaN</td>\n",
       "      <td>土</td>\n",
       "    </tr>\n",
       "    <tr>\n",
       "      <td>4</td>\n",
       "      <td>100005</td>\n",
       "      <td>女</td>\n",
       "      <td>1</td>\n",
       "      <td>40</td>\n",
       "      <td>680.626500</td>\n",
       "      <td>240.384837</td>\n",
       "      <td>-0.561245</td>\n",
       "      <td>0.738961</td>\n",
       "      <td>0.000000</td>\n",
       "      <td>1</td>\n",
       "      <td>...</td>\n",
       "      <td>NaN</td>\n",
       "      <td>NaN</td>\n",
       "      <td>NaN</td>\n",
       "      <td>NaN</td>\n",
       "      <td>NaN</td>\n",
       "      <td>NaN</td>\n",
       "      <td>NaN</td>\n",
       "      <td>NaN</td>\n",
       "      <td>NaN</td>\n",
       "      <td>女</td>\n",
       "    </tr>\n",
       "  </tbody>\n",
       "</table>\n",
       "<p>5 rows × 55 columns</p>\n",
       "</div>"
      ],
      "text/plain": [
       "       id word  lexicality   N           RT        RTSD       zRT     zRTSD  \\\n",
       "0  100001    乜           1  24  1180.965833  350.387139  0.875071  0.914858   \n",
       "1  100002    凡           1  40   778.381250  319.598542 -0.135300  1.137753   \n",
       "2  100003    口           1  41   682.423659  223.998070 -0.593711  0.682099   \n",
       "3  100004    土           1  40   704.935000  129.813901 -0.439805  0.509694   \n",
       "4  100005    女           1  40   680.626500  240.384837 -0.561245  0.738961   \n",
       "\n",
       "         ERR  length  ...  C3pr2  C3pr3  C3pr4  C3pr5  C4pr1  C4pr2  C4pr3  \\\n",
       "0  40.000000       1  ...    NaN    NaN    NaN    NaN    NaN    NaN    NaN   \n",
       "1   4.761905       1  ...    NaN    NaN    NaN    NaN    NaN    NaN    NaN   \n",
       "2   2.380952       1  ...    NaN    NaN    NaN    NaN    NaN    NaN    NaN   \n",
       "3   0.000000       1  ...    NaN    NaN    NaN    NaN    NaN    NaN    NaN   \n",
       "4   0.000000       1  ...    NaN    NaN    NaN    NaN    NaN    NaN    NaN   \n",
       "\n",
       "   C4pr4  C4pr5  trad_word  \n",
       "0    NaN    NaN          乜  \n",
       "1    NaN    NaN          凡  \n",
       "2    NaN    NaN          口  \n",
       "3    NaN    NaN          土  \n",
       "4    NaN    NaN          女  \n",
       "\n",
       "[5 rows x 55 columns]"
      ]
     },
     "execution_count": 84,
     "metadata": {},
     "output_type": "execute_result"
    }
   ],
   "source": [
    "meld_sch.head()"
   ]
  },
  {
   "cell_type": "code",
   "execution_count": 89,
   "metadata": {},
   "outputs": [],
   "source": [
    "meld_sch_frame = meld_sch_words.merge(meld_sch.loc[meld_sch.lexicality==1,:][[\"trad_word\", \"N\", \"RT\", \"RTSD\", \"ERR\", \"length\"]], \n",
    "                                    left_on=\"word\", right_on=\"trad_word\")\n",
    "meld_sch_frame = meld_sch_frame.merge(cns)\n",
    "# meld_sch_frame = meld_sch_frame.merge(sub_cld, left_on=\"word\", right_on=\"trad_word\")"
   ]
  },
  {
   "cell_type": "code",
   "execution_count": 90,
   "metadata": {},
   "outputs": [
    {
     "data": {
      "text/plain": [
       "(2931, 1)"
      ]
     },
     "execution_count": 90,
     "metadata": {},
     "output_type": "execute_result"
    }
   ],
   "source": [
    "meld_sch_words.shape"
   ]
  },
  {
   "cell_type": "code",
   "execution_count": 91,
   "metadata": {},
   "outputs": [
    {
     "data": {
      "text/html": [
       "<div>\n",
       "<style scoped>\n",
       "    .dataframe tbody tr th:only-of-type {\n",
       "        vertical-align: middle;\n",
       "    }\n",
       "\n",
       "    .dataframe tbody tr th {\n",
       "        vertical-align: top;\n",
       "    }\n",
       "\n",
       "    .dataframe thead th {\n",
       "        text-align: right;\n",
       "    }\n",
       "</style>\n",
       "<table border=\"1\" class=\"dataframe\">\n",
       "  <thead>\n",
       "    <tr style=\"text-align: right;\">\n",
       "      <th></th>\n",
       "      <th>word</th>\n",
       "      <th>trad_word</th>\n",
       "      <th>N</th>\n",
       "      <th>RT</th>\n",
       "      <th>RTSD</th>\n",
       "      <th>ERR</th>\n",
       "      <th>length</th>\n",
       "      <th>nsenses</th>\n",
       "      <th>degree</th>\n",
       "      <th>closeness</th>\n",
       "      <th>betweenness</th>\n",
       "      <th>eigen</th>\n",
       "      <th>ncompo</th>\n",
       "    </tr>\n",
       "  </thead>\n",
       "  <tbody>\n",
       "    <tr>\n",
       "      <td>2929</td>\n",
       "      <td>歷史</td>\n",
       "      <td>歷史</td>\n",
       "      <td>40</td>\n",
       "      <td>620.990000</td>\n",
       "      <td>261.371009</td>\n",
       "      <td>0.000000</td>\n",
       "      <td>2</td>\n",
       "      <td>9</td>\n",
       "      <td>1</td>\n",
       "      <td>0.000021</td>\n",
       "      <td>0.000000</td>\n",
       "      <td>1.553057e-09</td>\n",
       "      <td>35392</td>\n",
       "    </tr>\n",
       "    <tr>\n",
       "      <td>2930</td>\n",
       "      <td>無恥</td>\n",
       "      <td>無恥</td>\n",
       "      <td>39</td>\n",
       "      <td>688.402564</td>\n",
       "      <td>275.194471</td>\n",
       "      <td>2.500000</td>\n",
       "      <td>2</td>\n",
       "      <td>1</td>\n",
       "      <td>1</td>\n",
       "      <td>0.000012</td>\n",
       "      <td>0.000000</td>\n",
       "      <td>0.000000e+00</td>\n",
       "      <td>6</td>\n",
       "    </tr>\n",
       "    <tr>\n",
       "      <td>2931</td>\n",
       "      <td>地球</td>\n",
       "      <td>地球</td>\n",
       "      <td>39</td>\n",
       "      <td>605.464872</td>\n",
       "      <td>174.062097</td>\n",
       "      <td>2.500000</td>\n",
       "      <td>2</td>\n",
       "      <td>2</td>\n",
       "      <td>1</td>\n",
       "      <td>0.000021</td>\n",
       "      <td>0.000000</td>\n",
       "      <td>7.229293e-07</td>\n",
       "      <td>35392</td>\n",
       "    </tr>\n",
       "    <tr>\n",
       "      <td>2932</td>\n",
       "      <td>歸</td>\n",
       "      <td>歸</td>\n",
       "      <td>40</td>\n",
       "      <td>691.740500</td>\n",
       "      <td>305.748072</td>\n",
       "      <td>4.761905</td>\n",
       "      <td>1</td>\n",
       "      <td>11</td>\n",
       "      <td>2</td>\n",
       "      <td>0.000021</td>\n",
       "      <td>349727.296041</td>\n",
       "      <td>1.822807e-04</td>\n",
       "      <td>35392</td>\n",
       "    </tr>\n",
       "    <tr>\n",
       "      <td>2933</td>\n",
       "      <td>可喜</td>\n",
       "      <td>可喜</td>\n",
       "      <td>38</td>\n",
       "      <td>796.014211</td>\n",
       "      <td>272.666809</td>\n",
       "      <td>7.317073</td>\n",
       "      <td>2</td>\n",
       "      <td>1</td>\n",
       "      <td>1</td>\n",
       "      <td>0.000021</td>\n",
       "      <td>0.000000</td>\n",
       "      <td>6.961061e-12</td>\n",
       "      <td>35392</td>\n",
       "    </tr>\n",
       "  </tbody>\n",
       "</table>\n",
       "</div>"
      ],
      "text/plain": [
       "     word trad_word   N          RT        RTSD       ERR  length  nsenses  \\\n",
       "2929   歷史        歷史  40  620.990000  261.371009  0.000000       2        9   \n",
       "2930   無恥        無恥  39  688.402564  275.194471  2.500000       2        1   \n",
       "2931   地球        地球  39  605.464872  174.062097  2.500000       2        2   \n",
       "2932    歸         歸  40  691.740500  305.748072  4.761905       1       11   \n",
       "2933   可喜        可喜  38  796.014211  272.666809  7.317073       2        1   \n",
       "\n",
       "      degree  closeness    betweenness         eigen  ncompo  \n",
       "2929       1   0.000021       0.000000  1.553057e-09   35392  \n",
       "2930       1   0.000012       0.000000  0.000000e+00       6  \n",
       "2931       1   0.000021       0.000000  7.229293e-07   35392  \n",
       "2932       2   0.000021  349727.296041  1.822807e-04   35392  \n",
       "2933       1   0.000021       0.000000  6.961061e-12   35392  "
      ]
     },
     "execution_count": 91,
     "metadata": {},
     "output_type": "execute_result"
    }
   ],
   "source": [
    "meld_sch_frame.tail()"
   ]
  },
  {
   "cell_type": "code",
   "execution_count": 92,
   "metadata": {},
   "outputs": [],
   "source": [
    "meld_sch_frame.to_csv(mesh.get_data_dir()/\"cns/cns_meld_sch.csv\", encoding=\"UTF-8\")"
   ]
  },
  {
   "cell_type": "markdown",
   "metadata": {},
   "source": [
    "## CLP & CWN Coverage"
   ]
  },
  {
   "cell_type": "code",
   "execution_count": 14,
   "metadata": {},
   "outputs": [],
   "source": [
    "clp_words = clpw.Word_Trad.tolist()"
   ]
  },
  {
   "cell_type": "code",
   "execution_count": 15,
   "metadata": {},
   "outputs": [
    {
     "name": "stdout",
     "output_type": "stream",
     "text": [
      "CLP Words: 25281\n",
      "Intersect with CWN: 4128\n"
     ]
    }
   ],
   "source": [
    "int_words = set(cwn_lemmas) & set(clp_words)\n",
    "print(\n",
    "    f\"CLP Words: {len(clp_words)}\\n\"\n",
    "    f\"Intersect with CWN: {len(int_words)}\")"
   ]
  },
  {
   "cell_type": "code",
   "execution_count": null,
   "metadata": {},
   "outputs": [],
   "source": []
  }
 ],
 "metadata": {
  "kernelspec": {
   "display_name": "Python 3",
   "language": "python",
   "name": "python3"
  },
  "language_info": {
   "codemirror_mode": {
    "name": "ipython",
    "version": 3
   },
   "file_extension": ".py",
   "mimetype": "text/x-python",
   "name": "python",
   "nbconvert_exporter": "python",
   "pygments_lexer": "ipython3",
   "version": "3.8.2"
  }
 },
 "nbformat": 4,
 "nbformat_minor": 4
}
