{
 "cells": [
  {
   "cell_type": "markdown",
   "metadata": {},
   "source": [
    "# Convert CWN into igraph"
   ]
  },
  {
   "cell_type": "code",
   "execution_count": 1,
   "metadata": {},
   "outputs": [],
   "source": [
    "%load_ext autoreload\n",
    "%autoreload 2\n",
    "import sys\n",
    "sys.path.append(\"../src\")"
   ]
  },
  {
   "cell_type": "code",
   "execution_count": 2,
   "metadata": {},
   "outputs": [
    {
     "name": "stderr",
     "output_type": "stream",
     "text": [
      "/Users/seantyh/anaconda3/lib/python3.7/site-packages/tqdm/autonotebook.py:17: TqdmExperimentalWarning: Using `tqdm.autonotebook.tqdm` in notebook mode. Use `tqdm.tqdm` instead to force console mode (e.g. in jupyter console)\n",
      "  \" (e.g. in jupyter console)\", TqdmExperimentalWarning)\n"
     ]
    }
   ],
   "source": [
    "import mesh\n",
    "from tqdm.autonotebook import tqdm"
   ]
  },
  {
   "cell_type": "code",
   "execution_count": 3,
   "metadata": {},
   "outputs": [
    {
     "ename": "ModuleNotFoundError",
     "evalue": "No module named 'igraph'",
     "output_type": "error",
     "traceback": [
      "\u001b[0;31m---------------------------------------------------------------------------\u001b[0m",
      "\u001b[0;31mModuleNotFoundError\u001b[0m                       Traceback (most recent call last)",
      "\u001b[0;32m<ipython-input-3-74e9099e501d>\u001b[0m in \u001b[0;36m<module>\u001b[0;34m\u001b[0m\n\u001b[0;32m----> 1\u001b[0;31m \u001b[0;32mimport\u001b[0m \u001b[0migraph\u001b[0m \u001b[0;32mas\u001b[0m \u001b[0mig\u001b[0m\u001b[0;34m\u001b[0m\u001b[0;34m\u001b[0m\u001b[0m\n\u001b[0m",
      "\u001b[0;31mModuleNotFoundError\u001b[0m: No module named 'igraph'"
     ]
    }
   ],
   "source": [
    "import igraph as ig"
   ]
  },
  {
   "cell_type": "code",
   "execution_count": 4,
   "metadata": {},
   "outputs": [],
   "source": [
    "from CwnGraph import CwnBase"
   ]
  },
  {
   "cell_type": "code",
   "execution_count": 5,
   "metadata": {},
   "outputs": [],
   "source": [
    "cwn = CwnBase()"
   ]
  },
  {
   "cell_type": "code",
   "execution_count": 9,
   "metadata": {},
   "outputs": [
    {
     "data": {
      "text/plain": [
       "[<CwnSense[05212401](說): 以口語媒介傳達訊息。>,\n",
       " <CwnSense[05212402](說): 以文字媒介引述或陳述訊息。>,\n",
       " <CwnSense[05212403](說): 使用後述語言。>,\n",
       " <CwnSense[05212404](說): 以前述對象作為談論的觀點。>,\n",
       " <CwnSense[05212405](說): 指涉後述對象。>,\n",
       " <CwnSense[05212406](說): 評價後述對象。>,\n",
       " <CwnSense[05212407](說): 前述對象具有後述評價的屬性。>,\n",
       " <CwnSense[05212408](說): 批評。>,\n",
       " <CwnSense[05212409](說): 說明特定事件的原因、理由使聽話者明白。>,\n",
       " <CwnSense[05212410](說): 對事情提出的看法、解釋或理論。>,\n",
       " <CwnSense[05212411](說): 無義，表後述單位為句賓。>,\n",
       " <CwnSense[05212412](說): 無義，表結束或停頓的語氣。>,\n",
       " <CwnSense[05212413](說): 主觀做出後述判斷。>,\n",
       " <CwnSense[05212414](說): 在相聲表演中做口頭言語的敘說，是其藝術表現方式的主體與根本。>,\n",
       " <CwnSense[05212415](說): 相聲的四門基本功之一，在相聲表演中做口頭言語敘說的一種技巧，是其藝術表現方式的主體與根本。>]"
      ]
     },
     "execution_count": 9,
     "metadata": {},
     "output_type": "execute_result"
    }
   ],
   "source": [
    "cwn.find_lemma(\"^說$\")[0].senses"
   ]
  },
  {
   "cell_type": "code",
   "execution_count": 7,
   "metadata": {},
   "outputs": [
    {
     "data": {
      "application/vnd.jupyter.widget-view+json": {
       "model_id": "0da3c1def2f24f58a40f70bdc1aef179",
       "version_major": 2,
       "version_minor": 0
      },
      "text/plain": [
       "HBox(children=(FloatProgress(value=0.0, max=115704.0), HTML(value='')))"
      ]
     },
     "metadata": {},
     "output_type": "display_data"
    },
    {
     "name": "stdout",
     "output_type": "stream",
     "text": [
      "\n"
     ]
    }
   ],
   "source": [
    "INCLUDED_NODE_TYPES = [\n",
    "    \"sense\", \"lemma\", \"glyph\"\n",
    "]\n",
    "\n",
    "g = ig.Graph()\n",
    "for nid, ndata in tqdm(cwn.V.items()):\n",
    "    if ndata.get(\"node_type\") not in INCLUDED_NODE_TYPES:\n",
    "        continue\n",
    "    g.add_vertex(nid, **ndata)\n",
    "\n",
    "vs_names = set(g.vs[\"name\"])"
   ]
  },
  {
   "cell_type": "code",
   "execution_count": 8,
   "metadata": {},
   "outputs": [
    {
     "data": {
      "application/vnd.jupyter.widget-view+json": {
       "model_id": "c49bf591dd024a9ba67a6e7dd7c7716e",
       "version_major": 2,
       "version_minor": 0
      },
      "text/plain": [
       "HBox(children=(FloatProgress(value=0.0, max=160068.0), HTML(value='')))"
      ]
     },
     "metadata": {},
     "output_type": "display_data"
    },
    {
     "name": "stdout",
     "output_type": "stream",
     "text": [
      "\n"
     ]
    }
   ],
   "source": [
    "for eid, edata in tqdm(cwn.E.items()):\n",
    "    src, tgt = eid\n",
    "    if src in vs_names and tgt in vs_names:\n",
    "        g.add_edge(src, tgt, **edata)        "
   ]
  },
  {
   "cell_type": "code",
   "execution_count": 9,
   "metadata": {},
   "outputs": [
    {
     "data": {
      "text/plain": [
       "'IGRAPH UN-- 84166 101977 -- \\n+ attr: def (v), domain (v), examples (v), glyph (v), lemma (v), lemma_sno (v), name (v), node_type (v), pos (v), zhuyin (v), edge_type (e)'"
      ]
     },
     "execution_count": 9,
     "metadata": {},
     "output_type": "execute_result"
    }
   ],
   "source": [
    "g.summary()"
   ]
  },
  {
   "cell_type": "code",
   "execution_count": 10,
   "metadata": {},
   "outputs": [],
   "source": [
    "cns_dir = mesh.get_data_dir()/\"cns\"\n",
    "mesh.ensure_dir(cns_dir)\n",
    "g.save(cns_dir/\"cwn_igraph.pkl\", 'pickle')"
   ]
  },
  {
   "cell_type": "code",
   "execution_count": 12,
   "metadata": {},
   "outputs": [],
   "source": [
    "subgs = g.components().subgraphs()"
   ]
  },
  {
   "cell_type": "code",
   "execution_count": 13,
   "metadata": {},
   "outputs": [
    {
     "data": {
      "text/plain": [
       "20592"
      ]
     },
     "execution_count": 13,
     "metadata": {},
     "output_type": "execute_result"
    }
   ],
   "source": [
    "len(subgs)"
   ]
  },
  {
   "cell_type": "code",
   "execution_count": 14,
   "metadata": {},
   "outputs": [
    {
     "data": {
      "text/plain": [
       "Counter({21: 7,\n",
       "         10: 44,\n",
       "         35392: 1,\n",
       "         17: 5,\n",
       "         3: 1611,\n",
       "         9: 76,\n",
       "         15: 6,\n",
       "         25: 2,\n",
       "         6: 204,\n",
       "         2: 17504,\n",
       "         4: 636,\n",
       "         5: 239,\n",
       "         12: 26,\n",
       "         8: 67,\n",
       "         27: 4,\n",
       "         28: 3,\n",
       "         20: 2,\n",
       "         7: 89,\n",
       "         11: 15,\n",
       "         16: 9,\n",
       "         30: 1,\n",
       "         44: 1,\n",
       "         13: 6,\n",
       "         14: 3,\n",
       "         18: 7,\n",
       "         36: 1,\n",
       "         22: 1,\n",
       "         19: 1,\n",
       "         23: 2,\n",
       "         1: 19})"
      ]
     },
     "execution_count": 14,
     "metadata": {},
     "output_type": "execute_result"
    }
   ],
   "source": [
    "from collections import Counter\n",
    "Counter([x.vcount() for x in subgs])"
   ]
  },
  {
   "cell_type": "code",
   "execution_count": 15,
   "metadata": {},
   "outputs": [
    {
     "name": "stderr",
     "output_type": "stream",
     "text": [
      "<ipython-input-15-0ee1edc127a2>:1: RuntimeWarning: closeness centrality is not well-defined for disconnected graphs at c:\\projects\\python-igraph-jst2e\\vendor\\build\\igraph\\igraph-0.9.0-pre+0afacadd-msvc\\src\\centrality.c:2856\n",
      "  closeness = g.closeness()\n"
     ]
    }
   ],
   "source": [
    "closeness = g.closeness()"
   ]
  },
  {
   "cell_type": "code",
   "execution_count": 16,
   "metadata": {},
   "outputs": [
    {
     "data": {
      "text/plain": [
       "84166"
      ]
     },
     "execution_count": 16,
     "metadata": {},
     "output_type": "execute_result"
    }
   ],
   "source": [
    "len(closeness)"
   ]
  },
  {
   "cell_type": "code",
   "execution_count": 17,
   "metadata": {},
   "outputs": [],
   "source": [
    "betweenness = g.betweenness()"
   ]
  },
  {
   "cell_type": "code",
   "execution_count": 18,
   "metadata": {},
   "outputs": [],
   "source": [
    "degrees = g.degree()"
   ]
  },
  {
   "cell_type": "code",
   "execution_count": 19,
   "metadata": {},
   "outputs": [],
   "source": [
    "eigen = g.eigenvector_centrality()"
   ]
  },
  {
   "cell_type": "code",
   "execution_count": 28,
   "metadata": {},
   "outputs": [],
   "source": [
    "from itertools import chain\n",
    "def find_cwn_senses(lemma):\n",
    "    try:\n",
    "        sense_iter = (x.senses for x in cwn.find_lemma(f\"^{lemma}$\"))\n",
    "        sense_iter = chain.from_iterable(sense_iter)\n",
    "        return list(sense_iter)\n",
    "    except Exception as ex:\n",
    "        print(lemma)\n",
    "        print(ex)\n",
    "        return []"
   ]
  },
  {
   "cell_type": "code",
   "execution_count": 29,
   "metadata": {},
   "outputs": [],
   "source": [
    "data = []\n",
    "for v in g.vs:\n",
    "    att = v.attributes()\n",
    "    if att.get(\"node_type\")==\"glyph\":\n",
    "        word_form = att.get(\"glyph\")\n",
    "        data.append(dict(\n",
    "            word=word_form,\n",
    "            nsenses=len(find_cwn_senses(word_form)),\n",
    "            degree=degrees[v.index],\n",
    "            closeness=closeness[v.index],\n",
    "            betweenness=betweenness[v.index],\n",
    "            eigen=eigen[v.index],\n",
    "            ncompo=len(g.subcomponent(v)),\n",
    "        ))        "
   ]
  },
  {
   "cell_type": "code",
   "execution_count": 30,
   "metadata": {},
   "outputs": [],
   "source": [
    "import pandas as pd"
   ]
  },
  {
   "cell_type": "code",
   "execution_count": 31,
   "metadata": {},
   "outputs": [],
   "source": [
    "cwn_centralities = pd.DataFrame.from_records(data)"
   ]
  },
  {
   "cell_type": "code",
   "execution_count": 32,
   "metadata": {},
   "outputs": [
    {
     "data": {
      "text/html": [
       "<div>\n",
       "<style scoped>\n",
       "    .dataframe tbody tr th:only-of-type {\n",
       "        vertical-align: middle;\n",
       "    }\n",
       "\n",
       "    .dataframe tbody tr th {\n",
       "        vertical-align: top;\n",
       "    }\n",
       "\n",
       "    .dataframe thead th {\n",
       "        text-align: right;\n",
       "    }\n",
       "</style>\n",
       "<table border=\"1\" class=\"dataframe\">\n",
       "  <thead>\n",
       "    <tr style=\"text-align: right;\">\n",
       "      <th></th>\n",
       "      <th>word</th>\n",
       "      <th>nsenses</th>\n",
       "      <th>degree</th>\n",
       "      <th>closeness</th>\n",
       "      <th>betweenness</th>\n",
       "      <th>eigen</th>\n",
       "      <th>ncompo</th>\n",
       "    </tr>\n",
       "  </thead>\n",
       "  <tbody>\n",
       "    <tr>\n",
       "      <th>0</th>\n",
       "      <td>60</td>\n",
       "      <td>0</td>\n",
       "      <td>1</td>\n",
       "      <td>0.000012</td>\n",
       "      <td>0.0</td>\n",
       "      <td>0.000000e+00</td>\n",
       "      <td>21</td>\n",
       "    </tr>\n",
       "    <tr>\n",
       "      <th>1</th>\n",
       "      <td>68</td>\n",
       "      <td>0</td>\n",
       "      <td>1</td>\n",
       "      <td>0.000012</td>\n",
       "      <td>0.0</td>\n",
       "      <td>0.000000e+00</td>\n",
       "      <td>21</td>\n",
       "    </tr>\n",
       "    <tr>\n",
       "      <th>2</th>\n",
       "      <td>9.20%</td>\n",
       "      <td>1</td>\n",
       "      <td>1</td>\n",
       "      <td>0.000012</td>\n",
       "      <td>0.0</td>\n",
       "      <td>0.000000e+00</td>\n",
       "      <td>21</td>\n",
       "    </tr>\n",
       "    <tr>\n",
       "      <th>3</th>\n",
       "      <td>BJ</td>\n",
       "      <td>0</td>\n",
       "      <td>1</td>\n",
       "      <td>0.000012</td>\n",
       "      <td>0.0</td>\n",
       "      <td>0.000000e+00</td>\n",
       "      <td>10</td>\n",
       "    </tr>\n",
       "    <tr>\n",
       "      <th>4</th>\n",
       "      <td>GG</td>\n",
       "      <td>1</td>\n",
       "      <td>1</td>\n",
       "      <td>0.000021</td>\n",
       "      <td>0.0</td>\n",
       "      <td>2.368389e-10</td>\n",
       "      <td>35392</td>\n",
       "    </tr>\n",
       "    <tr>\n",
       "      <th>...</th>\n",
       "      <td>...</td>\n",
       "      <td>...</td>\n",
       "      <td>...</td>\n",
       "      <td>...</td>\n",
       "      <td>...</td>\n",
       "      <td>...</td>\n",
       "      <td>...</td>\n",
       "    </tr>\n",
       "    <tr>\n",
       "      <th>26544</th>\n",
       "      <td>龔</td>\n",
       "      <td>1</td>\n",
       "      <td>1</td>\n",
       "      <td>0.000012</td>\n",
       "      <td>0.0</td>\n",
       "      <td>0.000000e+00</td>\n",
       "      <td>3</td>\n",
       "    </tr>\n",
       "    <tr>\n",
       "      <th>26545</th>\n",
       "      <td>龕</td>\n",
       "      <td>0</td>\n",
       "      <td>1</td>\n",
       "      <td>0.000012</td>\n",
       "      <td>0.0</td>\n",
       "      <td>0.000000e+00</td>\n",
       "      <td>2</td>\n",
       "    </tr>\n",
       "    <tr>\n",
       "      <th>26546</th>\n",
       "      <td>龜</td>\n",
       "      <td>6</td>\n",
       "      <td>2</td>\n",
       "      <td>0.000021</td>\n",
       "      <td>70778.0</td>\n",
       "      <td>1.813983e-09</td>\n",
       "      <td>35392</td>\n",
       "    </tr>\n",
       "    <tr>\n",
       "      <th>26547</th>\n",
       "      <td>龜頭</td>\n",
       "      <td>0</td>\n",
       "      <td>1</td>\n",
       "      <td>0.000012</td>\n",
       "      <td>0.0</td>\n",
       "      <td>0.000000e+00</td>\n",
       "      <td>2</td>\n",
       "    </tr>\n",
       "    <tr>\n",
       "      <th>26548</th>\n",
       "      <td>兀</td>\n",
       "      <td>0</td>\n",
       "      <td>1</td>\n",
       "      <td>0.000012</td>\n",
       "      <td>0.0</td>\n",
       "      <td>0.000000e+00</td>\n",
       "      <td>2</td>\n",
       "    </tr>\n",
       "  </tbody>\n",
       "</table>\n",
       "<p>26549 rows × 7 columns</p>\n",
       "</div>"
      ],
      "text/plain": [
       "        word  nsenses  degree  closeness  betweenness         eigen  ncompo\n",
       "0         60        0       1   0.000012          0.0  0.000000e+00      21\n",
       "1         68        0       1   0.000012          0.0  0.000000e+00      21\n",
       "2      9.20%        1       1   0.000012          0.0  0.000000e+00      21\n",
       "3         BJ        0       1   0.000012          0.0  0.000000e+00      10\n",
       "4         GG        1       1   0.000021          0.0  2.368389e-10   35392\n",
       "...      ...      ...     ...        ...          ...           ...     ...\n",
       "26544      龔        1       1   0.000012          0.0  0.000000e+00       3\n",
       "26545      龕        0       1   0.000012          0.0  0.000000e+00       2\n",
       "26546      龜        6       2   0.000021      70778.0  1.813983e-09   35392\n",
       "26547     龜頭        0       1   0.000012          0.0  0.000000e+00       2\n",
       "26548      兀        0       1   0.000012          0.0  0.000000e+00       2\n",
       "\n",
       "[26549 rows x 7 columns]"
      ]
     },
     "execution_count": 32,
     "metadata": {},
     "output_type": "execute_result"
    }
   ],
   "source": [
    "cwn_centralities"
   ]
  },
  {
   "cell_type": "code",
   "execution_count": 35,
   "metadata": {},
   "outputs": [],
   "source": [
    "cns_dir = mesh.get_data_dir()/\"cns\"\n",
    "mesh.ensure_dir(cns_dir)\n",
    "cwn_centralities.to_csv(cns_dir/\"cwn_centralities.csv\")"
   ]
  },
  {
   "cell_type": "code",
   "execution_count": 34,
   "metadata": {},
   "outputs": [
    {
     "data": {
      "text/html": [
       "<div>\n",
       "<style scoped>\n",
       "    .dataframe tbody tr th:only-of-type {\n",
       "        vertical-align: middle;\n",
       "    }\n",
       "\n",
       "    .dataframe tbody tr th {\n",
       "        vertical-align: top;\n",
       "    }\n",
       "\n",
       "    .dataframe thead th {\n",
       "        text-align: right;\n",
       "    }\n",
       "</style>\n",
       "<table border=\"1\" class=\"dataframe\">\n",
       "  <thead>\n",
       "    <tr style=\"text-align: right;\">\n",
       "      <th></th>\n",
       "      <th>word</th>\n",
       "      <th>nsenses</th>\n",
       "      <th>degree</th>\n",
       "      <th>closeness</th>\n",
       "      <th>betweenness</th>\n",
       "      <th>eigen</th>\n",
       "      <th>ncompo</th>\n",
       "    </tr>\n",
       "  </thead>\n",
       "  <tbody>\n",
       "    <tr>\n",
       "      <th>9214</th>\n",
       "      <td>打</td>\n",
       "      <td>125</td>\n",
       "      <td>4</td>\n",
       "      <td>0.000021</td>\n",
       "      <td>198868.723412</td>\n",
       "      <td>1.152040e-09</td>\n",
       "      <td>35392</td>\n",
       "    </tr>\n",
       "  </tbody>\n",
       "</table>\n",
       "</div>"
      ],
      "text/plain": [
       "     word  nsenses  degree  closeness    betweenness         eigen  ncompo\n",
       "9214    打      125       4   0.000021  198868.723412  1.152040e-09   35392"
      ]
     },
     "execution_count": 34,
     "metadata": {},
     "output_type": "execute_result"
    }
   ],
   "source": [
    "cwn_centralities.loc[cwn_centralities.word==\"打\",:]"
   ]
  },
  {
   "cell_type": "code",
   "execution_count": 90,
   "metadata": {},
   "outputs": [
    {
     "data": {
      "text/plain": [
       "(array([2346.,   40.,   16.,   42.,   79.,  244., 1822., 1221.,  417.,\n",
       "          25.]),\n",
       " array([ 0.        ,  1.64859691,  3.29719381,  4.94579072,  6.59438762,\n",
       "         8.24298453,  9.89158143, 11.54017834, 13.18877525, 14.83737215,\n",
       "        16.48596906]),\n",
       " <a list of 10 Patch objects>)"
      ]
     },
     "execution_count": 90,
     "metadata": {},
     "output_type": "execute_result"
    },
    {
     "data": {
      "image/png": "[encoded data removed]",
      "text/plain": [
       "<Figure size 432x288 with 1 Axes>"
      ]
     },
     "metadata": {
      "needs_background": "light"
     },
     "output_type": "display_data"
    }
   ],
   "source": [
    "import numpy as np\n",
    "import matplotlib.pyplot as plt\n",
    "df = cwn_centralities.loc[cwn_centralities.ncompo>20000,:]\n",
    "plt.hist(np.log(df.betweenness+1))"
   ]
  },
  {
   "cell_type": "code",
   "execution_count": 80,
   "metadata": {},
   "outputs": [
    {
     "data": {
      "text/plain": [
       "array([[<matplotlib.axes._subplots.AxesSubplot object at 0x00000215454E8A90>,\n",
       "        <matplotlib.axes._subplots.AxesSubplot object at 0x00000215454E0E50>,\n",
       "        <matplotlib.axes._subplots.AxesSubplot object at 0x0000021545579A60>,\n",
       "        <matplotlib.axes._subplots.AxesSubplot object at 0x00000215455AB250>,\n",
       "        <matplotlib.axes._subplots.AxesSubplot object at 0x00000215455D19D0>],\n",
       "       [<matplotlib.axes._subplots.AxesSubplot object at 0x0000021545604070>,\n",
       "        <matplotlib.axes._subplots.AxesSubplot object at 0x0000021545604160>,\n",
       "        <matplotlib.axes._subplots.AxesSubplot object at 0x0000021545629940>,\n",
       "        <matplotlib.axes._subplots.AxesSubplot object at 0x0000021545684820>,\n",
       "        <matplotlib.axes._subplots.AxesSubplot object at 0x00000215456ABFD0>],\n",
       "       [<matplotlib.axes._subplots.AxesSubplot object at 0x00000215456DC760>,\n",
       "        <matplotlib.axes._subplots.AxesSubplot object at 0x0000021545703EE0>,\n",
       "        <matplotlib.axes._subplots.AxesSubplot object at 0x00000215457356A0>,\n",
       "        <matplotlib.axes._subplots.AxesSubplot object at 0x000002154575CE20>,\n",
       "        <matplotlib.axes._subplots.AxesSubplot object at 0x000002154578E5E0>],\n",
       "       [<matplotlib.axes._subplots.AxesSubplot object at 0x00000215457B5D60>,\n",
       "        <matplotlib.axes._subplots.AxesSubplot object at 0x00000215457E6520>,\n",
       "        <matplotlib.axes._subplots.AxesSubplot object at 0x000002154580FCA0>,\n",
       "        <matplotlib.axes._subplots.AxesSubplot object at 0x0000021545840460>,\n",
       "        <matplotlib.axes._subplots.AxesSubplot object at 0x0000021545868BE0>],\n",
       "       [<matplotlib.axes._subplots.AxesSubplot object at 0x000002154589A3A0>,\n",
       "        <matplotlib.axes._subplots.AxesSubplot object at 0x00000215458C0B20>,\n",
       "        <matplotlib.axes._subplots.AxesSubplot object at 0x00000215458F32E0>,\n",
       "        <matplotlib.axes._subplots.AxesSubplot object at 0x0000021545918A60>,\n",
       "        <matplotlib.axes._subplots.AxesSubplot object at 0x000002154594B220>]],\n",
       "      dtype=object)"
      ]
     },
     "execution_count": 80,
     "metadata": {},
     "output_type": "execute_result"
    },
    {
     "data": {
      "image/png": "[encoded data removed]",
      "text/plain": [
       "<Figure size 432x288 with 25 Axes>"
      ]
     },
     "metadata": {
      "needs_background": "light"
     },
     "output_type": "display_data"
    }
   ],
   "source": [
    "pd.plotting.scatter_matrix(cwn_centralities.loc[cwn_centralities.ncompo==26997,:])"
   ]
  },
  {
   "cell_type": "code",
   "execution_count": null,
   "metadata": {},
   "outputs": [],
   "source": []
  }
 ],
 "metadata": {
  "kernelspec": {
   "display_name": "Python 3",
   "language": "python",
   "name": "python3"
  },
  "language_info": {
   "codemirror_mode": {
    "name": "ipython",
    "version": 3
   },
   "file_extension": ".py",
   "mimetype": "text/x-python",
   "name": "python",
   "nbconvert_exporter": "python",
   "pygments_lexer": "ipython3",
   "version": "3.8.2"
  }
 },
 "nbformat": 4,
 "nbformat_minor": 4
}
