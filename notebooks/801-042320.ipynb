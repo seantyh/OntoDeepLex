{
 "cells": [
  {
   "cell_type": "markdown",
   "metadata": {},
   "source": [
    "Notes of 2020/4/23\n",
    "\n",
    "5. Homework\n",
    "\n",
    "      - get data plus their best model from Peter and June\n",
    "        > * MELD-SCH (Tsang et al., 2017): 1- to 4- character (non-) words in simplified Chinese, 25,157 entries in total.\n",
    "        > * Chinese Lexicon Project (Tse et al., 2017): 2-character words in traditional Chinese, which are comprised of 25,282 words and 25,086 non-words\n",
    "      - calculate some simple measures of semantic similarity (number of synsets,\n",
    "        mean number of words in a synset).\n",
    "      - examine whether the semantic predictors help improve the model fit\n",
    "      \n",
    "6. Michael Vitevitch, graphs and phonological density: here are some references\n",
    "   on how he used methods from graph theory to study phonological similarity effects:\n",
    "   > * Goldstein, R. & Vitevitch, M.S. (2017). The influence of closeness centrality on lexical\n",
    "processing. Frontiers in Psychology, 8, 1683. DOI: 10.3389/fpsyg.2017.01683 [pdf](https://drive.google.com/open?id=1EETps49hhSE_Pl-3hMjidtWjYHGeXnE2)\n",
    "   > * Vitevitch, M.S. (2016). Network analysis and psychology. In Z. Neal (ed.) Handbook of\n",
    "Applied System Science. Routledge [pdf](https://drive.google.com/open?id=1Br8Yd8ygHajF0eUEhAJBXnwiQM_MWQbt)\n",
    "   > * Vitevitch, M.S., Goldstein, R. & Johnson, E. (2016). Path-length and the misperception of speech: Insights from Network Science and Psycholinguistics. In A. Mehler, P. Blanchard, B.\n",
    "Job, & S. Banish (eds.) Towards a Theoretical Framework for Analyzing Complex Linguistic\n",
    "Networks. Springer (Understanding Complex Systems series). [pdf](https://drive.google.com/open?id=1g7pGk3dDc5LBJ2Pa2o2wSvSJjFlvGVx_)\n",
    "   > * Vitevitch, M.S. & Goldstein, R. (2014). Keywords in the mental lexicon. Journal of Memory & Language, 73, 131-147. [pdf](https://drive.google.com/open?id=1ZXe_yYNXGPZ0mZF2V9jMzEWa8PxjM-q-)\n",
    "   > * Vitevitch, M.S., Chan, K.Y., Goldstein, R. (2014). Insights into failed lexical retrieval from network science. Cognitive Psychology, 68, 1-32. [pdf](https://drive.google.com/open?id=1xvlKejg7Q4K3DFt-QJz8nKS_4xTRJLt4)\n",
    "   > * Vitevitch, M.S., Chan, K.Y. & Roodenrys, S. (2012). Complex network structure influences\n",
    "processing in long-term and short-term memory. Journal of Memory & Language, 67, 30-44 [pdf](https://drive.google.com/open?id=1lhuJSyBzo17yDG8dUEAXMdoFWCBoelof)\n"
   ]
  },
  {
   "cell_type": "code",
   "execution_count": null,
   "metadata": {},
   "outputs": [],
   "source": []
  }
 ],
 "metadata": {
  "kernelspec": {
   "display_name": "Python 3",
   "language": "python",
   "name": "python3"
  },
  "language_info": {
   "codemirror_mode": {
    "name": "ipython",
    "version": 3
   },
   "file_extension": ".py",
   "mimetype": "text/x-python",
   "name": "python",
   "nbconvert_exporter": "python",
   "pygments_lexer": "ipython3",
   "version": "3.7.4"
  }
 },
 "nbformat": 4,
 "nbformat_minor": 4
}
