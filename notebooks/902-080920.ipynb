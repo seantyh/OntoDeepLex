{
 "cells": [
  {
   "cell_type": "code",
   "execution_count": 1,
   "metadata": {},
   "outputs": [],
   "source": [
    "from CwnGraph import CwnBase"
   ]
  },
  {
   "cell_type": "code",
   "execution_count": 2,
   "metadata": {},
   "outputs": [],
   "source": [
    "cwn = CwnBase()"
   ]
  },
  {
   "cell_type": "code",
   "execution_count": 5,
   "metadata": {},
   "outputs": [],
   "source": [
    "lemmas = cwn.get_all_lemmas()"
   ]
  },
  {
   "cell_type": "code",
   "execution_count": 18,
   "metadata": {},
   "outputs": [
    {
     "data": {
      "text/plain": [
       "11239"
      ]
     },
     "execution_count": 18,
     "metadata": {},
     "output_type": "execute_result"
    }
   ],
   "source": [
    "from itertools import chain\n",
    "len([x for x in chain.from_iterable(lemmas.values()) if len(x.senses) > 0])"
   ]
  },
  {
   "cell_type": "code",
   "execution_count": 8,
   "metadata": {},
   "outputs": [],
   "source": [
    "senses = cwn.get_all_senses()"
   ]
  },
  {
   "cell_type": "code",
   "execution_count": 9,
   "metadata": {},
   "outputs": [
    {
     "data": {
      "text/plain": [
       "28827"
      ]
     },
     "execution_count": 9,
     "metadata": {},
     "output_type": "execute_result"
    }
   ],
   "source": [
    "len(senses)"
   ]
  },
  {
   "cell_type": "code",
   "execution_count": 20,
   "metadata": {},
   "outputs": [
    {
     "data": {
      "text/plain": [
       "[<CwnSense[08007501](掌): 姓。>,\n",
       " <CwnSense[07037401](掌): 手腕到指根之間內部的部份。>,\n",
       " <CwnSense[07037402](掌): 動物腳跟到腳趾跟之間底部的部份。>,\n",
       " <CwnSense[07037403](掌): 以動物的掌為主要食材的料理。>,\n",
       " <CwnSense[07037404](掌): 武術中使掌的技法。>,\n",
       " <CwnSense[07037405](掌): 計算用手掌拍打次數的單位。>,\n",
       " <CwnSense[07037406](掌): 用手掌打後述對象的臉。>,\n",
       " <CwnSense[07037407](掌): 用手將物品拿在高處。>,\n",
       " <CwnSense[07037408](掌): 掌握控制特定事件。>,\n",
       " <CwnSense[07037409](掌): 釘在動物蹄子底下的馬蹄形金屬片。>,\n",
       " <CwnSense[07037410](掌): 釘或縫在鞋底的皮墊或橡膠。>]"
      ]
     },
     "execution_count": 20,
     "metadata": {},
     "output_type": "execute_result"
    }
   ],
   "source": [
    "cwn.find_all_senses(\"掌\")"
   ]
  },
  {
   "cell_type": "code",
   "execution_count": 37,
   "metadata": {},
   "outputs": [
    {
     "data": {
      "application/vnd.jupyter.widget-view+json": {
       "model_id": "ae9cf3d86c554ac4b43ea0d79ad49e65",
       "version_major": 2,
       "version_minor": 0
      },
      "text/plain": [
       "HBox(children=(FloatProgress(value=0.0, max=28827.0), HTML(value='')))"
      ]
     },
     "metadata": {},
     "output_type": "display_data"
    },
    {
     "name": "stdout",
     "output_type": "stream",
     "text": [
      "\n"
     ]
    }
   ],
   "source": [
    "candids = []\n",
    "from tqdm.autonotebook import tqdm\n",
    "for sense in tqdm(senses):\n",
    "    rel_types = [x[0] for x in sense.relations if x[2] == \"forward\"]\n",
    "    if (\"hypernym\" in rel_types) and (\"hyponym\" in rel_types) \\\n",
    "        and (\"holonym\" in rel_types) and (\"meronym\" in rel_types) \\\n",
    "        and (\"is_synset\" in rel_types):\n",
    "        candids.append(sense)"
   ]
  },
  {
   "cell_type": "code",
   "execution_count": 38,
   "metadata": {},
   "outputs": [
    {
     "data": {
      "text/plain": [
       "1"
      ]
     },
     "execution_count": 38,
     "metadata": {},
     "output_type": "execute_result"
    }
   ],
   "source": [
    "len(candids)"
   ]
  },
  {
   "cell_type": "code",
   "execution_count": 39,
   "metadata": {},
   "outputs": [
    {
     "data": {
      "text/plain": [
       "[<CwnSense[05235601](樹): 木本植物類的通稱，多年生植物，主要由樹幹及樹葉組成。>]"
      ]
     },
     "execution_count": 39,
     "metadata": {},
     "output_type": "execute_result"
    }
   ],
   "source": [
    "[x for x in candids if x.pos.startswith(\"N\")]"
   ]
  },
  {
   "cell_type": "code",
   "execution_count": 40,
   "metadata": {},
   "outputs": [],
   "source": [
    "from CwnGraph import CwnSense\n",
    "ss = CwnSense(\"05235601\", cwn)"
   ]
  },
  {
   "cell_type": "code",
   "execution_count": 47,
   "metadata": {},
   "outputs": [
    {
     "data": {
      "text/plain": [
       "['在本論文中，我們用親子<樹>(parent tree)結構來表示家族的遺傳資料。',\n",
       " '中央研究院中文句結構<樹>資料庫(簡稱Sinica Treebank)第2.0版，包含了10個檔案，38725棵中文結構<樹>，239532個詞。']"
      ]
     },
     "execution_count": 47,
     "metadata": {},
     "output_type": "execute_result"
    }
   ],
   "source": [
    "cwn.find_all_senses(\"樹\")[2].examples"
   ]
  },
  {
   "cell_type": "code",
   "execution_count": 43,
   "metadata": {},
   "outputs": [
    {
     "data": {
      "text/plain": [
       "[('synonym', <CwnSense[09311801](樹木): 木本植物類的通稱，多年生植物，主要由樹幹及樹葉組成。>, 'forward'),\n",
       " ('synonym', <CwnSense[07034901](木): 木本植物類的通稱，多年生植物，主要由樹幹及樹葉組成。>, 'forward'),\n",
       " ('is_synset', <CwnSynset[syn_002346]: 木本植物類的通稱，多年生植物，主要由樹幹及樹葉組成。>, 'forward'),\n",
       " ('generic', <PwnSynset[pwn_09396070N]: tree.n.01>, 'forward'),\n",
       " ('meronym', <CwnSense[05234201](樹皮): 樹的表皮。>, 'forward'),\n",
       " ('hypernym', <CwnSense[06658201](植物): 可自行製造養分，沒有神經、感覺且不能運動的生物。>, 'forward'),\n",
       " ('holonym', <CwnSense[08041501](樹林): 在同一區域生長的眾多樹木的集合體。>, 'forward'),\n",
       " ('hyponym',\n",
       "  <CwnSense[04145801](杜鵑樹): 常綠或落葉灌木，葉子橢圓形，春夏開花，有紅、紫紅、白等色。>,\n",
       "  'forward'),\n",
       " ('hyponym',\n",
       "  <CwnSense[04146101](梅樹): 落葉喬木，葉卵形，早春開花，花瓣五片，有粉紅、白、紅等顏色，果實球形，味酸可食，可醃製成多種蜜餞。>,\n",
       "  'forward'),\n",
       " ('hyponym',\n",
       "  <CwnSense[04146201](梅花樹): 落葉喬木，葉卵形，早春開花，花瓣五片，有粉紅、白、紅等顏色，果實球形，味酸可食，可醃製成多種蜜餞。>,\n",
       "  'forward'),\n",
       " ('synonym', <CwnSense[07034901](木): 木本植物類的通稱，多年生植物，主要由樹幹及樹葉組成。>, 'reversed'),\n",
       " ('synonym', <CwnSense[09311801](樹木): 木本植物類的通稱，多年生植物，主要由樹幹及樹葉組成。>, 'reversed'),\n",
       " ('holonym', <CwnSense[05234201](樹皮): 樹的表皮。>, 'reversed'),\n",
       " ('hyponym', <CwnSense[06658201](植物): 可自行製造養分，沒有神經、感覺且不能運動的生物。>, 'reversed'),\n",
       " ('meronym', <CwnSense[08041501](樹林): 在同一區域生長的眾多樹木的集合體。>, 'reversed'),\n",
       " ('hypernym',\n",
       "  <CwnSense[04145801](杜鵑樹): 常綠或落葉灌木，葉子橢圓形，春夏開花，有紅、紫紅、白等色。>,\n",
       "  'reversed'),\n",
       " ('hypernym',\n",
       "  <CwnSense[04146101](梅樹): 落葉喬木，葉卵形，早春開花，花瓣五片，有粉紅、白、紅等顏色，果實球形，味酸可食，可醃製成多種蜜餞。>,\n",
       "  'reversed'),\n",
       " ('hypernym',\n",
       "  <CwnSense[04146201](梅花樹): 落葉喬木，葉卵形，早春開花，花瓣五片，有粉紅、白、紅等顏色，果實球形，味酸可食，可醃製成多種蜜餞。>,\n",
       "  'reversed')]"
      ]
     },
     "execution_count": 43,
     "metadata": {},
     "output_type": "execute_result"
    }
   ],
   "source": [
    "ss.relations"
   ]
  },
  {
   "cell_type": "code",
   "execution_count": 49,
   "metadata": {},
   "outputs": [],
   "source": [
    "from nltk.corpus import wordnet as wn"
   ]
  },
  {
   "cell_type": "code",
   "execution_count": 65,
   "metadata": {},
   "outputs": [
    {
     "data": {
      "text/plain": [
       "[(Synset('plum.n.01'),\n",
       "  'any of several trees producing edible oval fruit having a smooth skin and a single hard stone'),\n",
       " (Synset('plum.n.02'),\n",
       "  'any of numerous varieties of small to medium-sized round or oval fruit having a smooth skin and a single pit'),\n",
       " (Synset('plum.n.03'), 'a highly desirable position or assignment'),\n",
       " (Synset('plumb.r.03'), 'exactly'),\n",
       " (Synset('clean.r.01'), 'completely; used as intensifiers')]"
      ]
     },
     "execution_count": 65,
     "metadata": {},
     "output_type": "execute_result"
    }
   ],
   "source": [
    "[(x.synset(), x.synset().definition()) for x in wn.lemmas(\"plum\")]"
   ]
  },
  {
   "cell_type": "code",
   "execution_count": 68,
   "metadata": {},
   "outputs": [
    {
     "data": {
      "text/plain": [
       "[Synset('big-tree_plum.n.01'),\n",
       " Synset('bullace.n.01'),\n",
       " Synset('canada_plum.n.01'),\n",
       " Synset('cherry_plum.n.01'),\n",
       " Synset('common_plum.n.01'),\n",
       " Synset('japanese_plum.n.01'),\n",
       " Synset('sierra_plum.n.01'),\n",
       " Synset('wild_plum.n.01')]"
      ]
     },
     "execution_count": 68,
     "metadata": {},
     "output_type": "execute_result"
    }
   ],
   "source": [
    "wn.synset(\"plum.n.01\").hyponyms()"
   ]
  },
  {
   "cell_type": "code",
   "execution_count": null,
   "metadata": {},
   "outputs": [],
   "source": []
  }
 ],
 "metadata": {
  "kernelspec": {
   "display_name": "Python 3",
   "language": "python",
   "name": "python3"
  },
  "language_info": {
   "codemirror_mode": {
    "name": "ipython",
    "version": 3
   },
   "file_extension": ".py",
   "mimetype": "text/x-python",
   "name": "python",
   "nbconvert_exporter": "python",
   "pygments_lexer": "ipython3",
   "version": "3.8.2"
  }
 },
 "nbformat": 4,
 "nbformat_minor": 4
}
