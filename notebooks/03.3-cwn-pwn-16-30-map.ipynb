{
 "cells": [
  {
   "cell_type": "markdown",
   "metadata": {},
   "source": [
    "# Mapping between PWN 1.6 and 3.0"
   ]
  },
  {
   "cell_type": "code",
   "execution_count": 1,
   "metadata": {},
   "outputs": [],
   "source": [
    "%load_ext autoreload\n",
    "%autoreload 2\n",
    "import sys\n",
    "sys.path.append(\"../src\")"
   ]
  },
  {
   "cell_type": "code",
   "execution_count": 2,
   "metadata": {},
   "outputs": [
    {
     "name": "stderr",
     "output_type": "stream",
     "text": [
      "<ipython-input-2-ed43e78d3207>:3: TqdmExperimentalWarning: Using `tqdm.autonotebook.tqdm` in notebook mode. Use `tqdm.tqdm` instead to force console mode (e.g. in jupyter console)\n",
      "  from tqdm.autonotebook import tqdm\n"
     ]
    }
   ],
   "source": [
    "import mesh\n",
    "import pandas as pd\n",
    "from tqdm.autonotebook import tqdm"
   ]
  },
  {
   "cell_type": "code",
   "execution_count": 3,
   "metadata": {},
   "outputs": [],
   "source": [
    "from nltk.corpus import wordnet as wn"
   ]
  },
  {
   "cell_type": "code",
   "execution_count": 4,
   "metadata": {},
   "outputs": [
    {
     "data": {
      "text/plain": [
       "'3.0'"
      ]
     },
     "execution_count": 4,
     "metadata": {},
     "output_type": "execute_result"
    }
   ],
   "source": [
    "wn.get_version()"
   ]
  },
  {
   "cell_type": "markdown",
   "metadata": {},
   "source": [
    "## load PWN1.6 data"
   ]
  },
  {
   "cell_type": "code",
   "execution_count": 5,
   "metadata": {},
   "outputs": [],
   "source": [
    "import json"
   ]
  },
  {
   "cell_type": "code",
   "execution_count": 10,
   "metadata": {},
   "outputs": [],
   "source": [
    "import numpy as np"
   ]
  },
  {
   "cell_type": "code",
   "execution_count": 13,
   "metadata": {},
   "outputs": [],
   "source": [
    "sense_dir = mesh.get_data_dir() / \"sense_data\"\n",
    "wn16_map = pd.read_csv(sense_dir / \"wn16_cwn_map.csv\", encoding=\"UTF-8\", index_col=0, \n",
    "                       dtype={\"cwn_id\": np.object, \"wn16_offset\": np.object})"
   ]
  },
  {
   "cell_type": "code",
   "execution_count": 15,
   "metadata": {},
   "outputs": [],
   "source": [
    "wn16_uniq = wn16_map.groupby(\"wn16_offset\").first().reset_index()"
   ]
  },
  {
   "cell_type": "code",
   "execution_count": 16,
   "metadata": {},
   "outputs": [],
   "source": [
    "from fuzzywuzzy import fuzz\n",
    "import re\n",
    "\n",
    "def map_to_wn30(wn16_entry):\n",
    "    wn16_lemmas = wn16_entry.wn16_lemmas.split(\",\")\n",
    "    wn16_def = wn16_entry.wn16_def.split(\";\")[0]    \n",
    "    head = re.sub(r\"\\(\\w\\)\", \"\", wn16_lemmas[0])\n",
    "    wn30_syns = wn.synsets(head)\n",
    "    if not wn30_syns:\n",
    "        raise ValueError(\"Cannot find %s in WN30\" % (head,))\n",
    "    candid_vec = []\n",
    "    \n",
    "    for syn_x in wn30_syns:\n",
    "        wn30_lemmas = set(syn_x.lemmas())\n",
    "        score = fuzz.ratio(wn16_def, syn_x.definition())\n",
    "        candid_vec.append((syn_x, score))\n",
    "    candid_vec.sort(key=lambda x: x[1], reverse=True)\n",
    "    if not candid_vec:\n",
    "        breakpoint()\n",
    "    return candid_vec[0][0], candid_vec[0][1]"
   ]
  },
  {
   "cell_type": "code",
   "execution_count": 25,
   "metadata": {},
   "outputs": [
    {
     "data": {
      "application/vnd.jupyter.widget-view+json": {
       "model_id": "643f3b76183843b49dee989850cd33f2",
       "version_major": 2,
       "version_minor": 0
      },
      "text/plain": [
       "HBox(children=(FloatProgress(value=0.0, max=4993.0), HTML(value='')))"
      ]
     },
     "metadata": {},
     "output_type": "display_data"
    },
    {
     "name": "stdout",
     "output_type": "stream",
     "text": [
      "\n"
     ]
    }
   ],
   "source": [
    "map_data = []\n",
    "for row_id, entry in tqdm(wn16_uniq.iterrows(),total=wn16_uniq.shape[0]):    \n",
    "    try:\n",
    "        wn30_syn, score = map_to_wn30(entry)\n",
    "        map_data.append(dict(\n",
    "            cwn_id=entry.cwn_id,\n",
    "            wn16_def=entry.wn16_def,\n",
    "            wn16_lemmas=entry.wn16_lemmas,\n",
    "            wn16_offset=entry.wn16_offset,\n",
    "            wn16_pos=entry.wn16_pos,\n",
    "            wn30_syn_name=wn30_syn.name(),\n",
    "            wn30_lemmas=\",\".join([x.name() for x in wn30_syn.lemmas()]),\n",
    "            wn30_def=wn30_syn.definition(),\n",
    "            score=score\n",
    "        ))\n",
    "    except Exception as ex:        \n",
    "        map_data.append(dict(\n",
    "            cwn_id=entry.cwn_id,\n",
    "            wn16_def=entry.wn16_def,\n",
    "            wn16_lemmas=entry.wn16_lemmas,\n",
    "            wn16_offset=entry.wn16_offset,\n",
    "            wn30_syn_name=None,\n",
    "            wn30_lemmas=None,\n",
    "            wn30_def=None,\n",
    "            score=-1,\n",
    "        ))\n"
   ]
  },
  {
   "cell_type": "code",
   "execution_count": 26,
   "metadata": {},
   "outputs": [],
   "source": [
    "cwn_wn16_wn30_map = pd.DataFrame.from_records(map_data)"
   ]
  },
  {
   "cell_type": "code",
   "execution_count": 27,
   "metadata": {},
   "outputs": [
    {
     "data": {
      "text/html": [
       "<div>\n",
       "<style scoped>\n",
       "    .dataframe tbody tr th:only-of-type {\n",
       "        vertical-align: middle;\n",
       "    }\n",
       "\n",
       "    .dataframe tbody tr th {\n",
       "        vertical-align: top;\n",
       "    }\n",
       "\n",
       "    .dataframe thead th {\n",
       "        text-align: right;\n",
       "    }\n",
       "</style>\n",
       "<table border=\"1\" class=\"dataframe\">\n",
       "  <thead>\n",
       "    <tr style=\"text-align: right;\">\n",
       "      <th></th>\n",
       "      <th>cwn_id</th>\n",
       "      <th>wn16_def</th>\n",
       "      <th>wn16_lemmas</th>\n",
       "      <th>wn16_offset</th>\n",
       "      <th>wn16_pos</th>\n",
       "      <th>wn30_syn_name</th>\n",
       "      <th>wn30_lemmas</th>\n",
       "      <th>wn30_def</th>\n",
       "      <th>score</th>\n",
       "    </tr>\n",
       "  </thead>\n",
       "  <tbody>\n",
       "    <tr>\n",
       "      <th>0</th>\n",
       "      <td>05237701</td>\n",
       "      <td>draw air into, and expel out of, the lungs; \"I...</td>\n",
       "      <td>breathe,take_a_breath,respire</td>\n",
       "      <td>00001740</td>\n",
       "      <td>v</td>\n",
       "      <td>breathe.v.01</td>\n",
       "      <td>breathe,take_a_breath,respire,suspire</td>\n",
       "      <td>draw air into, and expel out of, the lungs</td>\n",
       "      <td>100</td>\n",
       "    </tr>\n",
       "    <tr>\n",
       "      <th>1</th>\n",
       "      <td>04069402</td>\n",
       "      <td>(usually followed by `to') not having the nece...</td>\n",
       "      <td>unable,not_able</td>\n",
       "      <td>00002062</td>\n",
       "      <td>a</td>\n",
       "      <td>unable.a.01</td>\n",
       "      <td>unable</td>\n",
       "      <td>(usually followed by `to') not having the nece...</td>\n",
       "      <td>100</td>\n",
       "    </tr>\n",
       "    <tr>\n",
       "      <th>2</th>\n",
       "      <td>04008202</td>\n",
       "      <td>heave or utter a sigh; breathe deeply and heav...</td>\n",
       "      <td>sigh</td>\n",
       "      <td>00003011</td>\n",
       "      <td>v</td>\n",
       "      <td>sigh.v.02</td>\n",
       "      <td>sigh</td>\n",
       "      <td>utter with a sigh</td>\n",
       "      <td>63</td>\n",
       "    </tr>\n",
       "    <tr>\n",
       "      <th>3</th>\n",
       "      <td>03043301</td>\n",
       "      <td>expel air; \"Exhale when you lift the weight\"</td>\n",
       "      <td>exhale,expire,breathe_out</td>\n",
       "      <td>00003142</td>\n",
       "      <td>v</td>\n",
       "      <td>exhale.v.01</td>\n",
       "      <td>exhale,expire,breathe_out</td>\n",
       "      <td>expel air</td>\n",
       "      <td>100</td>\n",
       "    </tr>\n",
       "    <tr>\n",
       "      <th>4</th>\n",
       "      <td>05229171</td>\n",
       "      <td>exhale spasmodically, as when an irritant ente...</td>\n",
       "      <td>sneeze</td>\n",
       "      <td>00003595</td>\n",
       "      <td>v</td>\n",
       "      <td>sneeze.v.01</td>\n",
       "      <td>sneeze</td>\n",
       "      <td>exhale spasmodically, as when an irritant ente...</td>\n",
       "      <td>100</td>\n",
       "    </tr>\n",
       "    <tr>\n",
       "      <th>...</th>\n",
       "      <td>...</td>\n",
       "      <td>...</td>\n",
       "      <td>...</td>\n",
       "      <td>...</td>\n",
       "      <td>...</td>\n",
       "      <td>...</td>\n",
       "      <td>...</td>\n",
       "      <td>...</td>\n",
       "      <td>...</td>\n",
       "    </tr>\n",
       "    <tr>\n",
       "      <th>4988</th>\n",
       "      <td>07063202</td>\n",
       "      <td>distance travelled per unit time</td>\n",
       "      <td>speed,velocity</td>\n",
       "      <td>10978183</td>\n",
       "      <td>n</td>\n",
       "      <td>speed.n.01</td>\n",
       "      <td>speed,velocity</td>\n",
       "      <td>distance travelled per unit time</td>\n",
       "      <td>100</td>\n",
       "    </tr>\n",
       "    <tr>\n",
       "      <th>4989</th>\n",
       "      <td>03003505</td>\n",
       "      <td>any distinct time period in a sequence of even...</td>\n",
       "      <td>phase,stage</td>\n",
       "      <td>10983365</td>\n",
       "      <td>n</td>\n",
       "      <td>phase.n.01</td>\n",
       "      <td>phase,stage</td>\n",
       "      <td>any distinct time period in a sequence of events</td>\n",
       "      <td>100</td>\n",
       "    </tr>\n",
       "    <tr>\n",
       "      <th>4990</th>\n",
       "      <td>03035802</td>\n",
       "      <td>the term during which some position is held</td>\n",
       "      <td>tenure,term_of_office,incumbency</td>\n",
       "      <td>10984112</td>\n",
       "      <td>n</td>\n",
       "      <td>tenure.n.01</td>\n",
       "      <td>tenure,term_of_office,incumbency</td>\n",
       "      <td>the term during which some position is held</td>\n",
       "      <td>100</td>\n",
       "    </tr>\n",
       "    <tr>\n",
       "      <th>4991</th>\n",
       "      <td>05145601</td>\n",
       "      <td>the time period during which you are at work</td>\n",
       "      <td>shift,work_shift,duty_period</td>\n",
       "      <td>10984256</td>\n",
       "      <td>n</td>\n",
       "      <td>shift.n.03</td>\n",
       "      <td>shift,work_shift,duty_period</td>\n",
       "      <td>the time period during which you are at work</td>\n",
       "      <td>100</td>\n",
       "    </tr>\n",
       "    <tr>\n",
       "      <th>4992</th>\n",
       "      <td>04020105</td>\n",
       "      <td>that time; that moment; \"we will arrive before...</td>\n",
       "      <td>then</td>\n",
       "      <td>10988137</td>\n",
       "      <td>n</td>\n",
       "      <td>then.r.03</td>\n",
       "      <td>then</td>\n",
       "      <td>at that time</td>\n",
       "      <td>86</td>\n",
       "    </tr>\n",
       "  </tbody>\n",
       "</table>\n",
       "<p>4993 rows × 9 columns</p>\n",
       "</div>"
      ],
      "text/plain": [
       "        cwn_id                                           wn16_def  \\\n",
       "0     05237701  draw air into, and expel out of, the lungs; \"I...   \n",
       "1     04069402  (usually followed by `to') not having the nece...   \n",
       "2     04008202  heave or utter a sigh; breathe deeply and heav...   \n",
       "3     03043301       expel air; \"Exhale when you lift the weight\"   \n",
       "4     05229171  exhale spasmodically, as when an irritant ente...   \n",
       "...        ...                                                ...   \n",
       "4988  07063202                   distance travelled per unit time   \n",
       "4989  03003505  any distinct time period in a sequence of even...   \n",
       "4990  03035802        the term during which some position is held   \n",
       "4991  05145601       the time period during which you are at work   \n",
       "4992  04020105  that time; that moment; \"we will arrive before...   \n",
       "\n",
       "                           wn16_lemmas wn16_offset wn16_pos wn30_syn_name  \\\n",
       "0        breathe,take_a_breath,respire    00001740        v  breathe.v.01   \n",
       "1                      unable,not_able    00002062        a   unable.a.01   \n",
       "2                                 sigh    00003011        v     sigh.v.02   \n",
       "3            exhale,expire,breathe_out    00003142        v   exhale.v.01   \n",
       "4                               sneeze    00003595        v   sneeze.v.01   \n",
       "...                                ...         ...      ...           ...   \n",
       "4988                    speed,velocity    10978183        n    speed.n.01   \n",
       "4989                       phase,stage    10983365        n    phase.n.01   \n",
       "4990  tenure,term_of_office,incumbency    10984112        n   tenure.n.01   \n",
       "4991      shift,work_shift,duty_period    10984256        n    shift.n.03   \n",
       "4992                              then    10988137        n     then.r.03   \n",
       "\n",
       "                                wn30_lemmas  \\\n",
       "0     breathe,take_a_breath,respire,suspire   \n",
       "1                                    unable   \n",
       "2                                      sigh   \n",
       "3                 exhale,expire,breathe_out   \n",
       "4                                    sneeze   \n",
       "...                                     ...   \n",
       "4988                         speed,velocity   \n",
       "4989                            phase,stage   \n",
       "4990       tenure,term_of_office,incumbency   \n",
       "4991           shift,work_shift,duty_period   \n",
       "4992                                   then   \n",
       "\n",
       "                                               wn30_def  score  \n",
       "0            draw air into, and expel out of, the lungs    100  \n",
       "1     (usually followed by `to') not having the nece...    100  \n",
       "2                                     utter with a sigh     63  \n",
       "3                                             expel air    100  \n",
       "4     exhale spasmodically, as when an irritant ente...    100  \n",
       "...                                                 ...    ...  \n",
       "4988                   distance travelled per unit time    100  \n",
       "4989   any distinct time period in a sequence of events    100  \n",
       "4990        the term during which some position is held    100  \n",
       "4991       the time period during which you are at work    100  \n",
       "4992                                       at that time     86  \n",
       "\n",
       "[4993 rows x 9 columns]"
      ]
     },
     "execution_count": 27,
     "metadata": {},
     "output_type": "execute_result"
    }
   ],
   "source": [
    "cwn_wn16_wn30_map"
   ]
  },
  {
   "cell_type": "code",
   "execution_count": 28,
   "metadata": {},
   "outputs": [],
   "source": [
    "cwn_wn30_map_checked = cwn_wn16_wn30_map.loc[cwn_wn16_wn30_map.score>=62, :]"
   ]
  },
  {
   "cell_type": "code",
   "execution_count": 29,
   "metadata": {},
   "outputs": [],
   "source": [
    "cwn_wn16_wn30_map.to_csv(sense_dir/\"cwn_wn16_wn30_map.csv\", encoding=\"UTF-8\")"
   ]
  },
  {
   "cell_type": "code",
   "execution_count": 30,
   "metadata": {},
   "outputs": [],
   "source": [
    "cwn_wn30_map_checked.to_csv(sense_dir/\"cwn_wn16_wn30_map.checked.csv\", encoding=\"UTF-8\")"
   ]
  },
  {
   "cell_type": "code",
   "execution_count": 31,
   "metadata": {},
   "outputs": [
    {
     "name": "stdout",
     "output_type": "stream",
     "text": [
      "(4993, 9) (4145, 9)\n"
     ]
    }
   ],
   "source": [
    "print(cwn_wn16_wn30_map.shape, cwn_wn30_map_checked.shape)"
   ]
  },
  {
   "cell_type": "code",
   "execution_count": null,
   "metadata": {},
   "outputs": [],
   "source": []
  }
 ],
 "metadata": {
  "kernelspec": {
   "display_name": "Python 3",
   "language": "python",
   "name": "python3"
  },
  "language_info": {
   "codemirror_mode": {
    "name": "ipython",
    "version": 3
   },
   "file_extension": ".py",
   "mimetype": "text/x-python",
   "name": "python",
   "nbconvert_exporter": "python",
   "pygments_lexer": "ipython3",
   "version": "3.8.2"
  }
 },
 "nbformat": 4,
 "nbformat_minor": 4
}
