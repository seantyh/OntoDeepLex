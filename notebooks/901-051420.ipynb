{
 "cells": [
  {
   "cell_type": "markdown",
   "metadata": {},
   "source": [
    "# CWN 2.0"
   ]
  },
  {
   "cell_type": "markdown",
   "metadata": {},
   "source": [
    "## Resource \n",
    "\n",
    "* 可轉成similarity measures, semantic vector\n",
    "* vectorization >> retrofitting to Deelex\n",
    "* morphosemantic/qualia relations\n",
    "* coverage (c.f. PWN, etc.)\n",
    "* ontologizing the lexicon\n",
    "* [Kyle] sense-tagging on ASBC corpus\n",
    "* cross-lang/WN mapping\n",
    "\n",
    "* KG 整合"
   ]
  },
  {
   "cell_type": "markdown",
   "metadata": {},
   "source": [
    "## Papers\n",
    "\n",
    "* Manual\n",
    "\n",
    "* Baayen side\n",
    "  1. Behavioral Research Method\n",
    "  2. arXiV\n",
    "  "
   ]
  },
  {
   "cell_type": "markdown",
   "metadata": {},
   "source": [
    "## Applications\n",
    "\n",
    "* Telecom\n",
    "  Sense & Sentiment/Emotion\n",
    "* Others\n",
    "  (LREC paper)"
   ]
  },
  {
   "cell_type": "code",
   "execution_count": null,
   "metadata": {},
   "outputs": [],
   "source": []
  }
 ],
 "metadata": {
  "kernelspec": {
   "display_name": "Python 3",
   "language": "python",
   "name": "python3"
  },
  "language_info": {
   "codemirror_mode": {
    "name": "ipython",
    "version": 3
   },
   "file_extension": ".py",
   "mimetype": "text/x-python",
   "name": "python",
   "nbconvert_exporter": "python",
   "pygments_lexer": "ipython3",
   "version": "3.7.4"
  }
 },
 "nbformat": 4,
 "nbformat_minor": 4
}
